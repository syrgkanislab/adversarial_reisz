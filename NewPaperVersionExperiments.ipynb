{
 "cells": [
  {
   "cell_type": "code",
   "execution_count": 1,
   "metadata": {},
   "outputs": [],
   "source": [
    "%load_ext autoreload\n",
    "%autoreload 2\n",
    "%matplotlib inline"
   ]
  },
  {
   "cell_type": "code",
   "execution_count": 2,
   "metadata": {},
   "outputs": [],
   "source": [
    "from experiments import *"
   ]
  },
  {
   "cell_type": "code",
   "execution_count": 3,
   "metadata": {},
   "outputs": [],
   "source": [
    "target_dir = 'local_results'\n",
    "n_samples_list = [200]\n",
    "dgp = 1\n",
    "sample_its = 100\n",
    "n_jobs = -1\n",
    "gcv = True"
   ]
  },
  {
   "cell_type": "code",
   "execution_count": 4,
   "metadata": {},
   "outputs": [],
   "source": [
    "X, y, true_reg, true_prop = gen_data(dgp, 1, n_samples_list[0])"
   ]
  },
  {
   "cell_type": "code",
   "execution_count": 5,
   "metadata": {},
   "outputs": [
    {
     "data": {
      "image/png": "[encoded data removed]",
      "text/plain": [
       "<Figure size 640x480 with 1 Axes>"
      ]
     },
     "metadata": {},
     "output_type": "display_data"
    }
   ],
   "source": [
    "import matplotlib.pyplot as plt\n",
    "\n",
    "plt.scatter(X[:, 1], true_prop)\n",
    "plt.show()"
   ]
  },
  {
   "cell_type": "code",
   "execution_count": 9,
   "metadata": {
    "scrolled": true
   },
   "outputs": [
    {
     "name": "stderr",
     "output_type": "stream",
     "text": [
      "[Parallel(n_jobs=-1)]: Using backend LokyBackend with 20 concurrent workers.\n",
      "[Parallel(n_jobs=-1)]: Done  95 out of 100 | elapsed:  7.5min remaining:   23.7s\n",
      "[Parallel(n_jobs=-1)]: Done 100 out of 100 | elapsed:  7.6min finished\n",
      "[Parallel(n_jobs=-1)]: Using backend LokyBackend with 20 concurrent workers.\n",
      "[Parallel(n_jobs=-1)]: Done  95 out of 100 | elapsed: 38.0min remaining:  2.0min\n",
      "[Parallel(n_jobs=-1)]: Done 100 out of 100 | elapsed: 38.2min finished\n"
     ]
    }
   ],
   "source": [
    "target_dir = 'local_results'\n",
    "n_samples_list = [100]\n",
    "dgp = 1\n",
    "sample_its = 100\n",
    "n_jobs = -1\n",
    "gcv = True\n",
    "\n",
    "#advkernel_experiments(n_samples_list, dgp=dgp, target_dir=target_dir, kernelid=2, sample_its=sample_its, n_jobs=n_jobs, gcv_reg=gcv)\n",
    "#auto_advkernel_experiments(n_samples_list, dgp=dgp, target_dir=target_dir, sample_its=sample_its, n_jobs=n_jobs, gcv_reg=gcv)\n",
    "# splin_experiments(n_samples_list, dgp=dgp, target_dir=target_dir, sample_its=sample_its, n_jobs=n_jobs, gcv_reg=gcv)\n",
    "# pluginlg_experiments(n_samples_list, dgp=dgp, target_dir=target_dir, sample_its=sample_its, n_jobs=n_jobs, gcv_reg=gcv)\n",
    "# pluginrf_experiments(n_samples_list, dgp=dgp, target_dir=target_dir, sample_its=sample_its, n_jobs=n_jobs, gcv_reg=gcv)\n",
    "# nystrom_advkernel_experiments(n_samples_list, dgp=dgp, target_dir=target_dir, kernelid=2, sample_its=sample_its, n_jobs=n_jobs, gcv_reg=gcv)\n",
    "rf_experiments(n_samples_list, dgp=dgp, target_dir=target_dir, sample_its=sample_its, n_jobs=n_jobs, gcv_reg=gcv)\n",
    "# nnet_experiments(n_samples_list, dgp=dgp, target_dir=target_dir, sample_its=sample_its, n_jobs=n_jobs, gcv_reg=gcv)"
   ]
  },
  {
   "cell_type": "code",
   "execution_count": null,
   "metadata": {},
   "outputs": [
    {
     "name": "stderr",
     "output_type": "stream",
     "text": [
      "[Parallel(n_jobs=-1)]: Using backend LokyBackend with 20 concurrent workers.\n"
     ]
    }
   ],
   "source": [
    "target_dir = 'local_results'\n",
    "n_samples_list = [2000, 5000]\n",
    "dgp = 3\n",
    "sample_its = 100\n",
    "n_jobs = -1\n",
    "gcv = True\n",
    "\n",
    "advkernel_experiments(n_samples_list, dgp=dgp, target_dir=target_dir, kernelid=2, sample_its=sample_its, n_jobs=n_jobs, gcv_reg=gcv)\n",
    "auto_advkernel_experiments(n_samples_list, dgp=dgp, target_dir=target_dir, sample_its=sample_its, n_jobs=n_jobs, gcv_reg=gcv)\n",
    "splin_experiments(n_samples_list, dgp=dgp, target_dir=target_dir, sample_its=sample_its, n_jobs=n_jobs, gcv_reg=gcv)\n",
    "pluginlg_experiments(n_samples_list, dgp=dgp, target_dir=target_dir, sample_its=sample_its, n_jobs=n_jobs, gcv_reg=gcv)\n",
    "pluginrf_experiments(n_samples_list, dgp=dgp, target_dir=target_dir, sample_its=sample_its, n_jobs=n_jobs, gcv_reg=gcv)\n",
    "nystrom_advkernel_experiments(n_samples_list, dgp=dgp, target_dir=target_dir, kernelid=2, sample_its=sample_its, n_jobs=n_jobs, gcv_reg=gcv)\n",
    "rf_experiments(n_samples_list, dgp=dgp, target_dir=target_dir, sample_its=sample_its, n_jobs=n_jobs, gcv_reg=gcv)\n",
    "nnet_experiments(n_samples_list, dgp=dgp, target_dir=target_dir, sample_its=sample_its, n_jobs=n_jobs, gcv_reg=gcv)"
   ]
  },
  {
   "cell_type": "code",
   "execution_count": 10,
   "metadata": {},
   "outputs": [],
   "source": [
    "target_dir = 'local_results'\n",
    "n_samples_list = [100]\n",
    "dgp = 1\n",
    "sample_its = 100\n",
    "n_jobs = -1\n",
    "gcv = True\n",
    "\n",
    "res = [\n",
    "#     advkernel_postprocess(n_samples_list, dgp=dgp, target_dir=target_dir, sample_its=sample_its),\n",
    "#     auto_advkernel_postprocess(n_samples_list, dgp=dgp, target_dir=target_dir, sample_its=sample_its),\n",
    "#     splin_postprocess(n_samples_list, dgp=dgp, target_dir=target_dir, sample_its=sample_its),\n",
    "#     pluginlg_postprocess(n_samples_list, dgp=dgp, target_dir=target_dir, sample_its=sample_its),\n",
    "#     pluginrf_postprocess(n_samples_list, dgp=dgp, target_dir=target_dir, sample_its=sample_its),\n",
    "#     nystrom_advkernel_postprocess(n_samples_list, dgp=dgp, target_dir=target_dir, sample_its=sample_its),\n",
    "    rf_postprocess(n_samples_list, dgp=dgp, target_dir=target_dir, sample_its=sample_its),\n",
    "#     nnet_postprocess(n_samples_list, dgp=dgp, target_dir=target_dir, sample_its=sample_its),\n",
    "]"
   ]
  },
  {
   "cell_type": "code",
   "execution_count": 11,
   "metadata": {},
   "outputs": [
    {
     "data": {
      "text/html": [
       "<div>\n",
       "<style scoped>\n",
       "    .dataframe tbody tr th:only-of-type {\n",
       "        vertical-align: middle;\n",
       "    }\n",
       "\n",
       "    .dataframe tbody tr th {\n",
       "        vertical-align: top;\n",
       "    }\n",
       "\n",
       "    .dataframe thead th {\n",
       "        text-align: right;\n",
       "    }\n",
       "</style>\n",
       "<table border=\"1\" class=\"dataframe\">\n",
       "  <thead>\n",
       "    <tr style=\"text-align: right;\">\n",
       "      <th></th>\n",
       "      <th></th>\n",
       "      <th>rfreisz</th>\n",
       "      <th>rfreisz_cfit</th>\n",
       "    </tr>\n",
       "  </thead>\n",
       "  <tbody>\n",
       "    <tr>\n",
       "      <th rowspan=\"6\" valign=\"top\">n=100</th>\n",
       "      <th>bias</th>\n",
       "      <td>0.256662</td>\n",
       "      <td>-0.072611</td>\n",
       "    </tr>\n",
       "    <tr>\n",
       "      <th>ci_length</th>\n",
       "      <td>1.831294</td>\n",
       "      <td>1.257562</td>\n",
       "    </tr>\n",
       "    <tr>\n",
       "      <th>cov</th>\n",
       "      <td>0.910000</td>\n",
       "      <td>0.830000</td>\n",
       "    </tr>\n",
       "    <tr>\n",
       "      <th>reg_rmse</th>\n",
       "      <td>0.603331</td>\n",
       "      <td>0.675392</td>\n",
       "    </tr>\n",
       "    <tr>\n",
       "      <th>reisz_rmse</th>\n",
       "      <td>4.296835</td>\n",
       "      <td>3.520202</td>\n",
       "    </tr>\n",
       "    <tr>\n",
       "      <th>rmse</th>\n",
       "      <td>0.530856</td>\n",
       "      <td>0.445246</td>\n",
       "    </tr>\n",
       "  </tbody>\n",
       "</table>\n",
       "</div>"
      ],
      "text/plain": [
       "                   rfreisz  rfreisz_cfit\n",
       "n=100 bias        0.256662     -0.072611\n",
       "      ci_length   1.831294      1.257562\n",
       "      cov         0.910000      0.830000\n",
       "      reg_rmse    0.603331      0.675392\n",
       "      reisz_rmse  4.296835      3.520202\n",
       "      rmse        0.530856      0.445246"
      ]
     },
     "metadata": {},
     "output_type": "display_data"
    }
   ],
   "source": [
    "import pandas as pd\n",
    "table = pd.concat(res, axis=1, sort=True)\n",
    "display(table)"
   ]
  },
  {
   "cell_type": "code",
   "execution_count": 12,
   "metadata": {},
   "outputs": [
    {
     "data": {
      "text/html": [
       "<div>\n",
       "<style scoped>\n",
       "    .dataframe tbody tr th:only-of-type {\n",
       "        vertical-align: middle;\n",
       "    }\n",
       "\n",
       "    .dataframe tbody tr th {\n",
       "        vertical-align: top;\n",
       "    }\n",
       "\n",
       "    .dataframe thead th {\n",
       "        text-align: right;\n",
       "    }\n",
       "</style>\n",
       "<table border=\"1\" class=\"dataframe\">\n",
       "  <thead>\n",
       "    <tr style=\"text-align: right;\">\n",
       "      <th></th>\n",
       "      <th></th>\n",
       "      <th>rfreisz</th>\n",
       "      <th>rfreisz_cfit</th>\n",
       "    </tr>\n",
       "  </thead>\n",
       "  <tbody>\n",
       "    <tr>\n",
       "      <th rowspan=\"6\" valign=\"top\">n=100</th>\n",
       "      <th>bias</th>\n",
       "      <td>0.256662</td>\n",
       "      <td>-0.072611</td>\n",
       "    </tr>\n",
       "    <tr>\n",
       "      <th>ci_length</th>\n",
       "      <td>1.831294</td>\n",
       "      <td>1.257562</td>\n",
       "    </tr>\n",
       "    <tr>\n",
       "      <th>cov</th>\n",
       "      <td>0.910000</td>\n",
       "      <td>0.830000</td>\n",
       "    </tr>\n",
       "    <tr>\n",
       "      <th>reg_rmse</th>\n",
       "      <td>0.603331</td>\n",
       "      <td>0.675392</td>\n",
       "    </tr>\n",
       "    <tr>\n",
       "      <th>reisz_rmse</th>\n",
       "      <td>4.296835</td>\n",
       "      <td>3.520202</td>\n",
       "    </tr>\n",
       "    <tr>\n",
       "      <th>rmse</th>\n",
       "      <td>0.530856</td>\n",
       "      <td>0.445246</td>\n",
       "    </tr>\n",
       "  </tbody>\n",
       "</table>\n",
       "</div>"
      ],
      "text/plain": [
       "                   rfreisz  rfreisz_cfit\n",
       "n=100 bias        0.256662     -0.072611\n",
       "      ci_length   1.831294      1.257562\n",
       "      cov         0.910000      0.830000\n",
       "      reg_rmse    0.603331      0.675392\n",
       "      reisz_rmse  4.296835      3.520202\n",
       "      rmse        0.530856      0.445246"
      ]
     },
     "execution_count": 12,
     "metadata": {},
     "output_type": "execute_result"
    }
   ],
   "source": [
    "table"
   ]
  },
  {
   "cell_type": "code",
   "execution_count": 15,
   "metadata": {},
   "outputs": [
    {
     "name": "stdout",
     "output_type": "stream",
     "text": [
      "\\begin{tabular}{llrr}\n",
      "\\toprule\n",
      "      &      &  rfreisz &  rfreisz\\_cfit \\\\\n",
      "\\midrule\n",
      "\\multirow{6}{*}{\\textbf{n=100}} & \\textbf{bias} &     0.43 &          0.23 \\\\\n",
      "      & \\textbf{ci\\_length} &     1.75 &          2.03 \\\\\n",
      "      & \\textbf{cov} &     0.81 &          0.84 \\\\\n",
      "      & \\textbf{reg\\_rmse} &     0.60 &          0.68 \\\\\n",
      "      & \\textbf{reisz\\_rmse} &     4.16 &          4.83 \\\\\n",
      "      & \\textbf{rmse} &     0.65 &          0.65 \\\\\n",
      "\\bottomrule\n",
      "\\end{tabular}\n",
      "\n"
     ]
    },
    {
     "name": "stderr",
     "output_type": "stream",
     "text": [
      "C:\\Users\\bsyrg\\AppData\\Local\\Temp\\ipykernel_81656\\2737165216.py:2: FutureWarning: In future versions `DataFrame.to_latex` is expected to utilise the base implementation of `Styler.to_latex` for formatting and rendering. The arguments signature may therefore change. It is recommended instead to use `DataFrame.style.to_latex` which also contains additional functionality.\n",
      "  print(table.to_latex(bold_rows=True, multirow=True))\n"
     ]
    }
   ],
   "source": [
    "with pd.option_context('display.float_format', '{:0.2f}'.format):\n",
    "    print(table.to_latex(bold_rows=True, multirow=True))"
   ]
  },
  {
   "cell_type": "code",
   "execution_count": 24,
   "metadata": {},
   "outputs": [
    {
     "name": "stdout",
     "output_type": "stream",
     "text": [
      "\\begin{tabular}{lrrrrrrrr}\n",
      "\\toprule\n",
      "{} &  advrkhs\\_cfit &  auto\\_advrkhs\\_cfit &  splin\\_cfit &  pluginlg\\_cfit &  pluginrf\\_cfit &  nysadvrkhs\\_cfit &  rfreisz\\_cfit &  nnet\\_cfit \\\\\n",
      "\\textbf{metric    } &               &                    &             &                &                &                  &               &            \\\\\n",
      "\\midrule\n",
      "\\textbf{bias      } &         -0.04 &              -0.04 &       -0.07 &          -0.12 &          -0.01 &            -0.03 &         -0.01 &      -0.08 \\\\\n",
      "\\textbf{ci\\_length } &          0.53 &               0.63 &        0.33 &           0.54 &           0.29 &             0.32 &          0.39 &       0.34 \\\\\n",
      "\\textbf{cov       } &          0.95 &               0.91 &        0.74 &           0.83 &           0.76 &             0.83 &          0.91 &       0.73 \\\\\n",
      "\\textbf{reg\\_rmse  } &          0.27 &               0.27 &        0.27 &           0.27 &           0.27 &             0.27 &          0.27 &       0.27 \\\\\n",
      "\\textbf{reisz\\_rmse} &          2.31 &               3.12 &        2.11 &           2.18 &           1.60 &             2.36 &          1.56 &       2.33 \\\\\n",
      "\\textbf{rmse      } &          0.14 &               0.15 &        0.15 &           0.19 &           0.14 &             0.14 &          0.13 &       0.16 \\\\\n",
      "\\bottomrule\n",
      "\\end{tabular}\n",
      "\n"
     ]
    },
    {
     "name": "stderr",
     "output_type": "stream",
     "text": [
      "C:\\Users\\bsyrg\\AppData\\Local\\Temp\\ipykernel_21336\\26750085.py:3: FutureWarning: In future versions `DataFrame.to_latex` is expected to utilise the base implementation of `Styler.to_latex` for formatting and rendering. The arguments signature may therefore change. It is recommended instead to use `DataFrame.style.to_latex` which also contains additional functionality.\n",
      "  print(table1.to_latex(bold_rows=True, multirow=True))\n"
     ]
    }
   ],
   "source": [
    "table1 = table.loc[:, [col.endswith('_cfit') for col in table.columns]].reset_index().drop(['level_0'], axis=1).rename({'level_1':'metric'}, axis=1).set_index('metric')\n",
    "with pd.option_context('display.float_format', '{:0.2f}'.format):\n",
    "    print(table1.to_latex(bold_rows=True, multirow=True))"
   ]
  },
  {
   "cell_type": "code",
   "execution_count": 25,
   "metadata": {},
   "outputs": [
    {
     "name": "stdout",
     "output_type": "stream",
     "text": [
      "\\begin{tabular}{lrrrrrrrr}\n",
      "\\toprule\n",
      "{} &  advrkhs &  auto\\_advrkhs &  splin &  pluginlg &  pluginrf &  nysadvrkhs &  rfreisz &  nnet \\\\\n",
      "\\textbf{metric    } &          &               &        &           &           &             &          &       \\\\\n",
      "\\midrule\n",
      "\\textbf{bias      } &    -0.04 &         -0.03 &  -0.07 &     -0.11 &     -0.01 &       -0.04 &    -0.02 & -0.08 \\\\\n",
      "\\textbf{ci\\_length } &     0.36 &          0.37 &   0.30 &      0.47 &      0.25 &        0.30 &     0.37 &  0.32 \\\\\n",
      "\\textbf{cov       } &     0.88 &          0.83 &   0.73 &      0.79 &      0.70 &        0.79 &     0.86 &  0.69 \\\\\n",
      "\\textbf{reg\\_rmse  } &     0.26 &          0.26 &   0.26 &      0.26 &      0.26 &        0.26 &     0.26 &  0.26 \\\\\n",
      "\\textbf{reisz\\_rmse} &     1.99 &          2.18 &   2.11 &      2.17 &      1.78 &        2.37 &     1.31 &  2.30 \\\\\n",
      "\\textbf{rmse      } &     0.13 &          0.13 &   0.15 &      0.18 &      0.14 &        0.14 &     0.13 &  0.15 \\\\\n",
      "\\bottomrule\n",
      "\\end{tabular}\n",
      "\n"
     ]
    },
    {
     "name": "stderr",
     "output_type": "stream",
     "text": [
      "C:\\Users\\bsyrg\\AppData\\Local\\Temp\\ipykernel_21336\\1106484497.py:3: FutureWarning: In future versions `DataFrame.to_latex` is expected to utilise the base implementation of `Styler.to_latex` for formatting and rendering. The arguments signature may therefore change. It is recommended instead to use `DataFrame.style.to_latex` which also contains additional functionality.\n",
      "  print(table2.to_latex(bold_rows=True, multirow=True))\n"
     ]
    }
   ],
   "source": [
    "table2 = table.loc[:, [(not col.endswith('_cfit')) for col in table.columns]].reset_index().drop(['level_0'], axis=1).rename({'level_1':'metric'}, axis=1).set_index('metric')\n",
    "with pd.option_context('display.float_format', '{:0.2f}'.format):\n",
    "    print(table2.to_latex(bold_rows=True, multirow=True))"
   ]
  },
  {
   "cell_type": "code",
   "execution_count": null,
   "metadata": {},
   "outputs": [],
   "source": []
  }
 ],
 "metadata": {
  "kernelspec": {
   "display_name": "Python 3 (ipykernel)",
   "language": "python",
   "name": "python3"
  },
  "language_info": {
   "codemirror_mode": {
    "name": "ipython",
    "version": 3
   },
   "file_extension": ".py",
   "mimetype": "text/x-python",
   "name": "python",
   "nbconvert_exporter": "python",
   "pygments_lexer": "ipython3",
   "version": "3.10.9"
  }
 },
 "nbformat": 4,
 "nbformat_minor": 4
}
