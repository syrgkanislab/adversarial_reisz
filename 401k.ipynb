{
 "cells": [
  {
   "cell_type": "code",
   "execution_count": 1,
   "metadata": {},
   "outputs": [],
   "source": [
    "%load_ext autoreload\n",
    "%autoreload 2\n",
    "%load_ext tensorboard\n",
    "%matplotlib inline"
   ]
  },
  {
   "cell_type": "code",
   "execution_count": 16,
   "metadata": {},
   "outputs": [],
   "source": [
    "import numpy as np\n",
    "from pathlib import Path\n",
    "import matplotlib.pyplot as plt\n",
    "import scipy\n",
    "import scipy.special\n",
    "from sklearn.linear_model import LassoCV, LogisticRegressionCV, LinearRegression, Lasso, LogisticRegression\n",
    "from sklearn.model_selection import GridSearchCV\n",
    "from sklearn.ensemble import RandomForestClassifier\n",
    "from sklearn.base import clone\n",
    "import torch\n",
    "import torch.nn as nn"
   ]
  },
  {
   "cell_type": "code",
   "execution_count": 3,
   "metadata": {},
   "outputs": [],
   "source": [
    "def moment_fn(x, test_fn):\n",
    "    if torch.is_tensor(x):\n",
    "        with torch.no_grad():\n",
    "            t1 = torch.cat([torch.ones((x.shape[0], 1)).to(device), x[:, 1:]], dim=1)\n",
    "            t0 = torch.cat([torch.zeros((x.shape[0], 1)).to(device), x[:, 1:]], dim=1)\n",
    "    else:\n",
    "        t1 = np.hstack([np.ones((x.shape[0], 1)), x[:, 1:]])\n",
    "        t0 = np.hstack([np.zeros((x.shape[0], 1)), x[:, 1:]])\n",
    "    return test_fn(t1) - test_fn(t0)"
   ]
  },
  {
   "cell_type": "code",
   "execution_count": 4,
   "metadata": {},
   "outputs": [],
   "source": [
    "from sklearn.preprocessing import PolynomialFeatures, StandardScaler\n",
    "from sklearn.pipeline import Pipeline"
   ]
  },
  {
   "cell_type": "code",
   "execution_count": 5,
   "metadata": {},
   "outputs": [],
   "source": [
    "from sklearn.linear_model import LassoCV\n",
    "\n",
    "def get_reg_fn(X, y):\n",
    "    est = LassoCV(max_iter=10000, random_state=123).fit(X, y)\n",
    "    return lambda: Lasso(alpha=est.alpha_, max_iter=10000, random_state=123)"
   ]
  },
  {
   "cell_type": "code",
   "execution_count": 6,
   "metadata": {},
   "outputs": [],
   "source": [
    "from debiased import DebiasedMoment\n",
    "from advreisz.linear import SparseLinearAdvRiesz\n",
    "\n",
    "def get_splin_fn(X):\n",
    "    return lambda: SparseLinearAdvRiesz(moment_fn,\n",
    "                                        featurizer=Pipeline([('p', PolynomialFeatures(degree=2, include_bias=False)),\n",
    "                                                             ('s', StandardScaler()),\n",
    "                                                             ('cnt', PolynomialFeatures(degree=1, include_bias=True))]),\n",
    "                                        n_iter=50000, lambda_theta=0.01, B=10,\n",
    "                                        tol=0.00001)"
   ]
  },
  {
   "cell_type": "code",
   "execution_count": 7,
   "metadata": {},
   "outputs": [],
   "source": [
    "from advreisz.kernel import AdvKernelReisz\n",
    "from kernel_experiments import AutoKernel, prod_kernel\n",
    "\n",
    "# advkernel_fn = lambda: AdvKernelReisz(kernel=AutoKernel(type='var'), regm=6e-4, regl=1e-4)\n",
    "\n",
    "def get_advkernel_fn(X):\n",
    "    est = AdvKernelReisz(kernel=lambda X, Y=None: prod_kernel(X, Y=Y, gamma=1.0/X.shape[1]), regm='auto', regl='auto')\n",
    "    reg = est.opt_reg(X)\n",
    "    print(est.scores_)\n",
    "    print(reg)\n",
    "    return lambda: AdvKernelReisz(kernel=lambda X, Y=None: prod_kernel(X, Y=Y, gamma=1.0/X.shape[1]), regm=6*reg, regl=reg)"
   ]
  },
  {
   "cell_type": "code",
   "execution_count": 8,
   "metadata": {},
   "outputs": [],
   "source": [
    "from advreisz.kernel import KernelReisz\n",
    "from kernel_experiments import AutoKernel, prod_kernel\n",
    "\n",
    "# kernel_fn = lambda: KernelReisz(kernel=AutoKernel(type='var'), regl=6e-2)\n",
    "\n",
    "def get_kernel_fn(X):\n",
    "    est = KernelReisz(kernel=lambda X, Y=None: prod_kernel(X, Y=Y, gamma=1.0/X.shape[1]), regl='auto')\n",
    "    reg = est.opt_reg(X)\n",
    "    print(est.scores_)\n",
    "    print(reg)\n",
    "    return lambda: KernelReisz(kernel=lambda X, Y=None: prod_kernel(X, Y=Y, gamma=1.0/X.shape[1]), regl=reg)"
   ]
  },
  {
   "cell_type": "code",
   "execution_count": 24,
   "metadata": {},
   "outputs": [],
   "source": [
    "from utilities import PluginRR\n",
    "\n",
    "def get_lg_plugin_fn(X):\n",
    "    clf = LogisticRegressionCV(cv=3, max_iter=10000, random_state=123)\n",
    "    C_ = clf.fit(X[:, 1:], X[:, 0]).C_[0]\n",
    "    return lambda: PluginRR(model_t=LogisticRegression(C=C_, max_iter=10000, random_state=123),\n",
    "                            min_propensity=0)\n",
    "\n",
    "\n",
    "def get_rf_plugin_fn(X):\n",
    "    gcv = GridSearchCV(RandomForestClassifier(bootstrap=True, random_state=123),\n",
    "                       param_grid={'max_depth': [3, None],\n",
    "                                   'min_samples_leaf': [10, 50]},\n",
    "                       scoring='r2',\n",
    "                       cv=5)\n",
    "    best_model = clone(gcv.fit(X[:, 1:], X[:, 0]).best_estimator_)\n",
    "    return lambda: PluginRR(model_t=best_model, min_propensity=0)"
   ]
  },
  {
   "cell_type": "code",
   "execution_count": 25,
   "metadata": {},
   "outputs": [
    {
     "name": "stdout",
     "output_type": "stream",
     "text": [
      "GPU: True\n"
     ]
    }
   ],
   "source": [
    "from utilities import FitParamsWrapper\n",
    "from advreisz.deepreisz import AdvReisz\n",
    "\n",
    "\n",
    "device = None #torch.cuda.current_device() if torch.cuda.is_available() else None\n",
    "\n",
    "# Returns a deep model for the reisz representer\n",
    "def get_learner(n_t, n_hidden, p):\n",
    "    return nn.Sequential(nn.Dropout(p=p), nn.Linear(n_t, n_hidden), nn.LeakyReLU(),\n",
    "                         nn.Dropout(p=p), nn.Linear(n_hidden, n_hidden), nn.LeakyReLU(),\n",
    "                         nn.Dropout(p=p), nn.Linear(n_hidden, 1))\n",
    "\n",
    "# Returns a deep model for the test functions\n",
    "def get_adversary(n_z, n_hidden, p):\n",
    "    return nn.Sequential(nn.Dropout(p=p), nn.Linear(n_z, n_hidden), nn.ReLU(),\n",
    "                         nn.Dropout(p=p), nn.Linear(n_hidden, n_hidden), nn.ReLU(),\n",
    "                         nn.Dropout(p=p), nn.Linear(n_hidden, 1))\n",
    "\n",
    "print(\"GPU:\", torch.cuda.is_available())\n",
    "\n",
    "def get_agmm_fn(X):\n",
    "    return lambda: FitParamsWrapper(AdvReisz(get_learner(10, 100, 0.),\n",
    "                                            get_adversary(10, 100, 0.),\n",
    "                                            moment_fn),\n",
    "                                   val_fr=.2,\n",
    "                                   preprocess_epochs=200,\n",
    "                                   earlystop_rounds=100,\n",
    "                                   store_test_every=20,\n",
    "                                   learner_lr=1e-4, adversary_lr=1e-4,\n",
    "                                   learner_l2=6e-4, adversary_l2=1e-4,\n",
    "                                   n_epochs=1000, bs=100,\n",
    "                                   logger=None, model_dir=str(Path.home()), device=device, verbose=2)"
   ]
  },
  {
   "cell_type": "code",
   "execution_count": null,
   "metadata": {
    "scrolled": false
   },
   "outputs": [
    {
     "name": "stdout",
     "output_type": "stream",
     "text": [
      "Quintile=1\n",
      "1970 1970\n"
     ]
    },
    {
     "name": "stderr",
     "output_type": "stream",
     "text": [
      "C:\\Users\\vasy\\Google Drive\\Colab Notebooks\\adversarial_reisz\\advreisz\\linear\\sparse_linear.py:175: UserWarning: Maximum number of iterations reached and duality gap tolerance not achieved. Consider increasing the maximum number of iterations.\n",
      "  warnings.warn(\"Maximum number of iterations reached and duality gap tolerance not achieved. \"\n"
     ]
    },
    {
     "name": "stdout",
     "output_type": "stream",
     "text": [
      "[5929.062983542529, 13148.093262485821, 1015.8691957106873, 424.7404779759171, 25.132943419432443, 0.665262465834437, -2.3096214782437106e-05, 11783.0454577003, 46169.959596986155, 65120.70669147864, 68814.37576636716, 69008.78683626204, 69012.64075743068, 69012.69855578215]\n",
      "3.455107294592218e-05\n"
     ]
    }
   ],
   "source": [
    "import pandas as pd\n",
    "\n",
    "\n",
    "res = {}\n",
    "for q in np.arange(1, 6):\n",
    "    res[f'q={q}'] = {}\n",
    "    print(f'Quintile={q}')\n",
    "    df = pd.read_csv(f'401k/quintile{q}_trimmed.csv', index_col=0)\n",
    "    y = df['Y'].values\n",
    "    X = df[['D'] + [f'X{i}' for i in np.arange(1, 10)]].values\n",
    "    \n",
    "    # scale data\n",
    "    y = y.astype(np.double)\n",
    "    X = X.astype(np.double)\n",
    "    X[:, 1:5] = StandardScaler().fit_transform(X[:, 1:5])\n",
    "    y_scale = np.std(y)\n",
    "    y = y / y_scale\n",
    "    \n",
    "    # shuffle data\n",
    "    inds = np.arange(X.shape[0])\n",
    "    np.random.seed(123)\n",
    "    np.random.shuffle(inds)\n",
    "    X, y = X[inds].copy(), y[inds].copy()\n",
    "\n",
    "    # filter extrement propensities\n",
    "    clf = LogisticRegressionCV(cv=5, max_iter=10000, random_state=123).fit(X[:, 1:], X[:, 0])\n",
    "    prop = clf.predict_proba(X[:, 1:])\n",
    "    filt = (prop[:, 1] <= .9) & (prop[:, 1] >= .1)\n",
    "    print(X.shape[0], np.sum(filt))\n",
    "    X, y = X[filt], y[filt]\n",
    "\n",
    "    for name, get_reisz_fn in [\n",
    "                               ('splin', get_splin_fn),\n",
    "                               ('advrkhs', get_advkernel_fn),\n",
    "                               ('rkhs', get_kernel_fn),\n",
    "                               ('plugin_lg', get_lg_plugin_fn),\n",
    "                               ('plugin_rf', get_rf_plugin_fn)\n",
    "                                ]:\n",
    "        est = DebiasedMoment(moment_fn=moment_fn,\n",
    "                             get_reisz_fn=get_reisz_fn,\n",
    "                             get_reg_fn=get_reg_fn, n_splits=1)\n",
    "        est.fit(X, y)\n",
    "        p, s, l, u = est.avg_moment()\n",
    "        res[f'q={q}'][name] = {'point': p * y_scale, 'stderr': s * y_scale,\n",
    "                               'lower': l * y_scale, 'upper': u * y_scale}\n",
    "        p, s, l, u = est.avg_moment(tmle=True)\n",
    "        res[f'q={q}'][f'{name}_tmle'] = {'point': p * y_scale, 'stderr': s * y_scale,\n",
    "                                         'lower': l * y_scale, 'upper': u * y_scale}\n",
    "\n",
    "    print(res[f'q={q}'])\n",
    "    res[f'q={q}'] = pd.DataFrame(res[f'q={q}']).transpose()\n",
    "res = pd.concat(res)"
   ]
  },
  {
   "cell_type": "code",
   "execution_count": 27,
   "metadata": {
    "scrolled": false
   },
   "outputs": [
    {
     "data": {
      "text/html": [
       "<div>\n",
       "<style scoped>\n",
       "    .dataframe tbody tr th:only-of-type {\n",
       "        vertical-align: middle;\n",
       "    }\n",
       "\n",
       "    .dataframe tbody tr th {\n",
       "        vertical-align: top;\n",
       "    }\n",
       "\n",
       "    .dataframe thead th {\n",
       "        text-align: right;\n",
       "    }\n",
       "</style>\n",
       "<table border=\"1\" class=\"dataframe\">\n",
       "  <thead>\n",
       "    <tr style=\"text-align: right;\">\n",
       "      <th></th>\n",
       "      <th></th>\n",
       "      <th>point</th>\n",
       "      <th>stderr</th>\n",
       "      <th>lower</th>\n",
       "      <th>upper</th>\n",
       "    </tr>\n",
       "  </thead>\n",
       "  <tbody>\n",
       "    <tr>\n",
       "      <th rowspan=\"4\" valign=\"top\">q=1</th>\n",
       "      <th>plugin_lg</th>\n",
       "      <td>3,763.84</td>\n",
       "      <td>994.24</td>\n",
       "      <td>1,813.97</td>\n",
       "      <td>5,713.71</td>\n",
       "    </tr>\n",
       "    <tr>\n",
       "      <th>plugin_lg_tmle</th>\n",
       "      <td>3,765.91</td>\n",
       "      <td>994.18</td>\n",
       "      <td>1,816.15</td>\n",
       "      <td>5,715.66</td>\n",
       "    </tr>\n",
       "    <tr>\n",
       "      <th>plugin_rf</th>\n",
       "      <td>3,729.77</td>\n",
       "      <td>817.87</td>\n",
       "      <td>2,125.78</td>\n",
       "      <td>5,333.76</td>\n",
       "    </tr>\n",
       "    <tr>\n",
       "      <th>plugin_rf_tmle</th>\n",
       "      <td>3,790.56</td>\n",
       "      <td>818.19</td>\n",
       "      <td>2,185.94</td>\n",
       "      <td>5,395.17</td>\n",
       "    </tr>\n",
       "    <tr>\n",
       "      <th rowspan=\"4\" valign=\"top\">q=2</th>\n",
       "      <th>plugin_lg</th>\n",
       "      <td>1,055.13</td>\n",
       "      <td>1,660.50</td>\n",
       "      <td>-2,201.39</td>\n",
       "      <td>4,311.66</td>\n",
       "    </tr>\n",
       "    <tr>\n",
       "      <th>plugin_lg_tmle</th>\n",
       "      <td>1,082.92</td>\n",
       "      <td>1,660.57</td>\n",
       "      <td>-2,173.74</td>\n",
       "      <td>4,339.57</td>\n",
       "    </tr>\n",
       "    <tr>\n",
       "      <th>plugin_rf</th>\n",
       "      <td>1,211.21</td>\n",
       "      <td>1,507.66</td>\n",
       "      <td>-1,745.57</td>\n",
       "      <td>4,167.98</td>\n",
       "    </tr>\n",
       "    <tr>\n",
       "      <th>plugin_rf_tmle</th>\n",
       "      <td>1,306.01</td>\n",
       "      <td>1,507.91</td>\n",
       "      <td>-1,651.25</td>\n",
       "      <td>4,263.27</td>\n",
       "    </tr>\n",
       "    <tr>\n",
       "      <th rowspan=\"4\" valign=\"top\">q=3</th>\n",
       "      <th>plugin_lg</th>\n",
       "      <td>4,895.08</td>\n",
       "      <td>1,302.90</td>\n",
       "      <td>2,339.86</td>\n",
       "      <td>7,450.29</td>\n",
       "    </tr>\n",
       "    <tr>\n",
       "      <th>plugin_lg_tmle</th>\n",
       "      <td>4,896.83</td>\n",
       "      <td>1,302.85</td>\n",
       "      <td>2,341.71</td>\n",
       "      <td>7,451.95</td>\n",
       "    </tr>\n",
       "    <tr>\n",
       "      <th>plugin_rf</th>\n",
       "      <td>4,788.29</td>\n",
       "      <td>1,242.76</td>\n",
       "      <td>2,351.03</td>\n",
       "      <td>7,225.56</td>\n",
       "    </tr>\n",
       "    <tr>\n",
       "      <th>plugin_rf_tmle</th>\n",
       "      <td>4,803.93</td>\n",
       "      <td>1,242.77</td>\n",
       "      <td>2,366.65</td>\n",
       "      <td>7,241.21</td>\n",
       "    </tr>\n",
       "    <tr>\n",
       "      <th rowspan=\"4\" valign=\"top\">q=4</th>\n",
       "      <th>plugin_lg</th>\n",
       "      <td>9,287.63</td>\n",
       "      <td>2,327.20</td>\n",
       "      <td>4,723.59</td>\n",
       "      <td>13,851.66</td>\n",
       "    </tr>\n",
       "    <tr>\n",
       "      <th>plugin_lg_tmle</th>\n",
       "      <td>9,290.84</td>\n",
       "      <td>2,327.17</td>\n",
       "      <td>4,726.86</td>\n",
       "      <td>13,854.81</td>\n",
       "    </tr>\n",
       "    <tr>\n",
       "      <th>plugin_rf</th>\n",
       "      <td>9,652.92</td>\n",
       "      <td>2,239.55</td>\n",
       "      <td>5,260.77</td>\n",
       "      <td>14,045.06</td>\n",
       "    </tr>\n",
       "    <tr>\n",
       "      <th>plugin_rf_tmle</th>\n",
       "      <td>9,711.37</td>\n",
       "      <td>2,239.21</td>\n",
       "      <td>5,319.90</td>\n",
       "      <td>14,102.84</td>\n",
       "    </tr>\n",
       "    <tr>\n",
       "      <th rowspan=\"4\" valign=\"top\">q=5</th>\n",
       "      <th>plugin_lg</th>\n",
       "      <td>17,878.75</td>\n",
       "      <td>4,676.24</td>\n",
       "      <td>8,707.84</td>\n",
       "      <td>27,049.65</td>\n",
       "    </tr>\n",
       "    <tr>\n",
       "      <th>plugin_lg_tmle</th>\n",
       "      <td>17,887.27</td>\n",
       "      <td>4,676.08</td>\n",
       "      <td>8,716.69</td>\n",
       "      <td>27,057.85</td>\n",
       "    </tr>\n",
       "    <tr>\n",
       "      <th>plugin_rf</th>\n",
       "      <td>18,433.62</td>\n",
       "      <td>4,625.21</td>\n",
       "      <td>9,362.79</td>\n",
       "      <td>27,504.44</td>\n",
       "    </tr>\n",
       "    <tr>\n",
       "      <th>plugin_rf_tmle</th>\n",
       "      <td>18,514.11</td>\n",
       "      <td>4,624.93</td>\n",
       "      <td>9,443.83</td>\n",
       "      <td>27,584.39</td>\n",
       "    </tr>\n",
       "  </tbody>\n",
       "</table>\n",
       "</div>"
      ],
      "text/plain": [
       "                       point   stderr     lower     upper\n",
       "q=1 plugin_lg       3,763.84   994.24  1,813.97  5,713.71\n",
       "    plugin_lg_tmle  3,765.91   994.18  1,816.15  5,715.66\n",
       "    plugin_rf       3,729.77   817.87  2,125.78  5,333.76\n",
       "    plugin_rf_tmle  3,790.56   818.19  2,185.94  5,395.17\n",
       "q=2 plugin_lg       1,055.13 1,660.50 -2,201.39  4,311.66\n",
       "    plugin_lg_tmle  1,082.92 1,660.57 -2,173.74  4,339.57\n",
       "    plugin_rf       1,211.21 1,507.66 -1,745.57  4,167.98\n",
       "    plugin_rf_tmle  1,306.01 1,507.91 -1,651.25  4,263.27\n",
       "q=3 plugin_lg       4,895.08 1,302.90  2,339.86  7,450.29\n",
       "    plugin_lg_tmle  4,896.83 1,302.85  2,341.71  7,451.95\n",
       "    plugin_rf       4,788.29 1,242.76  2,351.03  7,225.56\n",
       "    plugin_rf_tmle  4,803.93 1,242.77  2,366.65  7,241.21\n",
       "q=4 plugin_lg       9,287.63 2,327.20  4,723.59 13,851.66\n",
       "    plugin_lg_tmle  9,290.84 2,327.17  4,726.86 13,854.81\n",
       "    plugin_rf       9,652.92 2,239.55  5,260.77 14,045.06\n",
       "    plugin_rf_tmle  9,711.37 2,239.21  5,319.90 14,102.84\n",
       "q=5 plugin_lg      17,878.75 4,676.24  8,707.84 27,049.65\n",
       "    plugin_lg_tmle 17,887.27 4,676.08  8,716.69 27,057.85\n",
       "    plugin_rf      18,433.62 4,625.21  9,362.79 27,504.44\n",
       "    plugin_rf_tmle 18,514.11 4,624.93  9,443.83 27,584.39"
      ]
     },
     "execution_count": 27,
     "metadata": {},
     "output_type": "execute_result"
    }
   ],
   "source": [
    "pd.options.display.float_format = '{:,.2f}'.format\n",
    "res"
   ]
  },
  {
   "cell_type": "code",
   "execution_count": 13,
   "metadata": {},
   "outputs": [
    {
     "name": "stdout",
     "output_type": "stream",
     "text": [
      "\\begin{tabular}{llrrrr}\n",
      "\\toprule\n",
      "    &             &        point &      stderr &         lower &        upper \\\\\n",
      "\\midrule\n",
      "q=1 & splin &      3469.26 &     1060.02 &       1390.34 &      5548.19 \\\\\n",
      "    & splin\\_tmle &      3630.13 &     1054.28 &       1562.47 &      5697.78 \\\\\n",
      "    & advrkhs &  21976659.95 &  7340999.38 &    7579456.48 &  36373863.43 \\\\\n",
      "    & advrkhs\\_tmle &       478.53 &  7296611.11 &  -14309670.45 &  14310627.51 \\\\\n",
      "    & rkhs &       948.64 &      297.96 &        364.27 &      1533.01 \\\\\n",
      "    & rkhs\\_tmle &      7712.63 &      304.95 &       7114.55 &      8310.70 \\\\\n",
      "    & plugin &      4253.38 &     1174.09 &       1950.75 &      6556.00 \\\\\n",
      "    & plugin\\_tmle &      4531.69 &     1157.27 &       2262.04 &      6801.33 \\\\\n",
      "q=2 & splin &      1087.39 &     1670.43 &      -2188.62 &      4363.39 \\\\\n",
      "    & splin\\_tmle &      1103.62 &     1671.07 &      -2173.64 &      4380.89 \\\\\n",
      "    & advrkhs &  10796501.42 & 47165924.40 &  -81703987.85 & 103296990.70 \\\\\n",
      "    & advrkhs\\_tmle &        39.88 & 47170192.36 &  -92508819.61 &  92508899.36 \\\\\n",
      "    & rkhs &       631.08 &      527.73 &       -403.89 &      1666.05 \\\\\n",
      "    & rkhs\\_tmle &      5739.77 &      526.72 &       4706.78 &      6772.75 \\\\\n",
      "    & plugin &      1142.86 &     1780.49 &      -2348.99 &      4634.70 \\\\\n",
      "    & plugin\\_tmle &      1165.67 &     1781.34 &      -2327.84 &      4659.17 \\\\\n",
      "q=3 & splin &      4942.53 &     1373.52 &       2248.83 &      7636.24 \\\\\n",
      "    & splin\\_tmle &      5003.98 &     1371.98 &       2313.30 &      7694.67 \\\\\n",
      "    & advrkhs & -10026667.05 &  3829970.90 &  -17537889.25 &  -2515444.84 \\\\\n",
      "    & advrkhs\\_tmle &       606.37 &  3850147.63 &   -7550185.83 &   7551398.57 \\\\\n",
      "    & rkhs &      1530.53 &      384.26 &        776.93 &      2284.12 \\\\\n",
      "    & rkhs\\_tmle &     25334.34 &      419.44 &      24511.75 &     26156.94 \\\\\n",
      "    & plugin &      4759.80 &     1324.97 &       2161.31 &      7358.30 \\\\\n",
      "    & plugin\\_tmle &      4760.52 &     1324.02 &       2163.90 &      7357.15 \\\\\n",
      "q=4 & splin &     10390.83 &     2555.96 &       5378.17 &     15403.50 \\\\\n",
      "    & splin\\_tmle &     10476.72 &     2545.41 &       5484.74 &     15468.69 \\\\\n",
      "    & advrkhs &    166212.57 &    78560.52 &      12142.03 &    320283.11 \\\\\n",
      "    & advrkhs\\_tmle &       288.64 &    79146.98 &    -154932.05 &    155509.33 \\\\\n",
      "    & rkhs &       428.46 &      567.93 &       -685.34 &      1542.27 \\\\\n",
      "    & rkhs\\_tmle &     17324.95 &      586.37 &      16174.98 &     18474.92 \\\\\n",
      "    & plugin &      8379.43 &     2431.73 &       3610.38 &     13148.47 \\\\\n",
      "    & plugin\\_tmle &      8382.12 &     2431.83 &       3612.88 &     13151.36 \\\\\n",
      "q=5 & splin &     18214.71 &     5044.24 &       8322.10 &     28107.31 \\\\\n",
      "    & splin\\_tmle &     18270.81 &     5033.36 &       8399.54 &     28142.07 \\\\\n",
      "    & advrkhs & -69496238.93 & 56570063.92 & -180439758.89 &  41447281.03 \\\\\n",
      "    & advrkhs\\_tmle &       248.00 & 56305572.65 & -110424559.56 & 110425055.56 \\\\\n",
      "    & rkhs &      2354.39 &     2092.61 &      -1749.57 &      6458.35 \\\\\n",
      "    & rkhs\\_tmle &     29668.15 &     2105.81 &      25538.29 &     33798.01 \\\\\n",
      "    & plugin &     17088.85 &     5401.33 &       6495.93 &     27681.77 \\\\\n",
      "    & plugin\\_tmle &     17077.90 &     5406.31 &       6475.21 &     27680.59 \\\\\n",
      "\\bottomrule\n",
      "\\end{tabular}\n",
      "\n"
     ]
    }
   ],
   "source": [
    "print(res.to_latex(float_format=lambda x: f'{x:.2f}'))"
   ]
  },
  {
   "cell_type": "code",
   "execution_count": 14,
   "metadata": {
    "scrolled": false
   },
   "outputs": [
    {
     "name": "stdout",
     "output_type": "stream",
     "text": [
      "Quintile=1\n",
      "1970 1914\n"
     ]
    },
    {
     "name": "stderr",
     "output_type": "stream",
     "text": [
      "C:\\Users\\vasy\\Google Drive\\Colab Notebooks\\adversarial_reisz\\advreisz\\linear\\sparse_linear.py:175: UserWarning: Maximum number of iterations reached and duality gap tolerance not achieved. Consider increasing the maximum number of iterations.\n",
      "  warnings.warn(\"Maximum number of iterations reached and duality gap tolerance not achieved. \"\n",
      "C:\\Users\\vasy\\Google Drive\\Colab Notebooks\\adversarial_reisz\\advreisz\\linear\\sparse_linear.py:175: UserWarning: Maximum number of iterations reached and duality gap tolerance not achieved. Consider increasing the maximum number of iterations.\n",
      "  warnings.warn(\"Maximum number of iterations reached and duality gap tolerance not achieved. \"\n",
      "C:\\Users\\vasy\\Google Drive\\Colab Notebooks\\adversarial_reisz\\advreisz\\linear\\sparse_linear.py:175: UserWarning: Maximum number of iterations reached and duality gap tolerance not achieved. Consider increasing the maximum number of iterations.\n",
      "  warnings.warn(\"Maximum number of iterations reached and duality gap tolerance not achieved. \"\n",
      "C:\\Users\\vasy\\Google Drive\\Colab Notebooks\\adversarial_reisz\\advreisz\\linear\\sparse_linear.py:175: UserWarning: Maximum number of iterations reached and duality gap tolerance not achieved. Consider increasing the maximum number of iterations.\n",
      "  warnings.warn(\"Maximum number of iterations reached and duality gap tolerance not achieved. \"\n",
      "C:\\Users\\vasy\\Google Drive\\Colab Notebooks\\adversarial_reisz\\advreisz\\linear\\sparse_linear.py:175: UserWarning: Maximum number of iterations reached and duality gap tolerance not achieved. Consider increasing the maximum number of iterations.\n",
      "  warnings.warn(\"Maximum number of iterations reached and duality gap tolerance not achieved. \"\n"
     ]
    },
    {
     "name": "stdout",
     "output_type": "stream",
     "text": [
      "{'splin': {'point': 3547.090958680615, 'stderr': 1076.7849670941257, 'lower': 1435.2950747184952, 'upper': 5658.886842642735}, 'splin_tmle': {'point': 3632.8350086836936, 'stderr': 1069.9686157051574, 'lower': 1534.4073860242079, 'upper': 5731.262631343179}, 'advrkhs': {'point': 3777402.070315633, 'stderr': 2674400.6315811137, 'lower': -1467645.3796688684, 'upper': 9022449.520300135}, 'advrkhs_tmle': {'point': 33.48450709452751, 'stderr': 2653003.119584235, 'lower': -5203049.061487353, 'upper': 5203116.030501542}, 'rkhs': {'point': 1039.0200426835981, 'stderr': 309.91720004984205, 'lower': 431.20893142659025, 'upper': 1646.831153940606}, 'rkhs_tmle': {'point': 8123.5242149331025, 'stderr': 316.26205283729973, 'lower': 7503.269547710545, 'upper': 8743.77888215566}, 'plugin': {'point': 4341.43351328472, 'stderr': 1234.7940726669642, 'lower': 1919.7494074636413, 'upper': 6763.1176191058}, 'plugin_tmle': {'point': 4378.265617147362, 'stderr': 1236.4133717233744, 'lower': 1953.4057341871762, 'upper': 6803.125500107547}}\n",
      "Quintile=2\n",
      "1970 1966\n"
     ]
    },
    {
     "name": "stderr",
     "output_type": "stream",
     "text": [
      "C:\\Users\\vasy\\Google Drive\\Colab Notebooks\\adversarial_reisz\\advreisz\\linear\\sparse_linear.py:175: UserWarning: Maximum number of iterations reached and duality gap tolerance not achieved. Consider increasing the maximum number of iterations.\n",
      "  warnings.warn(\"Maximum number of iterations reached and duality gap tolerance not achieved. \"\n",
      "C:\\Users\\vasy\\Google Drive\\Colab Notebooks\\adversarial_reisz\\advreisz\\linear\\sparse_linear.py:175: UserWarning: Maximum number of iterations reached and duality gap tolerance not achieved. Consider increasing the maximum number of iterations.\n",
      "  warnings.warn(\"Maximum number of iterations reached and duality gap tolerance not achieved. \"\n",
      "C:\\Users\\vasy\\Google Drive\\Colab Notebooks\\adversarial_reisz\\advreisz\\linear\\sparse_linear.py:175: UserWarning: Maximum number of iterations reached and duality gap tolerance not achieved. Consider increasing the maximum number of iterations.\n",
      "  warnings.warn(\"Maximum number of iterations reached and duality gap tolerance not achieved. \"\n",
      "C:\\Users\\vasy\\Google Drive\\Colab Notebooks\\adversarial_reisz\\advreisz\\linear\\sparse_linear.py:175: UserWarning: Maximum number of iterations reached and duality gap tolerance not achieved. Consider increasing the maximum number of iterations.\n",
      "  warnings.warn(\"Maximum number of iterations reached and duality gap tolerance not achieved. \"\n",
      "C:\\Users\\vasy\\Google Drive\\Colab Notebooks\\adversarial_reisz\\advreisz\\linear\\sparse_linear.py:175: UserWarning: Maximum number of iterations reached and duality gap tolerance not achieved. Consider increasing the maximum number of iterations.\n",
      "  warnings.warn(\"Maximum number of iterations reached and duality gap tolerance not achieved. \"\n"
     ]
    },
    {
     "name": "stdout",
     "output_type": "stream",
     "text": [
      "{'splin': {'point': 1163.9320888959237, 'stderr': 1626.6275027239092, 'lower': -2026.164189025495, 'upper': 4354.028366817343}, 'splin_tmle': {'point': 1141.4544469903583, 'stderr': 1627.2682954198588, 'lower': -2049.8985356104326, 'upper': 4332.807429591149}, 'advrkhs': {'point': -144592859.18252677, 'stderr': 96195857.94947837, 'lower': -333249480.24801654, 'upper': 44063761.88296302}, 'advrkhs_tmle': {'point': 58.637364332338294, 'stderr': 94476051.24461955, 'lower': -185283725.7099911, 'upper': 185283842.98471978}, 'rkhs': {'point': 593.5821336615872, 'stderr': 522.8392213934811, 'lower': -431.7954966352332, 'upper': 1618.9597639584078}, 'rkhs_tmle': {'point': 5969.442661845147, 'stderr': 522.4558681346933, 'lower': 4944.816853217357, 'upper': 6994.068470472937}, 'plugin': {'point': 1599.7123574937175, 'stderr': 1534.5967666198812, 'lower': -1409.8958196128592, 'upper': 4609.320534600294}, 'plugin_tmle': {'point': 1616.2431932274344, 'stderr': 1534.4484622954765, 'lower': -1393.0741335938183, 'upper': 4625.560520048687}}\n",
      "Quintile=3\n",
      "1970 1970\n"
     ]
    },
    {
     "name": "stderr",
     "output_type": "stream",
     "text": [
      "C:\\Users\\vasy\\Google Drive\\Colab Notebooks\\adversarial_reisz\\advreisz\\linear\\sparse_linear.py:175: UserWarning: Maximum number of iterations reached and duality gap tolerance not achieved. Consider increasing the maximum number of iterations.\n",
      "  warnings.warn(\"Maximum number of iterations reached and duality gap tolerance not achieved. \"\n",
      "C:\\Users\\vasy\\Google Drive\\Colab Notebooks\\adversarial_reisz\\advreisz\\linear\\sparse_linear.py:175: UserWarning: Maximum number of iterations reached and duality gap tolerance not achieved. Consider increasing the maximum number of iterations.\n",
      "  warnings.warn(\"Maximum number of iterations reached and duality gap tolerance not achieved. \"\n",
      "C:\\Users\\vasy\\Google Drive\\Colab Notebooks\\adversarial_reisz\\advreisz\\linear\\sparse_linear.py:175: UserWarning: Maximum number of iterations reached and duality gap tolerance not achieved. Consider increasing the maximum number of iterations.\n",
      "  warnings.warn(\"Maximum number of iterations reached and duality gap tolerance not achieved. \"\n",
      "C:\\Users\\vasy\\Google Drive\\Colab Notebooks\\adversarial_reisz\\advreisz\\linear\\sparse_linear.py:175: UserWarning: Maximum number of iterations reached and duality gap tolerance not achieved. Consider increasing the maximum number of iterations.\n",
      "  warnings.warn(\"Maximum number of iterations reached and duality gap tolerance not achieved. \"\n",
      "C:\\Users\\vasy\\Google Drive\\Colab Notebooks\\adversarial_reisz\\advreisz\\linear\\sparse_linear.py:175: UserWarning: Maximum number of iterations reached and duality gap tolerance not achieved. Consider increasing the maximum number of iterations.\n",
      "  warnings.warn(\"Maximum number of iterations reached and duality gap tolerance not achieved. \"\n"
     ]
    },
    {
     "name": "stdout",
     "output_type": "stream",
     "text": [
      "{'splin': {'point': 5241.672480607925, 'stderr': 1315.1122904358535, 'lower': 2662.514337195458, 'upper': 7820.83062402039}, 'splin_tmle': {'point': 5198.332699460489, 'stderr': 1313.202407574374, 'lower': 2622.920160108582, 'upper': 7773.745238812394}, 'advrkhs': {'point': 3738.24563900556, 'stderr': 1759.4092929773285, 'lower': 287.745755019126, 'upper': 7188.745522991994}, 'advrkhs_tmle': {'point': 5763.960101801074, 'stderr': 1703.5458868339915, 'lower': 2423.0178273976167, 'upper': 9104.902376204533}, 'rkhs': {'point': 1496.9124347344632, 'stderr': 385.20285386066325, 'lower': 741.4643375448406, 'upper': 2252.360531924086}, 'rkhs_tmle': {'point': 24024.01024502562, 'stderr': 417.96210442099493, 'lower': 23204.31570403859, 'upper': 24843.70478601265}, 'plugin': {'point': 4855.695346993272, 'stderr': 1353.7611955998238, 'lower': 2200.7401486733556, 'upper': 7510.6505453131895}, 'plugin_tmle': {'point': 4860.643958504395, 'stderr': 1352.010124148483, 'lower': 2209.122908147559, 'upper': 7512.165008861232}}\n",
      "Quintile=4\n",
      "1969 1969\n"
     ]
    },
    {
     "name": "stderr",
     "output_type": "stream",
     "text": [
      "C:\\Users\\vasy\\Google Drive\\Colab Notebooks\\adversarial_reisz\\advreisz\\linear\\sparse_linear.py:175: UserWarning: Maximum number of iterations reached and duality gap tolerance not achieved. Consider increasing the maximum number of iterations.\n",
      "  warnings.warn(\"Maximum number of iterations reached and duality gap tolerance not achieved. \"\n",
      "C:\\Users\\vasy\\Google Drive\\Colab Notebooks\\adversarial_reisz\\advreisz\\linear\\sparse_linear.py:175: UserWarning: Maximum number of iterations reached and duality gap tolerance not achieved. Consider increasing the maximum number of iterations.\n",
      "  warnings.warn(\"Maximum number of iterations reached and duality gap tolerance not achieved. \"\n",
      "C:\\Users\\vasy\\Google Drive\\Colab Notebooks\\adversarial_reisz\\advreisz\\linear\\sparse_linear.py:175: UserWarning: Maximum number of iterations reached and duality gap tolerance not achieved. Consider increasing the maximum number of iterations.\n",
      "  warnings.warn(\"Maximum number of iterations reached and duality gap tolerance not achieved. \"\n",
      "C:\\Users\\vasy\\Google Drive\\Colab Notebooks\\adversarial_reisz\\advreisz\\linear\\sparse_linear.py:175: UserWarning: Maximum number of iterations reached and duality gap tolerance not achieved. Consider increasing the maximum number of iterations.\n",
      "  warnings.warn(\"Maximum number of iterations reached and duality gap tolerance not achieved. \"\n",
      "C:\\Users\\vasy\\Google Drive\\Colab Notebooks\\adversarial_reisz\\advreisz\\linear\\sparse_linear.py:175: UserWarning: Maximum number of iterations reached and duality gap tolerance not achieved. Consider increasing the maximum number of iterations.\n",
      "  warnings.warn(\"Maximum number of iterations reached and duality gap tolerance not achieved. \"\n"
     ]
    },
    {
     "name": "stdout",
     "output_type": "stream",
     "text": [
      "{'splin': {'point': 10460.79649787079, 'stderr': 2550.3052779489267, 'lower': 5459.213949056428, 'upper': 15462.379046685148}, 'splin_tmle': {'point': 10354.153032171651, 'stderr': 2539.7491357857025, 'lower': 5373.272874119249, 'upper': 15335.033190224054}, 'advrkhs': {'point': -722183718.1116711, 'stderr': 328833337.9048045, 'lower': -1367081840.134059, 'upper': -77285596.08928338}, 'advrkhs_tmle': {'point': 49.877922934895665, 'stderr': 314949597.6488173, 'lower': -617669695.378345, 'upper': 617669795.134191}, 'rkhs': {'point': 476.2081405426048, 'stderr': 580.1985374343873, 'lower': -661.6599040286309, 'upper': 1614.0761851138404}, 'rkhs_tmle': {'point': 19042.353603391522, 'stderr': 601.7905497142797, 'lower': 17862.139949160664, 'upper': 20222.56725762238}, 'plugin': {'point': 8523.313295906995, 'stderr': 2455.05358754325, 'lower': 3708.5355177204274, 'upper': 13338.091074093561}, 'plugin_tmle': {'point': 8549.478540911809, 'stderr': 2454.757964234129, 'lower': 3735.2805303305977, 'upper': 13363.676551493021}}\n",
      "Quintile=5\n",
      "1969 1969\n"
     ]
    },
    {
     "name": "stderr",
     "output_type": "stream",
     "text": [
      "C:\\Users\\vasy\\Google Drive\\Colab Notebooks\\adversarial_reisz\\advreisz\\linear\\sparse_linear.py:175: UserWarning: Maximum number of iterations reached and duality gap tolerance not achieved. Consider increasing the maximum number of iterations.\n",
      "  warnings.warn(\"Maximum number of iterations reached and duality gap tolerance not achieved. \"\n",
      "C:\\Users\\vasy\\Google Drive\\Colab Notebooks\\adversarial_reisz\\advreisz\\linear\\sparse_linear.py:175: UserWarning: Maximum number of iterations reached and duality gap tolerance not achieved. Consider increasing the maximum number of iterations.\n",
      "  warnings.warn(\"Maximum number of iterations reached and duality gap tolerance not achieved. \"\n",
      "C:\\Users\\vasy\\Google Drive\\Colab Notebooks\\adversarial_reisz\\advreisz\\linear\\sparse_linear.py:175: UserWarning: Maximum number of iterations reached and duality gap tolerance not achieved. Consider increasing the maximum number of iterations.\n",
      "  warnings.warn(\"Maximum number of iterations reached and duality gap tolerance not achieved. \"\n",
      "C:\\Users\\vasy\\Google Drive\\Colab Notebooks\\adversarial_reisz\\advreisz\\linear\\sparse_linear.py:175: UserWarning: Maximum number of iterations reached and duality gap tolerance not achieved. Consider increasing the maximum number of iterations.\n",
      "  warnings.warn(\"Maximum number of iterations reached and duality gap tolerance not achieved. \"\n",
      "C:\\Users\\vasy\\Google Drive\\Colab Notebooks\\adversarial_reisz\\advreisz\\linear\\sparse_linear.py:175: UserWarning: Maximum number of iterations reached and duality gap tolerance not achieved. Consider increasing the maximum number of iterations.\n",
      "  warnings.warn(\"Maximum number of iterations reached and duality gap tolerance not achieved. \"\n"
     ]
    },
    {
     "name": "stdout",
     "output_type": "stream",
     "text": [
      "{'splin': {'point': 19139.10647835401, 'stderr': 5154.237118640629, 'lower': 9030.770567377454, 'upper': 29247.44238933057}, 'splin_tmle': {'point': 18859.32066695396, 'stderr': 5138.967207394551, 'lower': 8780.93164989269, 'upper': 28937.709684015237}, 'advrkhs': {'point': 7886127.447625389, 'stderr': 95944617.18162337, 'lower': -180277590.4795945, 'upper': 196049845.37484527}, 'advrkhs_tmle': {'point': -13.829175614246063, 'stderr': 95937436.93397725, 'lower': -188149650.0691428, 'upper': 188149622.41079158}, 'rkhs': {'point': 2529.7072825925934, 'stderr': 1917.4564341405708, 'lower': -1230.7510131382883, 'upper': 6290.165578323475}, 'rkhs_tmle': {'point': 35590.57634123819, 'stderr': 1938.6823045928954, 'lower': 31788.49050226546, 'upper': 39392.66218021092}, 'plugin': {'point': 17432.561570643116, 'stderr': 5411.748455916261, 'lower': 6819.202115318371, 'upper': 28045.92102596786}, 'plugin_tmle': {'point': 17394.00066860485, 'stderr': 5415.006633237161, 'lower': 6774.2513732205425, 'upper': 28013.749963989158}}\n"
     ]
    }
   ],
   "source": [
    "import pandas as pd\n",
    "\n",
    "\n",
    "res = {}\n",
    "for q in np.arange(1, 6):\n",
    "    res[f'q={q}'] = {}\n",
    "    print(f'Quintile={q}')\n",
    "    df = pd.read_csv(f'401k/quintile{q}_trimmed.csv', index_col=0)\n",
    "    y = df['Y'].values\n",
    "    X = df[['D'] + [f'X{i}' for i in np.arange(1, 10)]].values\n",
    "    inds = np.arange(X.shape[0])\n",
    "    np.random.seed(123)\n",
    "    np.random.shuffle(inds)\n",
    "    X, y = X[inds], y[inds]\n",
    "    clf = LogisticRegressionCV(max_iter=10000).fit(X[:, 1:], X[:, 0])\n",
    "    prop = clf.predict_proba(X[:, 1:])\n",
    "    filt = (prop[:, 1] <= .9) & (prop[:, 1] >= .1)\n",
    "    print(X.shape[0], np.sum(filt))\n",
    "    X, y = X[filt], y[filt]\n",
    "    scale = np.std(y)\n",
    "    y = y / scale\n",
    "    for name, reisz_fn in [('splin', splin_fn),\n",
    "                           ('advrkhs', advkernel_fn),\n",
    "                           ('rkhs', kernel_fn),\n",
    "                           ('plugin', plugin_fn)]:\n",
    "        est = DebiasedMoment(moment_fn=moment_fn,\n",
    "                             reisz_fn=reisz_fn, reg_fn=reg_fn, n_splits=5)\n",
    "        est.fit(X, y)\n",
    "        p, s, l, u = est.avg_moment()\n",
    "        res[f'q={q}'][name] = {'point': p * scale, 'stderr': s * scale, 'lower': l * scale, 'upper': u * scale}\n",
    "        p, s, l, u = est.avg_moment(tmle=True)\n",
    "        res[f'q={q}'][f'{name}_tmle'] = {'point': p * scale, 'stderr': s * scale, 'lower': l * scale, 'upper': u * scale}\n",
    "\n",
    "    print(res[f'q={q}'])\n",
    "    res[f'q={q}'] = pd.DataFrame(res[f'q={q}']).transpose()\n",
    "res = pd.concat(res)"
   ]
  },
  {
   "cell_type": "code",
   "execution_count": 15,
   "metadata": {},
   "outputs": [
    {
     "data": {
      "text/html": [
       "<div>\n",
       "<style scoped>\n",
       "    .dataframe tbody tr th:only-of-type {\n",
       "        vertical-align: middle;\n",
       "    }\n",
       "\n",
       "    .dataframe tbody tr th {\n",
       "        vertical-align: top;\n",
       "    }\n",
       "\n",
       "    .dataframe thead th {\n",
       "        text-align: right;\n",
       "    }\n",
       "</style>\n",
       "<table border=\"1\" class=\"dataframe\">\n",
       "  <thead>\n",
       "    <tr style=\"text-align: right;\">\n",
       "      <th></th>\n",
       "      <th></th>\n",
       "      <th>point</th>\n",
       "      <th>stderr</th>\n",
       "      <th>lower</th>\n",
       "      <th>upper</th>\n",
       "    </tr>\n",
       "  </thead>\n",
       "  <tbody>\n",
       "    <tr>\n",
       "      <th rowspan=\"8\" valign=\"top\">q=1</th>\n",
       "      <th>splin</th>\n",
       "      <td>3,547.09</td>\n",
       "      <td>1,076.78</td>\n",
       "      <td>1,435.30</td>\n",
       "      <td>5,658.89</td>\n",
       "    </tr>\n",
       "    <tr>\n",
       "      <th>splin_tmle</th>\n",
       "      <td>3,632.84</td>\n",
       "      <td>1,069.97</td>\n",
       "      <td>1,534.41</td>\n",
       "      <td>5,731.26</td>\n",
       "    </tr>\n",
       "    <tr>\n",
       "      <th>advrkhs</th>\n",
       "      <td>3,777,402.07</td>\n",
       "      <td>2,674,400.63</td>\n",
       "      <td>-1,467,645.38</td>\n",
       "      <td>9,022,449.52</td>\n",
       "    </tr>\n",
       "    <tr>\n",
       "      <th>advrkhs_tmle</th>\n",
       "      <td>33.48</td>\n",
       "      <td>2,653,003.12</td>\n",
       "      <td>-5,203,049.06</td>\n",
       "      <td>5,203,116.03</td>\n",
       "    </tr>\n",
       "    <tr>\n",
       "      <th>rkhs</th>\n",
       "      <td>1,039.02</td>\n",
       "      <td>309.92</td>\n",
       "      <td>431.21</td>\n",
       "      <td>1,646.83</td>\n",
       "    </tr>\n",
       "    <tr>\n",
       "      <th>rkhs_tmle</th>\n",
       "      <td>8,123.52</td>\n",
       "      <td>316.26</td>\n",
       "      <td>7,503.27</td>\n",
       "      <td>8,743.78</td>\n",
       "    </tr>\n",
       "    <tr>\n",
       "      <th>plugin</th>\n",
       "      <td>4,341.43</td>\n",
       "      <td>1,234.79</td>\n",
       "      <td>1,919.75</td>\n",
       "      <td>6,763.12</td>\n",
       "    </tr>\n",
       "    <tr>\n",
       "      <th>plugin_tmle</th>\n",
       "      <td>4,378.27</td>\n",
       "      <td>1,236.41</td>\n",
       "      <td>1,953.41</td>\n",
       "      <td>6,803.13</td>\n",
       "    </tr>\n",
       "    <tr>\n",
       "      <th rowspan=\"8\" valign=\"top\">q=2</th>\n",
       "      <th>splin</th>\n",
       "      <td>1,163.93</td>\n",
       "      <td>1,626.63</td>\n",
       "      <td>-2,026.16</td>\n",
       "      <td>4,354.03</td>\n",
       "    </tr>\n",
       "    <tr>\n",
       "      <th>splin_tmle</th>\n",
       "      <td>1,141.45</td>\n",
       "      <td>1,627.27</td>\n",
       "      <td>-2,049.90</td>\n",
       "      <td>4,332.81</td>\n",
       "    </tr>\n",
       "    <tr>\n",
       "      <th>advrkhs</th>\n",
       "      <td>-144,592,859.18</td>\n",
       "      <td>96,195,857.95</td>\n",
       "      <td>-333,249,480.25</td>\n",
       "      <td>44,063,761.88</td>\n",
       "    </tr>\n",
       "    <tr>\n",
       "      <th>advrkhs_tmle</th>\n",
       "      <td>58.64</td>\n",
       "      <td>94,476,051.24</td>\n",
       "      <td>-185,283,725.71</td>\n",
       "      <td>185,283,842.98</td>\n",
       "    </tr>\n",
       "    <tr>\n",
       "      <th>rkhs</th>\n",
       "      <td>593.58</td>\n",
       "      <td>522.84</td>\n",
       "      <td>-431.80</td>\n",
       "      <td>1,618.96</td>\n",
       "    </tr>\n",
       "    <tr>\n",
       "      <th>rkhs_tmle</th>\n",
       "      <td>5,969.44</td>\n",
       "      <td>522.46</td>\n",
       "      <td>4,944.82</td>\n",
       "      <td>6,994.07</td>\n",
       "    </tr>\n",
       "    <tr>\n",
       "      <th>plugin</th>\n",
       "      <td>1,599.71</td>\n",
       "      <td>1,534.60</td>\n",
       "      <td>-1,409.90</td>\n",
       "      <td>4,609.32</td>\n",
       "    </tr>\n",
       "    <tr>\n",
       "      <th>plugin_tmle</th>\n",
       "      <td>1,616.24</td>\n",
       "      <td>1,534.45</td>\n",
       "      <td>-1,393.07</td>\n",
       "      <td>4,625.56</td>\n",
       "    </tr>\n",
       "    <tr>\n",
       "      <th rowspan=\"8\" valign=\"top\">q=3</th>\n",
       "      <th>splin</th>\n",
       "      <td>5,241.67</td>\n",
       "      <td>1,315.11</td>\n",
       "      <td>2,662.51</td>\n",
       "      <td>7,820.83</td>\n",
       "    </tr>\n",
       "    <tr>\n",
       "      <th>splin_tmle</th>\n",
       "      <td>5,198.33</td>\n",
       "      <td>1,313.20</td>\n",
       "      <td>2,622.92</td>\n",
       "      <td>7,773.75</td>\n",
       "    </tr>\n",
       "    <tr>\n",
       "      <th>advrkhs</th>\n",
       "      <td>3,738.25</td>\n",
       "      <td>1,759.41</td>\n",
       "      <td>287.75</td>\n",
       "      <td>7,188.75</td>\n",
       "    </tr>\n",
       "    <tr>\n",
       "      <th>advrkhs_tmle</th>\n",
       "      <td>5,763.96</td>\n",
       "      <td>1,703.55</td>\n",
       "      <td>2,423.02</td>\n",
       "      <td>9,104.90</td>\n",
       "    </tr>\n",
       "    <tr>\n",
       "      <th>rkhs</th>\n",
       "      <td>1,496.91</td>\n",
       "      <td>385.20</td>\n",
       "      <td>741.46</td>\n",
       "      <td>2,252.36</td>\n",
       "    </tr>\n",
       "    <tr>\n",
       "      <th>rkhs_tmle</th>\n",
       "      <td>24,024.01</td>\n",
       "      <td>417.96</td>\n",
       "      <td>23,204.32</td>\n",
       "      <td>24,843.70</td>\n",
       "    </tr>\n",
       "    <tr>\n",
       "      <th>plugin</th>\n",
       "      <td>4,855.70</td>\n",
       "      <td>1,353.76</td>\n",
       "      <td>2,200.74</td>\n",
       "      <td>7,510.65</td>\n",
       "    </tr>\n",
       "    <tr>\n",
       "      <th>plugin_tmle</th>\n",
       "      <td>4,860.64</td>\n",
       "      <td>1,352.01</td>\n",
       "      <td>2,209.12</td>\n",
       "      <td>7,512.17</td>\n",
       "    </tr>\n",
       "    <tr>\n",
       "      <th rowspan=\"8\" valign=\"top\">q=4</th>\n",
       "      <th>splin</th>\n",
       "      <td>10,460.80</td>\n",
       "      <td>2,550.31</td>\n",
       "      <td>5,459.21</td>\n",
       "      <td>15,462.38</td>\n",
       "    </tr>\n",
       "    <tr>\n",
       "      <th>splin_tmle</th>\n",
       "      <td>10,354.15</td>\n",
       "      <td>2,539.75</td>\n",
       "      <td>5,373.27</td>\n",
       "      <td>15,335.03</td>\n",
       "    </tr>\n",
       "    <tr>\n",
       "      <th>advrkhs</th>\n",
       "      <td>-722,183,718.11</td>\n",
       "      <td>328,833,337.90</td>\n",
       "      <td>-1,367,081,840.13</td>\n",
       "      <td>-77,285,596.09</td>\n",
       "    </tr>\n",
       "    <tr>\n",
       "      <th>advrkhs_tmle</th>\n",
       "      <td>49.88</td>\n",
       "      <td>314,949,597.65</td>\n",
       "      <td>-617,669,695.38</td>\n",
       "      <td>617,669,795.13</td>\n",
       "    </tr>\n",
       "    <tr>\n",
       "      <th>rkhs</th>\n",
       "      <td>476.21</td>\n",
       "      <td>580.20</td>\n",
       "      <td>-661.66</td>\n",
       "      <td>1,614.08</td>\n",
       "    </tr>\n",
       "    <tr>\n",
       "      <th>rkhs_tmle</th>\n",
       "      <td>19,042.35</td>\n",
       "      <td>601.79</td>\n",
       "      <td>17,862.14</td>\n",
       "      <td>20,222.57</td>\n",
       "    </tr>\n",
       "    <tr>\n",
       "      <th>plugin</th>\n",
       "      <td>8,523.31</td>\n",
       "      <td>2,455.05</td>\n",
       "      <td>3,708.54</td>\n",
       "      <td>13,338.09</td>\n",
       "    </tr>\n",
       "    <tr>\n",
       "      <th>plugin_tmle</th>\n",
       "      <td>8,549.48</td>\n",
       "      <td>2,454.76</td>\n",
       "      <td>3,735.28</td>\n",
       "      <td>13,363.68</td>\n",
       "    </tr>\n",
       "    <tr>\n",
       "      <th rowspan=\"8\" valign=\"top\">q=5</th>\n",
       "      <th>splin</th>\n",
       "      <td>19,139.11</td>\n",
       "      <td>5,154.24</td>\n",
       "      <td>9,030.77</td>\n",
       "      <td>29,247.44</td>\n",
       "    </tr>\n",
       "    <tr>\n",
       "      <th>splin_tmle</th>\n",
       "      <td>18,859.32</td>\n",
       "      <td>5,138.97</td>\n",
       "      <td>8,780.93</td>\n",
       "      <td>28,937.71</td>\n",
       "    </tr>\n",
       "    <tr>\n",
       "      <th>advrkhs</th>\n",
       "      <td>7,886,127.45</td>\n",
       "      <td>95,944,617.18</td>\n",
       "      <td>-180,277,590.48</td>\n",
       "      <td>196,049,845.37</td>\n",
       "    </tr>\n",
       "    <tr>\n",
       "      <th>advrkhs_tmle</th>\n",
       "      <td>-13.83</td>\n",
       "      <td>95,937,436.93</td>\n",
       "      <td>-188,149,650.07</td>\n",
       "      <td>188,149,622.41</td>\n",
       "    </tr>\n",
       "    <tr>\n",
       "      <th>rkhs</th>\n",
       "      <td>2,529.71</td>\n",
       "      <td>1,917.46</td>\n",
       "      <td>-1,230.75</td>\n",
       "      <td>6,290.17</td>\n",
       "    </tr>\n",
       "    <tr>\n",
       "      <th>rkhs_tmle</th>\n",
       "      <td>35,590.58</td>\n",
       "      <td>1,938.68</td>\n",
       "      <td>31,788.49</td>\n",
       "      <td>39,392.66</td>\n",
       "    </tr>\n",
       "    <tr>\n",
       "      <th>plugin</th>\n",
       "      <td>17,432.56</td>\n",
       "      <td>5,411.75</td>\n",
       "      <td>6,819.20</td>\n",
       "      <td>28,045.92</td>\n",
       "    </tr>\n",
       "    <tr>\n",
       "      <th>plugin_tmle</th>\n",
       "      <td>17,394.00</td>\n",
       "      <td>5,415.01</td>\n",
       "      <td>6,774.25</td>\n",
       "      <td>28,013.75</td>\n",
       "    </tr>\n",
       "  </tbody>\n",
       "</table>\n",
       "</div>"
      ],
      "text/plain": [
       "                           point         stderr             lower  \\\n",
       "q=1 splin               3,547.09       1,076.78          1,435.30   \n",
       "    splin_tmle          3,632.84       1,069.97          1,534.41   \n",
       "    advrkhs         3,777,402.07   2,674,400.63     -1,467,645.38   \n",
       "    advrkhs_tmle           33.48   2,653,003.12     -5,203,049.06   \n",
       "    rkhs                1,039.02         309.92            431.21   \n",
       "    rkhs_tmle           8,123.52         316.26          7,503.27   \n",
       "    plugin              4,341.43       1,234.79          1,919.75   \n",
       "    plugin_tmle         4,378.27       1,236.41          1,953.41   \n",
       "q=2 splin               1,163.93       1,626.63         -2,026.16   \n",
       "    splin_tmle          1,141.45       1,627.27         -2,049.90   \n",
       "    advrkhs      -144,592,859.18  96,195,857.95   -333,249,480.25   \n",
       "    advrkhs_tmle           58.64  94,476,051.24   -185,283,725.71   \n",
       "    rkhs                  593.58         522.84           -431.80   \n",
       "    rkhs_tmle           5,969.44         522.46          4,944.82   \n",
       "    plugin              1,599.71       1,534.60         -1,409.90   \n",
       "    plugin_tmle         1,616.24       1,534.45         -1,393.07   \n",
       "q=3 splin               5,241.67       1,315.11          2,662.51   \n",
       "    splin_tmle          5,198.33       1,313.20          2,622.92   \n",
       "    advrkhs             3,738.25       1,759.41            287.75   \n",
       "    advrkhs_tmle        5,763.96       1,703.55          2,423.02   \n",
       "    rkhs                1,496.91         385.20            741.46   \n",
       "    rkhs_tmle          24,024.01         417.96         23,204.32   \n",
       "    plugin              4,855.70       1,353.76          2,200.74   \n",
       "    plugin_tmle         4,860.64       1,352.01          2,209.12   \n",
       "q=4 splin              10,460.80       2,550.31          5,459.21   \n",
       "    splin_tmle         10,354.15       2,539.75          5,373.27   \n",
       "    advrkhs      -722,183,718.11 328,833,337.90 -1,367,081,840.13   \n",
       "    advrkhs_tmle           49.88 314,949,597.65   -617,669,695.38   \n",
       "    rkhs                  476.21         580.20           -661.66   \n",
       "    rkhs_tmle          19,042.35         601.79         17,862.14   \n",
       "    plugin              8,523.31       2,455.05          3,708.54   \n",
       "    plugin_tmle         8,549.48       2,454.76          3,735.28   \n",
       "q=5 splin              19,139.11       5,154.24          9,030.77   \n",
       "    splin_tmle         18,859.32       5,138.97          8,780.93   \n",
       "    advrkhs         7,886,127.45  95,944,617.18   -180,277,590.48   \n",
       "    advrkhs_tmle          -13.83  95,937,436.93   -188,149,650.07   \n",
       "    rkhs                2,529.71       1,917.46         -1,230.75   \n",
       "    rkhs_tmle          35,590.58       1,938.68         31,788.49   \n",
       "    plugin             17,432.56       5,411.75          6,819.20   \n",
       "    plugin_tmle        17,394.00       5,415.01          6,774.25   \n",
       "\n",
       "                          upper  \n",
       "q=1 splin              5,658.89  \n",
       "    splin_tmle         5,731.26  \n",
       "    advrkhs        9,022,449.52  \n",
       "    advrkhs_tmle   5,203,116.03  \n",
       "    rkhs               1,646.83  \n",
       "    rkhs_tmle          8,743.78  \n",
       "    plugin             6,763.12  \n",
       "    plugin_tmle        6,803.13  \n",
       "q=2 splin              4,354.03  \n",
       "    splin_tmle         4,332.81  \n",
       "    advrkhs       44,063,761.88  \n",
       "    advrkhs_tmle 185,283,842.98  \n",
       "    rkhs               1,618.96  \n",
       "    rkhs_tmle          6,994.07  \n",
       "    plugin             4,609.32  \n",
       "    plugin_tmle        4,625.56  \n",
       "q=3 splin              7,820.83  \n",
       "    splin_tmle         7,773.75  \n",
       "    advrkhs            7,188.75  \n",
       "    advrkhs_tmle       9,104.90  \n",
       "    rkhs               2,252.36  \n",
       "    rkhs_tmle         24,843.70  \n",
       "    plugin             7,510.65  \n",
       "    plugin_tmle        7,512.17  \n",
       "q=4 splin             15,462.38  \n",
       "    splin_tmle        15,335.03  \n",
       "    advrkhs      -77,285,596.09  \n",
       "    advrkhs_tmle 617,669,795.13  \n",
       "    rkhs               1,614.08  \n",
       "    rkhs_tmle         20,222.57  \n",
       "    plugin            13,338.09  \n",
       "    plugin_tmle       13,363.68  \n",
       "q=5 splin             29,247.44  \n",
       "    splin_tmle        28,937.71  \n",
       "    advrkhs      196,049,845.37  \n",
       "    advrkhs_tmle 188,149,622.41  \n",
       "    rkhs               6,290.17  \n",
       "    rkhs_tmle         39,392.66  \n",
       "    plugin            28,045.92  \n",
       "    plugin_tmle       28,013.75  "
      ]
     },
     "execution_count": 15,
     "metadata": {},
     "output_type": "execute_result"
    }
   ],
   "source": [
    "pd.options.display.float_format = '{:,.2f}'.format\n",
    "res"
   ]
  },
  {
   "cell_type": "code",
   "execution_count": 16,
   "metadata": {},
   "outputs": [
    {
     "name": "stdout",
     "output_type": "stream",
     "text": [
      "\\begin{tabular}{llrrrr}\n",
      "\\toprule\n",
      "    &             &         point &       stderr &          lower &        upper \\\\\n",
      "\\midrule\n",
      "q=1 & splin &       3547.09 &      1076.78 &        1435.30 &      5658.89 \\\\\n",
      "    & splin\\_tmle &       3632.84 &      1069.97 &        1534.41 &      5731.26 \\\\\n",
      "    & advrkhs &    3777402.07 &   2674400.63 &    -1467645.38 &   9022449.52 \\\\\n",
      "    & advrkhs\\_tmle &         33.48 &   2653003.12 &    -5203049.06 &   5203116.03 \\\\\n",
      "    & rkhs &       1039.02 &       309.92 &         431.21 &      1646.83 \\\\\n",
      "    & rkhs\\_tmle &       8123.52 &       316.26 &        7503.27 &      8743.78 \\\\\n",
      "    & plugin &       4341.43 &      1234.79 &        1919.75 &      6763.12 \\\\\n",
      "    & plugin\\_tmle &       4378.27 &      1236.41 &        1953.41 &      6803.13 \\\\\n",
      "q=2 & splin &       1163.93 &      1626.63 &       -2026.16 &      4354.03 \\\\\n",
      "    & splin\\_tmle &       1141.45 &      1627.27 &       -2049.90 &      4332.81 \\\\\n",
      "    & advrkhs & -144592859.18 &  96195857.95 &  -333249480.25 &  44063761.88 \\\\\n",
      "    & advrkhs\\_tmle &         58.64 &  94476051.24 &  -185283725.71 & 185283842.98 \\\\\n",
      "    & rkhs &        593.58 &       522.84 &        -431.80 &      1618.96 \\\\\n",
      "    & rkhs\\_tmle &       5969.44 &       522.46 &        4944.82 &      6994.07 \\\\\n",
      "    & plugin &       1599.71 &      1534.60 &       -1409.90 &      4609.32 \\\\\n",
      "    & plugin\\_tmle &       1616.24 &      1534.45 &       -1393.07 &      4625.56 \\\\\n",
      "q=3 & splin &       5241.67 &      1315.11 &        2662.51 &      7820.83 \\\\\n",
      "    & splin\\_tmle &       5198.33 &      1313.20 &        2622.92 &      7773.75 \\\\\n",
      "    & advrkhs &       3738.25 &      1759.41 &         287.75 &      7188.75 \\\\\n",
      "    & advrkhs\\_tmle &       5763.96 &      1703.55 &        2423.02 &      9104.90 \\\\\n",
      "    & rkhs &       1496.91 &       385.20 &         741.46 &      2252.36 \\\\\n",
      "    & rkhs\\_tmle &      24024.01 &       417.96 &       23204.32 &     24843.70 \\\\\n",
      "    & plugin &       4855.70 &      1353.76 &        2200.74 &      7510.65 \\\\\n",
      "    & plugin\\_tmle &       4860.64 &      1352.01 &        2209.12 &      7512.17 \\\\\n",
      "q=4 & splin &      10460.80 &      2550.31 &        5459.21 &     15462.38 \\\\\n",
      "    & splin\\_tmle &      10354.15 &      2539.75 &        5373.27 &     15335.03 \\\\\n",
      "    & advrkhs & -722183718.11 & 328833337.90 & -1367081840.13 & -77285596.09 \\\\\n",
      "    & advrkhs\\_tmle &         49.88 & 314949597.65 &  -617669695.38 & 617669795.13 \\\\\n",
      "    & rkhs &        476.21 &       580.20 &        -661.66 &      1614.08 \\\\\n",
      "    & rkhs\\_tmle &      19042.35 &       601.79 &       17862.14 &     20222.57 \\\\\n",
      "    & plugin &       8523.31 &      2455.05 &        3708.54 &     13338.09 \\\\\n",
      "    & plugin\\_tmle &       8549.48 &      2454.76 &        3735.28 &     13363.68 \\\\\n",
      "q=5 & splin &      19139.11 &      5154.24 &        9030.77 &     29247.44 \\\\\n",
      "    & splin\\_tmle &      18859.32 &      5138.97 &        8780.93 &     28937.71 \\\\\n",
      "    & advrkhs &    7886127.45 &  95944617.18 &  -180277590.48 & 196049845.37 \\\\\n",
      "    & advrkhs\\_tmle &        -13.83 &  95937436.93 &  -188149650.07 & 188149622.41 \\\\\n",
      "    & rkhs &       2529.71 &      1917.46 &       -1230.75 &      6290.17 \\\\\n",
      "    & rkhs\\_tmle &      35590.58 &      1938.68 &       31788.49 &     39392.66 \\\\\n",
      "    & plugin &      17432.56 &      5411.75 &        6819.20 &     28045.92 \\\\\n",
      "    & plugin\\_tmle &      17394.00 &      5415.01 &        6774.25 &     28013.75 \\\\\n",
      "\\bottomrule\n",
      "\\end{tabular}\n",
      "\n"
     ]
    }
   ],
   "source": [
    "print(res.to_latex(float_format=lambda x: f'{x:.2f}'))"
   ]
  },
  {
   "cell_type": "code",
   "execution_count": 47,
   "metadata": {},
   "outputs": [],
   "source": [
    "import pandas as pd\n",
    "\n",
    "df = pd.read_csv(f'401k/quintile1_trimmed.csv', index_col=0)\n",
    "y = df['Y'].values\n",
    "X = df[['D'] + [f'X{i}' for i in np.arange(1, 10)]].values\n",
    "y = y.astype(np.double)\n",
    "X = X.astype(np.double)\n",
    "inds = np.arange(X.shape[0])\n",
    "np.random.seed(123)\n",
    "np.random.shuffle(inds)\n",
    "X, y = X[inds].copy(), y[inds].copy()"
   ]
  },
  {
   "cell_type": "code",
   "execution_count": 17,
   "metadata": {},
   "outputs": [
    {
     "name": "stdout",
     "output_type": "stream",
     "text": [
      "1000 0\n"
     ]
    }
   ],
   "source": [
    "clf = LogisticRegressionCV(max_iter=10000)\n",
    "from sklearn.ensemble import RandomForestClassifier\n",
    "clf = RandomForestClassifier(bootstrap=False).fit(X[:, 1:], X[:, 0])\n",
    "clf = RandomForestClassifier(bootstrap=True, min_samples_leaf=10).fit(X[:, 1:], X[:, 0])\n",
    "prop = clf.predict_proba(X[:, 1:])\n",
    "filt = (prop[:, 1] <= .9) & (prop[:, 1] >= .1)\n",
    "print(X.shape[0], np.sum(filt))\n",
    "X, y = X[filt], y[filt]"
   ]
  },
  {
   "cell_type": "code",
   "execution_count": 20,
   "metadata": {},
   "outputs": [
    {
     "data": {
      "image/png": "[encoded data removed]",
      "text/plain": [
       "<Figure size 432x288 with 1 Axes>"
      ]
     },
     "metadata": {
      "needs_background": "light"
     },
     "output_type": "display_data"
    }
   ],
   "source": [
    "plt.hist(X[:, 0])\n",
    "plt.show()"
   ]
  },
  {
   "cell_type": "code",
   "execution_count": 48,
   "metadata": {},
   "outputs": [],
   "source": [
    "clf = LogisticRegressionCV(cv=3, max_iter=10000, random_state=123).fit(X[:, 1:], X[:, 0])\n",
    "clf = RandomForestClassifier(bootstrap=True, min_samples_leaf=10).fit(X[:, 1:], X[:, 0])"
   ]
  },
  {
   "cell_type": "code",
   "execution_count": 49,
   "metadata": {},
   "outputs": [
    {
     "data": {
      "image/png": "[encoded data removed]",
      "text/plain": [
       "<Figure size 432x288 with 1 Axes>"
      ]
     },
     "metadata": {
      "needs_background": "light"
     },
     "output_type": "display_data"
    }
   ],
   "source": [
    "plt.hist(clf.predict_proba(X[:, 1:])[:, 1])\n",
    "plt.show()"
   ]
  },
  {
   "cell_type": "code",
   "execution_count": 50,
   "metadata": {},
   "outputs": [
    {
     "data": {
      "image/png": "[encoded data removed]",
      "text/plain": [
       "<Figure size 432x288 with 1 Axes>"
      ]
     },
     "metadata": {
      "needs_background": "light"
     },
     "output_type": "display_data"
    }
   ],
   "source": [
    "plt.hist(1 / clf.predict_proba(X[:, 1:])[:, 1])\n",
    "plt.hist(1 / clf.predict_proba(X[:, 1:])[:, 0])\n",
    "plt.show()"
   ]
  },
  {
   "cell_type": "code",
   "execution_count": 53,
   "metadata": {},
   "outputs": [],
   "source": [
    "from utilities import PluginRR\n",
    "\n",
    "plugin_fn = lambda: PluginRR(model_t=LogisticRegressionCV(cv=3, max_iter=10000, random_state=123),\n",
    "                             min_propensity=0)\n",
    "est = DebiasedMoment(moment_fn=moment_fn, reg_fn=reg_fn, reisz_fn=plugin_fn, n_splits=1)"
   ]
  },
  {
   "cell_type": "code",
   "execution_count": 54,
   "metadata": {},
   "outputs": [
    {
     "data": {
      "text/plain": [
       "<debiased.DebiasedMoment at 0x253c65cc7f0>"
      ]
     },
     "execution_count": 54,
     "metadata": {},
     "output_type": "execute_result"
    }
   ],
   "source": [
    "est.fit(X, y)"
   ]
  },
  {
   "cell_type": "code",
   "execution_count": 55,
   "metadata": {},
   "outputs": [
    {
     "name": "stdout",
     "output_type": "stream",
     "text": [
      "(1837.4791195079943, 1565.8853379082452, -1233.4874818137378, 4908.445720829726)\n"
     ]
    }
   ],
   "source": [
    "print(est.avg_moment())"
   ]
  },
  {
   "cell_type": "code",
   "execution_count": 56,
   "metadata": {},
   "outputs": [
    {
     "name": "stdout",
     "output_type": "stream",
     "text": [
      "(1832.5780825010445, 1564.7203946255631, -1236.1038675585908, 4901.26003256068)\n"
     ]
    }
   ],
   "source": [
    "print(est.avg_moment(tmle=True))"
   ]
  },
  {
   "cell_type": "code",
   "execution_count": 156,
   "metadata": {},
   "outputs": [],
   "source": [
    "import pandas as pd\n",
    "\n",
    "df = pd.read_csv(f'401k/quintile1_trimmed.csv', index_col=0)\n",
    "y = df['Y'].values\n",
    "X = df[['D'] + [f'X{i}' for i in np.arange(1, 10)]].values\n",
    "y = y.astype(np.double)\n",
    "X = X.astype(np.double)\n",
    "\n",
    "# clf = RandomForestClassifier(bootstrap=True, min_samples_leaf=5).fit(X[:, 1:], X[:, 0])\n",
    "# prop = clf.predict_proba(X[:, 1:])\n",
    "# filt = (prop[:, 1] <= .9) & (prop[:, 1] >= .1)\n",
    "# print(X.shape[0], np.sum(filt))\n",
    "# X, y = X[filt], y[filt]\n",
    "\n",
    "X[:, 1:5] = StandardScaler().fit_transform(X[:, 1:5])\n",
    "y_scale = np.std(y)\n",
    "y = y / y_scale\n",
    "inds = np.arange(X.shape[0])\n",
    "np.random.seed(123)\n",
    "np.random.shuffle(inds)\n",
    "X, y = X[inds].copy(), y[inds].copy()"
   ]
  },
  {
   "cell_type": "code",
   "execution_count": 157,
   "metadata": {},
   "outputs": [
    {
     "name": "stdout",
     "output_type": "stream",
     "text": [
      "[3581.6611524055743, 886.3341444347128, 1843.4096410873371, 5319.912663723811]\n",
      "[3588.7276388264386, 886.4982733947618, 1850.154242793901, 5327.301034858976]\n"
     ]
    }
   ],
   "source": [
    "get_reisz_fn = lambda X: lambda: AdvKernelReisz(kernel=lambda X, Y=None: prod_kernel(X, Y=Y, gamma=1.0/X.shape[1]),\n",
    "                                  regm='auto', regl='auto')\n",
    "est = DebiasedMoment(moment_fn=moment_fn, get_reg_fn=get_reg_fn,\n",
    "                     get_reisz_fn=get_reisz_fn, n_splits=1)\n",
    "est.fit(X, y)\n",
    "print([i * y_scale for i in est.avg_moment()])\n",
    "print([i * y_scale for i in est.avg_moment(tmle=True)])"
   ]
  },
  {
   "cell_type": "code",
   "execution_count": 158,
   "metadata": {},
   "outputs": [
    {
     "name": "stdout",
     "output_type": "stream",
     "text": [
      "[3588.7276388264386, 886.4982733947618, 1850.154242793901, 5327.301034858976]\n"
     ]
    }
   ],
   "source": [
    "print([i * y_scale for i in est.avg_moment(tmle=True)])"
   ]
  },
  {
   "cell_type": "code",
   "execution_count": 159,
   "metadata": {},
   "outputs": [
    {
     "data": {
      "image/png": "[encoded data removed]",
      "text/plain": [
       "<Figure size 432x288 with 1 Axes>"
      ]
     },
     "metadata": {
      "needs_background": "light"
     },
     "output_type": "display_data"
    }
   ],
   "source": [
    "plt.hist(est.reisz_models_[0].predict(X))\n",
    "plt.show()"
   ]
  },
  {
   "cell_type": "code",
   "execution_count": 160,
   "metadata": {},
   "outputs": [
    {
     "name": "stdout",
     "output_type": "stream",
     "text": [
      "[5929.062983542529, 13148.093262485821, 1015.8691957106873, 424.7404779759171, 25.132943419432443, 0.665262465834437, -2.3096214782437106e-05, 11783.0454577003, 46169.959596986155, 65120.70669147864, 68814.37576636716, 69008.78683626204, 69012.64075743068, 69012.69855578215]\n"
     ]
    }
   ],
   "source": [
    "print(est.reisz_models_[0].scores_)"
   ]
  },
  {
   "cell_type": "code",
   "execution_count": 161,
   "metadata": {},
   "outputs": [
    {
     "name": "stdout",
     "output_type": "stream",
     "text": [
      "3.455107294592218e-05\n"
     ]
    }
   ],
   "source": [
    "print(est.reisz_models_[0].regl_)"
   ]
  },
  {
   "cell_type": "code",
   "execution_count": 162,
   "metadata": {},
   "outputs": [
    {
     "name": "stdout",
     "output_type": "stream",
     "text": [
      "[3548.123161623499, 951.165144356365, 1682.7270691090164, 5413.519254137981]\n",
      "[3550.469466009094, 951.1953484612412, 1685.0141381246567, 5415.924793893531]\n"
     ]
    }
   ],
   "source": [
    "get_reisz_fn = lambda X: lambda: KernelReisz(kernel=lambda X, Y=None: prod_kernel(X, Y=Y, gamma=1.0/X.shape[0]),\n",
    "                               regl='auto')\n",
    "kest = DebiasedMoment(moment_fn=moment_fn, get_reg_fn=get_reg_fn,\n",
    "                     get_reisz_fn=get_reisz_fn, n_splits=1)\n",
    "kest.fit(X, y)\n",
    "print([i * y_scale for i in kest.avg_moment()])\n",
    "print([i * y_scale for i in kest.avg_moment(tmle=True)])"
   ]
  },
  {
   "cell_type": "code",
   "execution_count": 163,
   "metadata": {},
   "outputs": [
    {
     "name": "stdout",
     "output_type": "stream",
     "text": [
      "[-8.582181791610026, -8.568752077816722, -7.30161598870282, -9.29849183453675, -10.103027078375462, -9.653674389523664, -8.677850092762311, -8.231716556434703, -5.880250316306816, -1.8279555844612512, -0.30344520976230405, -0.03932795563909257]\n"
     ]
    }
   ],
   "source": [
    "print(kest.reisz_models_[0].scores_)"
   ]
  },
  {
   "cell_type": "code",
   "execution_count": 164,
   "metadata": {},
   "outputs": [
    {
     "name": "stdout",
     "output_type": "stream",
     "text": [
      "4.328761281083062e-05\n"
     ]
    }
   ],
   "source": [
    "print(kest.reisz_models_[0].regl_)"
   ]
  },
  {
   "cell_type": "code",
   "execution_count": 165,
   "metadata": {},
   "outputs": [
    {
     "name": "stdout",
     "output_type": "stream",
     "text": [
      "[3716.3684185039983, 616.0653245261583, 2508.1598798254627, 4924.576957182534]\n",
      "[4226.297544979248, 616.2127978850544, 3017.7997860437813, 5434.795303914715]\n"
     ]
    }
   ],
   "source": [
    "from utilities import PluginRR\n",
    "\n",
    "get_plugin_fn = lambda X: lambda: PluginRR(model_t=RandomForestClassifier(bootstrap=True, min_samples_leaf=10),\n",
    "                             min_propensity=0)\n",
    "rfest = DebiasedMoment(moment_fn=moment_fn, get_reg_fn=get_reg_fn,\n",
    "                     get_reisz_fn=get_plugin_fn, n_splits=1)\n",
    "rfest.fit(X, y)\n",
    "print([i * y_scale for i in rfest.avg_moment()])\n",
    "print([i * y_scale for i in rfest.avg_moment(tmle=True)])"
   ]
  },
  {
   "cell_type": "code",
   "execution_count": 166,
   "metadata": {},
   "outputs": [
    {
     "data": {
      "image/png": "[encoded data removed]",
      "text/plain": [
       "<Figure size 432x288 with 1 Axes>"
      ]
     },
     "metadata": {
      "needs_background": "light"
     },
     "output_type": "display_data"
    }
   ],
   "source": [
    "plt.scatter(rfest.reisz_models_[0].predict(X), est.reisz_models_[0].predict(X))\n",
    "plt.show()"
   ]
  },
  {
   "cell_type": "code",
   "execution_count": 167,
   "metadata": {},
   "outputs": [
    {
     "data": {
      "image/png": "[encoded data removed]",
      "text/plain": [
       "<Figure size 432x288 with 1 Axes>"
      ]
     },
     "metadata": {
      "needs_background": "light"
     },
     "output_type": "display_data"
    }
   ],
   "source": [
    "plt.scatter(rfest.reisz_models_[0].predict(X), kest.reisz_models_[0].predict(X))\n",
    "plt.show()"
   ]
  },
  {
   "cell_type": "code",
   "execution_count": null,
   "metadata": {},
   "outputs": [],
   "source": []
  }
 ],
 "metadata": {
  "kernelspec": {
   "display_name": "Python 3",
   "language": "python",
   "name": "python3"
  },
  "language_info": {
   "codemirror_mode": {
    "name": "ipython",
    "version": 3
   },
   "file_extension": ".py",
   "mimetype": "text/x-python",
   "name": "python",
   "nbconvert_exporter": "python",
   "pygments_lexer": "ipython3",
   "version": "3.8.5"
  }
 },
 "nbformat": 4,
 "nbformat_minor": 4
}
