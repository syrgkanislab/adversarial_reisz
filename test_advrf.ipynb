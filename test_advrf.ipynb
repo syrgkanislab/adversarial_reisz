{
 "cells": [
  {
   "cell_type": "code",
   "execution_count": 1,
   "metadata": {},
   "outputs": [],
   "source": [
    "import os\n",
    "os.chdir('C:/Users/liuch/Dropbox (Personal)/MIT Pre-Doc Personal/Rahul Singh/Adversarial Riesz/Empirical Application/adversarial_riesz')\n",
    "# os.chdir('C:/Users/liuw/Dropbox (Personal)/MIT Pre-Doc Personal/Rahul Singh/Adversarial Riesz/Empirical Application/adversarial_riesz')"
   ]
  },
  {
   "cell_type": "code",
   "execution_count": 25,
   "metadata": {},
   "outputs": [
    {
     "name": "stdout",
     "output_type": "stream",
     "text": [
      "The autoreload extension is already loaded. To reload it, use:\n",
      "  %reload_ext autoreload\n"
     ]
    }
   ],
   "source": [
    "%load_ext autoreload\n",
    "%autoreload 2"
   ]
  },
  {
   "cell_type": "markdown",
   "metadata": {},
   "source": [
    "# Definition of Diff-in-Diff Moment"
   ]
  },
  {
   "cell_type": "code",
   "execution_count": 26,
   "metadata": {},
   "outputs": [],
   "source": [
    "import os\n",
    "import numpy as np\n",
    "from pathlib import Path\n",
    "import matplotlib.pyplot as plt\n",
    "import scipy\n",
    "import scipy.special\n",
    "from sklearn.linear_model import LassoCV, LogisticRegressionCV, LinearRegression, Lasso, LogisticRegression\n",
    "from sklearn.model_selection import GridSearchCV\n",
    "from sklearn.ensemble import RandomForestClassifier\n",
    "from sklearn.base import clone\n",
    "import torch\n",
    "import torch.nn as nn\n",
    "\n",
    "\n",
    "\n",
    "# E[E[Y|D=1, A=1, X] – E[Y|D=0, A=1, X] – (E[Y|D=1, A=0, X] – E[Y|D=0, A=0, X])]\n",
    "# D is the first column, A is the second, and X is the remaining columns.\n",
    "def moment_fn(x, test_fn):\n",
    "    n_obs = x.shape[0]\n",
    "    if torch.is_tensor(x):\n",
    "        with torch.no_grad():\n",
    "            t11 = torch.cat([torch.ones((n_obs, 2)).to(device), x[:, 2:]], dim=1)\n",
    "            t01 = torch.cat([torch.zeros((n_obs, 1)).to(device), torch.ones((n_obs, 1)).to(device), x[:, 2:]], dim=1)\n",
    "            t10 = torch.cat([torch.ones((n_obs, 1)).to(device), torch.zeros((n_obs, 1)).to(device), x[:, 2:]], dim=1)\n",
    "            t00 = torch.cat([torch.zeros((n_obs, 2)).to(device), x[:, 2:]], dim=1)\n",
    "    else:\n",
    "        t11 = np.hstack([np.ones((n_obs, 2)), x[:, 2:]])\n",
    "        t01 = np.hstack([np.zeros((n_obs, 1)), np.ones((n_obs, 1)), x[:, 2:]])\n",
    "        t10 = np.hstack([np.ones((n_obs, 1)), np.zeros((n_obs, 1)), x[:, 2:]])\n",
    "        t00 = np.hstack([np.zeros((n_obs, 2)), x[:, 2:]])\n",
    "    return test_fn(t11) - test_fn(t01) - test_fn(t10) + test_fn(t00)"
   ]
  },
  {
   "cell_type": "markdown",
   "metadata": {},
   "source": [
    "# Functions for Different Adversarial Riesz Estimators"
   ]
  },
  {
   "cell_type": "code",
   "execution_count": 27,
   "metadata": {},
   "outputs": [
    {
     "name": "stdout",
     "output_type": "stream",
     "text": [
      "GPU: False\n"
     ]
    }
   ],
   "source": [
    "from sklearn.preprocessing import PolynomialFeatures, StandardScaler\n",
    "from sklearn.pipeline import Pipeline\n",
    "\n",
    "\n",
    "\n",
    "from sklearn.linear_model import LassoCV\n",
    "\n",
    "def get_reg_fn(X, y):\n",
    "    est = LassoCV(max_iter=10000, random_state=123).fit(X, y)\n",
    "    return lambda: Lasso(alpha=est.alpha_, max_iter=10000, random_state=123)\n",
    "\n",
    "\n",
    "\n",
    "from debiased import DebiasedMoment\n",
    "from advreisz.linear import SparseLinearAdvRiesz\n",
    "\n",
    "def get_splin_fn(X):\n",
    "    return lambda: SparseLinearAdvRiesz(moment_fn,\n",
    "                                        featurizer=Pipeline([('p', PolynomialFeatures(degree=2, include_bias=False)),\n",
    "                                                             ('s', StandardScaler()),\n",
    "                                                             ('cnt', PolynomialFeatures(degree=1, include_bias=True))]),\n",
    "                                        n_iter=50000, lambda_theta=0.01, B=10,\n",
    "                                        tol=0.00001)\n",
    "\n",
    "\n",
    "\n",
    "from advreisz.kernel import AdvNystromKernelReisz\n",
    "from utilities import AutoKernel, prod_kernel\n",
    "\n",
    "# advkernel_fn = lambda: AdvKernelReisz(kernel=AutoKernel(type='var'), regm=6e-4, regl=1e-4)\n",
    "\n",
    "def get_advnyskernel_fn(X):\n",
    "    est = AdvNystromKernelReisz(kernel=lambda X, Y=None: prod_kernel(X, Y=Y, gamma=1.0/X.shape[1]),\n",
    "                                regm='auto', regl='auto', n_components=100, random_state=123)\n",
    "    reg = est.opt_reg(X)\n",
    "    print(est.scores_)\n",
    "    print(reg)\n",
    "    return lambda: AdvNystromKernelReisz(kernel=lambda X, Y=None: prod_kernel(X, Y=Y, gamma=1.0/X.shape[1]),\n",
    "                                         regm=6*reg, regl=reg, n_components=100, random_state=123)\n",
    "\n",
    "\n",
    "\n",
    "from advreisz.kernel import AdvKernelReisz\n",
    "from utilities import AutoKernel, prod_kernel\n",
    "\n",
    "# advkernel_fn = lambda: AdvKernelReisz(kernel=AutoKernel(type='var'), regm=6e-4, regl=1e-4)\n",
    "\n",
    "def get_advkernel_fn(X):\n",
    "    est = AdvKernelReisz(kernel=lambda X, Y=None: prod_kernel(X, Y=Y, gamma=1.0/X.shape[1]), regm='auto', regl='auto')\n",
    "    reg = est.opt_reg(X)\n",
    "    print(est.scores_)\n",
    "    print(reg)\n",
    "    return lambda: AdvKernelReisz(kernel=lambda X, Y=None: prod_kernel(X, Y=Y, gamma=1.0/X.shape[1]), regm=6*reg, regl=reg)\n",
    "\n",
    "\n",
    "\n",
    "from advreisz.kernel import NystromKernelReisz\n",
    "from utilities import AutoKernel, prod_kernel\n",
    "\n",
    "# kernel_fn = lambda: KernelReisz(kernel=AutoKernel(type='var'), regl=6e-2)\n",
    "\n",
    "def get_nyskernel_fn(X):\n",
    "    est = NystromKernelReisz(kernel=lambda X, Y=None: prod_kernel(X, Y=Y, gamma=1.0/X.shape[1]),\n",
    "                             regl='auto', n_components=100, random_state=123)\n",
    "    reg = est.opt_reg(X)\n",
    "    print(est.scores_)\n",
    "    print(reg)\n",
    "    return lambda: NystromKernelReisz(kernel=lambda X, Y=None: prod_kernel(X, Y=Y, gamma=1.0/X.shape[1]),\n",
    "                                      regl=reg, n_components=100, random_state=123)\n",
    "\n",
    "\n",
    "\n",
    "from advreisz.kernel import KernelReisz\n",
    "from utilities import AutoKernel, prod_kernel\n",
    "\n",
    "# kernel_fn = lambda: KernelReisz(kernel=AutoKernel(type='var'), regl=6e-2)\n",
    "\n",
    "def get_kernel_fn(X):\n",
    "    est = KernelReisz(kernel=lambda X, Y=None: prod_kernel(X, Y=Y, gamma=1.0/X.shape[1]), regl='auto')\n",
    "    reg = est.opt_reg(X)\n",
    "    print(est.scores_)\n",
    "    print(reg)\n",
    "    return lambda: KernelReisz(kernel=lambda X, Y=None: prod_kernel(X, Y=Y, gamma=1.0/X.shape[1]), regl=reg)\n",
    "\n",
    "\n",
    "\n",
    "from utilities import PluginRR2\n",
    "\n",
    "def get_lg_plugin_fn(X):\n",
    "    clf = LogisticRegressionCV(cv=3, max_iter=10000, random_state=123)\n",
    "    C_ = clf.fit(X[:, 1:], X[:, 0]).C_[0]\n",
    "    return lambda: PluginRR2(model_t=LogisticRegression(C=C_, max_iter=10000, random_state=123),\n",
    "                            min_propensity=0)\n",
    "\n",
    "\n",
    "def get_rf_plugin_fn(X):\n",
    "    gcv = GridSearchCV(RandomForestClassifier(bootstrap=True, random_state=123),\n",
    "                       param_grid={'max_depth': [3, None],\n",
    "                                   'min_samples_leaf': [10, 50]},\n",
    "                       scoring='r2',\n",
    "                       cv=5)\n",
    "    best_model = clone(gcv.fit(X[:, 1:], X[:, 0]).best_estimator_)\n",
    "    return lambda: PluginRR2(model_t=best_model, min_propensity=0)\n",
    "\n",
    "\n",
    "\n",
    "from utilities import FitParamsWrapper\n",
    "from advreisz.deepreisz import AdvReisz\n",
    "\n",
    "\n",
    "device = None #torch.cuda.current_device() if torch.cuda.is_available() else None\n",
    "\n",
    "# Returns a deep model for the reisz representer\n",
    "def get_learner(n_t, n_hidden, p):\n",
    "    return nn.Sequential(nn.Dropout(p=p), nn.Linear(n_t, n_hidden), nn.LeakyReLU(),\n",
    "                         nn.Dropout(p=p), nn.Linear(n_hidden, n_hidden), nn.LeakyReLU(),\n",
    "                         nn.Dropout(p=p), nn.Linear(n_hidden, 1))\n",
    "\n",
    "# Returns a deep model for the test functions\n",
    "def get_adversary(n_z, n_hidden, p):\n",
    "    return nn.Sequential(nn.Dropout(p=p), nn.Linear(n_z, n_hidden), nn.ReLU(),\n",
    "                         nn.Dropout(p=p), nn.Linear(n_hidden, n_hidden), nn.ReLU(),\n",
    "                         nn.Dropout(p=p), nn.Linear(n_hidden, 1))\n",
    "\n",
    "print(\"GPU:\", torch.cuda.is_available())\n",
    "\n",
    "def get_agmm_fn(X):\n",
    "    n_hidden = 150\n",
    "    dropout = 0.5\n",
    "    return lambda: FitParamsWrapper(AdvReisz(get_learner(X.shape[1], n_hidden, dropout),  # Edited so that #features in is #cols of X\n",
    "                                             get_adversary(X.shape[1], n_hidden, dropout),\n",
    "                                             moment_fn),\n",
    "                                   val_fr=.2,\n",
    "                                   preprocess_epochs=200,\n",
    "                                   earlystop_rounds=100,\n",
    "                                   store_test_every=20,\n",
    "                                   learner_lr=1e-4, adversary_lr=1e-4,\n",
    "                                   learner_l2=6e-4, adversary_l2=1e-4,\n",
    "                                   n_epochs=1000, bs=100,\n",
    "                                   logger=None, model_dir=str(Path.home()), device=device, verbose=1)"
   ]
  },
  {
   "cell_type": "markdown",
   "metadata": {},
   "source": [
    "# Hyperparameters"
   ]
  },
  {
   "cell_type": "code",
   "execution_count": 28,
   "metadata": {},
   "outputs": [
    {
     "name": "stdout",
     "output_type": "stream",
     "text": [
      "Quintile=0\n"
     ]
    }
   ],
   "source": [
    "import pandas as pd\n",
    "from sklearn.utils.multiclass import type_of_target\n",
    "\n",
    "n_splits = 1\n",
    "res = {}\n",
    "q=0  # Data not split up into quantiles\n",
    "res[f'q={q}'] = {}\n",
    "print(f'Quintile={q}')"
   ]
  },
  {
   "cell_type": "markdown",
   "metadata": {},
   "source": [
    "# Load Data"
   ]
  },
  {
   "cell_type": "code",
   "execution_count": 29,
   "metadata": {},
   "outputs": [
    {
     "ename": "KeyError",
     "evalue": "'out_amountgive'",
     "output_type": "error",
     "traceback": [
      "\u001b[1;31m---------------------------------------------------------------------------\u001b[0m",
      "\u001b[1;31mKeyError\u001b[0m                                  Traceback (most recent call last)",
      "File \u001b[1;32mC:\\ProgramData\\anaconda3\\lib\\site-packages\\pandas\\core\\indexes\\base.py:3802\u001b[0m, in \u001b[0;36mIndex.get_loc\u001b[1;34m(self, key, method, tolerance)\u001b[0m\n\u001b[0;32m   3801\u001b[0m \u001b[38;5;28;01mtry\u001b[39;00m:\n\u001b[1;32m-> 3802\u001b[0m     \u001b[38;5;28;01mreturn\u001b[39;00m \u001b[38;5;28;43mself\u001b[39;49m\u001b[38;5;241;43m.\u001b[39;49m\u001b[43m_engine\u001b[49m\u001b[38;5;241;43m.\u001b[39;49m\u001b[43mget_loc\u001b[49m\u001b[43m(\u001b[49m\u001b[43mcasted_key\u001b[49m\u001b[43m)\u001b[49m\n\u001b[0;32m   3803\u001b[0m \u001b[38;5;28;01mexcept\u001b[39;00m \u001b[38;5;167;01mKeyError\u001b[39;00m \u001b[38;5;28;01mas\u001b[39;00m err:\n",
      "File \u001b[1;32mC:\\ProgramData\\anaconda3\\lib\\site-packages\\pandas\\_libs\\index.pyx:138\u001b[0m, in \u001b[0;36mpandas._libs.index.IndexEngine.get_loc\u001b[1;34m()\u001b[0m\n",
      "File \u001b[1;32mC:\\ProgramData\\anaconda3\\lib\\site-packages\\pandas\\_libs\\index.pyx:165\u001b[0m, in \u001b[0;36mpandas._libs.index.IndexEngine.get_loc\u001b[1;34m()\u001b[0m\n",
      "File \u001b[1;32mpandas\\_libs\\hashtable_class_helper.pxi:5745\u001b[0m, in \u001b[0;36mpandas._libs.hashtable.PyObjectHashTable.get_item\u001b[1;34m()\u001b[0m\n",
      "File \u001b[1;32mpandas\\_libs\\hashtable_class_helper.pxi:5753\u001b[0m, in \u001b[0;36mpandas._libs.hashtable.PyObjectHashTable.get_item\u001b[1;34m()\u001b[0m\n",
      "\u001b[1;31mKeyError\u001b[0m: 'out_amountgive'",
      "\nThe above exception was the direct cause of the following exception:\n",
      "\u001b[1;31mKeyError\u001b[0m                                  Traceback (most recent call last)",
      "Cell \u001b[1;32mIn[29], line 13\u001b[0m\n\u001b[0;32m     10\u001b[0m \u001b[38;5;66;03m# state50one just tags one (arbitrary?) observation for each state\u001b[39;00m\n\u001b[0;32m     11\u001b[0m \u001b[38;5;66;03m# blue0 and red0 and perfectly collinear (when all variables are nonmissing); bluecty and redcty are not\u001b[39;00m\n\u001b[0;32m     12\u001b[0m df \u001b[38;5;241m=\u001b[39m df\u001b[38;5;241m.\u001b[39mdropna()\n\u001b[1;32m---> 13\u001b[0m y \u001b[38;5;241m=\u001b[39m \u001b[43mdf\u001b[49m\u001b[43m[\u001b[49m\u001b[38;5;124;43m'\u001b[39;49m\u001b[38;5;124;43mout_amountgive\u001b[39;49m\u001b[38;5;124;43m'\u001b[39;49m\u001b[43m]\u001b[49m\u001b[38;5;241m.\u001b[39mvalues\n\u001b[0;32m     14\u001b[0m X \u001b[38;5;241m=\u001b[39m df[[\u001b[38;5;124m'\u001b[39m\u001b[38;5;124mtreatment\u001b[39m\u001b[38;5;124m'\u001b[39m, \u001b[38;5;124m'\u001b[39m\u001b[38;5;124mred0\u001b[39m\u001b[38;5;124m'\u001b[39m,\n\u001b[0;32m     15\u001b[0m         \u001b[38;5;124m'\u001b[39m\u001b[38;5;124mhpa\u001b[39m\u001b[38;5;124m'\u001b[39m, \u001b[38;5;124m'\u001b[39m\u001b[38;5;124myear5\u001b[39m\u001b[38;5;124m'\u001b[39m, \u001b[38;5;124m'\u001b[39m\u001b[38;5;124mdormant\u001b[39m\u001b[38;5;124m'\u001b[39m, \u001b[38;5;124m'\u001b[39m\u001b[38;5;124mnonlit\u001b[39m\u001b[38;5;124m'\u001b[39m, \u001b[38;5;124m'\u001b[39m\u001b[38;5;124mcases\u001b[39m\u001b[38;5;124m'\u001b[39m, \u001b[38;5;124m'\u001b[39m\u001b[38;5;124mperbush\u001b[39m\u001b[38;5;124m'\u001b[39m, \u001b[38;5;124m'\u001b[39m\u001b[38;5;124mredcty\u001b[39m\u001b[38;5;124m'\u001b[39m, \u001b[38;5;124m'\u001b[39m\u001b[38;5;124mbluecty\u001b[39m\u001b[38;5;124m'\u001b[39m,\n\u001b[0;32m     16\u001b[0m         \u001b[38;5;124m'\u001b[39m\u001b[38;5;124mpwhite\u001b[39m\u001b[38;5;124m'\u001b[39m, \u001b[38;5;124m'\u001b[39m\u001b[38;5;124mpblack\u001b[39m\u001b[38;5;124m'\u001b[39m, \u001b[38;5;124m'\u001b[39m\u001b[38;5;124mpage18_39\u001b[39m\u001b[38;5;124m'\u001b[39m, \u001b[38;5;124m'\u001b[39m\u001b[38;5;124mave_hh_sz\u001b[39m\u001b[38;5;124m'\u001b[39m, \u001b[38;5;124m'\u001b[39m\u001b[38;5;124mmedian_hhincome\u001b[39m\u001b[38;5;124m'\u001b[39m, \u001b[38;5;124m'\u001b[39m\u001b[38;5;124mpowner\u001b[39m\u001b[38;5;124m'\u001b[39m, \u001b[38;5;124m'\u001b[39m\u001b[38;5;124mpsch_atlstba\u001b[39m\u001b[38;5;124m'\u001b[39m, \u001b[38;5;124m'\u001b[39m\u001b[38;5;124mpop_propurban\u001b[39m\u001b[38;5;124m'\u001b[39m]]\n",
      "File \u001b[1;32mC:\\ProgramData\\anaconda3\\lib\\site-packages\\pandas\\core\\frame.py:3807\u001b[0m, in \u001b[0;36mDataFrame.__getitem__\u001b[1;34m(self, key)\u001b[0m\n\u001b[0;32m   3805\u001b[0m \u001b[38;5;28;01mif\u001b[39;00m \u001b[38;5;28mself\u001b[39m\u001b[38;5;241m.\u001b[39mcolumns\u001b[38;5;241m.\u001b[39mnlevels \u001b[38;5;241m>\u001b[39m \u001b[38;5;241m1\u001b[39m:\n\u001b[0;32m   3806\u001b[0m     \u001b[38;5;28;01mreturn\u001b[39;00m \u001b[38;5;28mself\u001b[39m\u001b[38;5;241m.\u001b[39m_getitem_multilevel(key)\n\u001b[1;32m-> 3807\u001b[0m indexer \u001b[38;5;241m=\u001b[39m \u001b[38;5;28;43mself\u001b[39;49m\u001b[38;5;241;43m.\u001b[39;49m\u001b[43mcolumns\u001b[49m\u001b[38;5;241;43m.\u001b[39;49m\u001b[43mget_loc\u001b[49m\u001b[43m(\u001b[49m\u001b[43mkey\u001b[49m\u001b[43m)\u001b[49m\n\u001b[0;32m   3808\u001b[0m \u001b[38;5;28;01mif\u001b[39;00m is_integer(indexer):\n\u001b[0;32m   3809\u001b[0m     indexer \u001b[38;5;241m=\u001b[39m [indexer]\n",
      "File \u001b[1;32mC:\\ProgramData\\anaconda3\\lib\\site-packages\\pandas\\core\\indexes\\base.py:3804\u001b[0m, in \u001b[0;36mIndex.get_loc\u001b[1;34m(self, key, method, tolerance)\u001b[0m\n\u001b[0;32m   3802\u001b[0m     \u001b[38;5;28;01mreturn\u001b[39;00m \u001b[38;5;28mself\u001b[39m\u001b[38;5;241m.\u001b[39m_engine\u001b[38;5;241m.\u001b[39mget_loc(casted_key)\n\u001b[0;32m   3803\u001b[0m \u001b[38;5;28;01mexcept\u001b[39;00m \u001b[38;5;167;01mKeyError\u001b[39;00m \u001b[38;5;28;01mas\u001b[39;00m err:\n\u001b[1;32m-> 3804\u001b[0m     \u001b[38;5;28;01mraise\u001b[39;00m \u001b[38;5;167;01mKeyError\u001b[39;00m(key) \u001b[38;5;28;01mfrom\u001b[39;00m \u001b[38;5;21;01merr\u001b[39;00m\n\u001b[0;32m   3805\u001b[0m \u001b[38;5;28;01mexcept\u001b[39;00m \u001b[38;5;167;01mTypeError\u001b[39;00m:\n\u001b[0;32m   3806\u001b[0m     \u001b[38;5;66;03m# If we have a listlike key, _check_indexing_error will raise\u001b[39;00m\n\u001b[0;32m   3807\u001b[0m     \u001b[38;5;66;03m#  InvalidIndexError. Otherwise we fall through and re-raise\u001b[39;00m\n\u001b[0;32m   3808\u001b[0m     \u001b[38;5;66;03m#  the TypeError.\u001b[39;00m\n\u001b[0;32m   3809\u001b[0m     \u001b[38;5;28mself\u001b[39m\u001b[38;5;241m.\u001b[39m_check_indexing_error(key)\n",
      "\u001b[1;31mKeyError\u001b[0m: 'out_amountgive'"
     ]
    }
   ],
   "source": [
    "# get data\n",
    "# df = pd.read_stata('../charitable_giving/Replication/AER merged.dta', convert_categoricals=False)\n",
    "df = pd.read_stata('https://github.com/gsbDBI/ExperimentData/raw/master/Charitable/RawData/AER%20merged.dta',\n",
    "                   convert_categoricals=False)\n",
    "df = df.loc[(df['ratio'] == 0) | (df['ratio'] == 1)]\n",
    "df = df.drop(['control', 'ratio', 'ratio2', 'ratio3',\n",
    "            'size', 'size25', 'size50', 'size100', 'sizeno',\n",
    "            'ask', 'askd1', 'askd2', 'askd3', 'ask1', 'ask2', 'ask3',\n",
    "            'gave', 'amountchange', 'state50one', 'blue0'], axis=1)\n",
    "# state50one just tags one (arbitrary?) observation for each state\n",
    "# blue0 and red0 and perfectly collinear (when all variables are nonmissing); bluecty and redcty are not\n",
    "df = df.dropna()\n",
    "y = df['out_amountgive'].values\n",
    "X = df[['treatment', 'red0',\n",
    "        'hpa', 'year5', 'dormant', 'nonlit', 'cases', 'perbush', 'redcty', 'bluecty',\n",
    "        'pwhite', 'pblack', 'page18_39', 'ave_hh_sz', 'median_hhincome', 'powner', 'psch_atlstba', 'pop_propurban']].values\n",
    "\n",
    "# df = pd.read_stata('../charitable_giving/Replication/AER merged.dta', convert_categoricals=False)\n",
    "# df = df.loc[(df['ratio'] == 0) | (df['ratio'] == 1)]\n",
    "# df = df.drop(['control', 'ratio', 'ratio2', 'ratio3',\n",
    "#             'size', 'size25', 'size50', 'size100', 'sizeno',\n",
    "#             'ask', 'askd1', 'askd2', 'askd3', 'ask1', 'ask2', 'ask3',\n",
    "#             'gave', 'amountchange', 'state50one', 'blue0'], axis=1)\n",
    "# # state50one just tags one (arbitrary?) observation for each state\n",
    "# # blue0 and red0 and perfectly collinear (when all variables are nonmissing); bluecty and redcty are not\n",
    "# df = df.dropna()\n",
    "# y = df['amount'].values\n",
    "# X = df[['treatment', 'red0',\n",
    "#         'hpa', 'year5', 'dormant', 'nonlit', 'cases', 'perbush', 'redcty', 'bluecty',\n",
    "#         'pwhite', 'pblack', 'page18_39', 'ave_hh_sz', 'median_hhincome', 'powner', 'psch_atlstba', 'pop_propurban']].values"
   ]
  },
  {
   "cell_type": "code",
   "execution_count": null,
   "metadata": {},
   "outputs": [],
   "source": [
    "# scale non-binary variables\n",
    "y = y.astype(np.double)\n",
    "X = X.astype(np.double)\n",
    "idx_nonbi = [i for i in range(2, X.shape[1]) if type_of_target(X[:, i]) != 'binary']  # indices of non-binary variables (first and second columns should be binary)\n",
    "X[:, idx_nonbi] = StandardScaler().fit_transform(X[:, idx_nonbi])\n",
    "y_scale = np.std(y)\n",
    "y = y / y_scale\n",
    "\n",
    "# shuffle data\n",
    "inds = np.arange(X.shape[0])\n",
    "np.random.seed(123)\n",
    "np.random.shuffle(inds)\n",
    "X, y = X[inds].copy(), y[inds].copy()\n",
    "\n",
    "# # filter extreme party and treatment propensities\n",
    "# clf_party = LogisticRegressionCV(cv=5, max_iter=10000, random_state=123).fit(X[:, 2:], X[:, 1])\n",
    "# clf_treat = LogisticRegressionCV(cv=5, max_iter=10000, random_state=123).fit(X[:, 1:], X[:, 0])\n",
    "# prop_party = clf_party.predict_proba(X[:, 2:])\n",
    "# prop_treat = clf_treat.predict_proba(X[:, 1:])\n",
    "# filt = (prop_party[:, 1] <= .9) & (prop_party[:, 1] >= .1) & (prop_treat[:, 1] <= .9) & (prop_treat[:, 1] >= .1)\n",
    "# print(X.shape[0], np.sum(filt))\n",
    "# X, y = X[filt], y[filt]"
   ]
  },
  {
   "cell_type": "markdown",
   "metadata": {},
   "source": [
    "# Adversarial RF"
   ]
  },
  {
   "cell_type": "code",
   "execution_count": null,
   "metadata": {},
   "outputs": [],
   "source": [
    "from advreisz.ensemble import AdvEnsembleReisz, RFrr, interactive_poly_feature_fns\n",
    "def get_rf_fn(X):\n",
    "    return lambda: AdvEnsembleReisz(moment_fn=moment_fn, \n",
    "                                    n_treatments=2,\n",
    "                                    max_abs_value=15,\n",
    "                                    n_iter=100, degree=1)\n",
    "\n",
    "est = DebiasedMoment(moment_fn=moment_fn,\n",
    "                     get_reisz_fn=get_rf_fn,\n",
    "                     get_reg_fn=get_reg_fn, n_splits=1)\n",
    "est.fit(X, y)\n",
    "p, s, l, u = est.avg_moment()\n",
    "{'point': p * y_scale, 'stderr': s * y_scale, 'lower': l * y_scale, 'upper': u * y_scale}"
   ]
  },
  {
   "cell_type": "markdown",
   "metadata": {},
   "source": [
    "# Test Adversarial RF on 401k Data"
   ]
  },
  {
   "cell_type": "code",
   "execution_count": 30,
   "metadata": {},
   "outputs": [
    {
     "name": "stdout",
     "output_type": "stream",
     "text": [
      "9848 9804\n"
     ]
    },
    {
     "data": {
      "text/plain": [
       "{'point': 7489.894500144199,\n",
       " 'stderr': 1116.3064149611787,\n",
       " 'lower': 5301.703958403848,\n",
       " 'upper': 9678.085041884551}"
      ]
     },
     "execution_count": 30,
     "metadata": {},
     "output_type": "execute_result"
    }
   ],
   "source": [
    "import pandas as pd\n",
    "def moment_fn(x, test_fn):\n",
    "    n_obs = x.shape[0]\n",
    "    t1 = np.hstack([np.ones((n_obs, 1)), x[:, 1:]])\n",
    "    t0 = np.hstack([np.zeros((n_obs, 1)), x[:, 1:]])\n",
    "    return test_fn(t1) - test_fn(t0)\n",
    "\n",
    "def get_rf_fn(X):\n",
    "    return lambda: AdvEnsembleReisz(moment_fn=moment_fn,\n",
    "                                    n_treatments=1,\n",
    "                                    max_abs_value=15,\n",
    "                                    degree=1)\n",
    "\n",
    "# from advreisz.ensemble import AdvEnsembleReisz\n",
    "\n",
    "# def get_rf_fn(X):\n",
    "#     return lambda: AdvEnsembleReisz(moment_fn=moment_fn, max_abs_value=15, degree=1)\n",
    "\n",
    "df = pd.read_csv(f'401k/quintile0_trimmed.csv', index_col=0)\n",
    "y = df['Y'].values\n",
    "X = df[['D'] + [f'X{i}' for i in np.arange(1, 10)]].values\n",
    "\n",
    "# scale data\n",
    "y = y.astype(np.double)\n",
    "X = X.astype(np.double)\n",
    "X[:, 1:5] = StandardScaler().fit_transform(X[:, 1:5])\n",
    "y_scale = np.std(y)\n",
    "y = y / y_scale\n",
    "\n",
    "# shuffle data\n",
    "inds = np.arange(X.shape[0])\n",
    "np.random.seed(123)\n",
    "np.random.shuffle(inds)\n",
    "X, y = X[inds].copy(), y[inds].copy()\n",
    "\n",
    "# filter extrement propensities\n",
    "clf = LogisticRegressionCV(cv=5, max_iter=10000, random_state=123).fit(X[:, 1:], X[:, 0])\n",
    "prop = clf.predict_proba(X[:, 1:])\n",
    "filt = (prop[:, 1] <= .9) & (prop[:, 1] >= .1)\n",
    "print(X.shape[0], np.sum(filt))\n",
    "X, y = X[filt], y[filt]\n",
    "\n",
    "est = DebiasedMoment(moment_fn=moment_fn,\n",
    "                     get_reisz_fn=get_rf_fn,\n",
    "                     get_reg_fn=get_reg_fn, n_splits=1)\n",
    "est.fit(X, y)\n",
    "p, s, l, u = est.avg_moment()\n",
    "{'point': p * y_scale, 'stderr': s * y_scale, 'lower': l * y_scale, 'upper': u * y_scale}"
   ]
  },
  {
   "cell_type": "markdown",
   "metadata": {},
   "source": [
    "END"
   ]
  },
  {
   "cell_type": "code",
   "execution_count": 101,
   "metadata": {},
   "outputs": [
    {
     "name": "stdout",
     "output_type": "stream",
     "text": [
      "Quintile=0\n",
      "[0. 0. 0. 0. 0. 0. 0. 0. 0. 0. 0. 0. 0. 0. 0. 0. 0. 0. 0. 0. 0.]\n",
      "{'advrf': {'point': 3.3248490443262977e-11, 'stderr': 7959.031235195162, 'lower': -15601.340847688041, 'upper': 15601.340847688109}, 'advrf_tmle': {'point': 9.23569178979527e-12, 'stderr': 7959.031235195162, 'lower': -15601.340847688067, 'upper': 15601.340847688083}}\n"
     ]
    }
   ],
   "source": [
    "n_splits = 1\n",
    "res = {}\n",
    "q=0  # Data not split up into quantiles\n",
    "res[f'q={q}'] = {}\n",
    "print(f'Quintile={q}')\n",
    "\n",
    "for name, get_reisz_fn in [\n",
    "                            # ('splin', get_splin_fn),\n",
    "                            # ('advrkhs', get_advkernel_fn),\n",
    "                            # # ('rkhs', get_kernel_fn),\n",
    "                            # ('nys_advrkhs', get_advnyskernel_fn),\n",
    "                            # # ('nys_rkhs', get_nyskernel_fn),\n",
    "                            # ('plugin_lg', get_lg_plugin_fn),\n",
    "                            # ('plugin_rf', get_rf_plugin_fn),\n",
    "                            # ('advnnet', get_agmm_fn),\n",
    "                            ('advrf', get_rf_fn)\n",
    "                            ]:\n",
    "    est = DebiasedMoment(moment_fn=moment_fn,\n",
    "                            get_reisz_fn=get_reisz_fn,\n",
    "                            get_reg_fn=get_reg_fn, n_splits=n_splits)\n",
    "    est.fit(X, y)\n",
    "    p, s, l, u = est.avg_moment()\n",
    "    res[f'q={q}'][name] = {'point': p * y_scale, 'stderr': s * y_scale,\n",
    "                            'lower': l * y_scale, 'upper': u * y_scale}\n",
    "    p, s, l, u = est.avg_moment(tmle=True)\n",
    "    res[f'q={q}'][f'{name}_tmle'] = {'point': p * y_scale, 'stderr': s * y_scale,\n",
    "                                        'lower': l * y_scale, 'upper': u * y_scale}\n",
    "\n",
    "print(res[f'q={q}'])\n",
    "res[f'q={q}'] = pd.DataFrame(res[f'q={q}']).transpose()\n",
    "res = pd.concat(res)"
   ]
  }
 ],
 "metadata": {
  "kernelspec": {
   "display_name": "Python 3 (ipykernel)",
   "language": "python",
   "name": "python3"
  },
  "language_info": {
   "codemirror_mode": {
    "name": "ipython",
    "version": 3
   },
   "file_extension": ".py",
   "mimetype": "text/x-python",
   "name": "python",
   "nbconvert_exporter": "python",
   "pygments_lexer": "ipython3",
   "version": "3.10.9"
  }
 },
 "nbformat": 4,
 "nbformat_minor": 2
}
