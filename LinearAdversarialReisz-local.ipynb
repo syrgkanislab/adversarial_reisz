{
 "cells": [
  {
   "cell_type": "code",
   "execution_count": 1,
   "metadata": {
    "executionInfo": {
     "elapsed": 449,
     "status": "ok",
     "timestamp": 1630420740405,
     "user": {
      "displayName": "Vasilis Syrganis",
      "photoUrl": "https://lh3.googleusercontent.com/a-/AOh14GjxUYeW9b7fysN1nK65PWILriYGqqfmpUsWgLP7ZA=s64",
      "userId": "00968929417250286436"
     },
     "user_tz": 240
    },
    "id": "3GI2xO1cpb2S"
   },
   "outputs": [],
   "source": [
    "%load_ext autoreload\n",
    "%autoreload 2\n",
    "%load_ext tensorboard\n",
    "%matplotlib inline"
   ]
  },
  {
   "cell_type": "markdown",
   "metadata": {
    "id": "BuoLBhVCsZH4"
   },
   "source": [
    "# Mounting and Installation of Package: Only on Google Colab"
   ]
  },
  {
   "cell_type": "markdown",
   "metadata": {
    "id": "Zkt0n-eFpb2X"
   },
   "source": [
    "# Library Imports"
   ]
  },
  {
   "cell_type": "code",
   "execution_count": 2,
   "metadata": {
    "executionInfo": {
     "elapsed": 5,
     "status": "ok",
     "timestamp": 1630420773792,
     "user": {
      "displayName": "Vasilis Syrganis",
      "photoUrl": "https://lh3.googleusercontent.com/a-/AOh14GjxUYeW9b7fysN1nK65PWILriYGqqfmpUsWgLP7ZA=s64",
      "userId": "00968929417250286436"
     },
     "user_tz": 240
    },
    "id": "Tb0UNXId8Sbh"
   },
   "outputs": [],
   "source": [
    "import numpy as np\n",
    "from pathlib import Path\n",
    "import matplotlib.pyplot as plt\n",
    "import scipy\n",
    "import scipy.special"
   ]
  },
  {
   "cell_type": "markdown",
   "metadata": {
    "id": "u-OfQSQislV8"
   },
   "source": [
    "# Data Generation\n",
    "\n",
    "Data are generated as:\n",
    "\\begin{align}\n",
    "x[1:] \\sim~& U[-1, 1]^{d-1}\\\\\n",
    "x[0] \\sim~& Binomial(1, .5 + .3 \\cdot g(x))\\\\\n",
    "y \\sim~& x[0] + g(x) + N(0, 1)\n",
    "\\end{align}\n",
    "We consider several non-linear functions $g$. We then want to learn some average moment $E[m(x, y; f)]$ of the regression function \n",
    "\\begin{equation}\n",
    "f(x) = E[y\\mid x] = x[0] + g(x).\n",
    "\\end{equation}"
   ]
  },
  {
   "cell_type": "code",
   "execution_count": 3,
   "metadata": {
    "executionInfo": {
     "elapsed": 295,
     "status": "ok",
     "timestamp": 1630420822494,
     "user": {
      "displayName": "Vasilis Syrganis",
      "photoUrl": "https://lh3.googleusercontent.com/a-/AOh14GjxUYeW9b7fysN1nK65PWILriYGqqfmpUsWgLP7ZA=s64",
      "userId": "00968929417250286436"
     },
     "user_tz": 240
    },
    "id": "4Ry4CsWaP_LB"
   },
   "outputs": [],
   "source": [
    "def nonlin(x):\n",
    "    # return 1.5 * (x[:, 1]**2)\n",
    "    # return x[:, 1]\n",
    "    # return scipy.special.expit(10 * x[:, 1])\n",
    "    return np.abs(x[:, 1])\n",
    "    # return 1.5*scipy.special.expit(10 * x[:, 1]) - 1.5*scipy.special.expit(10 * x[:, 2])\n",
    "\n",
    "def true_propensity(X):\n",
    "    return .5 + .3 * nonlin(X)\n",
    "\n",
    "def true_f(X):\n",
    "    return X[:, 0] + nonlin(X)\n",
    "\n",
    "def gen_data(n, p, treatment='binary'):\n",
    "    X = np.random.uniform(-1, 1, size=(n, p))\n",
    "    if treatment == 'binary':\n",
    "        X[:, 0] = np.random.binomial(1, true_propensity(X))\n",
    "    else:\n",
    "        X[:, 0] = true_propensity(X) + np.random.normal(size=(n,))\n",
    "    y = true_f(X) + np.random.normal(size=(n,))\n",
    "    return X, y\n",
    "\n",
    "np.random.seed(123)\n",
    "treatment = 'binary'\n",
    "# treatment = 'continuous'\n",
    "n = 2000\n",
    "p = 10\n",
    "X, y = gen_data(n, p, treatment)\n",
    "X_test, y_test = gen_data(n, p, treatment)"
   ]
  },
  {
   "cell_type": "markdown",
   "metadata": {
    "id": "9gaqhe2Qpb2Y"
   },
   "source": [
    "# Moment Definition"
   ]
  },
  {
   "cell_type": "markdown",
   "metadata": {
    "id": "qPgHKc9dpb2Z"
   },
   "source": [
    "### ATE Moment"
   ]
  },
  {
   "cell_type": "code",
   "execution_count": 4,
   "metadata": {
    "executionInfo": {
     "elapsed": 276,
     "status": "ok",
     "timestamp": 1630420829177,
     "user": {
      "displayName": "Vasilis Syrganis",
      "photoUrl": "https://lh3.googleusercontent.com/a-/AOh14GjxUYeW9b7fysN1nK65PWILriYGqqfmpUsWgLP7ZA=s64",
      "userId": "00968929417250286436"
     },
     "user_tz": 240
    },
    "id": "iqJRxQnhpb2Z"
   },
   "outputs": [],
   "source": [
    "def moment_fn(x, test_fn):\n",
    "    t1 = test_fn(np.hstack([np.ones((x.shape[0], 1)), x[:, 1:]]))\n",
    "    t0 = test_fn(np.hstack([np.zeros((x.shape[0], 1)), x[:, 1:]]))\n",
    "    return t1 - t0\n",
    "\n",
    "def true_reisz(x, propensity):\n",
    "    return (x[:, 0]==1) / propensity(x) - (x[:, 0]==0)/(1 - propensity(x))"
   ]
  },
  {
   "cell_type": "markdown",
   "metadata": {
    "id": "OyyUh4xypb2Z"
   },
   "source": [
    "### Policy Moment"
   ]
  },
  {
   "cell_type": "code",
   "execution_count": 8,
   "metadata": {
    "executionInfo": {
     "elapsed": 289,
     "status": "ok",
     "timestamp": 1630420824517,
     "user": {
      "displayName": "Vasilis Syrganis",
      "photoUrl": "https://lh3.googleusercontent.com/a-/AOh14GjxUYeW9b7fysN1nK65PWILriYGqqfmpUsWgLP7ZA=s64",
      "userId": "00968929417250286436"
     },
     "user_tz": 240
    },
    "id": "842bOG_Spb2Z"
   },
   "outputs": [],
   "source": [
    "policy = lambda x: scipy.special.expit(10*x[:, 1])\n",
    "\n",
    "def moment_fn(x, test_fn):\n",
    "    t1 = test_fn(np.hstack([np.ones((x.shape[0], 1)), x[:, 1:]]))\n",
    "    t0 = test_fn(np.hstack([np.zeros((x.shape[0], 1)), x[:, 1:]]))\n",
    "    p1 = policy(x)\n",
    "    if len(t1.shape) > 1:\n",
    "        p1 = p1.reshape(-1, 1)\n",
    "    return t1 * p1 + t0 * (1 - p1) \n",
    "\n",
    "def true_reisz(x, propensity):\n",
    "    p1 = policy(x)\n",
    "    prop1 = propensity(x)\n",
    "    return p1 * (x[:, 0]==1) / prop1 + (1 - p1) * (x[:, 0]==0)/(1 - prop1)"
   ]
  },
  {
   "cell_type": "markdown",
   "metadata": {
    "id": "NM76JG1lpb2a"
   },
   "source": [
    "### X-Transportation"
   ]
  },
  {
   "cell_type": "markdown",
   "metadata": {
    "id": "3nQtY_xGpb2a"
   },
   "source": [
    "The true Reisz is more complex here due to the correlation of T=X[:, 0] and X[:, 1]. We have, let $t=X[:, 0]$ and $x=X[:, 1]$. Then the relevant ratios are:\n",
    "\\begin{align}\n",
    "\\frac{f_{trans}(t, x)}{f(t, x)} = \\frac{Pr[T=t|X=t^{-1}(x)] f(t^{-1}(x)) (t^{-1}(x))'}{Pr[T=t|X=x] f(x)} \n",
    "\\end{align}\n",
    "When $x$ is drawn from the uniform distribution, then the density if constant and the above simplifies to:\n",
    "\\begin{align}\n",
    "\\frac{f_{trans}(t, x)}{f(t, x)}= \\frac{Pr[T=t|X=t^{-1}(x)] (t^{-1}(x))'}{Pr[T=t|X=x]}\n",
    "\\end{align}"
   ]
  },
  {
   "cell_type": "code",
   "execution_count": null,
   "metadata": {
    "id": "rzlp0jmcpb2a"
   },
   "outputs": [],
   "source": [
    "trans = lambda x: (1 + x)**(1/2)/2**(1/2)\n",
    "invtrans = lambda u: 2 * (u**2) - 1\n",
    "grad_invtrans = lambda u: 4 * u\n",
    "\n",
    "def moment_fn(x, test_fn):\n",
    "    tx =  np.hstack([x[:, [0]], trans(x[:, [1]]), x[:, 2:]])\n",
    "    return test_fn(tx) - test_fn(x)\n",
    "\n",
    "def true_reisz(x, propensity=None):\n",
    "    invtx = np.hstack([x[:, [0]], invtrans(x[:, [1]]), x[:, 2:]])\n",
    "    out0 = np.clip(propensity(invtx) * grad_invtrans(x[:, 1]) / propensity(x), 0, np.inf)\n",
    "    out1 = np.clip((1 - propensity(invtx)) * grad_invtrans(x[:, 1]) / (1 - propensity(x)), 0, np.inf)\n",
    "    return out0 * x[:, 0] + out1 * (1 - x[:, 0]) - 1"
   ]
  },
  {
   "cell_type": "markdown",
   "metadata": {
    "id": "7kYbcJCts1BK"
   },
   "source": [
    "# Adversarial Reisz Estimator"
   ]
  },
  {
   "cell_type": "code",
   "execution_count": 57,
   "metadata": {
    "executionInfo": {
     "elapsed": 4050,
     "status": "ok",
     "timestamp": 1630420836401,
     "user": {
      "displayName": "Vasilis Syrganis",
      "photoUrl": "https://lh3.googleusercontent.com/a-/AOh14GjxUYeW9b7fysN1nK65PWILriYGqqfmpUsWgLP7ZA=s64",
      "userId": "00968929417250286436"
     },
     "user_tz": 240
    },
    "id": "AkCdpInLQDNW"
   },
   "outputs": [],
   "source": [
    "from advreisz.linear import SparseLinearAdvRiesz\n",
    "from advreisz.linear.utilities import SeparateFeaturizer, CoordinatePolynomialFeatures"
   ]
  },
  {
   "cell_type": "code",
   "execution_count": 84,
   "metadata": {
    "colab": {
     "base_uri": "https://localhost:8080/"
    },
    "executionInfo": {
     "elapsed": 11250,
     "status": "ok",
     "timestamp": 1630420847630,
     "user": {
      "displayName": "Vasilis Syrganis",
      "photoUrl": "https://lh3.googleusercontent.com/a-/AOh14GjxUYeW9b7fysN1nK65PWILriYGqqfmpUsWgLP7ZA=s64",
      "userId": "00968929417250286436"
     },
     "user_tz": 240
    },
    "id": "nTpVXeQ4pb2b",
    "outputId": "4b4f7cc1-809d-4976-8b2b-ca9acd19c424"
   },
   "outputs": [
    {
     "name": "stderr",
     "output_type": "stream",
     "text": [
      "C:\\Users\\vasy\\Google Drive\\Colab Notebooks\\adversarial_reisz\\advreisz\\linear\\sparse_linear.py:175: UserWarning: Maximum number of iterations reached and duality gap tolerance not achieved. Consider increasing the maximum number of iterations.\n",
      "  warnings.warn(\"Maximum number of iterations reached and duality gap tolerance not achieved. \"\n"
     ]
    }
   ],
   "source": [
    "from sklearn.preprocessing import PolynomialFeatures, StandardScaler\n",
    "from sklearn.kernel_approximation import Nystroem, RBFSampler\n",
    "from sklearn.pipeline import Pipeline\n",
    "\n",
    "# feat = Pipeline([('p', CoordinatePolynomialFeatures(degree=3))])\n",
    "feat = Pipeline([('p', PolynomialFeatures(degree=3, include_bias=False))])\n",
    "# feat = Pipeline([('nys', Nystroem(n_components=100, kernel='rbf', gamma=5, degree=3))])\n",
    "# feat = Pipeline([('nys', RBFSampler(n_components=100, gamma=2))])\n",
    "feat.steps.append(('s', StandardScaler()))\n",
    "feat.steps.append(('cnt', PolynomialFeatures(degree=1, include_bias=True)))\n",
    "# feat = Pipeline([('p', SeparateFeaturizer(feat))])\n",
    "# feat.steps.append(('cnt', PolynomialFeatures(degree=1, include_bias=True)))\n",
    "splin = SparseLinearAdvRiesz(moment_fn, featurizer=feat,\n",
    "                             n_iter=50000, lambda_theta=0.01, B=10,\n",
    "                             tol=0.00001).fit(X)"
   ]
  },
  {
   "cell_type": "code",
   "execution_count": 85,
   "metadata": {
    "colab": {
     "base_uri": "https://localhost:8080/"
    },
    "executionInfo": {
     "elapsed": 330,
     "status": "ok",
     "timestamp": 1630420849268,
     "user": {
      "displayName": "Vasilis Syrganis",
      "photoUrl": "https://lh3.googleusercontent.com/a-/AOh14GjxUYeW9b7fysN1nK65PWILriYGqqfmpUsWgLP7ZA=s64",
      "userId": "00968929417250286436"
     },
     "user_tz": 240
    },
    "id": "uA-2DwOapb2c",
    "outputId": "70aa6ddc-0e5f-43ba-9bb3-9e3a8222cc88"
   },
   "outputs": [
    {
     "name": "stdout",
     "output_type": "stream",
     "text": [
      "Maximum violation:  0.015416993304562806\n",
      "Min/Max:  0.024175023953648657 0.025299242718834658\n",
      "Dualit Gap:  0.0011242187651860011\n",
      "Iters:  100000\n"
     ]
    }
   ],
   "source": [
    "coefs = splin.coef\n",
    "print(\"Maximum violation: \", splin.max_violation_)\n",
    "#print(\"Estimated non-zero coefs: \", np.array(list(zip(splin.get_feature_names(), coefs))))\n",
    "print(\"Min/Max: \", splin.min_response_loss_, splin.max_response_loss_)\n",
    "print(\"Dualit Gap: \", splin.duality_gap_)\n",
    "print(\"Iters: \", splin.n_iters_)"
   ]
  },
  {
   "cell_type": "code",
   "execution_count": 86,
   "metadata": {
    "colab": {
     "base_uri": "https://localhost:8080/",
     "height": 265
    },
    "executionInfo": {
     "elapsed": 431,
     "status": "ok",
     "timestamp": 1630420853095,
     "user": {
      "displayName": "Vasilis Syrganis",
      "photoUrl": "https://lh3.googleusercontent.com/a-/AOh14GjxUYeW9b7fysN1nK65PWILriYGqqfmpUsWgLP7ZA=s64",
      "userId": "00968929417250286436"
     },
     "user_tz": 240
    },
    "id": "NjYK24bkibel",
    "outputId": "7f3430a0-5657-4895-bd50-674e750d8d7f"
   },
   "outputs": [
    {
     "data": {
      "image/png": "[encoded data removed]",
      "text/plain": [
       "<Figure size 432x288 with 1 Axes>"
      ]
     },
     "metadata": {
      "needs_background": "light"
     },
     "output_type": "display_data"
    }
   ],
   "source": [
    "plt.plot(np.log(np.array(splin.duality_gaps)))\n",
    "plt.show()"
   ]
  },
  {
   "cell_type": "code",
   "execution_count": 87,
   "metadata": {
    "colab": {
     "base_uri": "https://localhost:8080/",
     "height": 265
    },
    "executionInfo": {
     "elapsed": 949,
     "status": "ok",
     "timestamp": 1630420855371,
     "user": {
      "displayName": "Vasilis Syrganis",
      "photoUrl": "https://lh3.googleusercontent.com/a-/AOh14GjxUYeW9b7fysN1nK65PWILriYGqqfmpUsWgLP7ZA=s64",
      "userId": "00968929417250286436"
     },
     "user_tz": 240
    },
    "id": "fwbBGTJxpb2d",
    "outputId": "8b6d7dcc-0a03-4867-9ea5-5fc7c031fd9f"
   },
   "outputs": [
    {
     "data": {
      "image/png": "[encoded data removed]",
      "text/plain": [
       "<Figure size 432x288 with 1 Axes>"
      ]
     },
     "metadata": {
      "needs_background": "light"
     },
     "output_type": "display_data"
    }
   ],
   "source": [
    "plt.plot(np.exp(np.array(splin.log_theta_list)))\n",
    "plt.show()"
   ]
  },
  {
   "cell_type": "code",
   "execution_count": 88,
   "metadata": {
    "colab": {
     "base_uri": "https://localhost:8080/",
     "height": 265
    },
    "executionInfo": {
     "elapsed": 686,
     "status": "ok",
     "timestamp": 1630420857186,
     "user": {
      "displayName": "Vasilis Syrganis",
      "photoUrl": "https://lh3.googleusercontent.com/a-/AOh14GjxUYeW9b7fysN1nK65PWILriYGqqfmpUsWgLP7ZA=s64",
      "userId": "00968929417250286436"
     },
     "user_tz": 240
    },
    "id": "mJmQWc8_pb2d",
    "outputId": "2e056178-91f4-486b-86be-043f6f651897"
   },
   "outputs": [
    {
     "data": {
      "image/png": "[encoded data removed]",
      "text/plain": [
       "<Figure size 432x288 with 1 Axes>"
      ]
     },
     "metadata": {
      "needs_background": "light"
     },
     "output_type": "display_data"
    }
   ],
   "source": [
    "plt.plot(np.exp(np.array(splin.log_w_list)))\n",
    "plt.show()"
   ]
  },
  {
   "cell_type": "markdown",
   "metadata": {
    "id": "jsajjNLCpb2d"
   },
   "source": [
    "# Evaluation of Learned Reisz Representer"
   ]
  },
  {
   "cell_type": "code",
   "execution_count": 89,
   "metadata": {
    "colab": {
     "base_uri": "https://localhost:8080/",
     "height": 279
    },
    "executionInfo": {
     "elapsed": 330,
     "status": "ok",
     "timestamp": 1630420861542,
     "user": {
      "displayName": "Vasilis Syrganis",
      "photoUrl": "https://lh3.googleusercontent.com/a-/AOh14GjxUYeW9b7fysN1nK65PWILriYGqqfmpUsWgLP7ZA=s64",
      "userId": "00968929417250286436"
     },
     "user_tz": 240
    },
    "id": "z7ixyp4Cpb2e",
    "outputId": "ab0d2421-d990-4824-992b-90add70dd84c"
   },
   "outputs": [
    {
     "data": {
      "image/png": "[encoded data removed]",
      "text/plain": [
       "<Figure size 432x288 with 1 Axes>"
      ]
     },
     "metadata": {
      "needs_background": "light"
     },
     "output_type": "display_data"
    }
   ],
   "source": [
    "if treatment == 'binary': \n",
    "    plt.figure()\n",
    "    treated = (X_test[:, 0] == 1)\n",
    "    plt.scatter(true_reisz(X_test[treated], true_propensity), splin.predict(X_test[treated]))\n",
    "    plt.xlabel('true reisz')\n",
    "    plt.ylabel('estimated reisz')\n",
    "    plt.show()"
   ]
  },
  {
   "cell_type": "code",
   "execution_count": 90,
   "metadata": {
    "colab": {
     "base_uri": "https://localhost:8080/",
     "height": 320
    },
    "executionInfo": {
     "elapsed": 952,
     "status": "ok",
     "timestamp": 1630420863855,
     "user": {
      "displayName": "Vasilis Syrganis",
      "photoUrl": "https://lh3.googleusercontent.com/a-/AOh14GjxUYeW9b7fysN1nK65PWILriYGqqfmpUsWgLP7ZA=s64",
      "userId": "00968929417250286436"
     },
     "user_tz": 240
    },
    "id": "-yATInEopb2e",
    "outputId": "5e53ab76-fc2e-47cc-dce8-7f5e89e822ee"
   },
   "outputs": [
    {
     "data": {
      "image/png": "[encoded data removed]",
      "text/plain": [
       "<Figure size 1080x360 with 2 Axes>"
      ]
     },
     "metadata": {
      "needs_background": "light"
     },
     "output_type": "display_data"
    }
   ],
   "source": [
    "if treatment == 'binary': \n",
    "    plt.figure(figsize=(15, 5))\n",
    "    error = true_reisz(X_test, true_propensity) - splin.predict(X_test)\n",
    "    plt.title(\"RMSE: {:.3f}, MAE: {:.3f}\".format(np.sqrt(np.mean(error**2)), np.mean(np.abs(error))))\n",
    "    for t in [0, 1]:\n",
    "        plt.subplot(1, 2, t + 1)\n",
    "        treated = (X_test[:, 0] == t)\n",
    "        Xtreated = X_test[treated].copy()\n",
    "        Xtreated[:, 1] = np.linspace(-1, 1, Xtreated.shape[0])\n",
    "        plt.plot(Xtreated[:, 1], splin.predict(Xtreated), label='est a({}, X)'.format(t))\n",
    "        plt.plot(Xtreated[:, 1], true_reisz(Xtreated, true_propensity), label='true a({}, X)'.format(t))\n",
    "        plt.legend()\n",
    "    plt.show()"
   ]
  },
  {
   "cell_type": "markdown",
   "metadata": {
    "id": "EFhw2VFHpb2e"
   },
   "source": [
    "# Debiased Average Moment Estimate\n",
    "\n",
    "Applying the learned Reisz representer in order to debias a preliminary regression based model of the ATE"
   ]
  },
  {
   "cell_type": "code",
   "execution_count": 91,
   "metadata": {
    "executionInfo": {
     "elapsed": 266,
     "status": "ok",
     "timestamp": 1630420877470,
     "user": {
      "displayName": "Vasilis Syrganis",
      "photoUrl": "https://lh3.googleusercontent.com/a-/AOh14GjxUYeW9b7fysN1nK65PWILriYGqqfmpUsWgLP7ZA=s64",
      "userId": "00968929417250286436"
     },
     "user_tz": 240
    },
    "id": "6sXm0j6-pb2e"
   },
   "outputs": [],
   "source": [
    "def mean_ci(data, confidence=0.95):\n",
    "    a = 1.0 * np.array(data)\n",
    "    n = len(a)\n",
    "    m, se = np.mean(a), scipy.stats.sem(a)\n",
    "    h = se * scipy.stats.t.ppf((1 + confidence) / 2., n-1)\n",
    "    return m, m-h, m+h"
   ]
  },
  {
   "cell_type": "code",
   "execution_count": 92,
   "metadata": {
    "executionInfo": {
     "elapsed": 4,
     "status": "ok",
     "timestamp": 1630420878623,
     "user": {
      "displayName": "Vasilis Syrganis",
      "photoUrl": "https://lh3.googleusercontent.com/a-/AOh14GjxUYeW9b7fysN1nK65PWILriYGqqfmpUsWgLP7ZA=s64",
      "userId": "00968929417250286436"
     },
     "user_tz": 240
    },
    "id": "VrykX601pb2f"
   },
   "outputs": [],
   "source": [
    "from sklearn.linear_model import LassoCV, Lasso, LogisticRegressionCV\n",
    "from sklearn.pipeline import Pipeline\n",
    "\n",
    "est = Pipeline([('p', PolynomialFeatures(degree=1)), ('l', Lasso(alpha=.1))]).fit(X, y)\n",
    "if treatment == 'binary':\n",
    "    propensity = Pipeline([('p', PolynomialFeatures(degree=1)), ('l', LogisticRegressionCV())]).fit(X[:, 1:], X[:, 0])"
   ]
  },
  {
   "cell_type": "code",
   "execution_count": 93,
   "metadata": {
    "executionInfo": {
     "elapsed": 4,
     "status": "ok",
     "timestamp": 1630420879433,
     "user": {
      "displayName": "Vasilis Syrganis",
      "photoUrl": "https://lh3.googleusercontent.com/a-/AOh14GjxUYeW9b7fysN1nK65PWILriYGqqfmpUsWgLP7ZA=s64",
      "userId": "00968929417250286436"
     },
     "user_tz": 240
    },
    "id": "2g6BkPSypb2f"
   },
   "outputs": [],
   "source": [
    "a_test = splin.predict(X_test)\n",
    "true_ate = np.mean(moment_fn(X_test, true_f))\n",
    "biased_ate = np.mean(moment_fn(X_test, est.predict))\n",
    "reisz_ate = np.mean(a_test * y_test)\n",
    "dr_reisz_ate, dr_reisz_low, dr_reisz_up = mean_ci(moment_fn(X_test, est.predict) + a_test * (y_test - est.predict(X_test)))\n",
    "if treatment == 'binary':\n",
    "    naive_ate = np.mean(y_test[X_test[:, 0]==1]) - np.mean(y_test[X_test[:, 0]==0])\n",
    "    invp_test = true_reisz(X_test, lambda x: propensity.predict_proba(x[:, 1:])[:, 1])\n",
    "    ips_ate = np.mean(invp_test * y_test)\n",
    "    dr_ate = biased_ate + np.mean(invp_test * (y_test - est.predict(X_test)))"
   ]
  },
  {
   "cell_type": "code",
   "execution_count": 94,
   "metadata": {
    "colab": {
     "base_uri": "https://localhost:8080/"
    },
    "executionInfo": {
     "elapsed": 8,
     "status": "ok",
     "timestamp": 1630420880330,
     "user": {
      "displayName": "Vasilis Syrganis",
      "photoUrl": "https://lh3.googleusercontent.com/a-/AOh14GjxUYeW9b7fysN1nK65PWILriYGqqfmpUsWgLP7ZA=s64",
      "userId": "00968929417250286436"
     },
     "user_tz": 240
    },
    "id": "pCptGKLWpb2f",
    "outputId": "46f93e92-3adf-4123-b2e3-67125bad4d48"
   },
   "outputs": [
    {
     "name": "stdout",
     "output_type": "stream",
     "text": [
      "True ATE: 1.000\n",
      "Lasso Regression based Estimate: 0.719\n",
      "IPS estimate with adversarial reisz: 1.191\n",
      "DR estimate with adversarial reisz: 1.073 (0.969, 1.177)\n",
      "Mean of Treated - Mean of Untreated: 1.162\n",
      "IPS estimate with explicit propensity based reisz estimate (i.e. mean(a(X) Y)): 1.188\n",
      "DR estimate with explict propensity based reisz estimate: 1.159\n"
     ]
    }
   ],
   "source": [
    "print(\"True ATE: {:.3f}\".format(true_ate))\n",
    "print(\"Lasso Regression based Estimate: {:.3f}\".format(biased_ate))\n",
    "print(\"IPS estimate with adversarial reisz: {:.3f}\".format(reisz_ate))\n",
    "print(\"DR estimate with adversarial reisz: {:.3f} ({:.3f}, {:.3f})\".format(dr_reisz_ate, dr_reisz_low, dr_reisz_up))\n",
    "if treatment == 'binary':\n",
    "    print(\"Mean of Treated - Mean of Untreated: {:.3f}\".format(naive_ate))\n",
    "    print(\"IPS estimate with explicit propensity based reisz estimate (i.e. mean(a(X) Y)): {:.3f}\".format(ips_ate))\n",
    "    print(\"DR estimate with explict propensity based reisz estimate: {:.3f}\".format(dr_ate))"
   ]
  },
  {
   "cell_type": "code",
   "execution_count": 95,
   "metadata": {
    "executionInfo": {
     "elapsed": 5662,
     "status": "ok",
     "timestamp": 1630420887118,
     "user": {
      "displayName": "Vasilis Syrganis",
      "photoUrl": "https://lh3.googleusercontent.com/a-/AOh14GjxUYeW9b7fysN1nK65PWILriYGqqfmpUsWgLP7ZA=s64",
      "userId": "00968929417250286436"
     },
     "user_tz": 240
    },
    "id": "tpZkun_fpb2f"
   },
   "outputs": [],
   "source": [
    "dr_reisz_ate = []\n",
    "reisz_ate = []\n",
    "biased_ate = []\n",
    "dr_reisz_cov = []\n",
    "reisz_cov = []\n",
    "for exp in range(1000):\n",
    "    Xboot, yboot = gen_data(n, p, treatment)\n",
    "    aboot = splin.predict(Xboot)\n",
    "    drm, drl, dru = mean_ci(moment_fn(Xboot, est.predict) + aboot * (yboot - est.predict(Xboot)))\n",
    "    rm, rl, ru = mean_ci(aboot * yboot)\n",
    "    dr_reisz_ate.append(drm)\n",
    "    reisz_ate.append(rm)\n",
    "    dr_reisz_cov.append((true_ate <= dru) & (true_ate >= drl))\n",
    "    reisz_cov.append((true_ate <= ru) & (true_ate >= rl))"
   ]
  },
  {
   "cell_type": "code",
   "execution_count": 96,
   "metadata": {
    "colab": {
     "base_uri": "https://localhost:8080/",
     "height": 281
    },
    "executionInfo": {
     "elapsed": 740,
     "status": "ok",
     "timestamp": 1630420889292,
     "user": {
      "displayName": "Vasilis Syrganis",
      "photoUrl": "https://lh3.googleusercontent.com/a-/AOh14GjxUYeW9b7fysN1nK65PWILriYGqqfmpUsWgLP7ZA=s64",
      "userId": "00968929417250286436"
     },
     "user_tz": 240
    },
    "id": "1Hfd2lqtpb2g",
    "outputId": "5dde7624-643b-4564-a2e0-03a45f567dd4"
   },
   "outputs": [
    {
     "data": {
      "image/png": "[encoded data removed]",
      "text/plain": [
       "<Figure size 432x288 with 1 Axes>"
      ]
     },
     "metadata": {
      "needs_background": "light"
     },
     "output_type": "display_data"
    }
   ],
   "source": [
    "plt.title(\"Mean advDR: {:.3f}, Coverage advDR: {:.3f}, \"\n",
    "          \"Mean advIPS: {:.3f}, Coverage advIPS: {:.3f}\".format(np.mean(dr_reisz_ate),\n",
    "                                                               np.mean(dr_reisz_cov),\n",
    "                                                               np.mean(reisz_ate),\n",
    "                                                               np.mean(reisz_cov)))\n",
    "plt.hist(np.array(dr_reisz_ate), alpha=.5, label='advDR')\n",
    "plt.hist(np.array(reisz_ate), alpha=.5, label='advIPS')\n",
    "plt.legend()\n",
    "plt.show()"
   ]
  },
  {
   "cell_type": "code",
   "execution_count": 31,
   "metadata": {
    "executionInfo": {
     "elapsed": 270,
     "status": "ok",
     "timestamp": 1630421219131,
     "user": {
      "displayName": "Vasilis Syrganis",
      "photoUrl": "https://lh3.googleusercontent.com/a-/AOh14GjxUYeW9b7fysN1nK65PWILriYGqqfmpUsWgLP7ZA=s64",
      "userId": "00968929417250286436"
     },
     "user_tz": 240
    },
    "id": "YourtY-XrWcz"
   },
   "outputs": [],
   "source": [
    "import pandas as pd\n",
    "\n",
    "df = pd.read_csv('rahul/sim_1.csv', index_col=0)\n",
    "y = df['Y'].values\n",
    "X = df[['D'] + [f'X{i}' for i in np.arange(1, 11)]].values"
   ]
  },
  {
   "cell_type": "code",
   "execution_count": 32,
   "metadata": {
    "colab": {
     "base_uri": "https://localhost:8080/"
    },
    "executionInfo": {
     "elapsed": 26467,
     "status": "ok",
     "timestamp": 1630421344072,
     "user": {
      "displayName": "Vasilis Syrganis",
      "photoUrl": "https://lh3.googleusercontent.com/a-/AOh14GjxUYeW9b7fysN1nK65PWILriYGqqfmpUsWgLP7ZA=s64",
      "userId": "00968929417250286436"
     },
     "user_tz": 240
    },
    "id": "cP_90Z3orXRv",
    "outputId": "792b975c-a4f1-4709-8434-7952e09f9bfd"
   },
   "outputs": [
    {
     "ename": "NameError",
     "evalue": "name 'SparseLinearAdvRiesz' is not defined",
     "output_type": "error",
     "traceback": [
      "\u001b[1;31m---------------------------------------------------------------------------\u001b[0m",
      "\u001b[1;31mNameError\u001b[0m                                 Traceback (most recent call last)",
      "\u001b[1;32m<ipython-input-32-e6456eed9a66>\u001b[0m in \u001b[0;36m<module>\u001b[1;34m\u001b[0m\n\u001b[0;32m      2\u001b[0m \u001b[0mfeat\u001b[0m\u001b[1;33m.\u001b[0m\u001b[0msteps\u001b[0m\u001b[1;33m.\u001b[0m\u001b[0mappend\u001b[0m\u001b[1;33m(\u001b[0m\u001b[1;33m(\u001b[0m\u001b[1;34m's'\u001b[0m\u001b[1;33m,\u001b[0m \u001b[0mStandardScaler\u001b[0m\u001b[1;33m(\u001b[0m\u001b[1;33m)\u001b[0m\u001b[1;33m)\u001b[0m\u001b[1;33m)\u001b[0m\u001b[1;33m\u001b[0m\u001b[1;33m\u001b[0m\u001b[0m\n\u001b[0;32m      3\u001b[0m \u001b[0mfeat\u001b[0m\u001b[1;33m.\u001b[0m\u001b[0msteps\u001b[0m\u001b[1;33m.\u001b[0m\u001b[0mappend\u001b[0m\u001b[1;33m(\u001b[0m\u001b[1;33m(\u001b[0m\u001b[1;34m'cnt'\u001b[0m\u001b[1;33m,\u001b[0m \u001b[0mPolynomialFeatures\u001b[0m\u001b[1;33m(\u001b[0m\u001b[0mdegree\u001b[0m\u001b[1;33m=\u001b[0m\u001b[1;36m1\u001b[0m\u001b[1;33m,\u001b[0m \u001b[0minclude_bias\u001b[0m\u001b[1;33m=\u001b[0m\u001b[1;32mTrue\u001b[0m\u001b[1;33m)\u001b[0m\u001b[1;33m)\u001b[0m\u001b[1;33m)\u001b[0m\u001b[1;33m\u001b[0m\u001b[1;33m\u001b[0m\u001b[0m\n\u001b[1;32m----> 4\u001b[1;33m splin = SparseLinearAdvRiesz(moment_fn, featurizer=feat,\n\u001b[0m\u001b[0;32m      5\u001b[0m                              \u001b[0mn_iter\u001b[0m\u001b[1;33m=\u001b[0m\u001b[1;36m50000\u001b[0m\u001b[1;33m,\u001b[0m \u001b[0mlambda_theta\u001b[0m\u001b[1;33m=\u001b[0m\u001b[1;36m0.01\u001b[0m\u001b[1;33m,\u001b[0m \u001b[0mB\u001b[0m\u001b[1;33m=\u001b[0m\u001b[1;36m10\u001b[0m\u001b[1;33m,\u001b[0m\u001b[1;33m\u001b[0m\u001b[1;33m\u001b[0m\u001b[0m\n\u001b[0;32m      6\u001b[0m                              tol=0.00001).fit(X)\n",
      "\u001b[1;31mNameError\u001b[0m: name 'SparseLinearAdvRiesz' is not defined"
     ]
    }
   ],
   "source": [
    "feat = Pipeline([('p', PolynomialFeatures(degree=3, include_bias=False))])\n",
    "feat.steps.append(('s', StandardScaler()))\n",
    "feat.steps.append(('cnt', PolynomialFeatures(degree=1, include_bias=True)))\n",
    "splin = SparseLinearAdvRiesz(moment_fn, featurizer=feat,\n",
    "                             n_iter=50000, lambda_theta=0.01, B=10,\n",
    "                             tol=0.00001).fit(X)"
   ]
  },
  {
   "cell_type": "code",
   "execution_count": 24,
   "metadata": {
    "colab": {
     "base_uri": "https://localhost:8080/",
     "height": 283
    },
    "executionInfo": {
     "elapsed": 391,
     "status": "ok",
     "timestamp": 1630421344457,
     "user": {
      "displayName": "Vasilis Syrganis",
      "photoUrl": "https://lh3.googleusercontent.com/a-/AOh14GjxUYeW9b7fysN1nK65PWILriYGqqfmpUsWgLP7ZA=s64",
      "userId": "00968929417250286436"
     },
     "user_tz": 240
    },
    "id": "5lKfvpv_re5N",
    "outputId": "f4a83a99-13bb-4edd-8b23-78bc29ebf4db"
   },
   "outputs": [
    {
     "data": {
      "image/png": "[encoded data removed]",
      "text/plain": [
       "<Figure size 432x288 with 1 Axes>"
      ]
     },
     "metadata": {
      "needs_background": "light"
     },
     "output_type": "display_data"
    }
   ],
   "source": [
    "plt.figure()\n",
    "treated = (X_test[:, 0] == 1)\n",
    "plt.scatter(df['rr'].values, splin.predict(X))\n",
    "plt.xlabel('true reisz')\n",
    "plt.ylabel('estimated reisz')\n",
    "plt.show()"
   ]
  },
  {
   "cell_type": "code",
   "execution_count": 25,
   "metadata": {
    "executionInfo": {
     "elapsed": 287,
     "status": "ok",
     "timestamp": 1630421469164,
     "user": {
      "displayName": "Vasilis Syrganis",
      "photoUrl": "https://lh3.googleusercontent.com/a-/AOh14GjxUYeW9b7fysN1nK65PWILriYGqqfmpUsWgLP7ZA=s64",
      "userId": "00968929417250286436"
     },
     "user_tz": 240
    },
    "id": "tTXTmCrSrrzu"
   },
   "outputs": [],
   "source": [
    "a_test = splin.predict(X)\n",
    "est = Pipeline([('p', PolynomialFeatures(degree=1)), ('l', Lasso(alpha=.1))]).fit(X, y)\n",
    "dr_reisz_ate, dr_reisz_low, dr_reisz_up = mean_ci(moment_fn(X, est.predict) + a_test * (y - est.predict(X)))"
   ]
  },
  {
   "cell_type": "code",
   "execution_count": 26,
   "metadata": {
    "colab": {
     "base_uri": "https://localhost:8080/"
    },
    "executionInfo": {
     "elapsed": 270,
     "status": "ok",
     "timestamp": 1630421478024,
     "user": {
      "displayName": "Vasilis Syrganis",
      "photoUrl": "https://lh3.googleusercontent.com/a-/AOh14GjxUYeW9b7fysN1nK65PWILriYGqqfmpUsWgLP7ZA=s64",
      "userId": "00968929417250286436"
     },
     "user_tz": 240
    },
    "id": "E2qkZn-esCPP",
    "outputId": "a4b3650c-0df9-47b1-c265-67b03a083e5c"
   },
   "outputs": [
    {
     "data": {
      "text/plain": [
       "(2.171419091455974, 2.047085448705302, 2.2957527342066464)"
      ]
     },
     "execution_count": 26,
     "metadata": {},
     "output_type": "execute_result"
    }
   ],
   "source": [
    "dr_reisz_ate, dr_reisz_low, dr_reisz_up "
   ]
  },
  {
   "cell_type": "code",
   "execution_count": 27,
   "metadata": {
    "colab": {
     "base_uri": "https://localhost:8080/"
    },
    "id": "Xj33qDQOsP8n",
    "outputId": "5f82dc6b-9de5-4109-d30c-27f0d353b659"
   },
   "outputs": [
    {
     "name": "stderr",
     "output_type": "stream",
     "text": [
      "[Parallel(n_jobs=-1)]: Using backend LokyBackend with 8 concurrent workers.\n",
      "[Parallel(n_jobs=-1)]: Done  16 tasks      | elapsed:   31.7s\n",
      "[Parallel(n_jobs=-1)]: Done 100 out of 100 | elapsed:  2.9min finished\n"
     ]
    }
   ],
   "source": [
    "import pandas as pd\n",
    "from joblib import Parallel, delayed\n",
    "\n",
    "def exp(it):\n",
    "    df = pd.read_csv(f'rahul/sim_{it}.csv', index_col=0)\n",
    "    y = df['Y'].values\n",
    "    X = df[['D'] + [f'X{i}' for i in np.arange(1, 11)]].values\n",
    "    feat = Pipeline([('p', PolynomialFeatures(degree=2, include_bias=False))])\n",
    "    feat.steps.append(('s', StandardScaler()))\n",
    "    feat.steps.append(('cnt', PolynomialFeatures(degree=1, include_bias=True)))\n",
    "    splin = SparseLinearAdvRiesz(moment_fn, featurizer=feat,\n",
    "                                n_iter=50000, lambda_theta=0.01, B=10,\n",
    "                                tol=0.00001).fit(X)\n",
    "    a_test = splin.predict(X)\n",
    "    est = Pipeline([('p', PolynomialFeatures(degree=1)), ('l', Lasso(alpha=.1))]).fit(X, y)\n",
    "    return mean_ci(moment_fn(X, est.predict) + a_test * (y - est.predict(X)))\n",
    "\n",
    "true = 2.2\n",
    "\n",
    "results = Parallel(n_jobs=-1, verbose=3)(delayed(exp)(it) for it in np.arange(1, 101).astype(int))"
   ]
  },
  {
   "cell_type": "code",
   "execution_count": 41,
   "metadata": {},
   "outputs": [],
   "source": [
    "results = np.array(results)"
   ]
  },
  {
   "cell_type": "code",
   "execution_count": 42,
   "metadata": {
    "id": "gRCqE8b9swW0"
   },
   "outputs": [
    {
     "data": {
      "image/png": "[encoded data removed]",
      "text/plain": [
       "<Figure size 432x288 with 1 Axes>"
      ]
     },
     "metadata": {
      "needs_background": "light"
     },
     "output_type": "display_data"
    }
   ],
   "source": [
    "plt.hist(results[:, 0])\n",
    "plt.show()"
   ]
  },
  {
   "cell_type": "code",
   "execution_count": 43,
   "metadata": {},
   "outputs": [
    {
     "data": {
      "text/plain": [
       "0.97"
      ]
     },
     "execution_count": 43,
     "metadata": {},
     "output_type": "execute_result"
    }
   ],
   "source": [
    "np.mean((results[:, 1] <= true) & (results[:, 2] >= true))"
   ]
  },
  {
   "cell_type": "code",
   "execution_count": 44,
   "metadata": {},
   "outputs": [
    {
     "data": {
      "text/plain": [
       "0.05116563577507155"
      ]
     },
     "execution_count": 44,
     "metadata": {},
     "output_type": "execute_result"
    }
   ],
   "source": [
    "np.std(results[:, 0])"
   ]
  },
  {
   "cell_type": "code",
   "execution_count": 37,
   "metadata": {},
   "outputs": [
    {
     "name": "stderr",
     "output_type": "stream",
     "text": [
      "[Parallel(n_jobs=-1)]: Using backend LokyBackend with 8 concurrent workers.\n",
      "[Parallel(n_jobs=-1)]: Done  16 tasks      | elapsed:  2.2min\n",
      "[Parallel(n_jobs=-1)]: Done 100 out of 100 | elapsed: 14.2min finished\n"
     ]
    }
   ],
   "source": [
    "import pandas as pd\n",
    "from joblib import Parallel, delayed\n",
    "from sklearn.model_selection import KFold\n",
    "\n",
    "def exp(it):\n",
    "    df = pd.read_csv(f'rahul/sim_{it}.csv', index_col=0)\n",
    "    y = df['Y'].values\n",
    "    X = df[['D'] + [f'X{i}' for i in np.arange(1, 11)]].values\n",
    "    a_pred = np.zeros(X.shape[0])\n",
    "    reg_pred = np.zeros(X.shape[0])\n",
    "    moment_pred = np.zeros(X.shape[0])\n",
    "    for train, test in KFold(n_splits=5).split(X):\n",
    "        feat = Pipeline([('p', PolynomialFeatures(degree=2, include_bias=False))])\n",
    "        feat.steps.append(('s', StandardScaler()))\n",
    "        feat.steps.append(('cnt', PolynomialFeatures(degree=1, include_bias=True)))\n",
    "        splin = SparseLinearAdvRiesz(moment_fn, featurizer=feat,\n",
    "                                    n_iter=50000, lambda_theta=0.01, B=10,\n",
    "                                    tol=0.00001).fit(X[train])\n",
    "        a_pred[test] = splin.predict(X[test])\n",
    "        est = Pipeline([('p', PolynomialFeatures(degree=1)), ('l', Lasso(alpha=.1))]).fit(X[train], y[train])\n",
    "        reg_pred[test] = est.predict(X[test])\n",
    "        moment_pred[test] = moment_fn(X[test], est.predict)\n",
    "\n",
    "    return mean_ci(moment_pred + a_pred * (y - reg_pred))\n",
    "\n",
    "true = 2.2\n",
    "\n",
    "results = Parallel(n_jobs=-1, verbose=3)(delayed(exp)(it) for it in np.arange(1, 101).astype(int))"
   ]
  },
  {
   "cell_type": "code",
   "execution_count": 106,
   "metadata": {},
   "outputs": [
    {
     "data": {
      "text/html": [
       "<div>\n",
       "<style scoped>\n",
       "    .dataframe tbody tr th:only-of-type {\n",
       "        vertical-align: middle;\n",
       "    }\n",
       "\n",
       "    .dataframe tbody tr th {\n",
       "        vertical-align: top;\n",
       "    }\n",
       "\n",
       "    .dataframe thead th {\n",
       "        text-align: right;\n",
       "    }\n",
       "</style>\n",
       "<table border=\"1\" class=\"dataframe\">\n",
       "  <thead>\n",
       "    <tr style=\"text-align: right;\">\n",
       "      <th></th>\n",
       "      <th></th>\n",
       "      <th>adv_splin</th>\n",
       "      <th>adv_splin_cfit</th>\n",
       "    </tr>\n",
       "  </thead>\n",
       "  <tbody>\n",
       "    <tr>\n",
       "      <th rowspan=\"4\" valign=\"top\">n=100</th>\n",
       "      <th>cov</th>\n",
       "      <td>0.890000</td>\n",
       "      <td>0.980000</td>\n",
       "    </tr>\n",
       "    <tr>\n",
       "      <th>bias</th>\n",
       "      <td>-0.040589</td>\n",
       "      <td>-0.026243</td>\n",
       "    </tr>\n",
       "    <tr>\n",
       "      <th>rmse</th>\n",
       "      <td>0.289682</td>\n",
       "      <td>0.358832</td>\n",
       "    </tr>\n",
       "    <tr>\n",
       "      <th>ci_length</th>\n",
       "      <td>0.975084</td>\n",
       "      <td>1.485293</td>\n",
       "    </tr>\n",
       "    <tr>\n",
       "      <th rowspan=\"4\" valign=\"top\">n=200</th>\n",
       "      <th>cov</th>\n",
       "      <td>0.950000</td>\n",
       "      <td>0.980000</td>\n",
       "    </tr>\n",
       "    <tr>\n",
       "      <th>bias</th>\n",
       "      <td>-0.040964</td>\n",
       "      <td>-0.045957</td>\n",
       "    </tr>\n",
       "    <tr>\n",
       "      <th>rmse</th>\n",
       "      <td>0.176788</td>\n",
       "      <td>0.205110</td>\n",
       "    </tr>\n",
       "    <tr>\n",
       "      <th>ci_length</th>\n",
       "      <td>0.697905</td>\n",
       "      <td>0.906884</td>\n",
       "    </tr>\n",
       "    <tr>\n",
       "      <th rowspan=\"4\" valign=\"top\">n=300</th>\n",
       "      <th>cov</th>\n",
       "      <td>0.960000</td>\n",
       "      <td>0.970000</td>\n",
       "    </tr>\n",
       "    <tr>\n",
       "      <th>bias</th>\n",
       "      <td>-0.006708</td>\n",
       "      <td>-0.003591</td>\n",
       "    </tr>\n",
       "    <tr>\n",
       "      <th>rmse</th>\n",
       "      <td>0.138345</td>\n",
       "      <td>0.153311</td>\n",
       "    </tr>\n",
       "    <tr>\n",
       "      <th>ci_length</th>\n",
       "      <td>0.570643</td>\n",
       "      <td>0.690713</td>\n",
       "    </tr>\n",
       "    <tr>\n",
       "      <th rowspan=\"4\" valign=\"top\">n=500</th>\n",
       "      <th>cov</th>\n",
       "      <td>0.980000</td>\n",
       "      <td>0.990000</td>\n",
       "    </tr>\n",
       "    <tr>\n",
       "      <th>bias</th>\n",
       "      <td>-0.002798</td>\n",
       "      <td>0.002748</td>\n",
       "    </tr>\n",
       "    <tr>\n",
       "      <th>rmse</th>\n",
       "      <td>0.101164</td>\n",
       "      <td>0.101828</td>\n",
       "    </tr>\n",
       "    <tr>\n",
       "      <th>ci_length</th>\n",
       "      <td>0.440139</td>\n",
       "      <td>0.496921</td>\n",
       "    </tr>\n",
       "    <tr>\n",
       "      <th rowspan=\"4\" valign=\"top\">n=700</th>\n",
       "      <th>cov</th>\n",
       "      <td>0.990000</td>\n",
       "      <td>1.000000</td>\n",
       "    </tr>\n",
       "    <tr>\n",
       "      <th>bias</th>\n",
       "      <td>-0.002351</td>\n",
       "      <td>-0.000576</td>\n",
       "    </tr>\n",
       "    <tr>\n",
       "      <th>rmse</th>\n",
       "      <td>0.086012</td>\n",
       "      <td>0.089115</td>\n",
       "    </tr>\n",
       "    <tr>\n",
       "      <th>ci_length</th>\n",
       "      <td>0.371427</td>\n",
       "      <td>0.404549</td>\n",
       "    </tr>\n",
       "    <tr>\n",
       "      <th rowspan=\"4\" valign=\"top\">n=1000</th>\n",
       "      <th>cov</th>\n",
       "      <td>0.950000</td>\n",
       "      <td>0.970000</td>\n",
       "    </tr>\n",
       "    <tr>\n",
       "      <th>bias</th>\n",
       "      <td>-0.005102</td>\n",
       "      <td>-0.003105</td>\n",
       "    </tr>\n",
       "    <tr>\n",
       "      <th>rmse</th>\n",
       "      <td>0.081075</td>\n",
       "      <td>0.081938</td>\n",
       "    </tr>\n",
       "    <tr>\n",
       "      <th>ci_length</th>\n",
       "      <td>0.310271</td>\n",
       "      <td>0.330241</td>\n",
       "    </tr>\n",
       "    <tr>\n",
       "      <th rowspan=\"4\" valign=\"top\">n=2000</th>\n",
       "      <th>cov</th>\n",
       "      <td>0.970000</td>\n",
       "      <td>0.980000</td>\n",
       "    </tr>\n",
       "    <tr>\n",
       "      <th>bias</th>\n",
       "      <td>-0.001420</td>\n",
       "      <td>-0.001636</td>\n",
       "    </tr>\n",
       "    <tr>\n",
       "      <th>rmse</th>\n",
       "      <td>0.051184</td>\n",
       "      <td>0.051242</td>\n",
       "    </tr>\n",
       "    <tr>\n",
       "      <th>ci_length</th>\n",
       "      <td>0.219879</td>\n",
       "      <td>0.227194</td>\n",
       "    </tr>\n",
       "  </tbody>\n",
       "</table>\n",
       "</div>"
      ],
      "text/plain": [
       "                  adv_splin  adv_splin_cfit\n",
       "n=100  cov         0.890000        0.980000\n",
       "       bias       -0.040589       -0.026243\n",
       "       rmse        0.289682        0.358832\n",
       "       ci_length   0.975084        1.485293\n",
       "n=200  cov         0.950000        0.980000\n",
       "       bias       -0.040964       -0.045957\n",
       "       rmse        0.176788        0.205110\n",
       "       ci_length   0.697905        0.906884\n",
       "n=300  cov         0.960000        0.970000\n",
       "       bias       -0.006708       -0.003591\n",
       "       rmse        0.138345        0.153311\n",
       "       ci_length   0.570643        0.690713\n",
       "n=500  cov         0.980000        0.990000\n",
       "       bias       -0.002798        0.002748\n",
       "       rmse        0.101164        0.101828\n",
       "       ci_length   0.440139        0.496921\n",
       "n=700  cov         0.990000        1.000000\n",
       "       bias       -0.002351       -0.000576\n",
       "       rmse        0.086012        0.089115\n",
       "       ci_length   0.371427        0.404549\n",
       "n=1000 cov         0.950000        0.970000\n",
       "       bias       -0.005102       -0.003105\n",
       "       rmse        0.081075        0.081938\n",
       "       ci_length   0.310271        0.330241\n",
       "n=2000 cov         0.970000        0.980000\n",
       "       bias       -0.001420       -0.001636\n",
       "       rmse        0.051184        0.051242\n",
       "       ci_length   0.219879        0.227194"
      ]
     },
     "execution_count": 106,
     "metadata": {},
     "output_type": "execute_result"
    }
   ],
   "source": [
    "import joblib\n",
    "import os\n",
    "true = 2.2\n",
    "res = {}\n",
    "plot = False\n",
    "n_samples_list = [100, 200, 300, 500, 700, 1000, 2000]\n",
    "start_sample_list = [1, 21, 41, 61, 81]\n",
    "sample_its = 20\n",
    "folder = os.path.join('amlt', 'sought-asp')\n",
    "for n_samples in n_samples_list:\n",
    "    res[f'n={n_samples}'] = {}\n",
    "    for name, var in [('adv_splin', f'splin_nocfit_n_{n_samples}'),\n",
    "                      ('adv_splin_cfit', f'splin_5fold_cfit_n_{n_samples}')]:\n",
    "        results = []\n",
    "        for start_sample in start_sample_list:\n",
    "            results += joblib.load(os.path.join(folder, f'kernel_{n_samples}_0_1_{start_sample}_{sample_its}',\n",
    "                                                f'{var}_{start_sample}_{sample_its}.jbl'))\n",
    "        results = np.array(results)\n",
    "        if plot:\n",
    "            plt.hist(results[:, 0])\n",
    "            plt.title(f'{var}, n={n_samples}')\n",
    "            plt.show()\n",
    "        res[f'n={n_samples}'][name] = {\n",
    "                                 'cov': np.mean((results[:, 1] <= true) & (results[:, 2] >= true)),\n",
    "                                 'bias': np.mean(results[:, 0] - true),\n",
    "                                 'rmse': np.sqrt(np.mean((results[:, 0] - true)**2)),\n",
    "                                 'ci_length': np.mean(results[:, 2] - results[:, 1])}\n",
    "    res[f'n={n_samples}'] = pd.DataFrame(res[f'n={n_samples}'])\n",
    "\n",
    "pd.concat(res, axis=0)"
   ]
  },
  {
   "cell_type": "markdown",
   "metadata": {},
   "source": [
    "# Kernel Experiments"
   ]
  },
  {
   "cell_type": "code",
   "execution_count": 70,
   "metadata": {},
   "outputs": [
    {
     "name": "stdout",
     "output_type": "stream",
     "text": [
      "The autoreload extension is already loaded. To reload it, use:\n",
      "  %reload_ext autoreload\n",
      "The tensorboard extension is already loaded. To reload it, use:\n",
      "  %reload_ext tensorboard\n"
     ]
    }
   ],
   "source": [
    "%load_ext autoreload\n",
    "%autoreload 2\n",
    "%load_ext tensorboard\n",
    "%matplotlib inline"
   ]
  },
  {
   "cell_type": "code",
   "execution_count": 5,
   "metadata": {},
   "outputs": [],
   "source": [
    "import numpy as np\n",
    "from pathlib import Path\n",
    "import matplotlib.pyplot as plt\n",
    "import scipy\n",
    "import scipy.special\n",
    "from sklearn.linear_model import LassoCV, Lasso, LogisticRegressionCV\n",
    "from sklearn.pipeline import Pipeline\n",
    "from sklearn.preprocessing import PolynomialFeatures, StandardScaler"
   ]
  },
  {
   "cell_type": "code",
   "execution_count": 162,
   "metadata": {},
   "outputs": [],
   "source": [
    "def nonlin(x):\n",
    "#     return 1.5 * (x[:, 1]**2)\n",
    "    return x[:, 1]\n",
    "    # return scipy.special.expit(10 * x[:, 1])\n",
    "    # return np.abs(x[:, 1])\n",
    "    return 1.5*scipy.special.expit(10 * x[:, 1]) - 1.5*scipy.special.expit(10 * x[:, 2])\n",
    "\n",
    "def true_propensity(X):\n",
    "    return .5 + .3 * nonlin(X)\n",
    "\n",
    "def true_f(X):\n",
    "    return X[:, 0] + nonlin(X)\n",
    "\n",
    "def gen_data(n, p, treatment='binary'):\n",
    "    X = np.random.uniform(-1, 1, size=(n, p))\n",
    "    if treatment == 'binary':\n",
    "        X[:, 0] = np.random.binomial(1, true_propensity(X))\n",
    "    else:\n",
    "        X[:, 0] = true_propensity(X) + np.random.normal(size=(n,))\n",
    "    y = true_f(X) + np.random.normal(size=(n,))\n",
    "    return X, y\n",
    "\n",
    "np.random.seed(123)\n",
    "treatment = 'binary'\n",
    "# treatment = 'continuous'\n",
    "n = 2000\n",
    "p = 10\n",
    "X, y = gen_data(n, p, treatment)\n",
    "synth = True"
   ]
  },
  {
   "cell_type": "code",
   "execution_count": 163,
   "metadata": {},
   "outputs": [],
   "source": [
    "def moment_fn(x, test_fn):\n",
    "    t1 = test_fn(np.hstack([np.ones((x.shape[0], 1)), x[:, 1:]]))\n",
    "    t0 = test_fn(np.hstack([np.zeros((x.shape[0], 1)), x[:, 1:]]))\n",
    "    return t1 - t0\n",
    "\n",
    "def true_reisz(x, propensity):\n",
    "    return (x[:, 0]==1) / propensity(x) - (x[:, 0]==0)/(1 - propensity(x))"
   ]
  },
  {
   "cell_type": "code",
   "execution_count": 164,
   "metadata": {},
   "outputs": [
    {
     "data": {
      "image/png": "[encoded data removed]",
      "text/plain": [
       "<Figure size 432x288 with 1 Axes>"
      ]
     },
     "metadata": {
      "needs_background": "light"
     },
     "output_type": "display_data"
    }
   ],
   "source": [
    "plt.scatter(X[:, 1], true_reisz(X, true_propensity))\n",
    "plt.show()"
   ]
  },
  {
   "cell_type": "code",
   "execution_count": 186,
   "metadata": {},
   "outputs": [],
   "source": [
    "import pandas as pd\n",
    "df = pd.read_csv(f'rahul/sim_1.csv', index_col=0)\n",
    "y = df['Y'].values\n",
    "X = df[['D'] + [f'X{i}' for i in np.arange(1, 11)]].values\n",
    "synth = False"
   ]
  },
  {
   "cell_type": "code",
   "execution_count": 187,
   "metadata": {},
   "outputs": [],
   "source": [
    "n_samples = 500\n",
    "X, y = X[:n_samples], y[:n_samples]"
   ]
  },
  {
   "cell_type": "code",
   "execution_count": 188,
   "metadata": {},
   "outputs": [],
   "source": [
    "Xtest = X.copy()\n",
    "ytest = y.copy()"
   ]
  },
  {
   "cell_type": "code",
   "execution_count": 189,
   "metadata": {},
   "outputs": [],
   "source": [
    "from advreisz.kernel import AdvKernelReisz"
   ]
  },
  {
   "cell_type": "code",
   "execution_count": 206,
   "metadata": {},
   "outputs": [
    {
     "name": "stdout",
     "output_type": "stream",
     "text": [
      "[1.087390178827876, 0.8095982400711146, 0.24536992067215008, 0.052925291009182, 1516.736289607456, 2828.9649473831196]\n",
      "0.0001 0.052925291009182\n"
     ]
    }
   ],
   "source": [
    "from sklearn.metrics.pairwise import rbf_kernel, cosine_similarity, pairwise_kernels\n",
    "from kernel_experiments import AutoKernel, prod_kernel\n",
    "from sklearn.model_selection import train_test_split\n",
    "\n",
    "kernel = AutoKernel(type='median')\n",
    "# kernel = lambda X, Y=None: prod_kernel(X, Y=Y, gamma=.1)\n",
    "# kernel = lambda X, Y=None: pairwise_kernels(X, Y=Y, metric='poly', degree=3)\n",
    "Xtrain, Xval = train_test_split(X, test_size=.5)\n",
    "\n",
    "reglist = np.logspace(-7, -2, 6)\n",
    "scores = [AdvKernelReisz(kernel=kernel, regm=6*reg, regl=reg).fit(Xtrain).score(Xval)\n",
    "          for reg in reglist]\n",
    "print(scores)\n",
    "opt = reglist[np.argmin(scores)]\n",
    "print(opt, np.min(scores))"
   ]
  },
  {
   "cell_type": "code",
   "execution_count": 207,
   "metadata": {},
   "outputs": [],
   "source": [
    "splin = AdvKernelReisz(kernel=kernel, regm=6*opt, regl=opt).fit(X)"
   ]
  },
  {
   "cell_type": "code",
   "execution_count": 208,
   "metadata": {},
   "outputs": [
    {
     "data": {
      "text/plain": [
       "5.553534087991089"
      ]
     },
     "execution_count": 208,
     "metadata": {},
     "output_type": "execute_result"
    }
   ],
   "source": [
    "splin.score_train_"
   ]
  },
  {
   "cell_type": "code",
   "execution_count": 209,
   "metadata": {},
   "outputs": [
    {
     "data": {
      "text/plain": [
       "(2.137799526966973, 1.9251655890150345, 2.350433464918911)"
      ]
     },
     "execution_count": 209,
     "metadata": {},
     "output_type": "execute_result"
    }
   ],
   "source": [
    "from kernel_experiments import mean_ci\n",
    "\n",
    "est = Pipeline([('p', PolynomialFeatures(degree=1)), ('sc', StandardScaler()),\n",
    "                ('l', Lasso(alpha=.1))]).fit(X, y)\n",
    "a_test = splin.predict(Xtest)\n",
    "mean_ci(moment_fn(Xtest, est.predict) + a_test * (ytest - est.predict(Xtest)))"
   ]
  },
  {
   "cell_type": "code",
   "execution_count": 210,
   "metadata": {},
   "outputs": [
    {
     "data": {
      "image/png": "[encoded data removed]",
      "text/plain": [
       "<Figure size 432x288 with 1 Axes>"
      ]
     },
     "metadata": {
      "needs_background": "light"
     },
     "output_type": "display_data"
    }
   ],
   "source": [
    "if not synth:\n",
    "    plt.scatter(df['rr'][:n_samples], a_test)\n",
    "    plt.show()"
   ]
  },
  {
   "cell_type": "code",
   "execution_count": 211,
   "metadata": {},
   "outputs": [],
   "source": [
    "if synth:\n",
    "    plt.scatter(true_reisz(Xtest, true_propensity), a_test)\n",
    "    plt.show()\n",
    "    plt.scatter(X[:, 1], a_test)\n",
    "    plt.show()"
   ]
  },
  {
   "cell_type": "code",
   "execution_count": 212,
   "metadata": {},
   "outputs": [],
   "source": [
    "from advreisz.kernel import KernelReisz"
   ]
  },
  {
   "cell_type": "code",
   "execution_count": 213,
   "metadata": {},
   "outputs": [
    {
     "name": "stdout",
     "output_type": "stream",
     "text": [
      "[3328700.0143836895, 33857.19262508157, 376.5928178789856, 0.9416513162526993, -4.097117236476154, -2.758815098580032]\n",
      "0.01 -4.097117236476154\n"
     ]
    }
   ],
   "source": [
    "Xtrain, Xval = train_test_split(X, test_size=.5)\n",
    "\n",
    "reglist = np.logspace(-6, -1, 6)\n",
    "scores = [KernelReisz(kernel=kernel, regl=reg).fit(Xtrain).score(Xval)\n",
    "          for reg in reglist]\n",
    "print(scores)\n",
    "opt = reglist[np.argmin(scores)]\n",
    "print(opt, np.min(scores))"
   ]
  },
  {
   "cell_type": "code",
   "execution_count": 214,
   "metadata": {},
   "outputs": [],
   "source": [
    "splin = KernelReisz(kernel=kernel, regl=opt).fit(X)"
   ]
  },
  {
   "cell_type": "code",
   "execution_count": 215,
   "metadata": {},
   "outputs": [
    {
     "data": {
      "text/plain": [
       "(2.1448831898393954, 1.964122803906552, 2.3256435757722387)"
      ]
     },
     "execution_count": 215,
     "metadata": {},
     "output_type": "execute_result"
    }
   ],
   "source": [
    "est = Pipeline([('p', PolynomialFeatures(degree=1)), ('sc', StandardScaler()),\n",
    "                ('l', Lasso(alpha=.1))]).fit(X, y)\n",
    "a_test = splin.predict(Xtest)\n",
    "mean_ci(moment_fn(Xtest, est.predict) + a_test * (ytest - est.predict(Xtest)))"
   ]
  },
  {
   "cell_type": "code",
   "execution_count": 216,
   "metadata": {},
   "outputs": [
    {
     "data": {
      "image/png": "[encoded data removed]",
      "text/plain": [
       "<Figure size 432x288 with 1 Axes>"
      ]
     },
     "metadata": {
      "needs_background": "light"
     },
     "output_type": "display_data"
    }
   ],
   "source": [
    "if not synth:\n",
    "    plt.scatter(df['rr'][:n_samples], a_test)\n",
    "    plt.show()"
   ]
  },
  {
   "cell_type": "code",
   "execution_count": 217,
   "metadata": {},
   "outputs": [],
   "source": [
    "if synth:\n",
    "    plt.scatter(true_reisz(Xtest, true_propensity), a_test)\n",
    "    plt.show()\n",
    "    plt.scatter(X[:, 1], a_test)\n",
    "    plt.show()"
   ]
  },
  {
   "cell_type": "code",
   "execution_count": 28,
   "metadata": {},
   "outputs": [
    {
     "name": "stderr",
     "output_type": "stream",
     "text": [
      "[Parallel(n_jobs=-1)]: Using backend LokyBackend with 8 concurrent workers.\n",
      "[Parallel(n_jobs=-1)]: Done  16 tasks      | elapsed:   14.2s\n",
      "[Parallel(n_jobs=-1)]: Done 100 out of 100 | elapsed:  1.0min finished\n",
      "[Parallel(n_jobs=-1)]: Using backend LokyBackend with 8 concurrent workers.\n",
      "[Parallel(n_jobs=-1)]: Done  16 tasks      | elapsed:   23.6s\n",
      "[Parallel(n_jobs=-1)]: Done 100 out of 100 | elapsed:  2.5min finished\n",
      "[Parallel(n_jobs=-1)]: Using backend LokyBackend with 8 concurrent workers.\n",
      "[Parallel(n_jobs=-1)]: Done  16 tasks      | elapsed:    9.9s\n",
      "[Parallel(n_jobs=-1)]: Done 100 out of 100 | elapsed:   57.7s finished\n",
      "[Parallel(n_jobs=-1)]: Using backend LokyBackend with 8 concurrent workers.\n",
      "[Parallel(n_jobs=-1)]: Done  16 tasks      | elapsed:   23.0s\n",
      "[Parallel(n_jobs=-1)]: Done 100 out of 100 | elapsed:  2.3min finished\n"
     ]
    }
   ],
   "source": [
    "from kernel_experiments import kernel_experiments\n",
    "n_samples_list = [500]\n",
    "kernel_experiments(n_samples_list, kernelid=3)"
   ]
  },
  {
   "cell_type": "code",
   "execution_count": 29,
   "metadata": {},
   "outputs": [],
   "source": [
    "import joblib\n",
    "import os\n",
    "true = 2.2\n",
    "res = {}\n",
    "plot = False\n",
    "n_samples_list = [100, 500]\n",
    "for n_samples in n_samples_list:\n",
    "    res[f'n={n_samples}'] = {}\n",
    "    for name, var in [('adv_kreisz', f'advreisz_nocfit_n_{n_samples}.jbl'),\n",
    "                        ('adv_kreisz_cfit', f'advreisz_5fold_cfit_n_{n_samples}.jbl'),\n",
    "                        ('kreisz', f'kernelreisz_nocfit_n_{n_samples}.jbl'), \n",
    "                        ('kreisz_cfit', f'kernelreisz_5fold_cfit_n_{n_samples}.jbl')]:\n",
    "        results = joblib.load(var)\n",
    "        results = np.array(results)\n",
    "        if plot:\n",
    "            plt.hist(results[:, 0])\n",
    "            plt.title(f'{var}, n={n_samples}')\n",
    "            plt.show()\n",
    "        res[f'n={n_samples}'][name] = {'cov': np.mean((results[:, 1] <= true) & (results[:, 2] >= true)),\n",
    "                                 'bias': np.mean(results[:, 0] - true),\n",
    "                                 'rmse': np.sqrt(np.mean((results[:, 0] - true)**2)),\n",
    "                                 'ci_length': np.mean(results[:, 2] - results[:, 1])}\n",
    "    res[f'n={n_samples}'] = pd.DataFrame(res[f'n={n_samples}'])"
   ]
  },
  {
   "cell_type": "code",
   "execution_count": 30,
   "metadata": {},
   "outputs": [
    {
     "data": {
      "text/html": [
       "<div>\n",
       "<style scoped>\n",
       "    .dataframe tbody tr th:only-of-type {\n",
       "        vertical-align: middle;\n",
       "    }\n",
       "\n",
       "    .dataframe tbody tr th {\n",
       "        vertical-align: top;\n",
       "    }\n",
       "\n",
       "    .dataframe thead th {\n",
       "        text-align: right;\n",
       "    }\n",
       "</style>\n",
       "<table border=\"1\" class=\"dataframe\">\n",
       "  <thead>\n",
       "    <tr style=\"text-align: right;\">\n",
       "      <th></th>\n",
       "      <th></th>\n",
       "      <th>adv_kreisz</th>\n",
       "      <th>adv_kreisz_cfit</th>\n",
       "      <th>kreisz</th>\n",
       "      <th>kreisz_cfit</th>\n",
       "    </tr>\n",
       "  </thead>\n",
       "  <tbody>\n",
       "    <tr>\n",
       "      <th rowspan=\"4\" valign=\"top\">n=100</th>\n",
       "      <th>cov</th>\n",
       "      <td>0.86</td>\n",
       "      <td>0.85</td>\n",
       "      <td>0.87</td>\n",
       "      <td>0.99</td>\n",
       "    </tr>\n",
       "    <tr>\n",
       "      <th>bias</th>\n",
       "      <td>-0.02</td>\n",
       "      <td>-0.02</td>\n",
       "      <td>-0.01</td>\n",
       "      <td>0.25</td>\n",
       "    </tr>\n",
       "    <tr>\n",
       "      <th>rmse</th>\n",
       "      <td>0.27</td>\n",
       "      <td>0.29</td>\n",
       "      <td>0.28</td>\n",
       "      <td>1.48</td>\n",
       "    </tr>\n",
       "    <tr>\n",
       "      <th>ci_length</th>\n",
       "      <td>0.84</td>\n",
       "      <td>0.91</td>\n",
       "      <td>0.91</td>\n",
       "      <td>7.06</td>\n",
       "    </tr>\n",
       "    <tr>\n",
       "      <th rowspan=\"4\" valign=\"top\">n=500</th>\n",
       "      <th>cov</th>\n",
       "      <td>0.97</td>\n",
       "      <td>0.98</td>\n",
       "      <td>0.97</td>\n",
       "      <td>0.98</td>\n",
       "    </tr>\n",
       "    <tr>\n",
       "      <th>bias</th>\n",
       "      <td>0.01</td>\n",
       "      <td>0.02</td>\n",
       "      <td>0.01</td>\n",
       "      <td>0.16</td>\n",
       "    </tr>\n",
       "    <tr>\n",
       "      <th>rmse</th>\n",
       "      <td>0.11</td>\n",
       "      <td>0.12</td>\n",
       "      <td>0.11</td>\n",
       "      <td>0.47</td>\n",
       "    </tr>\n",
       "    <tr>\n",
       "      <th>ci_length</th>\n",
       "      <td>0.45</td>\n",
       "      <td>0.55</td>\n",
       "      <td>0.49</td>\n",
       "      <td>2.34</td>\n",
       "    </tr>\n",
       "  </tbody>\n",
       "</table>\n",
       "</div>"
      ],
      "text/plain": [
       "                 adv_kreisz  adv_kreisz_cfit  kreisz  kreisz_cfit\n",
       "n=100 cov              0.86             0.85    0.87         0.99\n",
       "      bias            -0.02            -0.02   -0.01         0.25\n",
       "      rmse             0.27             0.29    0.28         1.48\n",
       "      ci_length        0.84             0.91    0.91         7.06\n",
       "n=500 cov              0.97             0.98    0.97         0.98\n",
       "      bias             0.01             0.02    0.01         0.16\n",
       "      rmse             0.11             0.12    0.11         0.47\n",
       "      ci_length        0.45             0.55    0.49         2.34"
      ]
     },
     "metadata": {},
     "output_type": "display_data"
    }
   ],
   "source": [
    "import pandas as pd\n",
    "with pd.option_context('display.float_format', '{:0.2f}'.format):\n",
    "    display(pd.concat(res, axis=0))"
   ]
  },
  {
   "cell_type": "code",
   "execution_count": 263,
   "metadata": {
    "scrolled": false
   },
   "outputs": [],
   "source": [
    "import joblib\n",
    "import os\n",
    "true = 2.2\n",
    "res = {}\n",
    "plot = False\n",
    "n_samples_list = [100, 200, 300, 500, 700, 1000, 2000]\n",
    "folder = os.path.join('amlt', 'helpful-polliwog')\n",
    "for kernelid in [2, 3]:\n",
    "    res[f'kernel={kernelid}'] = {}\n",
    "    for n_samples in n_samples_list:\n",
    "        res[f'kernel={kernelid}'][f'n={n_samples}'] = {}\n",
    "        for name, var in [('adv_kreisz', f'advreisz_nocfit_n_{n_samples}.jbl'),\n",
    "                            ('adv_kreisz_cfit', f'advreisz_5fold_cfit_n_{n_samples}.jbl'),\n",
    "                            ('kreisz', f'kernelreisz_nocfit_n_{n_samples}.jbl'), \n",
    "                            ('kreisz_cfit', f'kernelreisz_5fold_cfit_n_{n_samples}.jbl')]:\n",
    "            results = joblib.load(os.path.join(folder, f'kernel_{n_samples}_{kernelid}', var))\n",
    "            results = np.array(results)\n",
    "            if plot:\n",
    "                plt.hist(results[:, 0])\n",
    "                plt.title(f'{var}, n={n_samples}')\n",
    "                plt.show()\n",
    "            res[f'kernel={kernelid}'][f'n={n_samples}'][name] = {\n",
    "                                     'cov': np.mean((results[:, 1] <= true) & (results[:, 2] >= true)),\n",
    "                                     'bias': np.mean(results[:, 0] - true),\n",
    "                                     'rmse': np.sqrt(np.mean((results[:, 0] - true)**2)),\n",
    "                                     'ci_length': np.mean(results[:, 2] - results[:, 1])}\n",
    "        res[f'kernel={kernelid}'][f'n={n_samples}'] = pd.DataFrame(res[f'kernel={kernelid}'][f'n={n_samples}'])\n",
    "    res[f'kernel={kernelid}'] = pd.concat(res[f'kernel={kernelid}'], axis=0)"
   ]
  },
  {
   "cell_type": "code",
   "execution_count": 264,
   "metadata": {},
   "outputs": [
    {
     "data": {
      "text/html": [
       "<div>\n",
       "<style scoped>\n",
       "    .dataframe tbody tr th:only-of-type {\n",
       "        vertical-align: middle;\n",
       "    }\n",
       "\n",
       "    .dataframe tbody tr th {\n",
       "        vertical-align: top;\n",
       "    }\n",
       "\n",
       "    .dataframe thead tr th {\n",
       "        text-align: left;\n",
       "    }\n",
       "</style>\n",
       "<table border=\"1\" class=\"dataframe\">\n",
       "  <thead>\n",
       "    <tr>\n",
       "      <th></th>\n",
       "      <th></th>\n",
       "      <th colspan=\"4\" halign=\"left\">kernel=2</th>\n",
       "      <th colspan=\"4\" halign=\"left\">kernel=3</th>\n",
       "    </tr>\n",
       "    <tr>\n",
       "      <th></th>\n",
       "      <th></th>\n",
       "      <th>adv_kreisz</th>\n",
       "      <th>adv_kreisz_cfit</th>\n",
       "      <th>kreisz</th>\n",
       "      <th>kreisz_cfit</th>\n",
       "      <th>adv_kreisz</th>\n",
       "      <th>adv_kreisz_cfit</th>\n",
       "      <th>kreisz</th>\n",
       "      <th>kreisz_cfit</th>\n",
       "    </tr>\n",
       "  </thead>\n",
       "  <tbody>\n",
       "    <tr>\n",
       "      <th rowspan=\"4\" valign=\"top\">n=100</th>\n",
       "      <th>cov</th>\n",
       "      <td>0.86</td>\n",
       "      <td>0.86</td>\n",
       "      <td>0.89</td>\n",
       "      <td>0.99</td>\n",
       "      <td>0.86</td>\n",
       "      <td>0.85</td>\n",
       "      <td>0.87</td>\n",
       "      <td>0.99</td>\n",
       "    </tr>\n",
       "    <tr>\n",
       "      <th>bias</th>\n",
       "      <td>-0.02</td>\n",
       "      <td>-0.02</td>\n",
       "      <td>-0.01</td>\n",
       "      <td>0.24</td>\n",
       "      <td>-0.02</td>\n",
       "      <td>-0.02</td>\n",
       "      <td>-0.01</td>\n",
       "      <td>0.25</td>\n",
       "    </tr>\n",
       "    <tr>\n",
       "      <th>rmse</th>\n",
       "      <td>0.27</td>\n",
       "      <td>0.29</td>\n",
       "      <td>0.28</td>\n",
       "      <td>1.46</td>\n",
       "      <td>0.27</td>\n",
       "      <td>0.29</td>\n",
       "      <td>0.28</td>\n",
       "      <td>1.48</td>\n",
       "    </tr>\n",
       "    <tr>\n",
       "      <th>ci_length</th>\n",
       "      <td>0.86</td>\n",
       "      <td>0.95</td>\n",
       "      <td>0.93</td>\n",
       "      <td>6.84</td>\n",
       "      <td>0.84</td>\n",
       "      <td>0.91</td>\n",
       "      <td>0.91</td>\n",
       "      <td>7.06</td>\n",
       "    </tr>\n",
       "    <tr>\n",
       "      <th rowspan=\"4\" valign=\"top\">n=200</th>\n",
       "      <th>cov</th>\n",
       "      <td>0.93</td>\n",
       "      <td>0.96</td>\n",
       "      <td>0.95</td>\n",
       "      <td>1.00</td>\n",
       "      <td>0.93</td>\n",
       "      <td>0.94</td>\n",
       "      <td>0.95</td>\n",
       "      <td>1.00</td>\n",
       "    </tr>\n",
       "    <tr>\n",
       "      <th>bias</th>\n",
       "      <td>-0.02</td>\n",
       "      <td>-0.02</td>\n",
       "      <td>-0.01</td>\n",
       "      <td>0.15</td>\n",
       "      <td>-0.02</td>\n",
       "      <td>-0.02</td>\n",
       "      <td>-0.01</td>\n",
       "      <td>0.17</td>\n",
       "    </tr>\n",
       "    <tr>\n",
       "      <th>rmse</th>\n",
       "      <td>0.17</td>\n",
       "      <td>0.19</td>\n",
       "      <td>0.18</td>\n",
       "      <td>0.78</td>\n",
       "      <td>0.17</td>\n",
       "      <td>0.18</td>\n",
       "      <td>0.18</td>\n",
       "      <td>0.82</td>\n",
       "    </tr>\n",
       "    <tr>\n",
       "      <th>ci_length</th>\n",
       "      <td>0.66</td>\n",
       "      <td>0.77</td>\n",
       "      <td>0.72</td>\n",
       "      <td>4.16</td>\n",
       "      <td>0.65</td>\n",
       "      <td>0.74</td>\n",
       "      <td>0.71</td>\n",
       "      <td>4.40</td>\n",
       "    </tr>\n",
       "    <tr>\n",
       "      <th rowspan=\"4\" valign=\"top\">n=300</th>\n",
       "      <th>cov</th>\n",
       "      <td>0.93</td>\n",
       "      <td>0.96</td>\n",
       "      <td>0.94</td>\n",
       "      <td>0.99</td>\n",
       "      <td>0.93</td>\n",
       "      <td>0.94</td>\n",
       "      <td>0.94</td>\n",
       "      <td>0.99</td>\n",
       "    </tr>\n",
       "    <tr>\n",
       "      <th>bias</th>\n",
       "      <td>0.01</td>\n",
       "      <td>0.02</td>\n",
       "      <td>0.01</td>\n",
       "      <td>0.18</td>\n",
       "      <td>0.01</td>\n",
       "      <td>0.02</td>\n",
       "      <td>0.01</td>\n",
       "      <td>0.20</td>\n",
       "    </tr>\n",
       "    <tr>\n",
       "      <th>rmse</th>\n",
       "      <td>0.14</td>\n",
       "      <td>0.16</td>\n",
       "      <td>0.15</td>\n",
       "      <td>0.64</td>\n",
       "      <td>0.14</td>\n",
       "      <td>0.16</td>\n",
       "      <td>0.15</td>\n",
       "      <td>0.68</td>\n",
       "    </tr>\n",
       "    <tr>\n",
       "      <th>ci_length</th>\n",
       "      <td>0.56</td>\n",
       "      <td>0.67</td>\n",
       "      <td>0.61</td>\n",
       "      <td>3.16</td>\n",
       "      <td>0.55</td>\n",
       "      <td>0.65</td>\n",
       "      <td>0.60</td>\n",
       "      <td>3.38</td>\n",
       "    </tr>\n",
       "    <tr>\n",
       "      <th rowspan=\"4\" valign=\"top\">n=500</th>\n",
       "      <th>cov</th>\n",
       "      <td>0.97</td>\n",
       "      <td>0.98</td>\n",
       "      <td>0.97</td>\n",
       "      <td>0.98</td>\n",
       "      <td>0.97</td>\n",
       "      <td>0.98</td>\n",
       "      <td>0.97</td>\n",
       "      <td>0.98</td>\n",
       "    </tr>\n",
       "    <tr>\n",
       "      <th>bias</th>\n",
       "      <td>0.01</td>\n",
       "      <td>0.02</td>\n",
       "      <td>0.01</td>\n",
       "      <td>0.14</td>\n",
       "      <td>0.01</td>\n",
       "      <td>0.02</td>\n",
       "      <td>0.01</td>\n",
       "      <td>0.16</td>\n",
       "    </tr>\n",
       "    <tr>\n",
       "      <th>rmse</th>\n",
       "      <td>0.11</td>\n",
       "      <td>0.12</td>\n",
       "      <td>0.11</td>\n",
       "      <td>0.43</td>\n",
       "      <td>0.11</td>\n",
       "      <td>0.12</td>\n",
       "      <td>0.11</td>\n",
       "      <td>0.47</td>\n",
       "    </tr>\n",
       "    <tr>\n",
       "      <th>ci_length</th>\n",
       "      <td>0.45</td>\n",
       "      <td>0.56</td>\n",
       "      <td>0.49</td>\n",
       "      <td>2.16</td>\n",
       "      <td>0.45</td>\n",
       "      <td>0.55</td>\n",
       "      <td>0.49</td>\n",
       "      <td>2.34</td>\n",
       "    </tr>\n",
       "    <tr>\n",
       "      <th rowspan=\"4\" valign=\"top\">n=700</th>\n",
       "      <th>cov</th>\n",
       "      <td>0.97</td>\n",
       "      <td>0.97</td>\n",
       "      <td>0.97</td>\n",
       "      <td>0.97</td>\n",
       "      <td>0.96</td>\n",
       "      <td>0.97</td>\n",
       "      <td>0.97</td>\n",
       "      <td>0.97</td>\n",
       "    </tr>\n",
       "    <tr>\n",
       "      <th>bias</th>\n",
       "      <td>0.01</td>\n",
       "      <td>0.02</td>\n",
       "      <td>0.02</td>\n",
       "      <td>0.10</td>\n",
       "      <td>0.01</td>\n",
       "      <td>0.02</td>\n",
       "      <td>0.02</td>\n",
       "      <td>0.12</td>\n",
       "    </tr>\n",
       "    <tr>\n",
       "      <th>rmse</th>\n",
       "      <td>0.09</td>\n",
       "      <td>0.11</td>\n",
       "      <td>0.10</td>\n",
       "      <td>0.36</td>\n",
       "      <td>0.10</td>\n",
       "      <td>0.11</td>\n",
       "      <td>0.10</td>\n",
       "      <td>0.39</td>\n",
       "    </tr>\n",
       "    <tr>\n",
       "      <th>ci_length</th>\n",
       "      <td>0.39</td>\n",
       "      <td>0.49</td>\n",
       "      <td>0.42</td>\n",
       "      <td>1.67</td>\n",
       "      <td>0.38</td>\n",
       "      <td>0.48</td>\n",
       "      <td>0.42</td>\n",
       "      <td>1.81</td>\n",
       "    </tr>\n",
       "    <tr>\n",
       "      <th rowspan=\"4\" valign=\"top\">n=1000</th>\n",
       "      <th>cov</th>\n",
       "      <td>0.95</td>\n",
       "      <td>0.96</td>\n",
       "      <td>0.92</td>\n",
       "      <td>0.96</td>\n",
       "      <td>0.94</td>\n",
       "      <td>0.96</td>\n",
       "      <td>0.92</td>\n",
       "      <td>0.96</td>\n",
       "    </tr>\n",
       "    <tr>\n",
       "      <th>bias</th>\n",
       "      <td>0.01</td>\n",
       "      <td>0.02</td>\n",
       "      <td>0.02</td>\n",
       "      <td>0.07</td>\n",
       "      <td>0.01</td>\n",
       "      <td>0.02</td>\n",
       "      <td>0.02</td>\n",
       "      <td>0.08</td>\n",
       "    </tr>\n",
       "    <tr>\n",
       "      <th>rmse</th>\n",
       "      <td>0.09</td>\n",
       "      <td>0.10</td>\n",
       "      <td>0.10</td>\n",
       "      <td>0.29</td>\n",
       "      <td>0.09</td>\n",
       "      <td>0.10</td>\n",
       "      <td>0.10</td>\n",
       "      <td>0.32</td>\n",
       "    </tr>\n",
       "    <tr>\n",
       "      <th>ci_length</th>\n",
       "      <td>0.33</td>\n",
       "      <td>0.42</td>\n",
       "      <td>0.36</td>\n",
       "      <td>1.26</td>\n",
       "      <td>0.33</td>\n",
       "      <td>0.41</td>\n",
       "      <td>0.36</td>\n",
       "      <td>1.38</td>\n",
       "    </tr>\n",
       "    <tr>\n",
       "      <th rowspan=\"4\" valign=\"top\">n=2000</th>\n",
       "      <th>cov</th>\n",
       "      <td>0.98</td>\n",
       "      <td>1.00</td>\n",
       "      <td>0.98</td>\n",
       "      <td>1.00</td>\n",
       "      <td>0.97</td>\n",
       "      <td>1.00</td>\n",
       "      <td>0.98</td>\n",
       "      <td>1.00</td>\n",
       "    </tr>\n",
       "    <tr>\n",
       "      <th>bias</th>\n",
       "      <td>0.01</td>\n",
       "      <td>0.01</td>\n",
       "      <td>0.01</td>\n",
       "      <td>0.01</td>\n",
       "      <td>0.01</td>\n",
       "      <td>0.01</td>\n",
       "      <td>0.01</td>\n",
       "      <td>0.01</td>\n",
       "    </tr>\n",
       "    <tr>\n",
       "      <th>rmse</th>\n",
       "      <td>0.05</td>\n",
       "      <td>0.06</td>\n",
       "      <td>0.06</td>\n",
       "      <td>0.13</td>\n",
       "      <td>0.05</td>\n",
       "      <td>0.06</td>\n",
       "      <td>0.06</td>\n",
       "      <td>0.14</td>\n",
       "    </tr>\n",
       "    <tr>\n",
       "      <th>ci_length</th>\n",
       "      <td>0.24</td>\n",
       "      <td>0.30</td>\n",
       "      <td>0.26</td>\n",
       "      <td>0.75</td>\n",
       "      <td>0.24</td>\n",
       "      <td>0.30</td>\n",
       "      <td>0.26</td>\n",
       "      <td>0.82</td>\n",
       "    </tr>\n",
       "  </tbody>\n",
       "</table>\n",
       "</div>"
      ],
      "text/plain": [
       "                   kernel=2                                      kernel=3  \\\n",
       "                 adv_kreisz adv_kreisz_cfit kreisz kreisz_cfit adv_kreisz   \n",
       "n=100  cov             0.86            0.86   0.89        0.99       0.86   \n",
       "       bias           -0.02           -0.02  -0.01        0.24      -0.02   \n",
       "       rmse            0.27            0.29   0.28        1.46       0.27   \n",
       "       ci_length       0.86            0.95   0.93        6.84       0.84   \n",
       "n=200  cov             0.93            0.96   0.95        1.00       0.93   \n",
       "       bias           -0.02           -0.02  -0.01        0.15      -0.02   \n",
       "       rmse            0.17            0.19   0.18        0.78       0.17   \n",
       "       ci_length       0.66            0.77   0.72        4.16       0.65   \n",
       "n=300  cov             0.93            0.96   0.94        0.99       0.93   \n",
       "       bias            0.01            0.02   0.01        0.18       0.01   \n",
       "       rmse            0.14            0.16   0.15        0.64       0.14   \n",
       "       ci_length       0.56            0.67   0.61        3.16       0.55   \n",
       "n=500  cov             0.97            0.98   0.97        0.98       0.97   \n",
       "       bias            0.01            0.02   0.01        0.14       0.01   \n",
       "       rmse            0.11            0.12   0.11        0.43       0.11   \n",
       "       ci_length       0.45            0.56   0.49        2.16       0.45   \n",
       "n=700  cov             0.97            0.97   0.97        0.97       0.96   \n",
       "       bias            0.01            0.02   0.02        0.10       0.01   \n",
       "       rmse            0.09            0.11   0.10        0.36       0.10   \n",
       "       ci_length       0.39            0.49   0.42        1.67       0.38   \n",
       "n=1000 cov             0.95            0.96   0.92        0.96       0.94   \n",
       "       bias            0.01            0.02   0.02        0.07       0.01   \n",
       "       rmse            0.09            0.10   0.10        0.29       0.09   \n",
       "       ci_length       0.33            0.42   0.36        1.26       0.33   \n",
       "n=2000 cov             0.98            1.00   0.98        1.00       0.97   \n",
       "       bias            0.01            0.01   0.01        0.01       0.01   \n",
       "       rmse            0.05            0.06   0.06        0.13       0.05   \n",
       "       ci_length       0.24            0.30   0.26        0.75       0.24   \n",
       "\n",
       "                                                     \n",
       "                 adv_kreisz_cfit kreisz kreisz_cfit  \n",
       "n=100  cov                  0.85   0.87        0.99  \n",
       "       bias                -0.02  -0.01        0.25  \n",
       "       rmse                 0.29   0.28        1.48  \n",
       "       ci_length            0.91   0.91        7.06  \n",
       "n=200  cov                  0.94   0.95        1.00  \n",
       "       bias                -0.02  -0.01        0.17  \n",
       "       rmse                 0.18   0.18        0.82  \n",
       "       ci_length            0.74   0.71        4.40  \n",
       "n=300  cov                  0.94   0.94        0.99  \n",
       "       bias                 0.02   0.01        0.20  \n",
       "       rmse                 0.16   0.15        0.68  \n",
       "       ci_length            0.65   0.60        3.38  \n",
       "n=500  cov                  0.98   0.97        0.98  \n",
       "       bias                 0.02   0.01        0.16  \n",
       "       rmse                 0.12   0.11        0.47  \n",
       "       ci_length            0.55   0.49        2.34  \n",
       "n=700  cov                  0.97   0.97        0.97  \n",
       "       bias                 0.02   0.02        0.12  \n",
       "       rmse                 0.11   0.10        0.39  \n",
       "       ci_length            0.48   0.42        1.81  \n",
       "n=1000 cov                  0.96   0.92        0.96  \n",
       "       bias                 0.02   0.02        0.08  \n",
       "       rmse                 0.10   0.10        0.32  \n",
       "       ci_length            0.41   0.36        1.38  \n",
       "n=2000 cov                  1.00   0.98        1.00  \n",
       "       bias                 0.01   0.01        0.01  \n",
       "       rmse                 0.06   0.06        0.14  \n",
       "       ci_length            0.30   0.26        0.82  "
      ]
     },
     "metadata": {},
     "output_type": "display_data"
    }
   ],
   "source": [
    "import pandas as pd\n",
    "with pd.option_context('display.float_format', '{:0.2f}'.format):\n",
    "    display(pd.concat(res, axis=1))"
   ]
  },
  {
   "cell_type": "code",
   "execution_count": 260,
   "metadata": {},
   "outputs": [
    {
     "name": "stdout",
     "output_type": "stream",
     "text": [
      "\\begin{tabular}{llrrrrrrrrrrrrrrrr}\n",
      "\\toprule\n",
      "       &           & \\multicolumn{4}{l}{kernel=0} & \\multicolumn{4}{l}{kernel=1} & \\multicolumn{4}{l}{kernel=2} & \\multicolumn{4}{l}{kernel=3} \\\\\n",
      "       &           & adv\\_kreisz & adv\\_kreisz\\_cfit & kreisz & kreisz\\_cfit & adv\\_kreisz & adv\\_kreisz\\_cfit & kreisz & kreisz\\_cfit & adv\\_kreisz & adv\\_kreisz\\_cfit & kreisz & kreisz\\_cfit & adv\\_kreisz & adv\\_kreisz\\_cfit & kreisz & kreisz\\_cfit \\\\\n",
      "\\midrule\n",
      "\\multirow{4}{*}{\\textbf{n=100}} & \\textbf{cov} &       0.71 &            0.74 &   0.76 &        0.99 &       0.86 &            0.87 &   0.89 &        0.98 &       0.86 &            0.86 &   0.89 &        0.99 &       0.86 &            0.85 &   0.87 &        0.99 \\\\\n",
      "       & \\textbf{bias} &      -0.08 &           -0.07 &  -0.07 &        0.24 &      -0.02 &           -0.01 &  -0.01 &        0.24 &      -0.02 &           -0.02 &  -0.01 &        0.24 &      -0.02 &           -0.02 &  -0.01 &        0.25 \\\\\n",
      "       & \\textbf{rmse} &       0.29 &            0.29 &   0.30 &        0.95 &       0.27 &            0.29 &   0.28 &        1.44 &       0.27 &            0.29 &   0.28 &        1.46 &       0.27 &            0.29 &   0.28 &        1.48 \\\\\n",
      "       & \\textbf{ci\\_length} &       0.62 &            0.69 &   0.80 &        4.81 &       0.86 &            0.97 &   0.93 &        6.79 &       0.86 &            0.95 &   0.93 &        6.84 &       0.84 &            0.91 &   0.91 &        7.06 \\\\\n",
      "\\cline{1-18}\n",
      "\\multirow{4}{*}{\\textbf{n=200}} & \\textbf{cov} &       0.82 &            0.91 &   0.89 &        1.00 &       0.95 &            0.96 &   0.95 &        1.00 &       0.93 &            0.96 &   0.95 &        1.00 &       0.93 &            0.94 &   0.95 &        1.00 \\\\\n",
      "       & \\textbf{bias} &      -0.07 &           -0.05 &  -0.06 &        0.17 &      -0.02 &           -0.02 &  -0.01 &        0.14 &      -0.02 &           -0.02 &  -0.01 &        0.15 &      -0.02 &           -0.02 &  -0.01 &        0.17 \\\\\n",
      "       & \\textbf{rmse} &       0.19 &            0.20 &   0.19 &        0.57 &       0.17 &            0.19 &   0.18 &        0.78 &       0.17 &            0.19 &   0.18 &        0.78 &       0.17 &            0.18 &   0.18 &        0.82 \\\\\n",
      "       & \\textbf{ci\\_length} &       0.55 &            0.69 &   0.66 &        2.99 &       0.66 &            0.77 &   0.72 &        4.13 &       0.66 &            0.77 &   0.72 &        4.16 &       0.65 &            0.74 &   0.71 &        4.40 \\\\\n",
      "\\cline{1-18}\n",
      "\\multirow{4}{*}{\\textbf{n=300}} & \\textbf{cov} &       0.90 &            0.94 &   0.92 &        0.99 &       0.93 &            0.96 &   0.94 &        0.99 &       0.93 &            0.96 &   0.94 &        0.99 &       0.93 &            0.94 &   0.94 &        0.99 \\\\\n",
      "       & \\textbf{bias} &      -0.03 &           -0.00 &  -0.02 &        0.21 &       0.01 &            0.02 &   0.01 &        0.17 &       0.01 &            0.02 &   0.01 &        0.18 &       0.01 &            0.02 &   0.01 &        0.20 \\\\\n",
      "       & \\textbf{rmse} &       0.14 &            0.15 &   0.15 &        0.43 &       0.14 &            0.16 &   0.15 &        0.64 &       0.14 &            0.16 &   0.15 &        0.64 &       0.14 &            0.16 &   0.15 &        0.68 \\\\\n",
      "       & \\textbf{ci\\_length} &       0.48 &            0.63 &   0.56 &        2.21 &       0.56 &            0.67 &   0.61 &        3.16 &       0.56 &            0.67 &   0.61 &        3.16 &       0.55 &            0.65 &   0.60 &        3.38 \\\\\n",
      "\\cline{1-18}\n",
      "\\multirow{4}{*}{\\textbf{n=500}} & \\textbf{cov} &       0.89 &            0.95 &   0.95 &        0.97 &       0.97 &            0.98 &   0.97 &        0.98 &       0.97 &            0.98 &   0.97 &        0.98 &       0.97 &            0.98 &   0.97 &        0.98 \\\\\n",
      "       & \\textbf{bias} &      -0.02 &           -0.00 &  -0.02 &        0.18 &       0.01 &            0.02 &   0.01 &        0.14 &       0.01 &            0.02 &   0.01 &        0.14 &       0.01 &            0.02 &   0.01 &        0.16 \\\\\n",
      "       & \\textbf{rmse} &       0.12 &            0.12 &   0.12 &        0.33 &       0.11 &            0.12 &   0.11 &        0.43 &       0.11 &            0.12 &   0.11 &        0.43 &       0.11 &            0.12 &   0.11 &        0.47 \\\\\n",
      "       & \\textbf{ci\\_length} &       0.39 &            0.51 &   0.45 &        1.51 &       0.45 &            0.56 &   0.49 &        2.16 &       0.45 &            0.56 &   0.49 &        2.16 &       0.45 &            0.55 &   0.49 &        2.34 \\\\\n",
      "\\cline{1-18}\n",
      "\\multirow{4}{*}{\\textbf{n=700}} & \\textbf{cov} &       0.92 &            0.98 &   0.95 &        0.96 &       0.97 &            0.97 &   0.97 &        0.97 &       0.97 &            0.97 &   0.97 &        0.97 &       0.96 &            0.97 &   0.97 &        0.97 \\\\\n",
      "       & \\textbf{bias} &      -0.01 &            0.01 &  -0.00 &        0.17 &       0.01 &            0.02 &   0.02 &        0.10 &       0.01 &            0.02 &   0.02 &        0.10 &       0.01 &            0.02 &   0.02 &        0.12 \\\\\n",
      "       & \\textbf{rmse} &       0.10 &            0.11 &   0.10 &        0.28 &       0.09 &            0.11 &   0.10 &        0.36 &       0.09 &            0.11 &   0.10 &        0.36 &       0.10 &            0.11 &   0.10 &        0.39 \\\\\n",
      "       & \\textbf{ci\\_length} &       0.34 &            0.44 &   0.39 &        1.17 &       0.39 &            0.49 &   0.42 &        1.66 &       0.39 &            0.49 &   0.42 &        1.67 &       0.38 &            0.48 &   0.42 &        1.81 \\\\\n",
      "\\cline{1-18}\n",
      "\\multirow{4}{*}{\\textbf{n=1000}} & \\textbf{cov} &       0.91 &            0.97 &   0.94 &        0.93 &       0.94 &            0.96 &   0.92 &        0.96 &       0.95 &            0.96 &   0.92 &        0.96 &       0.94 &            0.96 &   0.92 &        0.96 \\\\\n",
      "       & \\textbf{bias} &      -0.01 &            0.01 &  -0.00 &        0.13 &       0.01 &            0.02 &   0.02 &        0.07 &       0.01 &            0.02 &   0.02 &        0.07 &       0.01 &            0.02 &   0.02 &        0.08 \\\\\n",
      "       & \\textbf{rmse} &       0.09 &            0.09 &   0.09 &        0.23 &       0.09 &            0.10 &   0.10 &        0.29 &       0.09 &            0.10 &   0.10 &        0.29 &       0.09 &            0.10 &   0.10 &        0.32 \\\\\n",
      "       & \\textbf{ci\\_length} &       0.29 &            0.37 &   0.34 &        0.89 &       0.33 &            0.42 &   0.36 &        1.26 &       0.33 &            0.42 &   0.36 &        1.26 &       0.33 &            0.41 &   0.36 &        1.38 \\\\\n",
      "\\cline{1-18}\n",
      "\\multirow{4}{*}{\\textbf{n=2000}} & \\textbf{cov} &       0.97 &            0.98 &   0.97 &        0.99 &       0.98 &            1.00 &   0.98 &        1.00 &       0.98 &            1.00 &   0.98 &        1.00 &       0.97 &            1.00 &   0.98 &        1.00 \\\\\n",
      "       & \\textbf{bias} &      -0.01 &            0.01 &  -0.00 &        0.07 &       0.01 &            0.01 &   0.01 &        0.01 &       0.01 &            0.01 &   0.01 &        0.01 &       0.01 &            0.01 &   0.01 &        0.01 \\\\\n",
      "       & \\textbf{rmse} &       0.06 &            0.06 &   0.06 &        0.11 &       0.05 &            0.06 &   0.06 &        0.13 &       0.05 &            0.06 &   0.06 &        0.13 &       0.05 &            0.06 &   0.06 &        0.14 \\\\\n",
      "       & \\textbf{ci\\_length} &       0.22 &            0.27 &   0.25 &        0.52 &       0.24 &            0.30 &   0.26 &        0.75 &       0.24 &            0.30 &   0.26 &        0.75 &       0.24 &            0.30 &   0.26 &        0.82 \\\\\n",
      "\\bottomrule\n",
      "\\end{tabular}\n",
      "\n"
     ]
    }
   ],
   "source": [
    "import pandas as pd\n",
    "with pd.option_context('display.float_format', '{:0.2f}'.format):\n",
    "    print(pd.concat(res, axis=1).to_latex(bold_rows=True, multirow=True))"
   ]
  },
  {
   "cell_type": "code",
   "execution_count": null,
   "metadata": {},
   "outputs": [],
   "source": []
  }
 ],
 "metadata": {
  "accelerator": "GPU",
  "colab": {
   "collapsed_sections": [],
   "name": "LinearAdversarialReisz.ipynb",
   "provenance": [],
   "toc_visible": true
  },
  "kernelspec": {
   "display_name": "Python 3",
   "language": "python",
   "name": "python3"
  },
  "language_info": {
   "codemirror_mode": {
    "name": "ipython",
    "version": 3
   },
   "file_extension": ".py",
   "mimetype": "text/x-python",
   "name": "python",
   "nbconvert_exporter": "python",
   "pygments_lexer": "ipython3",
   "version": "3.8.5"
  }
 },
 "nbformat": 4,
 "nbformat_minor": 1
}
