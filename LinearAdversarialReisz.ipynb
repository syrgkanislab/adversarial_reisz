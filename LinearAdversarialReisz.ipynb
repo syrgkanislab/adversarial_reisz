{
 "cells": [
  {
   "cell_type": "code",
   "execution_count": null,
   "metadata": {},
   "outputs": [],
   "source": [
    "%load_ext autoreload\n",
    "%autoreload 2\n",
    "%load_ext tensorboard\n",
    "%matplotlib inline"
   ]
  },
  {
   "cell_type": "markdown",
   "metadata": {
    "colab_type": "text",
    "id": "BuoLBhVCsZH4"
   },
   "source": [
    "# Mounting and Installation of Package: Only on Google Colab"
   ]
  },
  {
   "cell_type": "code",
   "execution_count": null,
   "metadata": {
    "colab": {
     "base_uri": "https://localhost:8080/",
     "height": 34
    },
    "colab_type": "code",
    "executionInfo": {
     "elapsed": 23503,
     "status": "ok",
     "timestamp": 1600703943988,
     "user": {
      "displayName": "Vasilis Syrganis",
      "photoUrl": "https://lh3.googleusercontent.com/a-/AOh14GjxUYeW9b7fysN1nK65PWILriYGqqfmpUsWgLP7ZA=s64",
      "userId": "00968929417250286436"
     },
     "user_tz": 240
    },
    "id": "qzgUxtXH6VLv",
    "outputId": "c8a07674-3599-4ccb-f09e-947f985bd37c"
   },
   "outputs": [],
   "source": [
    "from google.colab import drive\n",
    "drive.mount('/content/drive')"
   ]
  },
  {
   "cell_type": "code",
   "execution_count": null,
   "metadata": {
    "colab": {
     "base_uri": "https://localhost:8080/",
     "height": 34
    },
    "colab_type": "code",
    "executionInfo": {
     "elapsed": 912,
     "status": "ok",
     "timestamp": 1600703943990,
     "user": {
      "displayName": "Vasilis Syrganis",
      "photoUrl": "https://lh3.googleusercontent.com/a-/AOh14GjxUYeW9b7fysN1nK65PWILriYGqqfmpUsWgLP7ZA=s64",
      "userId": "00968929417250286436"
     },
     "user_tz": 240
    },
    "id": "IPYKayvg60tz",
    "outputId": "2811e8ed-a1a3-401d-b217-0ef7c5075dae"
   },
   "outputs": [],
   "source": [
    "cd /content/drive/My\\ Drive/Colab\\ Notebooks/adversarial_reisz"
   ]
  },
  {
   "cell_type": "code",
   "execution_count": null,
   "metadata": {
    "colab": {
     "base_uri": "https://localhost:8080/",
     "height": 238
    },
    "colab_type": "code",
    "executionInfo": {
     "elapsed": 9111,
     "status": "ok",
     "timestamp": 1600703953746,
     "user": {
      "displayName": "Vasilis Syrganis",
      "photoUrl": "https://lh3.googleusercontent.com/a-/AOh14GjxUYeW9b7fysN1nK65PWILriYGqqfmpUsWgLP7ZA=s64",
      "userId": "00968929417250286436"
     },
     "user_tz": 240
    },
    "id": "TlAupEbu7-vl",
    "outputId": "fa114d5f-e803-4f9f-af00-8087e1ce8ebb"
   },
   "outputs": [],
   "source": [
    "!python setup.py develop"
   ]
  },
  {
   "cell_type": "markdown",
   "metadata": {},
   "source": [
    "# Library Imports"
   ]
  },
  {
   "cell_type": "code",
   "execution_count": null,
   "metadata": {
    "colab": {},
    "colab_type": "code",
    "executionInfo": {
     "elapsed": 12742,
     "status": "ok",
     "timestamp": 1600703958646,
     "user": {
      "displayName": "Vasilis Syrganis",
      "photoUrl": "https://lh3.googleusercontent.com/a-/AOh14GjxUYeW9b7fysN1nK65PWILriYGqqfmpUsWgLP7ZA=s64",
      "userId": "00968929417250286436"
     },
     "user_tz": 240
    },
    "id": "Tb0UNXId8Sbh"
   },
   "outputs": [],
   "source": [
    "import numpy as np\n",
    "from pathlib import Path\n",
    "import matplotlib.pyplot as plt\n",
    "import scipy\n",
    "import scipy.special"
   ]
  },
  {
   "cell_type": "markdown",
   "metadata": {
    "colab_type": "text",
    "id": "u-OfQSQislV8"
   },
   "source": [
    "# Data Generation\n",
    "\n",
    "Data are generated as:\n",
    "\\begin{align}\n",
    "x[1:] \\sim~& U[-1, 1]^{d-1}\\\\\n",
    "x[0] \\sim~& Binomial(1, .5 + .3 \\cdot g(x))\\\\\n",
    "y \\sim~& x[0] + g(x) + N(0, 1)\n",
    "\\end{align}\n",
    "We consider several non-linear functions $g$. We then want to learn some average moment $E[m(x, y; f)]$ of the regression function \n",
    "\\begin{equation}\n",
    "f(x) = E[y\\mid x] = x[0] + g(x).\n",
    "\\end{equation}"
   ]
  },
  {
   "cell_type": "code",
   "execution_count": null,
   "metadata": {
    "colab": {},
    "colab_type": "code",
    "executionInfo": {
     "elapsed": 646,
     "status": "ok",
     "timestamp": 1600707662455,
     "user": {
      "displayName": "Vasilis Syrganis",
      "photoUrl": "https://lh3.googleusercontent.com/a-/AOh14GjxUYeW9b7fysN1nK65PWILriYGqqfmpUsWgLP7ZA=s64",
      "userId": "00968929417250286436"
     },
     "user_tz": 240
    },
    "id": "4Ry4CsWaP_LB"
   },
   "outputs": [],
   "source": [
    "def nonlin(x):\n",
    "    # return 1.5 * (x[:, 1]**2)\n",
    "    # return x[:, 1]\n",
    "    # return scipy.special.expit(10 * x[:, 1])\n",
    "    return np.abs(x[:, 1])\n",
    "    # return 1.5*scipy.special.expit(10 * x[:, 1]) - 1.5*scipy.special.expit(10 * x[:, 2])\n",
    "\n",
    "def true_propensity(X):\n",
    "    return .5 + .3 * nonlin(X)\n",
    "\n",
    "def true_f(X):\n",
    "    return X[:, 0] + nonlin(X)\n",
    "\n",
    "def gen_data(n, p):\n",
    "    X = np.random.uniform(-1, 1, size=(n, p))\n",
    "    X[:, 0] = np.random.binomial(1, true_propensity(X))\n",
    "    y = true_f(X) + np.random.normal(size=(n,))\n",
    "    return X, y\n",
    "\n",
    "np.random.seed(123)\n",
    "n = 2000\n",
    "p = 3\n",
    "X, y = gen_data(n, p)\n",
    "X_test, y_test = gen_data(n, p)"
   ]
  },
  {
   "cell_type": "markdown",
   "metadata": {},
   "source": [
    "# Moment Definition"
   ]
  },
  {
   "cell_type": "markdown",
   "metadata": {},
   "source": [
    "### ATE Moment"
   ]
  },
  {
   "cell_type": "code",
   "execution_count": null,
   "metadata": {},
   "outputs": [],
   "source": [
    "def moment_fn(x, test_fn):\n",
    "    t1 = test_fn(np.hstack([np.ones((x.shape[0], 1)), x[:, 1:]]))\n",
    "    t0 = test_fn(np.hstack([np.zeros((x.shape[0], 1)), x[:, 1:]]))\n",
    "    return t1 - t0\n",
    "\n",
    "def true_reisz(x, propensity):\n",
    "    return (x[:, 0]==1) / propensity(x) - (x[:, 0]==0)/(1 - propensity(x))"
   ]
  },
  {
   "cell_type": "markdown",
   "metadata": {},
   "source": [
    "### Policy Moment"
   ]
  },
  {
   "cell_type": "code",
   "execution_count": null,
   "metadata": {},
   "outputs": [],
   "source": [
    "policy = lambda x: scipy.special.expit(10*x[:, 1])\n",
    "\n",
    "def moment_fn(x, test_fn):\n",
    "    t1 = test_fn(np.hstack([np.ones((x.shape[0], 1)), x[:, 1:]]))\n",
    "    t0 = test_fn(np.hstack([np.zeros((x.shape[0], 1)), x[:, 1:]]))\n",
    "    p1 = policy(x)\n",
    "    if len(t1.shape) > 1:\n",
    "        p1 = p1.reshape(-1, 1)\n",
    "    return t1 * p1 + t0 * (1 - p1) \n",
    "\n",
    "def true_reisz(x, propensity):\n",
    "    p1 = policy(x)\n",
    "    prop1 = propensity(x)\n",
    "    return p1 * (x[:, 0]==1) / prop1 + (1 - p1) * (x[:, 0]==0)/(1 - prop1)"
   ]
  },
  {
   "cell_type": "markdown",
   "metadata": {},
   "source": [
    "### X-Transportation"
   ]
  },
  {
   "cell_type": "markdown",
   "metadata": {},
   "source": [
    "The true Reisz is more complex here due to the correlation of T=X[:, 0] and X[:, 1]. We have, let $t=X[:, 0]$ and $x=X[:, 1]$. Then the relevant ratios are:\n",
    "\\begin{align}\n",
    "\\frac{f_{trans}(t, x)}{f(t, x)} = \\frac{Pr[T=t|X=t^{-1}(x)] f(t^{-1}(x)) (t^{-1}(x))'}{Pr[T=t|X=x] f(x)} \n",
    "\\end{align}\n",
    "When $x$ is drawn from the uniform distribution, then the density if constant and the above simplifies to:\n",
    "\\begin{align}\n",
    "\\frac{f_{trans}(t, x)}{f(t, x)}= \\frac{Pr[T=t|X=t^{-1}(x)] (t^{-1}(x))'}{Pr[T=t|X=x]}\n",
    "\\end{align}"
   ]
  },
  {
   "cell_type": "code",
   "execution_count": null,
   "metadata": {},
   "outputs": [],
   "source": [
    "trans = lambda x: (1 + x)**(1/2)/2**(1/2)\n",
    "invtrans = lambda u: 2 * (u**2) - 1\n",
    "grad_invtrans = lambda u: 4 * u\n",
    "\n",
    "def moment_fn(x, test_fn):\n",
    "    tx =  np.hstack([x[:, [0]], trans(x[:, [1]]), x[:, 2:]])\n",
    "    return test_fn(tx) - test_fn(x)\n",
    "\n",
    "def true_reisz(x, propensity=None):\n",
    "    invtx = np.hstack([x[:, [0]], invtrans(x[:, [1]]), x[:, 2:]])\n",
    "    out0 = np.clip(propensity(invtx) * grad_invtrans(x[:, 1]) / propensity(x), 0, np.inf)\n",
    "    out1 = np.clip((1 - propensity(invtx)) * grad_invtrans(x[:, 1]) / (1 - propensity(x)), 0, np.inf)\n",
    "    return out0 * x[:, 0] + out1 * (1 - x[:, 0]) - 1"
   ]
  },
  {
   "cell_type": "markdown",
   "metadata": {
    "colab_type": "text",
    "id": "7kYbcJCts1BK"
   },
   "source": [
    "# Adversarial Reisz Estimator"
   ]
  },
  {
   "cell_type": "code",
   "execution_count": null,
   "metadata": {
    "colab": {
     "base_uri": "https://localhost:8080/",
     "height": 34
    },
    "colab_type": "code",
    "executionInfo": {
     "elapsed": 447,
     "status": "ok",
     "timestamp": 1600707663180,
     "user": {
      "displayName": "Vasilis Syrganis",
      "photoUrl": "https://lh3.googleusercontent.com/a-/AOh14GjxUYeW9b7fysN1nK65PWILriYGqqfmpUsWgLP7ZA=s64",
      "userId": "00968929417250286436"
     },
     "user_tz": 240
    },
    "id": "AkCdpInLQDNW",
    "outputId": "5496ab4c-3daf-4483-ce22-1eb33210d7de"
   },
   "outputs": [],
   "source": [
    "from advreisz.linear import SparseLinearAdvRiesz\n",
    "from advreisz.linear.utilities import SeparateFeaturizer, CoordinatePolynomialFeatures"
   ]
  },
  {
   "cell_type": "code",
   "execution_count": null,
   "metadata": {},
   "outputs": [],
   "source": [
    "from sklearn.preprocessing import PolynomialFeatures, StandardScaler\n",
    "from sklearn.kernel_approximation import Nystroem, RBFSampler\n",
    "from sklearn.pipeline import Pipeline\n",
    "\n",
    "# feat = Pipeline([('p', CoordinatePolynomialFeatures(degree=3))])\n",
    "feat = Pipeline([('p', PolynomialFeatures(degree=4, include_bias=False))])\n",
    "# feat = Pipeline([('nys', Nystroem(n_components=100, kernel='rbf', gamma=5, degree=3))])\n",
    "# feat = Pipeline([('nys', RBFSampler(n_components=100, gamma=2))])\n",
    "feat.steps.append(('s', StandardScaler()))\n",
    "feat.steps.append(('cnt', PolynomialFeatures(degree=1, include_bias=True)))\n",
    "# feat = Pipeline([('p', SeparateFeaturizer(feat))])\n",
    "# feat.steps.append(('cnt', PolynomialFeatures(degree=1, include_bias=True)))\n",
    "splin = SparseLinearAdvRiesz(moment_fn, featurizer=feat,\n",
    "                             n_iter=50000, lambda_theta=0.01, B=10,\n",
    "                             tol=0.00001).fit(X)"
   ]
  },
  {
   "cell_type": "code",
   "execution_count": null,
   "metadata": {},
   "outputs": [],
   "source": [
    "coefs = splin.coef\n",
    "print(\"Maximum violation: \", splin.max_violation_)\n",
    "#print(\"Estimated non-zero coefs: \", np.array(list(zip(splin.get_feature_names(), coefs))))\n",
    "print(\"Min/Max: \", splin.min_response_loss_, splin.max_response_loss_)\n",
    "print(\"Dualit Gap: \", splin.duality_gap_)\n",
    "print(\"Iters: \", splin.n_iters_)"
   ]
  },
  {
   "cell_type": "code",
   "execution_count": null,
   "metadata": {
    "colab": {},
    "colab_type": "code",
    "id": "NjYK24bkibel"
   },
   "outputs": [],
   "source": [
    "plt.plot(np.log(np.array(splin.duality_gaps)))\n",
    "plt.show()"
   ]
  },
  {
   "cell_type": "code",
   "execution_count": null,
   "metadata": {},
   "outputs": [],
   "source": [
    "plt.plot(np.exp(np.array(splin.log_theta_list)))\n",
    "plt.show()"
   ]
  },
  {
   "cell_type": "code",
   "execution_count": null,
   "metadata": {},
   "outputs": [],
   "source": [
    "plt.plot(np.exp(np.array(splin.log_w_list)))\n",
    "plt.show()"
   ]
  },
  {
   "cell_type": "markdown",
   "metadata": {},
   "source": [
    "# Evaluation of Learned Reisz Representer"
   ]
  },
  {
   "cell_type": "code",
   "execution_count": null,
   "metadata": {},
   "outputs": [],
   "source": [
    "plt.figure()\n",
    "treated = (X_test[:, 0] == 1)\n",
    "plt.scatter(true_reisz(X_test[treated], true_propensity), splin.predict(X_test[treated]))\n",
    "plt.xlabel('true reisz')\n",
    "plt.ylabel('estimated reisz')\n",
    "plt.show()"
   ]
  },
  {
   "cell_type": "code",
   "execution_count": null,
   "metadata": {},
   "outputs": [],
   "source": [
    "plt.figure(figsize=(15, 5))\n",
    "error = true_reisz(X_test, true_propensity) - splin.predict(X_test)\n",
    "plt.title(\"RMSE: {:.3f}, MAE: {:.3f}\".format(np.sqrt(np.mean(error**2)), np.mean(np.abs(error))))\n",
    "for t in [0, 1]:\n",
    "    plt.subplot(1, 2, t + 1)\n",
    "    treated = (X_test[:, 0]==t)\n",
    "    Xtreated = X_test[treated].copy()\n",
    "    Xtreated[:, 1] = np.linspace(-1, 1, Xtreated.shape[0])\n",
    "    plt.plot(Xtreated[:, 1], splin.predict(Xtreated), label='est a({}, X)'.format(t))\n",
    "    plt.plot(Xtreated[:, 1], true_reisz(Xtreated, true_propensity), label='true a({}, X)'.format(t))\n",
    "    plt.legend()\n",
    "plt.show()"
   ]
  },
  {
   "cell_type": "markdown",
   "metadata": {},
   "source": [
    "# Debiased Average Moment Estimate\n",
    "\n",
    "Applying the learned Reisz representer in order to debias a preliminary regression based model of the ATE"
   ]
  },
  {
   "cell_type": "code",
   "execution_count": null,
   "metadata": {},
   "outputs": [],
   "source": [
    "def mean_ci(data, confidence=0.95):\n",
    "    a = 1.0 * np.array(data)\n",
    "    n = len(a)\n",
    "    m, se = np.mean(a), scipy.stats.sem(a)\n",
    "    h = se * scipy.stats.t.ppf((1 + confidence) / 2., n-1)\n",
    "    return m, m-h, m+h"
   ]
  },
  {
   "cell_type": "code",
   "execution_count": null,
   "metadata": {},
   "outputs": [],
   "source": [
    "from sklearn.linear_model import LassoCV, Lasso, LogisticRegressionCV\n",
    "from sklearn.pipeline import Pipeline\n",
    "\n",
    "est = Pipeline([('p', PolynomialFeatures(degree=1)), ('l', Lasso(alpha=.1))]).fit(X, y)\n",
    "propensity = Pipeline([('p', PolynomialFeatures(degree=1)), ('l', LogisticRegressionCV())]).fit(X[:, 1:], X[:, 0])"
   ]
  },
  {
   "cell_type": "code",
   "execution_count": null,
   "metadata": {},
   "outputs": [],
   "source": [
    "a_test = splin.predict(X_test)\n",
    "invp_test = true_reisz(X_test, lambda x: propensity.predict_proba(x[:, 1:])[:, 1])\n",
    "true_ate = np.mean(moment_fn(X_test, true_f))\n",
    "naive_ate = np.mean(y_test[X_test[:, 0]==1]) - np.mean(y_test[X_test[:, 0]==0])\n",
    "biased_ate = np.mean(moment_fn(X_test, est.predict))\n",
    "ips_ate = np.mean(invp_test * y_test)\n",
    "reisz_ate = np.mean(a_test * y_test)\n",
    "dr_ate = biased_ate + np.mean(invp_test * (y_test - est.predict(X_test)))\n",
    "dr_reisz_ate, dr_reisz_low, dr_reisz_up = mean_ci(moment_fn(X_test, est.predict) + a_test * (y_test - est.predict(X_test)))"
   ]
  },
  {
   "cell_type": "code",
   "execution_count": null,
   "metadata": {},
   "outputs": [],
   "source": [
    "print(\"True ATE: {:.3f}\".format(true_ate))\n",
    "print(\"Mean of Treated - Mean of Untreated: {:.3f}\".format(naive_ate))\n",
    "print(\"Lasso Regression based Estimate: {:.3f}\".format(biased_ate))\n",
    "print(\"IPS estimate with explicit propensity based reisz estimate (i.e. mean(a(X) Y)): {:.3f}\".format(ips_ate))\n",
    "print(\"IPS estimate with adversarial reisz: {:.3f}\".format(reisz_ate))\n",
    "print(\"DR estimate with explict propensity based reisz estimate: {:.3f}\".format(dr_ate))\n",
    "print(\"DR estimate with adversarial reisz: {:.3f} ({:.3f}, {:.3f})\".format(dr_reisz_ate, dr_reisz_low, dr_reisz_up))"
   ]
  },
  {
   "cell_type": "code",
   "execution_count": null,
   "metadata": {},
   "outputs": [],
   "source": [
    "dr_reisz_ate = []\n",
    "reisz_ate = []\n",
    "biased_ate = []\n",
    "dr_reisz_cov = []\n",
    "reisz_cov = []\n",
    "for exp in range(1000):\n",
    "    Xboot, yboot = gen_data(n, p)\n",
    "    aboot = splin.predict(Xboot)\n",
    "    drm, drl, dru = mean_ci(moment_fn(Xboot, est.predict) + aboot * (yboot - est.predict(Xboot)))\n",
    "    rm, rl, ru = mean_ci(aboot * yboot)\n",
    "    dr_reisz_ate.append(drm)\n",
    "    reisz_ate.append(rm)\n",
    "    dr_reisz_cov.append((true_ate <= dru) & (true_ate >= drl))\n",
    "    reisz_cov.append((true_ate <= ru) & (true_ate >= rl))"
   ]
  },
  {
   "cell_type": "code",
   "execution_count": null,
   "metadata": {},
   "outputs": [],
   "source": [
    "plt.title(\"Mean advDR: {:.3f}, Coverage advDR: {:.3f}, \"\n",
    "          \"Mean advIPS: {:.3f}, Coverage advIPS: {:.3f}\".format(np.mean(dr_reisz_ate),\n",
    "                                                               np.mean(dr_reisz_cov),\n",
    "                                                               np.mean(reisz_ate),\n",
    "                                                               np.mean(reisz_cov)))\n",
    "plt.hist(np.array(dr_reisz_ate), alpha=.5, label='advDR')\n",
    "plt.hist(np.array(reisz_ate), alpha=.5, label='advIPS')\n",
    "plt.legend()\n",
    "plt.show()"
   ]
  },
  {
   "cell_type": "code",
   "execution_count": null,
   "metadata": {},
   "outputs": [],
   "source": []
  }
 ],
 "metadata": {
  "accelerator": "GPU",
  "colab": {
   "collapsed_sections": [],
   "name": "AdversarialReisz.ipynb",
   "provenance": [],
   "toc_visible": true
  },
  "kernelspec": {
   "display_name": "Python 3",
   "language": "python",
   "name": "python3"
  },
  "language_info": {
   "codemirror_mode": {
    "name": "ipython",
    "version": 3
   },
   "file_extension": ".py",
   "mimetype": "text/x-python",
   "name": "python",
   "nbconvert_exporter": "python",
   "pygments_lexer": "ipython3",
   "version": "3.7.4"
  }
 },
 "nbformat": 4,
 "nbformat_minor": 1
}
