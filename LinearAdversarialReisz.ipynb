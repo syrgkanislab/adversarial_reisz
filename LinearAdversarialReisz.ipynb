{
 "cells": [
  {
   "cell_type": "markdown",
   "metadata": {
    "colab_type": "text",
    "id": "BuoLBhVCsZH4"
   },
   "source": [
    "# Mounting and Installation of Package"
   ]
  },
  {
   "cell_type": "code",
   "execution_count": 1,
   "metadata": {
    "colab": {},
    "colab_type": "code",
    "executionInfo": {
     "elapsed": 1018,
     "status": "ok",
     "timestamp": 1600703918286,
     "user": {
      "displayName": "Vasilis Syrganis",
      "photoUrl": "https://lh3.googleusercontent.com/a-/AOh14GjxUYeW9b7fysN1nK65PWILriYGqqfmpUsWgLP7ZA=s64",
      "userId": "00968929417250286436"
     },
     "user_tz": 240
    },
    "id": "smV9HO2jmgzR"
   },
   "outputs": [],
   "source": [
    "%load_ext autoreload\n",
    "%autoreload 2\n",
    "%load_ext tensorboard\n",
    "%matplotlib inline"
   ]
  },
  {
   "cell_type": "code",
   "execution_count": 2,
   "metadata": {
    "colab": {
     "base_uri": "https://localhost:8080/",
     "height": 34
    },
    "colab_type": "code",
    "executionInfo": {
     "elapsed": 23503,
     "status": "ok",
     "timestamp": 1600703943988,
     "user": {
      "displayName": "Vasilis Syrganis",
      "photoUrl": "https://lh3.googleusercontent.com/a-/AOh14GjxUYeW9b7fysN1nK65PWILriYGqqfmpUsWgLP7ZA=s64",
      "userId": "00968929417250286436"
     },
     "user_tz": 240
    },
    "id": "qzgUxtXH6VLv",
    "outputId": "c8a07674-3599-4ccb-f09e-947f985bd37c"
   },
   "outputs": [
    {
     "name": "stdout",
     "output_type": "stream",
     "text": [
      "Mounted at /content/drive\n"
     ]
    }
   ],
   "source": [
    "from google.colab import drive\n",
    "drive.mount('/content/drive')"
   ]
  },
  {
   "cell_type": "code",
   "execution_count": 3,
   "metadata": {
    "colab": {
     "base_uri": "https://localhost:8080/",
     "height": 34
    },
    "colab_type": "code",
    "executionInfo": {
     "elapsed": 912,
     "status": "ok",
     "timestamp": 1600703943990,
     "user": {
      "displayName": "Vasilis Syrganis",
      "photoUrl": "https://lh3.googleusercontent.com/a-/AOh14GjxUYeW9b7fysN1nK65PWILriYGqqfmpUsWgLP7ZA=s64",
      "userId": "00968929417250286436"
     },
     "user_tz": 240
    },
    "id": "IPYKayvg60tz",
    "outputId": "2811e8ed-a1a3-401d-b217-0ef7c5075dae"
   },
   "outputs": [
    {
     "name": "stdout",
     "output_type": "stream",
     "text": [
      "/content/drive/My Drive/Colab Notebooks/adversarial_reisz\n"
     ]
    }
   ],
   "source": [
    "cd /content/drive/My\\ Drive/Colab\\ Notebooks/adversarial_reisz"
   ]
  },
  {
   "cell_type": "code",
   "execution_count": 2,
   "metadata": {
    "colab": {
     "base_uri": "https://localhost:8080/",
     "height": 238
    },
    "colab_type": "code",
    "executionInfo": {
     "elapsed": 9111,
     "status": "ok",
     "timestamp": 1600703953746,
     "user": {
      "displayName": "Vasilis Syrganis",
      "photoUrl": "https://lh3.googleusercontent.com/a-/AOh14GjxUYeW9b7fysN1nK65PWILriYGqqfmpUsWgLP7ZA=s64",
      "userId": "00968929417250286436"
     },
     "user_tz": 240
    },
    "id": "TlAupEbu7-vl",
    "outputId": "fa114d5f-e803-4f9f-af00-8087e1ce8ebb"
   },
   "outputs": [
    {
     "name": "stdout",
     "output_type": "stream",
     "text": [
      "running develop\n",
      "running egg_info\n",
      "writing advreisz.egg-info\\PKG-INFO\n",
      "writing dependency_links to advreisz.egg-info\\dependency_links.txt\n",
      "writing top-level names to advreisz.egg-info\\top_level.txt\n",
      "reading manifest file 'advreisz.egg-info\\SOURCES.txt'\n",
      "writing manifest file 'advreisz.egg-info\\SOURCES.txt'\n",
      "running build_ext\n",
      "Creating c:\\programdata\\anaconda3\\lib\\site-packages\\advreisz.egg-link (link to .)\n",
      "Adding advreisz 0.0.1 to easy-install.pth file\n",
      "\n",
      "Installed c:\\users\\vasy\\google drive\\colab notebooks\\adversarial_reisz\n",
      "Processing dependencies for advreisz==0.0.1\n",
      "Finished processing dependencies for advreisz==0.0.1\n"
     ]
    }
   ],
   "source": [
    "!python setup.py develop"
   ]
  },
  {
   "cell_type": "code",
   "execution_count": 2,
   "metadata": {
    "colab": {},
    "colab_type": "code",
    "executionInfo": {
     "elapsed": 12742,
     "status": "ok",
     "timestamp": 1600703958646,
     "user": {
      "displayName": "Vasilis Syrganis",
      "photoUrl": "https://lh3.googleusercontent.com/a-/AOh14GjxUYeW9b7fysN1nK65PWILriYGqqfmpUsWgLP7ZA=s64",
      "userId": "00968929417250286436"
     },
     "user_tz": 240
    },
    "id": "Tb0UNXId8Sbh"
   },
   "outputs": [],
   "source": [
    "import numpy as np\n",
    "from pathlib import Path\n",
    "import matplotlib.pyplot as plt"
   ]
  },
  {
   "cell_type": "markdown",
   "metadata": {
    "colab_type": "text",
    "id": "u-OfQSQislV8"
   },
   "source": [
    "# Data Generation"
   ]
  },
  {
   "cell_type": "code",
   "execution_count": 49,
   "metadata": {
    "colab": {},
    "colab_type": "code",
    "executionInfo": {
     "elapsed": 646,
     "status": "ok",
     "timestamp": 1600707662455,
     "user": {
      "displayName": "Vasilis Syrganis",
      "photoUrl": "https://lh3.googleusercontent.com/a-/AOh14GjxUYeW9b7fysN1nK65PWILriYGqqfmpUsWgLP7ZA=s64",
      "userId": "00968929417250286436"
     },
     "user_tz": 240
    },
    "id": "4Ry4CsWaP_LB"
   },
   "outputs": [],
   "source": [
    "def true_propensity(X):\n",
    "    return .5 + .3* X[:, 1]\n",
    "\n",
    "def true_reisz(X):\n",
    "    return (X[:, 0]==1)/true_propensity(X) - (X[:, 0]==0)/(1 - true_propensity(X))\n",
    "\n",
    "def true_f(X):\n",
    "    return X[:, 0] + X[:, 1] * X[:, 2]\n",
    "\n",
    "def gen_data(n, p):\n",
    "    X = np.random.uniform(-1, 1, size=(n, p))\n",
    "    X[:, 0] = np.random.binomial(1, true_propensity(X))\n",
    "    y = true_f(X) + np.random.normal(size=(n,))\n",
    "    return X, y\n",
    "\n",
    "np.random.seed(123)\n",
    "n = 5000\n",
    "p = 5\n",
    "X, y = gen_data(n, p)\n",
    "X_test, y_test = gen_data(n, p)"
   ]
  },
  {
   "cell_type": "code",
   "execution_count": 50,
   "metadata": {},
   "outputs": [],
   "source": [
    "from advreisz.linear import SparseLinearAdvRiesz"
   ]
  },
  {
   "cell_type": "code",
   "execution_count": 51,
   "metadata": {},
   "outputs": [],
   "source": [
    "class SeparateFeaturizer:\n",
    "    \n",
    "    def __init__(self, featurizer):\n",
    "        self.featurizer = featurizer\n",
    "    def transform(self, X):\n",
    "        T = X[:, [0]]\n",
    "        feats = self.featurizer.transform(X[:, 1:])\n",
    "        return np.hstack([T * feats, (1 - T) * feats])\n",
    "    def fit_transform(self, X):\n",
    "        T = X[:, [0]]\n",
    "        feats = self.featurizer.fit_transform(X[:, 1:])\n",
    "        return np.hstack([T * feats, (1 - T) * feats])\n",
    "    def get_feature_names(self):\n",
    "        return ['T0 * {}'.format(i) for i in self.featurizer.get_feature_names()] +\\\n",
    "                ['T1 * {}'.format(i) for i in self.featurizer.get_feature_names()]"
   ]
  },
  {
   "cell_type": "code",
   "execution_count": 63,
   "metadata": {},
   "outputs": [],
   "source": [
    "def moment_fn(x, test_fn):\n",
    "    t1 = np.hstack([np.ones((x.shape[0], 1)), x[:, 1:]])\n",
    "    t0 = np.hstack([np.zeros((x.shape[0], 1)), x[:, 1:]])\n",
    "    return test_fn(t1) - test_fn(t0) \n",
    "\n",
    "from sklearn.preprocessing import PolynomialFeatures\n",
    "#feat = SeparateFeaturizer(PolynomialFeatures(degree=1, include_bias=True))\n",
    "feat = PolynomialFeatures(degree=3, include_bias=True)\n",
    "splin = SparseLinearAdvRiesz(moment_fn, featurizer=feat,\n",
    "                             n_iter=10000, lambda_theta=0.01).fit(X)"
   ]
  },
  {
   "cell_type": "code",
   "execution_count": 64,
   "metadata": {},
   "outputs": [
    {
     "name": "stdout",
     "output_type": "stream",
     "text": [
      "Maximum violation:  0.00302725980907403\n",
      "Estimated non-zero coefs:  [['1' '-1.9720292173956881']\n",
      " ['x0' '1.3009878797723728']\n",
      " ['x1' '-1.1298281667940075']\n",
      " ['x2' '-0.038544576832422114']\n",
      " ['x3' '0.06402654060901203']\n",
      " ['x4' '-0.020388475326144448']\n",
      " ['x0^2' '1.3009878797723728']\n",
      " ['x0 x1' '-0.010222422450173504']\n",
      " ['x0 x2' '0.029804777582759193']\n",
      " ['x0 x3' '0.047092066084510914']\n",
      " ['x0 x4' '0.02229836557715023']\n",
      " ['x1^2' '-0.9284449104231546']\n",
      " ['x1 x2' '-0.08051445397079032']\n",
      " ['x1 x3' '-0.06904083108075174']\n",
      " ['x1 x4' '-0.07940217316344028']\n",
      " ['x2^2' '-0.09665915356866259']\n",
      " ['x2 x3' '0.024381854775724493']\n",
      " ['x2 x4' '0.07822808281079102']\n",
      " ['x3^2' '0.016006814300319624']\n",
      " ['x3 x4' '-0.03625415416707134']\n",
      " ['x4^2' '-0.15841178207082982']\n",
      " ['x0^3' '1.3009878797723728']\n",
      " ['x0^2 x1' '-0.010222422450173504']\n",
      " ['x0^2 x2' '0.029804777582759193']\n",
      " ['x0^2 x3' '0.047092066084510914']\n",
      " ['x0^2 x4' '0.02229836557715023']\n",
      " ['x0 x1^2' '1.9968581325336807']\n",
      " ['x0 x1 x2' '0.002764114097150605']\n",
      " ['x0 x1 x3' '-0.062442480617270577']\n",
      " ['x0 x1 x4' '-0.051787005683174625']\n",
      " ['x0 x2^2' '0.16742056881265596']\n",
      " ['x0 x2 x3' '-0.023266755019654625']\n",
      " ['x0 x2 x4' '-0.04911537792163598']\n",
      " ['x0 x3^2' '0.04109882552551368']\n",
      " ['x0 x3 x4' '0.0020432812659951505']\n",
      " ['x0 x4^2' '0.12302954029429308']\n",
      " ['x1^3' '-0.6336929905169737']\n",
      " ['x1^2 x2' '0.06468185999406814']\n",
      " ['x1^2 x3' '-0.01826547698252154']\n",
      " ['x1^2 x4' '0.006779168274921074']\n",
      " ['x1 x2^2' '-0.1159809223861303']\n",
      " ['x1 x2 x3' '-0.0830239282984537']\n",
      " ['x1 x2 x4' '0.20089297730150507']\n",
      " ['x1 x3^2' '0.12232296469439949']\n",
      " ['x1 x3 x4' '0.006929648324278226']\n",
      " ['x1 x4^2' '-0.2587551521582216']\n",
      " ['x2^3' '-0.026883972516399013']\n",
      " ['x2^2 x3' '0.03279519531424656']\n",
      " ['x2^2 x4' '0.03240566933689175']\n",
      " ['x2 x3^2' '-0.09935449709827951']\n",
      " ['x2 x3 x4' '0.028756689628472706']\n",
      " ['x2 x4^2' '-0.0766970623471676']\n",
      " ['x3^3' '-0.21935995111139522']\n",
      " ['x3^2 x4' '-0.01654553395719595']\n",
      " ['x3 x4^2' '0.11902341989794277']\n",
      " ['x4^3' '-0.006022652076726587']]\n",
      "Min/Max:  -0.04837322598631589 0.016630215713056364\n",
      "Dualit Gap:  0.06500344169937225\n",
      "Iters:  10000\n"
     ]
    }
   ],
   "source": [
    "coefs = splin.coef\n",
    "print(\"Maximum violation: \", splin.max_violation_)\n",
    "print(\"Estimated non-zero coefs: \", np.array(list(zip(splin.get_feature_names(), coefs))))\n",
    "print(\"Min/Max: \", splin.min_response_loss_, splin.max_response_loss_)\n",
    "print(\"Dualit Gap: \", splin.duality_gap_)\n",
    "print(\"Iters: \", splin.n_iters_)"
   ]
  },
  {
   "cell_type": "code",
   "execution_count": 65,
   "metadata": {},
   "outputs": [
    {
     "data": {
      "image/png": "[encoded data removed]",
      "text/plain": [
       "<Figure size 432x288 with 1 Axes>"
      ]
     },
     "metadata": {
      "needs_background": "light"
     },
     "output_type": "display_data"
    }
   ],
   "source": [
    "plt.plot(splin.duality_gaps)\n",
    "plt.show()"
   ]
  },
  {
   "cell_type": "markdown",
   "metadata": {
    "colab_type": "text",
    "id": "536cOtIStHAk"
   },
   "source": [
    "# Evaluation of Learned Reisz Representer"
   ]
  },
  {
   "cell_type": "code",
   "execution_count": 66,
   "metadata": {
    "colab": {
     "base_uri": "https://localhost:8080/",
     "height": 279
    },
    "colab_type": "code",
    "executionInfo": {
     "elapsed": 46931,
     "status": "ok",
     "timestamp": 1600707712959,
     "user": {
      "displayName": "Vasilis Syrganis",
      "photoUrl": "https://lh3.googleusercontent.com/a-/AOh14GjxUYeW9b7fysN1nK65PWILriYGqqfmpUsWgLP7ZA=s64",
      "userId": "00968929417250286436"
     },
     "user_tz": 240
    },
    "id": "PBWxHZ4euceE",
    "outputId": "3dbdac46-d15b-4722-d9dd-8527e0a9cc68"
   },
   "outputs": [
    {
     "data": {
      "image/png": "[encoded data removed]",
      "text/plain": [
       "<Figure size 432x288 with 1 Axes>"
      ]
     },
     "metadata": {
      "needs_background": "light"
     },
     "output_type": "display_data"
    }
   ],
   "source": [
    "plt.figure()\n",
    "treated = (X_test[:, 0] == 1)\n",
    "plt.scatter(true_reisz(X_test[treated]), splin.predict(X_test[treated]))\n",
    "plt.xlabel('true reisz')\n",
    "plt.ylabel('estimated reisz')\n",
    "plt.show()"
   ]
  },
  {
   "cell_type": "code",
   "execution_count": 67,
   "metadata": {
    "colab": {
     "base_uri": "https://localhost:8080/",
     "height": 281
    },
    "colab_type": "code",
    "executionInfo": {
     "elapsed": 46478,
     "status": "ok",
     "timestamp": 1600707712960,
     "user": {
      "displayName": "Vasilis Syrganis",
      "photoUrl": "https://lh3.googleusercontent.com/a-/AOh14GjxUYeW9b7fysN1nK65PWILriYGqqfmpUsWgLP7ZA=s64",
      "userId": "00968929417250286436"
     },
     "user_tz": 240
    },
    "id": "o3if777uVojq",
    "outputId": "1ac0334f-09da-40d5-d3fd-7bfd1e86dcd9"
   },
   "outputs": [
    {
     "data": {
      "image/png": "[encoded data removed]",
      "text/plain": [
       "<Figure size 432x288 with 1 Axes>"
      ]
     },
     "metadata": {
      "needs_background": "light"
     },
     "output_type": "display_data"
    }
   ],
   "source": [
    "plt.figure()\n",
    "error = true_reisz(X_test) - splin.predict(X_test)\n",
    "plt.title(\"RMSE: {:.3f}, MAE: {:.3f}\".format(np.sqrt(np.mean(error**2)), np.mean(np.abs(error))))\n",
    "for t in [0, 1]:\n",
    "    treated = (X_test[:, 0]==t)\n",
    "    Xtreated = X_test[treated].copy()\n",
    "    Xtreated[:, 1] = np.linspace(-1, 1, Xtreated.shape[0])\n",
    "    plt.plot(Xtreated[:, 1], splin.predict(Xtreated), label='est a({}, X)'.format(t))\n",
    "    plt.plot(Xtreated[:, 1], true_reisz(Xtreated), label='true a({}, X)'.format(t))\n",
    "plt.legend()\n",
    "plt.show()"
   ]
  },
  {
   "cell_type": "markdown",
   "metadata": {
    "colab_type": "text",
    "id": "i198Pt1g0iM3"
   },
   "source": [
    "# Debiasing ATE\n",
    "\n",
    "Applying the learned Reisz representer in order to debias a preliminary regression based model of the ATE"
   ]
  },
  {
   "cell_type": "code",
   "execution_count": 68,
   "metadata": {
    "colab": {},
    "colab_type": "code",
    "executionInfo": {
     "elapsed": 41207,
     "status": "ok",
     "timestamp": 1600707713678,
     "user": {
      "displayName": "Vasilis Syrganis",
      "photoUrl": "https://lh3.googleusercontent.com/a-/AOh14GjxUYeW9b7fysN1nK65PWILriYGqqfmpUsWgLP7ZA=s64",
      "userId": "00968929417250286436"
     },
     "user_tz": 240
    },
    "id": "MNPDwt_nlSOf"
   },
   "outputs": [],
   "source": [
    "from sklearn.linear_model import LassoCV, Lasso, LogisticRegressionCV\n",
    "\n",
    "est = Lasso(alpha=0.1).fit(X, y)\n",
    "propensity = LogisticRegressionCV().fit(X[:, 1:], X[:, 0])"
   ]
  },
  {
   "cell_type": "code",
   "execution_count": 69,
   "metadata": {
    "colab": {},
    "colab_type": "code",
    "executionInfo": {
     "elapsed": 41030,
     "status": "ok",
     "timestamp": 1600707713678,
     "user": {
      "displayName": "Vasilis Syrganis",
      "photoUrl": "https://lh3.googleusercontent.com/a-/AOh14GjxUYeW9b7fysN1nK65PWILriYGqqfmpUsWgLP7ZA=s64",
      "userId": "00968929417250286436"
     },
     "user_tz": 240
    },
    "id": "8t2Q8z7fuXht"
   },
   "outputs": [],
   "source": [
    "t1 = np.hstack([np.ones((X_test.shape[0], 1)), X_test[:, 1:]])\n",
    "t0 = np.hstack([np.zeros((X_test.shape[0], 1)), X_test[:, 1:]])\n",
    "a_test = splin.predict(X_test)\n",
    "prop_test = propensity.predict_proba(X_test[:, 1:])[:, 1]\n",
    "invp_test = (X_test[:, 0]==1)/prop_test - (X_test[:, 0]==0)/(1 - prop_test)\n",
    "naive_ate = np.mean(y_test[X_test[:, 0]==1]) - np.mean(y_test[X_test[:, 0]==0])\n",
    "biased_ate = np.mean(est.predict(t1) - est.predict(t0))\n",
    "ips_ate = np.mean(invp_test * y_test)\n",
    "reisz_ate = np.mean(a_test * y_test)\n",
    "dr_ate = np.mean(est.predict(t1) - est.predict(t0) + invp_test * (y_test - est.predict(X_test)))\n",
    "dr_reisz_ate = np.mean(est.predict(t1) - est.predict(t0) + a_test * (y_test - est.predict(X_test)))"
   ]
  },
  {
   "cell_type": "code",
   "execution_count": 70,
   "metadata": {
    "colab": {
     "base_uri": "https://localhost:8080/",
     "height": 136
    },
    "colab_type": "code",
    "executionInfo": {
     "elapsed": 40874,
     "status": "ok",
     "timestamp": 1600707713679,
     "user": {
      "displayName": "Vasilis Syrganis",
      "photoUrl": "https://lh3.googleusercontent.com/a-/AOh14GjxUYeW9b7fysN1nK65PWILriYGqqfmpUsWgLP7ZA=s64",
      "userId": "00968929417250286436"
     },
     "user_tz": 240
    },
    "id": "qkY0bb1ixeOj",
    "outputId": "ebedf658-166c-4db8-fecf-95a44a64bd08"
   },
   "outputs": [
    {
     "name": "stdout",
     "output_type": "stream",
     "text": [
      "True ATE: 1.000\n",
      "Mean of Treated - Mean of Untreated: 0.967\n",
      "Lasso Regression based Estimate: 0.582\n",
      "IPS estimate with explicit propensity based reisz estimate (i.e. mean(a(X) Y)): 0.960\n",
      "IPS estimate with adversarial reisz: 0.960\n",
      "DR estimate with explict propensity based reisz estimate: 0.959\n",
      "DR estimate with adversarial reisz: 0.955\n"
     ]
    }
   ],
   "source": [
    "print(\"True ATE: {:.3f}\".format(np.mean(true_f(t1) - true_f(t0))))\n",
    "print(\"Mean of Treated - Mean of Untreated: {:.3f}\".format(naive_ate))\n",
    "print(\"Lasso Regression based Estimate: {:.3f}\".format(biased_ate))\n",
    "print(\"IPS estimate with explicit propensity based reisz estimate (i.e. mean(a(X) Y)): {:.3f}\".format(ips_ate))\n",
    "print(\"IPS estimate with adversarial reisz: {:.3f}\".format(reisz_ate))\n",
    "print(\"DR estimate with explict propensity based reisz estimate: {:.3f}\".format(dr_ate))\n",
    "print(\"DR estimate with adversarial reisz: {:.3f}\".format(dr_reisz_ate))"
   ]
  },
  {
   "cell_type": "code",
   "execution_count": 71,
   "metadata": {
    "colab": {},
    "colab_type": "code",
    "executionInfo": {
     "elapsed": 42985,
     "status": "ok",
     "timestamp": 1600707715965,
     "user": {
      "displayName": "Vasilis Syrganis",
      "photoUrl": "https://lh3.googleusercontent.com/a-/AOh14GjxUYeW9b7fysN1nK65PWILriYGqqfmpUsWgLP7ZA=s64",
      "userId": "00968929417250286436"
     },
     "user_tz": 240
    },
    "id": "FIe_otjUUjJS"
   },
   "outputs": [],
   "source": [
    "dr_reisz_ate = []\n",
    "reisz_ate = []\n",
    "biased_ate = []\n",
    "for exp in range(1000):\n",
    "    Xboot, yboot = gen_data(n, p)\n",
    "    t1 = np.hstack([np.ones((Xboot.shape[0], 1)), Xboot[:, 1:]])\n",
    "    t0 = np.hstack([np.zeros((Xboot.shape[0], 1)), Xboot[:, 1:]])\n",
    "    aboot = splin.predict(Xboot)\n",
    "    dr_reisz_ate.append(np.mean(est.predict(t1) - est.predict(t0) + aboot * (yboot - est.predict(Xboot))))\n",
    "    reisz_ate.append(np.mean(aboot * yboot))"
   ]
  },
  {
   "cell_type": "code",
   "execution_count": 72,
   "metadata": {
    "colab": {
     "base_uri": "https://localhost:8080/",
     "height": 265
    },
    "colab_type": "code",
    "executionInfo": {
     "elapsed": 42393,
     "status": "ok",
     "timestamp": 1600707715967,
     "user": {
      "displayName": "Vasilis Syrganis",
      "photoUrl": "https://lh3.googleusercontent.com/a-/AOh14GjxUYeW9b7fysN1nK65PWILriYGqqfmpUsWgLP7ZA=s64",
      "userId": "00968929417250286436"
     },
     "user_tz": 240
    },
    "id": "HS_y-N97iEGc",
    "outputId": "0ce77fc4-e42e-4f14-a9a9-348687c67196"
   },
   "outputs": [
    {
     "data": {
      "image/png": "[encoded data removed]",
      "text/plain": [
       "<Figure size 432x288 with 1 Axes>"
      ]
     },
     "metadata": {
      "needs_background": "light"
     },
     "output_type": "display_data"
    }
   ],
   "source": [
    "plt.hist(np.array(dr_reisz_ate), alpha=.5, label='advDR')\n",
    "plt.hist(np.array(reisz_ate), alpha=.5, label='advIPS')\n",
    "plt.legend()\n",
    "plt.show()"
   ]
  },
  {
   "cell_type": "code",
   "execution_count": null,
   "metadata": {
    "colab": {},
    "colab_type": "code",
    "id": "NjYK24bkibel"
   },
   "outputs": [],
   "source": []
  }
 ],
 "metadata": {
  "accelerator": "GPU",
  "colab": {
   "collapsed_sections": [],
   "name": "AdversarialReisz.ipynb",
   "provenance": [],
   "toc_visible": true
  },
  "kernelspec": {
   "display_name": "Python 3",
   "language": "python",
   "name": "python3"
  },
  "language_info": {
   "codemirror_mode": {
    "name": "ipython",
    "version": 3
   },
   "file_extension": ".py",
   "mimetype": "text/x-python",
   "name": "python",
   "nbconvert_exporter": "python",
   "pygments_lexer": "ipython3",
   "version": "3.7.4"
  }
 },
 "nbformat": 4,
 "nbformat_minor": 1
}
