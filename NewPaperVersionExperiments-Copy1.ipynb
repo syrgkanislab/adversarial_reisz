{
 "cells": [
  {
   "cell_type": "code",
   "execution_count": 1,
   "metadata": {},
   "outputs": [],
   "source": [
    "%load_ext autoreload\n",
    "%autoreload 2\n",
    "%matplotlib inline"
   ]
  },
  {
   "cell_type": "code",
   "execution_count": 2,
   "metadata": {},
   "outputs": [],
   "source": [
    "from experiments import *"
   ]
  },
  {
   "cell_type": "code",
   "execution_count": 3,
   "metadata": {},
   "outputs": [],
   "source": [
    "target_dir = 'local_results'\n",
    "n_samples_list = [1000, 2000, 5000]\n",
    "dgp = 3\n",
    "sample_its = 100\n",
    "n_jobs = -1\n",
    "gcv = True"
   ]
  },
  {
   "cell_type": "code",
   "execution_count": 10,
   "metadata": {},
   "outputs": [],
   "source": [
    "datafolder = f\"data_dgp_{dgp}\"\n",
    "if not os.path.exists(datafolder):\n",
    "    os.makedirs(datafolder)\n",
    "for n in n_samples_list:\n",
    "    os.makedirs(os.path.join(datafolder, f\"n_{n}\"))\n",
    "    for it in np.arange(1, 1 + sample_its):\n",
    "        X, y, true_reg, true_prop = gen_data(dgp, it, n)\n",
    "        os.makedirs(os.path.join(datafolder, f\"n_{n}\", f\"{it}\"))\n",
    "        np.savetxt(os.path.join(datafolder, f\"n_{n}\", f\"{it}\", \"X.csv\"), X[:, 1:], delimiter=',')\n",
    "        np.savetxt(os.path.join(datafolder, f\"n_{n}\", f\"{it}\", \"D.csv\"), X[:, [0]], delimiter=',')\n",
    "        np.savetxt(os.path.join(datafolder, f\"n_{n}\", f\"{it}\", \"y.csv\"), y.reshape(-1, 1), delimiter=',')\n",
    "        np.savetxt(os.path.join(datafolder, f\"n_{n}\", f\"{it}\", \"true_reg.csv\"), true_reg.reshape(-1, 1), delimiter=',')\n",
    "        np.savetxt(os.path.join(datafolder, f\"n_{n}\", f\"{it}\", \"true_prop.csv\"), true_prop.reshape(-1, 1), delimiter=',')"
   ]
  },
  {
   "cell_type": "code",
   "execution_count": 5,
   "metadata": {},
   "outputs": [
    {
     "data": {
      "image/png": "[encoded data removed]",
      "text/plain": [
       "<Figure size 640x480 with 1 Axes>"
      ]
     },
     "metadata": {},
     "output_type": "display_data"
    }
   ],
   "source": [
    "import matplotlib.pyplot as plt\n",
    "\n",
    "plt.scatter(X[:, 1], true_prop)\n",
    "plt.show()"
   ]
  },
  {
   "cell_type": "code",
   "execution_count": 6,
   "metadata": {
    "scrolled": true
   },
   "outputs": [
    {
     "name": "stderr",
     "output_type": "stream",
     "text": [
      "[Parallel(n_jobs=-1)]: Using backend LokyBackend with 20 concurrent workers.\n",
      "[Parallel(n_jobs=-1)]: Done  95 out of 100 | elapsed:  1.2min remaining:    3.7s\n",
      "[Parallel(n_jobs=-1)]: Done 100 out of 100 | elapsed:  1.2min finished\n",
      "[Parallel(n_jobs=-1)]: Using backend LokyBackend with 20 concurrent workers.\n",
      "[Parallel(n_jobs=-1)]: Done  95 out of 100 | elapsed:   40.6s remaining:    2.0s\n",
      "[Parallel(n_jobs=-1)]: Done 100 out of 100 | elapsed:   41.1s finished\n",
      "[Parallel(n_jobs=-1)]: Using backend LokyBackend with 20 concurrent workers.\n",
      "[Parallel(n_jobs=-1)]: Done  95 out of 100 | elapsed:  1.7min remaining:    5.3s\n",
      "[Parallel(n_jobs=-1)]: Done 100 out of 100 | elapsed:  1.7min finished\n",
      "[Parallel(n_jobs=-1)]: Using backend LokyBackend with 20 concurrent workers.\n",
      "[Parallel(n_jobs=-1)]: Done  95 out of 100 | elapsed:  1.8min remaining:    5.5s\n",
      "[Parallel(n_jobs=-1)]: Done 100 out of 100 | elapsed:  1.8min finished\n",
      "[Parallel(n_jobs=-1)]: Using backend LokyBackend with 20 concurrent workers.\n",
      "[Parallel(n_jobs=-1)]: Done  95 out of 100 | elapsed:  7.7min remaining:   24.1s\n",
      "[Parallel(n_jobs=-1)]: Done 100 out of 100 | elapsed:  7.8min finished\n",
      "[Parallel(n_jobs=-1)]: Using backend LokyBackend with 20 concurrent workers.\n",
      "[Parallel(n_jobs=-1)]: Done  95 out of 100 | elapsed: 33.2min remaining:  1.7min\n",
      "[Parallel(n_jobs=-1)]: Done 100 out of 100 | elapsed: 33.6min finished\n",
      "[Parallel(n_jobs=-1)]: Using backend LokyBackend with 20 concurrent workers.\n",
      "[Parallel(n_jobs=-1)]: Done  95 out of 100 | elapsed:   40.4s remaining:    2.0s\n",
      "[Parallel(n_jobs=-1)]: Done 100 out of 100 | elapsed:   41.5s finished\n",
      "[Parallel(n_jobs=-1)]: Using backend LokyBackend with 20 concurrent workers.\n",
      "[Parallel(n_jobs=-1)]: Done  95 out of 100 | elapsed:   42.1s remaining:    2.1s\n",
      "[Parallel(n_jobs=-1)]: Done 100 out of 100 | elapsed:   42.6s finished\n",
      "[Parallel(n_jobs=-1)]: Using backend LokyBackend with 20 concurrent workers.\n",
      "[Parallel(n_jobs=-1)]: Done  95 out of 100 | elapsed:  1.8min remaining:    5.6s\n",
      "[Parallel(n_jobs=-1)]: Done 100 out of 100 | elapsed:  1.8min finished\n",
      "[Parallel(n_jobs=-1)]: Using backend LokyBackend with 20 concurrent workers.\n",
      "[Parallel(n_jobs=-1)]: Done  95 out of 100 | elapsed:  2.0min remaining:    6.3s\n",
      "[Parallel(n_jobs=-1)]: Done 100 out of 100 | elapsed:  2.1min finished\n",
      "[Parallel(n_jobs=-1)]: Using backend LokyBackend with 20 concurrent workers.\n",
      "[Parallel(n_jobs=-1)]: Done  95 out of 100 | elapsed:  1.1min remaining:    3.5s\n",
      "[Parallel(n_jobs=-1)]: Done 100 out of 100 | elapsed:  1.1min finished\n",
      "[Parallel(n_jobs=-1)]: Using backend LokyBackend with 20 concurrent workers.\n",
      "[Parallel(n_jobs=-1)]: Done  95 out of 100 | elapsed:  1.1min remaining:    3.5s\n",
      "[Parallel(n_jobs=-1)]: Done 100 out of 100 | elapsed:  1.2min finished\n",
      "[Parallel(n_jobs=-1)]: Using backend LokyBackend with 20 concurrent workers.\n",
      "[Parallel(n_jobs=-1)]: Done  95 out of 100 | elapsed:  3.8min remaining:   11.9s\n",
      "[Parallel(n_jobs=-1)]: Done 100 out of 100 | elapsed:  3.8min finished\n",
      "[Parallel(n_jobs=-1)]: Using backend LokyBackend with 20 concurrent workers.\n",
      "[Parallel(n_jobs=-1)]: Done  95 out of 100 | elapsed: 18.9min remaining:   59.5s\n",
      "[Parallel(n_jobs=-1)]: Done 100 out of 100 | elapsed: 18.9min finished\n",
      "[Parallel(n_jobs=-1)]: Using backend LokyBackend with 20 concurrent workers.\n",
      "[Parallel(n_jobs=-1)]: Done  95 out of 100 | elapsed:  3.7min remaining:   11.6s\n",
      "[Parallel(n_jobs=-1)]: Done 100 out of 100 | elapsed:  3.8min finished\n",
      "[Parallel(n_jobs=-1)]: Using backend LokyBackend with 20 concurrent workers.\n",
      "[Parallel(n_jobs=-1)]: Done  95 out of 100 | elapsed: 16.8min remaining:   53.0s\n",
      "[Parallel(n_jobs=-1)]: Done 100 out of 100 | elapsed: 17.5min finished\n"
     ]
    }
   ],
   "source": [
    "target_dir = 'local_results'\n",
    "n_samples_list = [100]\n",
    "dgp = 1\n",
    "sample_its = 100\n",
    "n_jobs = -1\n",
    "gcv = True\n",
    "\n",
    "advkernel_experiments(n_samples_list, dgp=dgp, target_dir=target_dir, kernelid=2, sample_its=sample_its, n_jobs=n_jobs, gcv_reg=gcv)\n",
    "auto_advkernel_experiments(n_samples_list, dgp=dgp, target_dir=target_dir, sample_its=sample_its, n_jobs=n_jobs, gcv_reg=gcv)\n",
    "splin_experiments(n_samples_list, dgp=dgp, target_dir=target_dir, sample_its=sample_its, n_jobs=n_jobs, gcv_reg=gcv)\n",
    "pluginlg_experiments(n_samples_list, dgp=dgp, target_dir=target_dir, sample_its=sample_its, n_jobs=n_jobs, gcv_reg=gcv)\n",
    "pluginrf_experiments(n_samples_list, dgp=dgp, target_dir=target_dir, sample_its=sample_its, n_jobs=n_jobs, gcv_reg=gcv)\n",
    "nystrom_advkernel_experiments(n_samples_list, dgp=dgp, target_dir=target_dir, kernelid=2, sample_its=sample_its, n_jobs=n_jobs, gcv_reg=gcv)\n",
    "rf_experiments(n_samples_list, dgp=dgp, target_dir=target_dir, sample_its=sample_its, n_jobs=n_jobs, gcv_reg=gcv)\n",
    "nnet_experiments(n_samples_list, dgp=dgp, target_dir=target_dir, sample_its=sample_its, n_jobs=n_jobs, gcv_reg=gcv)"
   ]
  },
  {
   "cell_type": "code",
   "execution_count": null,
   "metadata": {},
   "outputs": [
    {
     "name": "stderr",
     "output_type": "stream",
     "text": [
      "[Parallel(n_jobs=-1)]: Using backend LokyBackend with 20 concurrent workers.\n"
     ]
    }
   ],
   "source": [
    "target_dir = 'local_results'\n",
    "n_samples_list = [1000]\n",
    "dgp = 3\n",
    "sample_its = 100\n",
    "n_jobs = -1\n",
    "gcv = True\n",
    "\n",
    "advkernel_experiments(n_samples_list, dgp=dgp, target_dir=target_dir, kernelid=2, sample_its=sample_its, n_jobs=n_jobs, gcv_reg=gcv)\n",
    "auto_advkernel_experiments(n_samples_list, dgp=dgp, target_dir=target_dir, sample_its=sample_its, n_jobs=n_jobs, gcv_reg=gcv)\n",
    "splin_experiments(n_samples_list, dgp=dgp, target_dir=target_dir, sample_its=sample_its, n_jobs=n_jobs, gcv_reg=gcv)\n",
    "pluginlg_experiments(n_samples_list, dgp=dgp, target_dir=target_dir, sample_its=sample_its, n_jobs=n_jobs, gcv_reg=gcv)\n",
    "pluginrf_experiments(n_samples_list, dgp=dgp, target_dir=target_dir, sample_its=sample_its, n_jobs=n_jobs, gcv_reg=gcv)\n",
    "nystrom_advkernel_experiments(n_samples_list, dgp=dgp, target_dir=target_dir, kernelid=2, sample_its=sample_its, n_jobs=n_jobs, gcv_reg=gcv)\n",
    "rf_experiments(n_samples_list, dgp=dgp, target_dir=target_dir, sample_its=sample_its, n_jobs=n_jobs, gcv_reg=gcv)\n",
    "nnet_experiments(n_samples_list, dgp=dgp, target_dir=target_dir, sample_its=sample_its, n_jobs=n_jobs, gcv_reg=gcv)"
   ]
  },
  {
   "cell_type": "code",
   "execution_count": 6,
   "metadata": {},
   "outputs": [],
   "source": [
    "target_dir = 'local_results'\n",
    "n_samples_list = [2000]\n",
    "dgp = 3\n",
    "sample_its = 100\n",
    "n_jobs = -1\n",
    "gcv = True\n",
    "\n",
    "res = [advkernel_postprocess(n_samples_list, dgp=dgp, target_dir=target_dir, sample_its=sample_its),\n",
    "#     auto_advkernel_postprocess(n_samples_list, dgp=dgp, target_dir=target_dir, sample_its=sample_its),\n",
    "#     splin_postprocess(n_samples_list, dgp=dgp, target_dir=target_dir, sample_its=sample_its),\n",
    "#     pluginlg_postprocess(n_samples_list, dgp=dgp, target_dir=target_dir, sample_its=sample_its),\n",
    "#     pluginrf_postprocess(n_samples_list, dgp=dgp, target_dir=target_dir, sample_its=sample_its),\n",
    "#     nystrom_advkernel_postprocess(n_samples_list, dgp=dgp, target_dir=target_dir, sample_its=sample_its),\n",
    "#     rf_postprocess(n_samples_list, dgp=dgp, target_dir=target_dir, sample_its=sample_its),\n",
    "#     nnet_postprocess(n_samples_list, dgp=dgp, target_dir=target_dir, sample_its=sample_its),\n",
    "]"
   ]
  },
  {
   "cell_type": "code",
   "execution_count": 7,
   "metadata": {},
   "outputs": [
    {
     "data": {
      "text/html": [
       "<div>\n",
       "<style scoped>\n",
       "    .dataframe tbody tr th:only-of-type {\n",
       "        vertical-align: middle;\n",
       "    }\n",
       "\n",
       "    .dataframe tbody tr th {\n",
       "        vertical-align: top;\n",
       "    }\n",
       "\n",
       "    .dataframe thead th {\n",
       "        text-align: right;\n",
       "    }\n",
       "</style>\n",
       "<table border=\"1\" class=\"dataframe\">\n",
       "  <thead>\n",
       "    <tr style=\"text-align: right;\">\n",
       "      <th></th>\n",
       "      <th></th>\n",
       "      <th>advrkhs</th>\n",
       "      <th>advrkhs_cfit</th>\n",
       "    </tr>\n",
       "  </thead>\n",
       "  <tbody>\n",
       "    <tr>\n",
       "      <th rowspan=\"6\" valign=\"top\">n=2000</th>\n",
       "      <th>bias</th>\n",
       "      <td>-0.022233</td>\n",
       "      <td>-0.050904</td>\n",
       "    </tr>\n",
       "    <tr>\n",
       "      <th>ci_length</th>\n",
       "      <td>0.271261</td>\n",
       "      <td>0.378380</td>\n",
       "    </tr>\n",
       "    <tr>\n",
       "      <th>cov</th>\n",
       "      <td>0.840000</td>\n",
       "      <td>0.920000</td>\n",
       "    </tr>\n",
       "    <tr>\n",
       "      <th>reg_rmse</th>\n",
       "      <td>0.218525</td>\n",
       "      <td>0.221688</td>\n",
       "    </tr>\n",
       "    <tr>\n",
       "      <th>reisz_rmse</th>\n",
       "      <td>1.913388</td>\n",
       "      <td>2.305829</td>\n",
       "    </tr>\n",
       "    <tr>\n",
       "      <th>rmse</th>\n",
       "      <td>0.089382</td>\n",
       "      <td>0.102085</td>\n",
       "    </tr>\n",
       "  </tbody>\n",
       "</table>\n",
       "</div>"
      ],
      "text/plain": [
       "                    advrkhs  advrkhs_cfit\n",
       "n=2000 bias       -0.022233     -0.050904\n",
       "       ci_length   0.271261      0.378380\n",
       "       cov         0.840000      0.920000\n",
       "       reg_rmse    0.218525      0.221688\n",
       "       reisz_rmse  1.913388      2.305829\n",
       "       rmse        0.089382      0.102085"
      ]
     },
     "metadata": {},
     "output_type": "display_data"
    }
   ],
   "source": [
    "import pandas as pd\n",
    "table = pd.concat(res, axis=1, sort=True)\n",
    "display(table)"
   ]
  },
  {
   "cell_type": "code",
   "execution_count": 7,
   "metadata": {},
   "outputs": [
    {
     "data": {
      "text/html": [
       "<div>\n",
       "<style scoped>\n",
       "    .dataframe tbody tr th:only-of-type {\n",
       "        vertical-align: middle;\n",
       "    }\n",
       "\n",
       "    .dataframe tbody tr th {\n",
       "        vertical-align: top;\n",
       "    }\n",
       "\n",
       "    .dataframe thead th {\n",
       "        text-align: right;\n",
       "    }\n",
       "</style>\n",
       "<table border=\"1\" class=\"dataframe\">\n",
       "  <thead>\n",
       "    <tr style=\"text-align: right;\">\n",
       "      <th></th>\n",
       "      <th></th>\n",
       "      <th>splin</th>\n",
       "      <th>splin_cfit</th>\n",
       "    </tr>\n",
       "  </thead>\n",
       "  <tbody>\n",
       "    <tr>\n",
       "      <th rowspan=\"6\" valign=\"top\">n=100</th>\n",
       "      <th>bias</th>\n",
       "      <td>-0.015991</td>\n",
       "      <td>0.040874</td>\n",
       "    </tr>\n",
       "    <tr>\n",
       "      <th>ci_length</th>\n",
       "      <td>0.796797</td>\n",
       "      <td>0.984450</td>\n",
       "    </tr>\n",
       "    <tr>\n",
       "      <th>cov</th>\n",
       "      <td>0.830000</td>\n",
       "      <td>0.910000</td>\n",
       "    </tr>\n",
       "    <tr>\n",
       "      <th>reg_rmse</th>\n",
       "      <td>0.587106</td>\n",
       "      <td>0.666089</td>\n",
       "    </tr>\n",
       "    <tr>\n",
       "      <th>reisz_rmse</th>\n",
       "      <td>0.875248</td>\n",
       "      <td>0.926683</td>\n",
       "    </tr>\n",
       "    <tr>\n",
       "      <th>rmse</th>\n",
       "      <td>0.316563</td>\n",
       "      <td>0.310830</td>\n",
       "    </tr>\n",
       "    <tr>\n",
       "      <th rowspan=\"6\" valign=\"top\">n=200</th>\n",
       "      <th>bias</th>\n",
       "      <td>0.017692</td>\n",
       "      <td>0.039671</td>\n",
       "    </tr>\n",
       "    <tr>\n",
       "      <th>ci_length</th>\n",
       "      <td>0.572118</td>\n",
       "      <td>0.650503</td>\n",
       "    </tr>\n",
       "    <tr>\n",
       "      <th>cov</th>\n",
       "      <td>0.850000</td>\n",
       "      <td>0.890000</td>\n",
       "    </tr>\n",
       "    <tr>\n",
       "      <th>reg_rmse</th>\n",
       "      <td>0.528182</td>\n",
       "      <td>0.573924</td>\n",
       "    </tr>\n",
       "    <tr>\n",
       "      <th>reisz_rmse</th>\n",
       "      <td>0.827772</td>\n",
       "      <td>0.836428</td>\n",
       "    </tr>\n",
       "    <tr>\n",
       "      <th>rmse</th>\n",
       "      <td>0.194130</td>\n",
       "      <td>0.201694</td>\n",
       "    </tr>\n",
       "    <tr>\n",
       "      <th rowspan=\"6\" valign=\"top\">n=300</th>\n",
       "      <th>bias</th>\n",
       "      <td>-0.000170</td>\n",
       "      <td>0.016369</td>\n",
       "    </tr>\n",
       "    <tr>\n",
       "      <th>ci_length</th>\n",
       "      <td>0.485518</td>\n",
       "      <td>0.540141</td>\n",
       "    </tr>\n",
       "    <tr>\n",
       "      <th>cov</th>\n",
       "      <td>0.840000</td>\n",
       "      <td>0.890000</td>\n",
       "    </tr>\n",
       "    <tr>\n",
       "      <th>reg_rmse</th>\n",
       "      <td>0.530958</td>\n",
       "      <td>0.553475</td>\n",
       "    </tr>\n",
       "    <tr>\n",
       "      <th>reisz_rmse</th>\n",
       "      <td>0.771062</td>\n",
       "      <td>0.772109</td>\n",
       "    </tr>\n",
       "    <tr>\n",
       "      <th>rmse</th>\n",
       "      <td>0.161622</td>\n",
       "      <td>0.161198</td>\n",
       "    </tr>\n",
       "  </tbody>\n",
       "</table>\n",
       "</div>"
      ],
      "text/plain": [
       "                     splin  splin_cfit\n",
       "n=100 bias       -0.015991    0.040874\n",
       "      ci_length   0.796797    0.984450\n",
       "      cov         0.830000    0.910000\n",
       "      reg_rmse    0.587106    0.666089\n",
       "      reisz_rmse  0.875248    0.926683\n",
       "      rmse        0.316563    0.310830\n",
       "n=200 bias        0.017692    0.039671\n",
       "      ci_length   0.572118    0.650503\n",
       "      cov         0.850000    0.890000\n",
       "      reg_rmse    0.528182    0.573924\n",
       "      reisz_rmse  0.827772    0.836428\n",
       "      rmse        0.194130    0.201694\n",
       "n=300 bias       -0.000170    0.016369\n",
       "      ci_length   0.485518    0.540141\n",
       "      cov         0.840000    0.890000\n",
       "      reg_rmse    0.530958    0.553475\n",
       "      reisz_rmse  0.771062    0.772109\n",
       "      rmse        0.161622    0.161198"
      ]
     },
     "execution_count": 7,
     "metadata": {},
     "output_type": "execute_result"
    }
   ],
   "source": [
    "table"
   ]
  },
  {
   "cell_type": "code",
   "execution_count": 16,
   "metadata": {},
   "outputs": [
    {
     "name": "stdout",
     "output_type": "stream",
     "text": [
      "\\begin{tabular}{llrrrrrrrr}\n",
      "\\toprule\n",
      "      &      &  advrkhs &  advrkhs\\_cfit &  auto\\_advrkhs &  auto\\_advrkhs\\_cfit &  splin &  splin\\_cfit &  pluginlg &  pluginlg\\_cfit \\\\\n",
      "\\midrule\n",
      "\\multirow{6}{*}{\\textbf{n=200}} & \\textbf{bias} &     0.06 &          0.08 &          0.06 &               0.09 &   0.02 &        0.04 &      0.03 &           0.24 \\\\\n",
      "      & \\textbf{ci\\_length} &     0.57 &          0.57 &          0.59 &               0.59 &   0.57 &        0.65 &      0.53 &           1.55 \\\\\n",
      "      & \\textbf{cov} &     0.83 &          0.83 &          0.84 &               0.83 &   0.85 &        0.89 &      0.76 &           0.87 \\\\\n",
      "      & \\textbf{reg\\_rmse} &     0.53 &          0.57 &          0.53 &               0.57 &   0.53 &        0.57 &      0.53 &           0.57 \\\\\n",
      "      & \\textbf{reisz\\_rmse} &     1.02 &          1.12 &          1.02 &               1.11 &   0.83 &        0.84 &      1.13 &           3.66 \\\\\n",
      "      & \\textbf{rmse} &     0.22 &          0.22 &          0.22 &               0.22 &   0.19 &        0.20 &      0.22 &           0.62 \\\\\n",
      "\\cline{1-10}\n",
      "\\multirow{6}{*}{\\textbf{n=500}} & \\textbf{bias} &    -0.01 &          0.03 &         -0.01 &               0.03 &  -0.03 &       -0.01 &     -0.02 &           0.01 \\\\\n",
      "      & \\textbf{ci\\_length} &     0.37 &          0.40 &          0.38 &               0.40 &   0.37 &        0.42 &      0.40 &           0.65 \\\\\n",
      "      & \\textbf{cov} &     0.90 &          0.94 &          0.92 &               0.95 &   0.90 &        0.96 &      0.91 &           0.98 \\\\\n",
      "      & \\textbf{reg\\_rmse} &     0.53 &          0.53 &          0.53 &               0.53 &   0.53 &        0.53 &      0.53 &           0.53 \\\\\n",
      "      & \\textbf{reisz\\_rmse} &     0.95 &          1.03 &          0.96 &               1.01 &   0.72 &        0.72 &      1.05 &           1.87 \\\\\n",
      "      & \\textbf{rmse} &     0.10 &          0.11 &          0.10 &               0.11 &   0.10 &        0.10 &      0.11 &           0.13 \\\\\n",
      "\\bottomrule\n",
      "\\end{tabular}\n",
      "\n"
     ]
    },
    {
     "name": "stderr",
     "output_type": "stream",
     "text": [
      "C:\\Users\\bsyrg\\AppData\\Local\\Temp\\ipykernel_46616\\2737165216.py:2: FutureWarning: In future versions `DataFrame.to_latex` is expected to utilise the base implementation of `Styler.to_latex` for formatting and rendering. The arguments signature may therefore change. It is recommended instead to use `DataFrame.style.to_latex` which also contains additional functionality.\n",
      "  print(table.to_latex(bold_rows=True, multirow=True))\n"
     ]
    }
   ],
   "source": [
    "with pd.option_context('display.float_format', '{:0.2f}'.format):\n",
    "    print(table.to_latex(bold_rows=True, multirow=True))"
   ]
  },
  {
   "cell_type": "code",
   "execution_count": 17,
   "metadata": {},
   "outputs": [
    {
     "name": "stdout",
     "output_type": "stream",
     "text": [
      "\\begin{tabular}{lrrrr}\n",
      "\\toprule\n",
      "{} &  advrkhs\\_cfit &  auto\\_advrkhs\\_cfit &  splin\\_cfit &  pluginlg\\_cfit \\\\\n",
      "\\textbf{metric    } &               &                    &             &                \\\\\n",
      "\\midrule\n",
      "\\textbf{bias      } &          0.08 &               0.09 &        0.04 &           0.24 \\\\\n",
      "\\textbf{ci\\_length } &          0.57 &               0.59 &        0.65 &           1.55 \\\\\n",
      "\\textbf{cov       } &          0.83 &               0.83 &        0.89 &           0.87 \\\\\n",
      "\\textbf{reg\\_rmse  } &          0.57 &               0.57 &        0.57 &           0.57 \\\\\n",
      "\\textbf{reisz\\_rmse} &          1.12 &               1.11 &        0.84 &           3.66 \\\\\n",
      "\\textbf{rmse      } &          0.22 &               0.22 &        0.20 &           0.62 \\\\\n",
      "\\textbf{bias      } &          0.03 &               0.03 &       -0.01 &           0.01 \\\\\n",
      "\\textbf{ci\\_length } &          0.40 &               0.40 &        0.42 &           0.65 \\\\\n",
      "\\textbf{cov       } &          0.94 &               0.95 &        0.96 &           0.98 \\\\\n",
      "\\textbf{reg\\_rmse  } &          0.53 &               0.53 &        0.53 &           0.53 \\\\\n",
      "\\textbf{reisz\\_rmse} &          1.03 &               1.01 &        0.72 &           1.87 \\\\\n",
      "\\textbf{rmse      } &          0.11 &               0.11 &        0.10 &           0.13 \\\\\n",
      "\\bottomrule\n",
      "\\end{tabular}\n",
      "\n"
     ]
    },
    {
     "name": "stderr",
     "output_type": "stream",
     "text": [
      "C:\\Users\\bsyrg\\AppData\\Local\\Temp\\ipykernel_46616\\26750085.py:3: FutureWarning: In future versions `DataFrame.to_latex` is expected to utilise the base implementation of `Styler.to_latex` for formatting and rendering. The arguments signature may therefore change. It is recommended instead to use `DataFrame.style.to_latex` which also contains additional functionality.\n",
      "  print(table1.to_latex(bold_rows=True, multirow=True))\n"
     ]
    }
   ],
   "source": [
    "table1 = table.loc[:, [col.endswith('_cfit') for col in table.columns]].reset_index().drop(['level_0'], axis=1).rename({'level_1':'metric'}, axis=1).set_index('metric')\n",
    "with pd.option_context('display.float_format', '{:0.2f}'.format):\n",
    "    print(table1.to_latex(bold_rows=True, multirow=True))"
   ]
  },
  {
   "cell_type": "code",
   "execution_count": 18,
   "metadata": {},
   "outputs": [
    {
     "name": "stdout",
     "output_type": "stream",
     "text": [
      "\\begin{tabular}{lrrrr}\n",
      "\\toprule\n",
      "{} &  advrkhs &  auto\\_advrkhs &  splin &  pluginlg \\\\\n",
      "\\textbf{metric    } &          &               &        &           \\\\\n",
      "\\midrule\n",
      "\\textbf{bias      } &     0.06 &          0.06 &   0.02 &      0.03 \\\\\n",
      "\\textbf{ci\\_length } &     0.57 &          0.59 &   0.57 &      0.53 \\\\\n",
      "\\textbf{cov       } &     0.83 &          0.84 &   0.85 &      0.76 \\\\\n",
      "\\textbf{reg\\_rmse  } &     0.53 &          0.53 &   0.53 &      0.53 \\\\\n",
      "\\textbf{reisz\\_rmse} &     1.02 &          1.02 &   0.83 &      1.13 \\\\\n",
      "\\textbf{rmse      } &     0.22 &          0.22 &   0.19 &      0.22 \\\\\n",
      "\\textbf{bias      } &    -0.01 &         -0.01 &  -0.03 &     -0.02 \\\\\n",
      "\\textbf{ci\\_length } &     0.37 &          0.38 &   0.37 &      0.40 \\\\\n",
      "\\textbf{cov       } &     0.90 &          0.92 &   0.90 &      0.91 \\\\\n",
      "\\textbf{reg\\_rmse  } &     0.53 &          0.53 &   0.53 &      0.53 \\\\\n",
      "\\textbf{reisz\\_rmse} &     0.95 &          0.96 &   0.72 &      1.05 \\\\\n",
      "\\textbf{rmse      } &     0.10 &          0.10 &   0.10 &      0.11 \\\\\n",
      "\\bottomrule\n",
      "\\end{tabular}\n",
      "\n"
     ]
    },
    {
     "name": "stderr",
     "output_type": "stream",
     "text": [
      "C:\\Users\\bsyrg\\AppData\\Local\\Temp\\ipykernel_46616\\1106484497.py:3: FutureWarning: In future versions `DataFrame.to_latex` is expected to utilise the base implementation of `Styler.to_latex` for formatting and rendering. The arguments signature may therefore change. It is recommended instead to use `DataFrame.style.to_latex` which also contains additional functionality.\n",
      "  print(table2.to_latex(bold_rows=True, multirow=True))\n"
     ]
    }
   ],
   "source": [
    "table2 = table.loc[:, [(not col.endswith('_cfit')) for col in table.columns]].reset_index().drop(['level_0'], axis=1).rename({'level_1':'metric'}, axis=1).set_index('metric')\n",
    "with pd.option_context('display.float_format', '{:0.2f}'.format):\n",
    "    print(table2.to_latex(bold_rows=True, multirow=True))"
   ]
  },
  {
   "cell_type": "code",
   "execution_count": null,
   "metadata": {},
   "outputs": [],
   "source": []
  }
 ],
 "metadata": {
  "kernelspec": {
   "display_name": "Python 3 (ipykernel)",
   "language": "python",
   "name": "python3"
  },
  "language_info": {
   "codemirror_mode": {
    "name": "ipython",
    "version": 3
   },
   "file_extension": ".py",
   "mimetype": "text/x-python",
   "name": "python",
   "nbconvert_exporter": "python",
   "pygments_lexer": "ipython3",
   "version": "3.10.9"
  }
 },
 "nbformat": 4,
 "nbformat_minor": 4
}
