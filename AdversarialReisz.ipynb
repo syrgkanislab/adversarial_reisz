{
 "cells": [
  {
   "cell_type": "code",
   "execution_count": null,
   "metadata": {
    "id": "ob22RLKzdUoX"
   },
   "outputs": [],
   "source": [
    "%load_ext autoreload\n",
    "%autoreload 2\n",
    "%load_ext tensorboard\n",
    "%matplotlib inline"
   ]
  },
  {
   "cell_type": "markdown",
   "metadata": {
    "id": "BuoLBhVCsZH4"
   },
   "source": [
    "# Mounting and Installation of Package: Only on Google Colab"
   ]
  },
  {
   "cell_type": "code",
   "execution_count": null,
   "metadata": {
    "id": "qzgUxtXH6VLv"
   },
   "outputs": [],
   "source": [
    "from google.colab import drive\n",
    "drive.mount('/content/drive')"
   ]
  },
  {
   "cell_type": "code",
   "execution_count": null,
   "metadata": {
    "id": "IPYKayvg60tz"
   },
   "outputs": [],
   "source": [
    "cd /content/drive/My\\ Drive/Colab\\ Notebooks/adversarial_reisz"
   ]
  },
  {
   "cell_type": "code",
   "execution_count": null,
   "metadata": {
    "id": "TlAupEbu7-vl"
   },
   "outputs": [],
   "source": [
    "!python setup.py develop"
   ]
  },
  {
   "cell_type": "markdown",
   "metadata": {
    "id": "CumqS__UdZQj"
   },
   "source": [
    "# Library Imports"
   ]
  },
  {
   "cell_type": "code",
   "execution_count": null,
   "metadata": {
    "id": "Tb0UNXId8Sbh"
   },
   "outputs": [],
   "source": [
    "import numpy as np\n",
    "import torch\n",
    "from pathlib import Path\n",
    "import torch.nn as nn\n",
    "import matplotlib.pyplot as plt\n",
    "import scipy\n",
    "import scipy.special\n",
    "import advreisz\n",
    "from advreisz.deepreisz import DeepReisz"
   ]
  },
  {
   "cell_type": "markdown",
   "metadata": {
    "id": "u-OfQSQislV8"
   },
   "source": [
    "# Data Generation"
   ]
  },
  {
   "cell_type": "code",
   "execution_count": null,
   "metadata": {
    "id": "4Ry4CsWaP_LB"
   },
   "outputs": [],
   "source": [
    "def nonlin(x):\n",
    "    return 1.5 * (x[:, 1]**2)\n",
    "    # return scipy.special.expit(10 * x[:, 1])\n",
    "    # return np.abs(x[:, 1])\n",
    "    # return 1.5*scipy.special.expit(10 * x[:, 1]) - 1.5*scipy.special.expit(10 * x[:, 2])\n",
    "\n",
    "def true_propensity(X):\n",
    "    return .5 + .3 * nonlin(X)\n",
    "\n",
    "def true_f(X):\n",
    "    return X[:, 0] + nonlin(X)\n",
    "\n",
    "def gen_data(n, p):\n",
    "    X = np.random.uniform(-1, 1, size=(n, p))\n",
    "    X[:, 0] = np.random.binomial(1, true_propensity(X))\n",
    "    y = true_f(X) + np.random.normal(size=(n,))\n",
    "    return X, y\n",
    "\n",
    "np.random.seed(123)\n",
    "n = 10000\n",
    "p = 3\n",
    "X, y = gen_data(n, p)\n",
    "X_test, y_test = gen_data(n, p)"
   ]
  },
  {
   "cell_type": "markdown",
   "metadata": {
    "id": "lGjlQO03CBbu"
   },
   "source": [
    "# Moment Definition"
   ]
  },
  {
   "cell_type": "markdown",
   "metadata": {
    "id": "YxKdfc7FCEKw"
   },
   "source": [
    "### ATE Moment"
   ]
  },
  {
   "cell_type": "code",
   "execution_count": null,
   "metadata": {
    "id": "6EsyZwYtCAKa"
   },
   "outputs": [],
   "source": [
    "# Returns the moment for the ATE example, for each sample in x\n",
    "def moment_fn(x, test_fn):\n",
    "    if torch.is_tensor(x):\n",
    "        with torch.no_grad():\n",
    "            t1 = torch.cat([torch.ones((x.shape[0], 1)).to(device), x[:, 1:]], dim=1)\n",
    "            t0 = torch.cat([torch.zeros((x.shape[0], 1)).to(device), x[:, 1:]], dim=1)\n",
    "    else:\n",
    "        t1 = np.hstack([np.ones((x.shape[0], 1)), x[:, 1:]])\n",
    "        t0 = np.hstack([np.zeros((x.shape[0], 1)), x[:, 1:]])\n",
    "    return test_fn(t1) - test_fn(t0)\n",
    "\n",
    "def true_reisz(x, propensity=true_propensity):\n",
    "    return (x[:, 0]==1) / propensity(x) - (x[:, 0]==0)/(1 - propensity(x))"
   ]
  },
  {
   "cell_type": "markdown",
   "metadata": {
    "id": "8EVpDn3UauC_"
   },
   "source": [
    "### Policy Moment"
   ]
  },
  {
   "cell_type": "code",
   "execution_count": null,
   "metadata": {
    "id": "mqf8iv92Qry2"
   },
   "outputs": [],
   "source": [
    "policy = lambda x: scipy.special.expit(10*x[:, 1]) if not torch.is_tensor(x) else torch.sigmoid(10 * x[:, 1])\n",
    "\n",
    "def moment_fn(x, test_fn):\n",
    "    with torch.no_grad():\n",
    "        if torch.is_tensor(x):\n",
    "            t1 = torch.cat([torch.ones((x.shape[0], 1)).to(device), x[:, 1:]], dim=1)\n",
    "            t0 = torch.cat([torch.zeros((x.shape[0], 1)).to(device), x[:, 1:]], dim=1)\n",
    "        else:\n",
    "            t1 = np.hstack([np.ones((x.shape[0], 1)), x[:, 1:]])\n",
    "            t0 = np.hstack([np.zeros((x.shape[0], 1)), x[:, 1:]])\n",
    "        p1 = policy(x)\n",
    "    out1 = test_fn(t1)\n",
    "    out0 = test_fn(t0)\n",
    "    if len(out1.shape) > 1:\n",
    "        p1 = p1.reshape(-1, 1)\n",
    "    return out1 * p1 + out0 * (1 - p1) \n",
    "\n",
    "def true_reisz(x, propensity=true_propensity):\n",
    "    p1 = policy(x)\n",
    "    prop1 = propensity(x)\n",
    "    return p1 * (x[:, 0]==1) / prop1 + (1 - p1) * (x[:, 0]==0)/(1 - prop1)"
   ]
  },
  {
   "cell_type": "markdown",
   "metadata": {
    "id": "xQclOQXnawDJ"
   },
   "source": [
    "### X-Transformation Moment"
   ]
  },
  {
   "cell_type": "code",
   "execution_count": null,
   "metadata": {
    "id": "ZR-UB3lcQxtO"
   },
   "outputs": [],
   "source": [
    "trans = lambda x: (1 + x)**(1/2)/2**(1/2)\n",
    "invtrans = lambda u: 2 * (u**2) - 1\n",
    "grad_invtrans = lambda u: 4 * u\n",
    "\n",
    "def moment_fn(x, test_fn):\n",
    "    with torch.no_grad():\n",
    "        if torch.is_tensor(x):\n",
    "            tx = torch.cat([x[:, [0]], trans(x[:, [1]]), x[:, 2:]], dim=1)\n",
    "        else:\n",
    "            tx =  np.hstack([x[:, [0]], trans(x[:, [1]]), x[:, 2:]])\n",
    "    return test_fn(tx) - test_fn(x)\n",
    "\n",
    "def true_reisz(x, propensity=true_propensity):\n",
    "    invtx = np.hstack([x[:, [0]], invtrans(x[:, [1]]), x[:, 2:]])\n",
    "    out0 = np.clip(propensity(invtx) * grad_invtrans(x[:, 1]) / propensity(x), 0, np.inf)\n",
    "    out1 = np.clip((1 - propensity(invtx)) * grad_invtrans(x[:, 1]) / (1 - propensity(x)), 0, np.inf)\n",
    "    return out0 * x[:, 0] + out1 * (1 - x[:, 0]) - 1"
   ]
  },
  {
   "cell_type": "markdown",
   "metadata": {
    "id": "7kYbcJCts1BK"
   },
   "source": [
    "# Adversarial Reisz Estimator for ATE Moment"
   ]
  },
  {
   "cell_type": "code",
   "execution_count": null,
   "metadata": {
    "id": "AkCdpInLQDNW"
   },
   "outputs": [],
   "source": [
    "drop_prob = 0.2  # dropout prob of dropout layers throughout notebook\n",
    "n_hidden = 100  # width of hidden layers throughout notebook\n",
    "\n",
    "# Training params\n",
    "learner_lr = 1e-4\n",
    "adversary_lr = 1e-4\n",
    "learner_l2 = 1e-3\n",
    "adversary_l2 = 1e-3\n",
    "n_epochs = 1000\n",
    "preprocess_epochs = 200 # how many epochs to use to create an approximation to the max objective for earlystopping\n",
    "earlystop_rounds = 40 # how many epochs to wait for an out-of-sample improvement\n",
    "store_test_every = 20 # after how many training iterations to store a test function during preprocessing\n",
    "bs = 100\n",
    "device = torch.cuda.current_device() if torch.cuda.is_available() else None\n",
    "\n",
    "# Returns a deep model for the reisz representer\n",
    "def _get_learner(n_t, n_hidden, p):\n",
    "    return nn.Sequential(nn.Dropout(p=p), nn.Linear(n_t, n_hidden), nn.LeakyReLU(),\n",
    "                         nn.Dropout(p=p), nn.Linear(n_hidden, n_hidden), nn.LeakyReLU(),\n",
    "                         nn.Dropout(p=p), nn.Linear(n_hidden, 1))\n",
    "\n",
    "# Returns a deep model for the test functions\n",
    "def _get_adversary(n_z, n_hidden, p):\n",
    "    return nn.Sequential(nn.Dropout(p=p), nn.Linear(n_z, n_hidden), nn.ReLU(),\n",
    "                         nn.Dropout(p=p), nn.Linear(n_hidden, n_hidden), nn.ReLU(),\n",
    "                         nn.Dropout(p=p), nn.Linear(n_hidden, 1))\n",
    "\n",
    "def violation_fn(x, learner, adversary):\n",
    "    return moment_fn(x, adversary) - learner(x) * adversary(x)\n",
    "\n",
    "print(\"GPU:\", torch.cuda.is_available())"
   ]
  },
  {
   "cell_type": "code",
   "execution_count": null,
   "metadata": {
    "id": "vMWxzfv3hadS"
   },
   "outputs": [],
   "source": [
    "torch.cuda.empty_cache()\n",
    "Xt = torch.Tensor(X).to(device)\n",
    "Xt_test = torch.Tensor(X_test).to(device)\n",
    "At_test = torch.Tensor(true_reisz(X_test).reshape(-1, 1)).to(device)\n",
    "learner = _get_learner(Xt.shape[1], n_hidden, drop_prob)\n",
    "adversary = _get_adversary(Xt.shape[1], n_hidden, drop_prob)\n",
    "agmm = DeepReisz(learner, adversary, moment_fn)\n",
    "\n",
    "def logger(estimator, learner, adversary, epoch, writer):\n",
    "    writer.add_histogram('learner', learner[-1].weight, epoch)\n",
    "    writer.add_histogram('adversary', adversary[-1].weight, epoch)\n",
    "    writer.add_scalar('moment', torch.mean(violation_fn(Xt, learner, adversary)), epoch)\n",
    "    writer.add_scalar('moment_val', torch.mean(violation_fn(Xt_test, learner, adversary)), epoch)\n",
    "    writer.add_scalar('true_mse_val', torch.mean((At_test - learner(Xt_test))**2)/4, epoch)\n",
    "    if hasattr(estimator, 'curr_eval'):\n",
    "        writer.add_scalar('approx_violation_val', estimator.curr_eval, epoch)"
   ]
  },
  {
   "cell_type": "code",
   "execution_count": null,
   "metadata": {
    "id": "5A9m6uqrsgec"
   },
   "outputs": [],
   "source": [
    "agmm.fit(Xt, Xval=Xt_test, preprocess_epochs=preprocess_epochs, earlystop_rounds=earlystop_rounds, store_test_every=store_test_every,\n",
    "         learner_lr=learner_lr, adversary_lr=adversary_lr,\n",
    "         learner_l2=learner_l2, adversary_l2=adversary_l2,\n",
    "         n_epochs=n_epochs, bs=bs,\n",
    "         logger=logger, model_dir=str(Path.home()), device=device, verbose=1)"
   ]
  },
  {
   "cell_type": "markdown",
   "metadata": {
    "id": "536cOtIStHAk"
   },
   "source": [
    "# Evaluation of Learned Reisz Representer"
   ]
  },
  {
   "cell_type": "code",
   "execution_count": null,
   "metadata": {
    "id": "PBWxHZ4euceE"
   },
   "outputs": [],
   "source": [
    "plt.figure()\n",
    "model = 'earlystop'\n",
    "plt.scatter(true_reisz(X_test), agmm.predict(torch.Tensor(X_test).to(device), model=model))\n",
    "plt.xlabel('true reisz')\n",
    "plt.ylabel('estimated reisz')\n",
    "plt.show()"
   ]
  },
  {
   "cell_type": "code",
   "execution_count": null,
   "metadata": {
    "id": "o3if777uVojq"
   },
   "outputs": [],
   "source": [
    "for model in ['earlystop', 'avg']:\n",
    "    plt.figure(figsize=(15, 5))\n",
    "    error = true_reisz(X_test) - agmm.predict(torch.Tensor(X_test).to(device), model=model)\n",
    "    plt.title(\"RMSE: {:.3f}, MAE: {:.3f}\".format(np.sqrt(np.mean(error**2)), np.mean(np.abs(error))))\n",
    "    for t in [0, 1]:\n",
    "        plt.subplot(1, 2, t + 1)\n",
    "        treated = (X_test[:, 0]==t)\n",
    "        Xtreated = X_test[treated].copy()\n",
    "        Xtreated[:, 1] = np.linspace(-1, 1, Xtreated.shape[0])\n",
    "        if model == 'avg':\n",
    "            point, lb, ub = agmm.predict(torch.Tensor(Xtreated).to(device), model=model, alpha=.05, burn_in=0)\n",
    "            plt.plot(Xtreated[:, 1], point, label='est a({}, X)'.format(t))\n",
    "            plt.fill_between(Xtreated[:, 1], lb, ub, alpha=.4)\n",
    "        else:\n",
    "            point = agmm.predict(torch.Tensor(Xtreated).to(device), model=model)\n",
    "            plt.plot(Xtreated[:, 1], point, label='est a({}, X)'.format(t))\n",
    "        plt.plot(Xtreated[:, 1], true_reisz(Xtreated), label='true a({}, X)'.format(t))\n",
    "        plt.legend()\n",
    "    plt.show()"
   ]
  },
  {
   "cell_type": "code",
   "execution_count": null,
   "metadata": {
    "id": "z8-30XmRm9D9"
   },
   "outputs": [],
   "source": [
    "# test how well the learned reisz representer approximates for f(T, X) = E[Y | T, X]\n",
    "torch.mean(violation_fn(Xt, agmm.learner, lambda x: true_f(x).reshape(-1, 1)))"
   ]
  },
  {
   "cell_type": "code",
   "execution_count": null,
   "metadata": {
    "id": "MyGiHxasp9eh"
   },
   "outputs": [],
   "source": [
    "# test the same for the case of the true reisz representer\n",
    "np.mean(violation_fn(X, lambda x: true_reisz(x).reshape(-1, 1), lambda x: true_f(x).reshape(-1, 1)))"
   ]
  },
  {
   "cell_type": "code",
   "execution_count": null,
   "metadata": {
    "id": "tqmSbeLPniE7"
   },
   "outputs": [],
   "source": [
    "# test the reisz representer for the final value of the learned test function\n",
    "torch.mean(violation_fn(Xt, agmm.learner, agmm.adversary))"
   ]
  },
  {
   "cell_type": "code",
   "execution_count": null,
   "metadata": {
    "id": "U-45j-lHmeJF"
   },
   "outputs": [],
   "source": [
    "%tensorboard --logdir=runs"
   ]
  },
  {
   "cell_type": "markdown",
   "metadata": {
    "id": "i198Pt1g0iM3"
   },
   "source": [
    "# Debiasing ATE\n",
    "\n",
    "Applying the learned Reisz representer in order to debias a preliminary regression based model of the ATE"
   ]
  },
  {
   "cell_type": "code",
   "execution_count": null,
   "metadata": {
    "id": "af8KjzY8ENbb"
   },
   "outputs": [],
   "source": [
    "def mean_ci(data, confidence=0.95):\n",
    "    a = 1.0 * np.array(data)\n",
    "    n = len(a)\n",
    "    m, se = np.mean(a), scipy.stats.sem(a)\n",
    "    h = se * scipy.stats.t.ppf((1 + confidence) / 2., n-1)\n",
    "    return m, m-h, m+h"
   ]
  },
  {
   "cell_type": "code",
   "execution_count": null,
   "metadata": {
    "id": "MNPDwt_nlSOf"
   },
   "outputs": [],
   "source": [
    "from sklearn.linear_model import LassoCV, Lasso, LogisticRegressionCV\n",
    "from sklearn.pipeline import Pipeline\n",
    "from sklearn.preprocessing import PolynomialFeatures\n",
    "\n",
    "est = Pipeline([('p', PolynomialFeatures(degree=3)), ('l', Lasso(alpha=.05))]).fit(X, y)\n",
    "propensity = Pipeline([('p', PolynomialFeatures(degree=3)), ('l', LogisticRegressionCV())]).fit(X[:, 1:], X[:, 0])"
   ]
  },
  {
   "cell_type": "code",
   "execution_count": null,
   "metadata": {
    "id": "8t2Q8z7fuXht"
   },
   "outputs": [],
   "source": [
    "a_test = agmm.predict(Xt_test, model='earlystop')\n",
    "invp_test = true_reisz(X_test, lambda x: propensity.predict_proba(x[:, 1:])[:, 1])\n",
    "true_ate = np.mean(moment_fn(X_test, true_f))\n",
    "naive_ate = np.mean(y_test[X_test[:, 0]==1]) - np.mean(y_test[X_test[:, 0]==0])\n",
    "biased_ate = np.mean(moment_fn(X_test, est.predict))\n",
    "ips_ate = np.mean(invp_test * y_test)\n",
    "reisz_ate = np.mean(a_test * y_test)\n",
    "dr_ate = biased_ate + np.mean(invp_test * (y_test - est.predict(X_test)))\n",
    "dr_reisz_ate, dr_reisz_low, dr_reisz_up = mean_ci(moment_fn(X_test, est.predict) + a_test * (y_test - est.predict(X_test)))"
   ]
  },
  {
   "cell_type": "code",
   "execution_count": null,
   "metadata": {
    "id": "qkY0bb1ixeOj"
   },
   "outputs": [],
   "source": [
    "print(\"True ATE: {:.3f}\".format(true_ate))\n",
    "print(\"Mean of Treated - Mean of Untreated: {:.3f}\".format(naive_ate))\n",
    "print(\"Lasso Regression based Estimate: {:.3f}\".format(biased_ate))\n",
    "print(\"IPS estimate with explicit propensity based reisz estimate (i.e. mean(a(X) Y)): {:.3f}\".format(ips_ate))\n",
    "print(\"IPS estimate with adversarial reisz: {:.3f}\".format(reisz_ate))\n",
    "print(\"DR estimate with explict propensity based reisz estimate: {:.3f}\".format(dr_ate))\n",
    "print(\"DR estimate with adversarial reisz: {:.3f} ({:.3f}, {:.3f})\".format(dr_reisz_ate, dr_reisz_low, dr_reisz_up))"
   ]
  },
  {
   "cell_type": "code",
   "execution_count": null,
   "metadata": {
    "id": "FIe_otjUUjJS"
   },
   "outputs": [],
   "source": [
    "dr_reisz_ate = []\n",
    "reisz_ate = []\n",
    "biased_ate = []\n",
    "dr_reisz_cov = []\n",
    "reisz_cov = []\n",
    "for exp in range(1000):\n",
    "    Xboot, yboot = gen_data(n, p)\n",
    "    aboot = agmm.predict(Xboot, model='earlystop')\n",
    "    drm, drl, dru = mean_ci(moment_fn(Xboot, est.predict) + aboot * (yboot - est.predict(Xboot)))\n",
    "    rm, rl, ru = mean_ci(aboot * yboot)\n",
    "    dr_reisz_ate.append(drm)\n",
    "    reisz_ate.append(rm)\n",
    "    dr_reisz_cov.append((true_ate <= dru) & (true_ate >= drl))\n",
    "    reisz_cov.append((true_ate <= ru) & (true_ate >= rl))"
   ]
  },
  {
   "cell_type": "code",
   "execution_count": null,
   "metadata": {
    "id": "HS_y-N97iEGc"
   },
   "outputs": [],
   "source": [
    "plt.title(\"Mean advDR: {:.3f}, Coverage advDR: {:.3f}, \"\n",
    "          \"Mean advIPS: {:.3f}, Coverage advIPS: {:.3f}\".format(np.mean(dr_reisz_ate),\n",
    "                                                               np.mean(dr_reisz_cov),\n",
    "                                                               np.mean(reisz_ate),\n",
    "                                                               np.mean(reisz_cov)))\n",
    "plt.hist(np.array(dr_reisz_ate), alpha=.5, label='advDR')\n",
    "plt.hist(np.array(reisz_ate), alpha=.5, label='advIPS')\n",
    "plt.legend()\n",
    "plt.show()"
   ]
  },
  {
   "cell_type": "code",
   "execution_count": null,
   "metadata": {
    "id": "NjYK24bkibel"
   },
   "outputs": [],
   "source": []
  }
 ],
 "metadata": {
  "accelerator": "GPU",
  "colab": {
   "collapsed_sections": [],
   "name": "AdversarialReisz.ipynb",
   "provenance": [],
   "toc_visible": true
  },
  "kernelspec": {
   "display_name": "Python 3",
   "language": "python",
   "name": "python3"
  },
  "language_info": {
   "codemirror_mode": {
    "name": "ipython",
    "version": 3
   },
   "file_extension": ".py",
   "mimetype": "text/x-python",
   "name": "python",
   "nbconvert_exporter": "python",
   "pygments_lexer": "ipython3",
   "version": "3.7.4"
  }
 },
 "nbformat": 4,
 "nbformat_minor": 1
}
