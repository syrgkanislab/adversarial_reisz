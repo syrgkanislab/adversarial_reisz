{
 "cells": [
  {
   "cell_type": "code",
   "execution_count": 8,
   "metadata": {
    "executionInfo": {
     "elapsed": 155,
     "status": "ok",
     "timestamp": 1630520585469,
     "user": {
      "displayName": "Vasilis Syrganis",
      "photoUrl": "https://lh3.googleusercontent.com/a-/AOh14GjxUYeW9b7fysN1nK65PWILriYGqqfmpUsWgLP7ZA=s64",
      "userId": "00968929417250286436"
     },
     "user_tz": 240
    },
    "id": "ob22RLKzdUoX"
   },
   "outputs": [],
   "source": [
    "%load_ext autoreload\n",
    "%autoreload 2\n",
    "%load_ext tensorboard\n",
    "%matplotlib inline"
   ]
  },
  {
   "cell_type": "markdown",
   "metadata": {
    "id": "BuoLBhVCsZH4"
   },
   "source": [
    "# Mounting and Installation of Package: Only on Google Colab"
   ]
  },
  {
   "cell_type": "code",
   "execution_count": 3,
   "metadata": {
    "colab": {
     "base_uri": "https://localhost:8080/"
    },
    "executionInfo": {
     "elapsed": 17708,
     "status": "ok",
     "timestamp": 1630520603744,
     "user": {
      "displayName": "Vasilis Syrganis",
      "photoUrl": "https://lh3.googleusercontent.com/a-/AOh14GjxUYeW9b7fysN1nK65PWILriYGqqfmpUsWgLP7ZA=s64",
      "userId": "00968929417250286436"
     },
     "user_tz": 240
    },
    "id": "qzgUxtXH6VLv",
    "outputId": "f6a36ae8-4fc2-4ea0-a1d1-a68796a1a0c0"
   },
   "outputs": [
    {
     "name": "stdout",
     "output_type": "stream",
     "text": [
      "Mounted at /content/drive\n"
     ]
    }
   ],
   "source": [
    "from google.colab import drive\n",
    "drive.mount('/content/drive')"
   ]
  },
  {
   "cell_type": "code",
   "execution_count": 4,
   "metadata": {
    "colab": {
     "base_uri": "https://localhost:8080/"
    },
    "executionInfo": {
     "elapsed": 9,
     "status": "ok",
     "timestamp": 1630520603745,
     "user": {
      "displayName": "Vasilis Syrganis",
      "photoUrl": "https://lh3.googleusercontent.com/a-/AOh14GjxUYeW9b7fysN1nK65PWILriYGqqfmpUsWgLP7ZA=s64",
      "userId": "00968929417250286436"
     },
     "user_tz": 240
    },
    "id": "IPYKayvg60tz",
    "outputId": "5859fa66-a566-433f-b3c7-71ed43eb99a3"
   },
   "outputs": [
    {
     "name": "stdout",
     "output_type": "stream",
     "text": [
      "/content/drive/My Drive/Colab Notebooks/adversarial_reisz\n"
     ]
    }
   ],
   "source": [
    "cd /content/drive/My\\ Drive/Colab\\ Notebooks/adversarial_reisz"
   ]
  },
  {
   "cell_type": "code",
   "execution_count": 5,
   "metadata": {
    "colab": {
     "base_uri": "https://localhost:8080/"
    },
    "executionInfo": {
     "elapsed": 4819,
     "status": "ok",
     "timestamp": 1630520608559,
     "user": {
      "displayName": "Vasilis Syrganis",
      "photoUrl": "https://lh3.googleusercontent.com/a-/AOh14GjxUYeW9b7fysN1nK65PWILriYGqqfmpUsWgLP7ZA=s64",
      "userId": "00968929417250286436"
     },
     "user_tz": 240
    },
    "id": "TlAupEbu7-vl",
    "outputId": "dc416501-f6a5-43b5-8a48-1008a4430e5c"
   },
   "outputs": [
    {
     "name": "stdout",
     "output_type": "stream",
     "text": [
      "running develop\n",
      "running egg_info\n",
      "writing advreisz.egg-info/PKG-INFO\n",
      "writing dependency_links to advreisz.egg-info/dependency_links.txt\n",
      "writing top-level names to advreisz.egg-info/top_level.txt\n",
      "writing manifest file 'advreisz.egg-info/SOURCES.txt'\n",
      "running build_ext\n",
      "Creating /usr/local/lib/python3.7/dist-packages/advreisz.egg-link (link to .)\n",
      "Adding advreisz 0.0.1 to easy-install.pth file\n",
      "\n",
      "Installed /content/drive/My Drive/Colab Notebooks/adversarial_reisz\n",
      "Processing dependencies for advreisz==0.0.1\n",
      "Finished processing dependencies for advreisz==0.0.1\n"
     ]
    }
   ],
   "source": [
    "!python setup.py develop"
   ]
  },
  {
   "cell_type": "markdown",
   "metadata": {
    "id": "CumqS__UdZQj"
   },
   "source": [
    "# Library Imports"
   ]
  },
  {
   "cell_type": "code",
   "execution_count": 9,
   "metadata": {
    "executionInfo": {
     "elapsed": 4087,
     "status": "ok",
     "timestamp": 1630520612643,
     "user": {
      "displayName": "Vasilis Syrganis",
      "photoUrl": "https://lh3.googleusercontent.com/a-/AOh14GjxUYeW9b7fysN1nK65PWILriYGqqfmpUsWgLP7ZA=s64",
      "userId": "00968929417250286436"
     },
     "user_tz": 240
    },
    "id": "Tb0UNXId8Sbh"
   },
   "outputs": [],
   "source": [
    "import numpy as np\n",
    "import torch\n",
    "from pathlib import Path\n",
    "import torch.nn as nn\n",
    "import matplotlib.pyplot as plt\n",
    "import scipy\n",
    "import scipy.special\n",
    "import advreisz\n",
    "from advreisz.deepreisz import DeepReisz, AdvReisz"
   ]
  },
  {
   "cell_type": "markdown",
   "metadata": {
    "id": "u-OfQSQislV8"
   },
   "source": [
    "# Data Generation"
   ]
  },
  {
   "cell_type": "code",
   "execution_count": 10,
   "metadata": {
    "executionInfo": {
     "elapsed": 6,
     "status": "ok",
     "timestamp": 1630520612646,
     "user": {
      "displayName": "Vasilis Syrganis",
      "photoUrl": "https://lh3.googleusercontent.com/a-/AOh14GjxUYeW9b7fysN1nK65PWILriYGqqfmpUsWgLP7ZA=s64",
      "userId": "00968929417250286436"
     },
     "user_tz": 240
    },
    "id": "4Ry4CsWaP_LB"
   },
   "outputs": [],
   "source": [
    "def nonlin(x):\n",
    "    # return 1.5 * (x[:, 1]**2)\n",
    "    return scipy.special.expit(10 * x[:, 1])\n",
    "    # return np.abs(x[:, 1])\n",
    "    # return 1.5*scipy.special.expit(10 * x[:, 1]) - 1.5*scipy.special.expit(10 * x[:, 2])\n",
    "\n",
    "def true_propensity(X):\n",
    "    return .5 + .3 * nonlin(X)\n",
    "\n",
    "def true_f(X):\n",
    "    return X[:, 0] + nonlin(X)\n",
    "\n",
    "def gen_data(n, p):\n",
    "    X = np.random.uniform(-1, 1, size=(n, p))\n",
    "    X[:, 0] = np.random.binomial(1, true_propensity(X))\n",
    "    y = true_f(X) + np.random.normal(size=(n,))\n",
    "    return X, y\n",
    "\n",
    "np.random.seed(123)\n",
    "n = 1000\n",
    "p = 3\n",
    "X, y = gen_data(n, p)\n",
    "X_test, y_test = gen_data(n, p)"
   ]
  },
  {
   "cell_type": "markdown",
   "metadata": {
    "id": "lGjlQO03CBbu"
   },
   "source": [
    "# Moment Definition"
   ]
  },
  {
   "cell_type": "markdown",
   "metadata": {
    "id": "YxKdfc7FCEKw"
   },
   "source": [
    "### ATE Moment"
   ]
  },
  {
   "cell_type": "code",
   "execution_count": 11,
   "metadata": {
    "executionInfo": {
     "elapsed": 6,
     "status": "ok",
     "timestamp": 1630520612647,
     "user": {
      "displayName": "Vasilis Syrganis",
      "photoUrl": "https://lh3.googleusercontent.com/a-/AOh14GjxUYeW9b7fysN1nK65PWILriYGqqfmpUsWgLP7ZA=s64",
      "userId": "00968929417250286436"
     },
     "user_tz": 240
    },
    "id": "6EsyZwYtCAKa"
   },
   "outputs": [],
   "source": [
    "# Returns the moment for the ATE example, for each sample in x\n",
    "def moment_fn(x, test_fn):\n",
    "    if torch.is_tensor(x):\n",
    "        with torch.no_grad():\n",
    "            t1 = torch.cat([torch.ones((x.shape[0], 1)).to(device), x[:, 1:]], dim=1)\n",
    "            t0 = torch.cat([torch.zeros((x.shape[0], 1)).to(device), x[:, 1:]], dim=1)\n",
    "    else:\n",
    "        t1 = np.hstack([np.ones((x.shape[0], 1)), x[:, 1:]])\n",
    "        t0 = np.hstack([np.zeros((x.shape[0], 1)), x[:, 1:]])\n",
    "    return test_fn(t1) - test_fn(t0)\n",
    "\n",
    "def true_reisz(x, propensity=true_propensity):\n",
    "    return (x[:, 0]==1) / propensity(x) - (x[:, 0]==0)/(1 - propensity(x))"
   ]
  },
  {
   "cell_type": "markdown",
   "metadata": {
    "id": "8EVpDn3UauC_"
   },
   "source": [
    "### Policy Moment"
   ]
  },
  {
   "cell_type": "code",
   "execution_count": null,
   "metadata": {
    "id": "mqf8iv92Qry2"
   },
   "outputs": [],
   "source": [
    "policy = lambda x: scipy.special.expit(10*x[:, 1]) if not torch.is_tensor(x) else torch.sigmoid(10 * x[:, 1])\n",
    "\n",
    "def moment_fn(x, test_fn):\n",
    "    with torch.no_grad():\n",
    "        if torch.is_tensor(x):\n",
    "            t1 = torch.cat([torch.ones((x.shape[0], 1)).to(device), x[:, 1:]], dim=1)\n",
    "            t0 = torch.cat([torch.zeros((x.shape[0], 1)).to(device), x[:, 1:]], dim=1)\n",
    "        else:\n",
    "            t1 = np.hstack([np.ones((x.shape[0], 1)), x[:, 1:]])\n",
    "            t0 = np.hstack([np.zeros((x.shape[0], 1)), x[:, 1:]])\n",
    "        p1 = policy(x)\n",
    "    out1 = test_fn(t1)\n",
    "    out0 = test_fn(t0)\n",
    "    if len(out1.shape) > 1:\n",
    "        p1 = p1.reshape(-1, 1)\n",
    "    return out1 * p1 + out0 * (1 - p1) \n",
    "\n",
    "def true_reisz(x, propensity=true_propensity):\n",
    "    p1 = policy(x)\n",
    "    prop1 = propensity(x)\n",
    "    return p1 * (x[:, 0]==1) / prop1 + (1 - p1) * (x[:, 0]==0)/(1 - prop1)"
   ]
  },
  {
   "cell_type": "markdown",
   "metadata": {
    "id": "xQclOQXnawDJ"
   },
   "source": [
    "### X-Transformation Moment"
   ]
  },
  {
   "cell_type": "code",
   "execution_count": null,
   "metadata": {
    "id": "ZR-UB3lcQxtO"
   },
   "outputs": [],
   "source": [
    "trans = lambda x: (1 + x)**(1/2)/2**(1/2)\n",
    "invtrans = lambda u: 2 * (u**2) - 1\n",
    "grad_invtrans = lambda u: 4 * u\n",
    "\n",
    "def moment_fn(x, test_fn):\n",
    "    with torch.no_grad():\n",
    "        if torch.is_tensor(x):\n",
    "            tx = torch.cat([x[:, [0]], trans(x[:, [1]]), x[:, 2:]], dim=1)\n",
    "        else:\n",
    "            tx =  np.hstack([x[:, [0]], trans(x[:, [1]]), x[:, 2:]])\n",
    "    return test_fn(tx) - test_fn(x)\n",
    "\n",
    "def true_reisz(x, propensity=true_propensity):\n",
    "    invtx = np.hstack([x[:, [0]], invtrans(x[:, [1]]), x[:, 2:]])\n",
    "    out0 = np.clip(propensity(invtx) * grad_invtrans(x[:, 1]) / propensity(x), 0, np.inf)\n",
    "    out1 = np.clip((1 - propensity(invtx)) * grad_invtrans(x[:, 1]) / (1 - propensity(x)), 0, np.inf)\n",
    "    return out0 * x[:, 0] + out1 * (1 - x[:, 0]) - 1"
   ]
  },
  {
   "cell_type": "markdown",
   "metadata": {
    "id": "7kYbcJCts1BK"
   },
   "source": [
    "# Adversarial Reisz Estimator for ATE Moment"
   ]
  },
  {
   "cell_type": "code",
   "execution_count": 9,
   "metadata": {
    "colab": {
     "base_uri": "https://localhost:8080/"
    },
    "executionInfo": {
     "elapsed": 123,
     "status": "ok",
     "timestamp": 1630493943326,
     "user": {
      "displayName": "Vasilis Syrganis",
      "photoUrl": "https://lh3.googleusercontent.com/a-/AOh14GjxUYeW9b7fysN1nK65PWILriYGqqfmpUsWgLP7ZA=s64",
      "userId": "00968929417250286436"
     },
     "user_tz": 240
    },
    "id": "AkCdpInLQDNW",
    "outputId": "c54f4e65-fbdb-4d0e-ce06-06a5cc9b0fec"
   },
   "outputs": [
    {
     "name": "stdout",
     "output_type": "stream",
     "text": [
      "GPU: True\n"
     ]
    }
   ],
   "source": [
    "drop_prob = 0. # dropout prob of dropout layers throughout notebook\n",
    "n_hidden = 100  # width of hidden layers throughout notebook\n",
    "\n",
    "# Training params\n",
    "learner_lr = 1e-4\n",
    "adversary_lr = 1e-4\n",
    "learner_l2 = 1e-3\n",
    "adversary_l2 = 1e-3\n",
    "n_epochs = 1000\n",
    "preprocess_epochs = 200 # how many epochs to use to create an approximation to the max objective for earlystopping\n",
    "earlystop_rounds = 40 # how many epochs to wait for an out-of-sample improvement\n",
    "store_test_every = 20 # after how many training iterations to store a test function during preprocessing\n",
    "bs = 100\n",
    "device = torch.cuda.current_device() if torch.cuda.is_available() else None\n",
    "\n",
    "# Returns a deep model for the reisz representer\n",
    "def _get_learner(n_t, n_hidden, p):\n",
    "    return nn.Sequential(nn.Dropout(p=p), nn.Linear(n_t, n_hidden), nn.LeakyReLU(),\n",
    "                         nn.Dropout(p=p), nn.Linear(n_hidden, n_hidden), nn.LeakyReLU(),\n",
    "                         nn.Dropout(p=p), nn.Linear(n_hidden, 1))\n",
    "\n",
    "# Returns a deep model for the test functions\n",
    "def _get_adversary(n_z, n_hidden, p):\n",
    "    return nn.Sequential(nn.Dropout(p=p), nn.Linear(n_z, n_hidden), nn.ReLU(),\n",
    "                         nn.Dropout(p=p), nn.Linear(n_hidden, n_hidden), nn.ReLU(),\n",
    "                         nn.Dropout(p=p), nn.Linear(n_hidden, 1))\n",
    "\n",
    "print(\"GPU:\", torch.cuda.is_available())"
   ]
  },
  {
   "cell_type": "code",
   "execution_count": 10,
   "metadata": {
    "executionInfo": {
     "elapsed": 6596,
     "status": "ok",
     "timestamp": 1630493954212,
     "user": {
      "displayName": "Vasilis Syrganis",
      "photoUrl": "https://lh3.googleusercontent.com/a-/AOh14GjxUYeW9b7fysN1nK65PWILriYGqqfmpUsWgLP7ZA=s64",
      "userId": "00968929417250286436"
     },
     "user_tz": 240
    },
    "id": "vMWxzfv3hadS"
   },
   "outputs": [],
   "source": [
    "torch.cuda.empty_cache()\n",
    "Xt = torch.Tensor(X).to(device)\n",
    "Xt_test = torch.Tensor(X_test).to(device)\n",
    "At_test = torch.Tensor(true_reisz(X_test).reshape(-1, 1)).to(device)\n",
    "learner = _get_learner(Xt.shape[1], n_hidden, drop_prob)\n",
    "adversary = _get_adversary(Xt.shape[1], n_hidden, drop_prob)\n",
    "agmm = AdvReisz(learner, adversary, moment_fn)\n",
    "\n",
    "def violation_fn(x, learner, adversary):\n",
    "    return moment_fn(x, adversary) - learner(x) * adversary(x)\n",
    "\n",
    "def logger(estimator, learner, adversary, epoch, writer):\n",
    "    writer.add_histogram('learner', learner[-1].weight, epoch)\n",
    "    writer.add_histogram('adversary', adversary[-1].weight, epoch)\n",
    "    writer.add_scalar('moment', torch.mean(violation_fn(Xt, learner, adversary)), epoch)\n",
    "    writer.add_scalar('moment_val', torch.mean(violation_fn(Xt_test, learner, adversary)), epoch)\n",
    "    writer.add_scalar('true_mse_val', torch.mean((At_test - learner(Xt_test))**2)/4, epoch)\n",
    "    if hasattr(estimator, 'curr_eval'):\n",
    "        writer.add_scalar('approx_violation_val', estimator.curr_eval, epoch)"
   ]
  },
  {
   "cell_type": "code",
   "execution_count": 21,
   "metadata": {
    "colab": {
     "base_uri": "https://localhost:8080/"
    },
    "executionInfo": {
     "elapsed": 186563,
     "status": "ok",
     "timestamp": 1630450041469,
     "user": {
      "displayName": "Vasilis Syrganis",
      "photoUrl": "https://lh3.googleusercontent.com/a-/AOh14GjxUYeW9b7fysN1nK65PWILriYGqqfmpUsWgLP7ZA=s64",
      "userId": "00968929417250286436"
     },
     "user_tz": 240
    },
    "id": "xkOO3YGYbi2f",
    "outputId": "0171cdd8-53e0-41fd-ee3c-789d4fd7f076"
   },
   "outputs": [
    {
     "name": "stdout",
     "output_type": "stream",
     "text": [
      "Epoch #0\n",
      "Epoch #1\n",
      "Epoch #2\n",
      "Epoch #3\n",
      "Epoch #4\n",
      "Epoch #5\n",
      "Epoch #6\n",
      "Epoch #7\n",
      "Epoch #8\n",
      "Epoch #9\n",
      "Epoch #10\n",
      "Epoch #11\n",
      "Epoch #12\n",
      "Epoch #13\n",
      "Epoch #14\n",
      "Epoch #15\n",
      "Epoch #16\n",
      "Epoch #17\n",
      "Epoch #18\n",
      "Epoch #19\n",
      "Epoch #20\n",
      "Epoch #21\n",
      "Epoch #22\n",
      "Epoch #23\n",
      "Epoch #24\n",
      "Epoch #25\n",
      "Epoch #26\n",
      "Epoch #27\n",
      "Epoch #28\n",
      "Epoch #29\n",
      "Epoch #30\n",
      "Epoch #31\n",
      "Epoch #32\n",
      "Epoch #33\n",
      "Epoch #34\n",
      "Epoch #35\n",
      "Epoch #36\n",
      "Epoch #37\n",
      "Epoch #38\n",
      "Epoch #39\n",
      "Epoch #40\n",
      "Epoch #41\n",
      "Epoch #42\n",
      "Epoch #43\n",
      "Epoch #44\n",
      "Epoch #45\n",
      "Epoch #46\n",
      "Epoch #47\n",
      "Epoch #48\n",
      "Epoch #49\n",
      "Epoch #50\n",
      "Epoch #51\n",
      "Epoch #52\n",
      "Epoch #53\n",
      "Epoch #54\n",
      "Epoch #55\n",
      "Epoch #56\n",
      "Epoch #57\n",
      "Epoch #58\n",
      "Epoch #59\n",
      "Epoch #60\n",
      "Epoch #61\n",
      "Epoch #62\n",
      "Epoch #63\n",
      "Epoch #64\n",
      "Epoch #65\n",
      "Epoch #66\n",
      "Epoch #67\n",
      "Epoch #68\n",
      "Epoch #69\n",
      "Epoch #70\n",
      "Epoch #71\n",
      "Epoch #72\n",
      "Epoch #73\n",
      "Epoch #74\n",
      "Epoch #75\n",
      "Epoch #76\n",
      "Epoch #77\n",
      "Epoch #78\n",
      "Epoch #79\n",
      "Epoch #80\n",
      "Epoch #81\n",
      "Epoch #82\n",
      "Epoch #83\n",
      "Epoch #84\n",
      "Epoch #85\n",
      "Epoch #86\n",
      "Epoch #87\n",
      "Epoch #88\n",
      "Epoch #89\n",
      "Epoch #90\n",
      "Epoch #91\n",
      "Epoch #92\n",
      "Epoch #93\n",
      "Epoch #94\n",
      "Epoch #95\n",
      "Epoch #96\n",
      "Epoch #97\n",
      "Epoch #98\n",
      "Epoch #99\n",
      "Epoch #100\n",
      "Epoch #101\n",
      "Epoch #102\n",
      "Epoch #103\n",
      "Epoch #104\n",
      "Epoch #105\n",
      "Epoch #106\n",
      "Epoch #107\n",
      "Epoch #108\n",
      "Epoch #109\n",
      "Epoch #110\n",
      "Epoch #111\n",
      "Epoch #112\n",
      "Epoch #113\n",
      "Epoch #114\n",
      "Epoch #115\n",
      "Epoch #116\n",
      "Epoch #117\n",
      "Epoch #118\n",
      "Epoch #119\n",
      "Epoch #120\n",
      "Epoch #121\n",
      "Epoch #122\n",
      "Epoch #123\n",
      "Epoch #124\n",
      "Epoch #125\n",
      "Epoch #126\n",
      "Epoch #127\n",
      "Epoch #128\n",
      "Epoch #129\n",
      "Epoch #130\n",
      "Epoch #131\n",
      "Epoch #132\n",
      "Epoch #133\n",
      "Epoch #134\n",
      "Epoch #135\n",
      "Epoch #136\n",
      "Epoch #137\n",
      "Epoch #138\n",
      "Epoch #139\n",
      "Epoch #140\n",
      "Epoch #141\n",
      "Epoch #142\n",
      "Epoch #143\n",
      "Epoch #144\n",
      "Epoch #145\n",
      "Epoch #146\n",
      "Epoch #147\n",
      "Epoch #148\n",
      "Epoch #149\n",
      "Epoch #150\n",
      "Epoch #151\n",
      "Epoch #152\n",
      "Epoch #153\n",
      "Epoch #154\n",
      "Epoch #155\n",
      "Epoch #156\n",
      "Epoch #157\n",
      "Epoch #158\n",
      "Epoch #159\n",
      "Epoch #160\n",
      "Epoch #161\n",
      "Epoch #162\n",
      "Epoch #163\n",
      "Epoch #164\n",
      "Epoch #165\n",
      "Epoch #166\n",
      "Epoch #167\n",
      "Epoch #168\n",
      "Epoch #169\n",
      "Epoch #170\n",
      "Epoch #171\n",
      "Epoch #172\n",
      "Epoch #173\n",
      "Epoch #174\n",
      "Epoch #175\n",
      "Epoch #176\n",
      "Epoch #177\n",
      "Epoch #178\n",
      "Epoch #179\n",
      "Epoch #180\n",
      "Epoch #181\n",
      "Epoch #182\n",
      "Epoch #183\n",
      "Epoch #184\n",
      "Epoch #185\n",
      "Epoch #186\n",
      "Epoch #187\n",
      "Epoch #188\n",
      "Epoch #189\n",
      "Epoch #190\n",
      "Epoch #191\n",
      "Epoch #192\n",
      "Epoch #193\n",
      "Epoch #194\n",
      "Epoch #195\n",
      "Epoch #196\n",
      "Epoch #197\n",
      "Epoch #198\n",
      "Epoch #199\n",
      "Epoch #0\n",
      "Validation moment violation: 1.292081\n",
      "Epoch #1\n",
      "Validation moment violation: 1.1341336\n",
      "Epoch #2\n",
      "Validation moment violation: 0.9114541\n",
      "Epoch #3\n",
      "Validation moment violation: 0.6154198\n",
      "Epoch #4\n",
      "Validation moment violation: 0.24790512\n",
      "Epoch #5\n",
      "Validation moment violation: 0.2058629\n",
      "Epoch #6\n",
      "Validation moment violation: 0.7243799\n",
      "Epoch #7\n",
      "Validation moment violation: 0.77117324\n",
      "Epoch #8\n",
      "Validation moment violation: 0.252214\n",
      "Epoch #9\n",
      "Validation moment violation: 0.19694772\n",
      "Epoch #10\n",
      "Validation moment violation: 0.281175\n",
      "Epoch #11\n",
      "Validation moment violation: 0.036651045\n",
      "Epoch #12\n",
      "Validation moment violation: 0.16208321\n",
      "Epoch #13\n",
      "Validation moment violation: 0.02509688\n",
      "Epoch #14\n",
      "Validation moment violation: 0.1183198\n",
      "Epoch #15\n",
      "Validation moment violation: 0.028365863\n",
      "Epoch #16\n",
      "Validation moment violation: 0.05076561\n",
      "Epoch #17\n",
      "Validation moment violation: 0.04719757\n",
      "Epoch #18\n",
      "Validation moment violation: 0.039282367\n",
      "Epoch #19\n",
      "Validation moment violation: 0.040124867\n",
      "Epoch #20\n",
      "Validation moment violation: 0.043146532\n",
      "Epoch #21\n",
      "Validation moment violation: 0.016352857\n",
      "Epoch #22\n",
      "Validation moment violation: 0.046572637\n",
      "Epoch #23\n",
      "Validation moment violation: 0.018119425\n",
      "Epoch #24\n",
      "Validation moment violation: 0.0706772\n",
      "Epoch #25\n",
      "Validation moment violation: 0.020559043\n",
      "Epoch #26\n",
      "Validation moment violation: 0.018415354\n",
      "Epoch #27\n",
      "Validation moment violation: 0.016232563\n",
      "Epoch #28\n",
      "Validation moment violation: 0.028020978\n",
      "Epoch #29\n",
      "Validation moment violation: 0.021060552\n",
      "Epoch #30\n",
      "Validation moment violation: 0.01090761\n",
      "Epoch #31\n",
      "Validation moment violation: 0.025210751\n",
      "Epoch #32\n",
      "Validation moment violation: 0.00941337\n",
      "Epoch #33\n",
      "Validation moment violation: 0.030268405\n",
      "Epoch #34\n",
      "Validation moment violation: 0.021251025\n",
      "Epoch #35\n",
      "Validation moment violation: 0.026969489\n",
      "Epoch #36\n",
      "Validation moment violation: 0.040900297\n",
      "Epoch #37\n",
      "Validation moment violation: 0.0072491914\n",
      "Epoch #38\n",
      "Validation moment violation: 0.038743693\n",
      "Epoch #39\n",
      "Validation moment violation: 0.030959006\n",
      "Epoch #40\n",
      "Validation moment violation: 0.010604863\n",
      "Epoch #41\n",
      "Validation moment violation: 0.021648698\n",
      "Epoch #42\n",
      "Validation moment violation: 0.035551216\n",
      "Epoch #43\n",
      "Validation moment violation: 0.019077722\n",
      "Epoch #44\n",
      "Validation moment violation: 0.021054255\n",
      "Epoch #45\n",
      "Validation moment violation: 0.013685992\n",
      "Epoch #46\n",
      "Validation moment violation: 0.019859497\n",
      "Epoch #47\n",
      "Validation moment violation: 0.039423063\n",
      "Epoch #48\n",
      "Validation moment violation: 0.020783277\n",
      "Epoch #49\n",
      "Validation moment violation: 0.062466774\n",
      "Epoch #50\n",
      "Validation moment violation: 0.01803585\n",
      "Epoch #51\n",
      "Validation moment violation: 0.04338133\n",
      "Epoch #52\n",
      "Validation moment violation: 0.042071316\n",
      "Epoch #53\n",
      "Validation moment violation: 0.0068073664\n",
      "Epoch #54\n",
      "Validation moment violation: 0.0071414793\n",
      "Epoch #55\n",
      "Validation moment violation: 0.045967605\n",
      "Epoch #56\n",
      "Validation moment violation: 0.014685397\n",
      "Epoch #57\n",
      "Validation moment violation: 0.0057153497\n",
      "Epoch #58\n",
      "Validation moment violation: 0.018536488\n",
      "Epoch #59\n",
      "Validation moment violation: 0.022463443\n",
      "Epoch #60\n",
      "Validation moment violation: 0.037519235\n",
      "Epoch #61\n",
      "Validation moment violation: 0.010428587\n",
      "Epoch #62\n",
      "Validation moment violation: 0.014471216\n",
      "Epoch #63\n",
      "Validation moment violation: 0.0041877665\n",
      "Epoch #64\n",
      "Validation moment violation: 0.032406505\n",
      "Epoch #65\n",
      "Validation moment violation: 0.006198406\n",
      "Epoch #66\n",
      "Validation moment violation: 0.038422406\n",
      "Epoch #67\n",
      "Validation moment violation: 0.03861749\n",
      "Epoch #68\n",
      "Validation moment violation: 0.022207577\n",
      "Epoch #69\n",
      "Validation moment violation: 0.010104083\n",
      "Epoch #70\n",
      "Validation moment violation: 0.020842731\n",
      "Epoch #71\n",
      "Validation moment violation: 0.0045521087\n",
      "Epoch #72\n",
      "Validation moment violation: 0.019831315\n",
      "Epoch #73\n",
      "Validation moment violation: 0.019235047\n",
      "Epoch #74\n",
      "Validation moment violation: 0.014236464\n",
      "Epoch #75\n",
      "Validation moment violation: 0.024809169\n",
      "Epoch #76\n",
      "Validation moment violation: 0.010326869\n",
      "Epoch #77\n",
      "Validation moment violation: 0.0187878\n",
      "Epoch #78\n",
      "Validation moment violation: 0.04958199\n",
      "Epoch #79\n",
      "Validation moment violation: 0.047665\n",
      "Epoch #80\n",
      "Validation moment violation: 0.023373228\n",
      "Epoch #81\n",
      "Validation moment violation: 0.015186609\n",
      "Epoch #82\n",
      "Validation moment violation: 0.02732789\n",
      "Epoch #83\n",
      "Validation moment violation: 0.012794323\n",
      "Epoch #84\n",
      "Validation moment violation: 0.047126576\n",
      "Epoch #85\n",
      "Validation moment violation: 0.05181819\n",
      "Epoch #86\n",
      "Validation moment violation: 0.033737577\n",
      "Epoch #87\n",
      "Validation moment violation: 0.04812988\n",
      "Epoch #88\n",
      "Validation moment violation: 0.06650495\n",
      "Epoch #89\n",
      "Validation moment violation: 0.027301123\n",
      "Epoch #90\n",
      "Validation moment violation: 0.04022969\n",
      "Epoch #91\n",
      "Validation moment violation: 0.018420124\n",
      "Epoch #92\n",
      "Validation moment violation: 0.01754506\n",
      "Epoch #93\n",
      "Validation moment violation: 0.042615216\n",
      "Epoch #94\n",
      "Validation moment violation: 0.027823217\n",
      "Epoch #95\n",
      "Validation moment violation: 0.014470424\n",
      "Epoch #96\n",
      "Validation moment violation: 0.0070736785\n",
      "Epoch #97\n",
      "Validation moment violation: 0.021756284\n",
      "Epoch #98\n",
      "Validation moment violation: 0.008318131\n",
      "Epoch #99\n",
      "Validation moment violation: 0.032972008\n",
      "Epoch #100\n",
      "Validation moment violation: 0.019662708\n",
      "Epoch #101\n",
      "Validation moment violation: 0.053418055\n",
      "Epoch #102\n",
      "Validation moment violation: 0.045609467\n",
      "Epoch #103\n",
      "Validation moment violation: 0.036423903\n",
      "Epoch #104\n",
      "Validation moment violation: 0.054675072\n"
     ]
    },
    {
     "data": {
      "text/plain": [
       "<advreisz.deepreisz.deepreisz.AdvReisz at 0x7fc10c5e46d0>"
      ]
     },
     "execution_count": 21,
     "metadata": {},
     "output_type": "execute_result"
    }
   ],
   "source": [
    "agmm.fit(Xt, Xval=Xt_test, preprocess_epochs=preprocess_epochs,\n",
    "         earlystop_rounds=earlystop_rounds,\n",
    "         store_test_every=store_test_every,\n",
    "         learner_lr=learner_lr, adversary_lr=adversary_lr,\n",
    "         learner_l2=learner_l2, adversary_l2=adversary_l2,\n",
    "         n_epochs=n_epochs, bs=bs,\n",
    "         logger=logger, model_dir=str(Path.home()), device=device, verbose=1)"
   ]
  },
  {
   "cell_type": "markdown",
   "metadata": {
    "id": "536cOtIStHAk"
   },
   "source": [
    "# Evaluation of Learned Reisz Representer"
   ]
  },
  {
   "cell_type": "code",
   "execution_count": 23,
   "metadata": {
    "colab": {
     "base_uri": "https://localhost:8080/",
     "height": 279
    },
    "executionInfo": {
     "elapsed": 347,
     "status": "ok",
     "timestamp": 1630451662447,
     "user": {
      "displayName": "Vasilis Syrganis",
      "photoUrl": "https://lh3.googleusercontent.com/a-/AOh14GjxUYeW9b7fysN1nK65PWILriYGqqfmpUsWgLP7ZA=s64",
      "userId": "00968929417250286436"
     },
     "user_tz": 240
    },
    "id": "PBWxHZ4euceE",
    "outputId": "e3da1101-5749-4bb9-89e4-dbbe309196eb"
   },
   "outputs": [
    {
     "data": {
      "image/png": "[encoded data removed]",
      "text/plain": [
       "<Figure size 432x288 with 1 Axes>"
      ]
     },
     "metadata": {
      "needs_background": "light"
     },
     "output_type": "display_data"
    }
   ],
   "source": [
    "plt.figure()\n",
    "model = 'earlystop'\n",
    "plt.scatter(true_reisz(X_test), agmm.predict(torch.Tensor(X_test).to(device), model=model))\n",
    "plt.xlabel('true reisz')\n",
    "plt.ylabel('estimated reisz')\n",
    "plt.show()"
   ]
  },
  {
   "cell_type": "code",
   "execution_count": 24,
   "metadata": {
    "colab": {
     "base_uri": "https://localhost:8080/",
     "height": 623
    },
    "executionInfo": {
     "elapsed": 1427,
     "status": "ok",
     "timestamp": 1630451664699,
     "user": {
      "displayName": "Vasilis Syrganis",
      "photoUrl": "https://lh3.googleusercontent.com/a-/AOh14GjxUYeW9b7fysN1nK65PWILriYGqqfmpUsWgLP7ZA=s64",
      "userId": "00968929417250286436"
     },
     "user_tz": 240
    },
    "id": "o3if777uVojq",
    "outputId": "628040eb-f733-45c3-951b-fe01bdd08934"
   },
   "outputs": [
    {
     "data": {
      "image/png": "[encoded data removed]",
      "text/plain": [
       "<Figure size 1080x360 with 2 Axes>"
      ]
     },
     "metadata": {
      "needs_background": "light"
     },
     "output_type": "display_data"
    },
    {
     "data": {
      "image/png": "[encoded data removed]",
      "text/plain": [
       "<Figure size 1080x360 with 2 Axes>"
      ]
     },
     "metadata": {
      "needs_background": "light"
     },
     "output_type": "display_data"
    }
   ],
   "source": [
    "for model in ['earlystop', 'avg']:\n",
    "    plt.figure(figsize=(15, 5))\n",
    "    error = true_reisz(X_test) - agmm.predict(torch.Tensor(X_test).to(device), model=model)\n",
    "    plt.title(\"RMSE: {:.3f}, MAE: {:.3f}\".format(np.sqrt(np.mean(error**2)), np.mean(np.abs(error))))\n",
    "    for t in [0, 1]:\n",
    "        plt.subplot(1, 2, t + 1)\n",
    "        treated = (X_test[:, 0]==t)\n",
    "        Xtreated = X_test[treated].copy()\n",
    "        Xtreated[:, 1] = np.linspace(-1, 1, Xtreated.shape[0])\n",
    "        if model == 'avg':\n",
    "            point, lb, ub = agmm.predict(torch.Tensor(Xtreated).to(device), model=model, alpha=.05, burn_in=0)\n",
    "            plt.plot(Xtreated[:, 1], point, label='est a({}, X)'.format(t))\n",
    "            plt.fill_between(Xtreated[:, 1], lb, ub, alpha=.4)\n",
    "        else:\n",
    "            point = agmm.predict(torch.Tensor(Xtreated).to(device), model=model)\n",
    "            plt.plot(Xtreated[:, 1], point, label='est a({}, X)'.format(t))\n",
    "        plt.plot(Xtreated[:, 1], true_reisz(Xtreated), label='true a({}, X)'.format(t))\n",
    "        plt.legend()\n",
    "    plt.show()"
   ]
  },
  {
   "cell_type": "code",
   "execution_count": null,
   "metadata": {
    "id": "U-45j-lHmeJF"
   },
   "outputs": [],
   "source": [
    "%tensorboard --logdir=runs"
   ]
  },
  {
   "cell_type": "markdown",
   "metadata": {
    "id": "i198Pt1g0iM3"
   },
   "source": [
    "# Debiasing ATE\n",
    "\n",
    "Applying the learned Reisz representer in order to debias a preliminary regression based model of the ATE"
   ]
  },
  {
   "cell_type": "code",
   "execution_count": 19,
   "metadata": {
    "executionInfo": {
     "elapsed": 175,
     "status": "ok",
     "timestamp": 1630520628957,
     "user": {
      "displayName": "Vasilis Syrganis",
      "photoUrl": "https://lh3.googleusercontent.com/a-/AOh14GjxUYeW9b7fysN1nK65PWILriYGqqfmpUsWgLP7ZA=s64",
      "userId": "00968929417250286436"
     },
     "user_tz": 240
    },
    "id": "af8KjzY8ENbb"
   },
   "outputs": [],
   "source": [
    "def mean_ci(data, confidence=0.95):\n",
    "    a = 1.0 * np.array(data)\n",
    "    n = len(a)\n",
    "    m, se = np.mean(a), scipy.stats.sem(a)\n",
    "    h = se * scipy.stats.t.ppf((1 + confidence) / 2., n-1)\n",
    "    return m, m-h, m+h"
   ]
  },
  {
   "cell_type": "code",
   "execution_count": 32,
   "metadata": {
    "executionInfo": {
     "elapsed": 980,
     "status": "ok",
     "timestamp": 1630451722177,
     "user": {
      "displayName": "Vasilis Syrganis",
      "photoUrl": "https://lh3.googleusercontent.com/a-/AOh14GjxUYeW9b7fysN1nK65PWILriYGqqfmpUsWgLP7ZA=s64",
      "userId": "00968929417250286436"
     },
     "user_tz": 240
    },
    "id": "MNPDwt_nlSOf"
   },
   "outputs": [],
   "source": [
    "from sklearn.linear_model import LassoCV, Lasso, LogisticRegressionCV\n",
    "from sklearn.pipeline import Pipeline\n",
    "from sklearn.preprocessing import PolynomialFeatures\n",
    "\n",
    "est = Pipeline([('p', PolynomialFeatures(degree=1)), ('l', Lasso(alpha=.1))]).fit(X, y)\n",
    "propensity = Pipeline([('p', PolynomialFeatures(degree=3)), ('l', LogisticRegressionCV())]).fit(X[:, 1:], X[:, 0])"
   ]
  },
  {
   "cell_type": "code",
   "execution_count": 33,
   "metadata": {
    "executionInfo": {
     "elapsed": 5,
     "status": "ok",
     "timestamp": 1630451722181,
     "user": {
      "displayName": "Vasilis Syrganis",
      "photoUrl": "https://lh3.googleusercontent.com/a-/AOh14GjxUYeW9b7fysN1nK65PWILriYGqqfmpUsWgLP7ZA=s64",
      "userId": "00968929417250286436"
     },
     "user_tz": 240
    },
    "id": "8t2Q8z7fuXht"
   },
   "outputs": [],
   "source": [
    "a_test = agmm.predict(Xt_test, model='earlystop')\n",
    "invp_test = true_reisz(X_test, lambda x: propensity.predict_proba(x[:, 1:])[:, 1])\n",
    "true_ate = np.mean(moment_fn(X_test, true_f))\n",
    "naive_ate = np.mean(y_test[X_test[:, 0]==1]) - np.mean(y_test[X_test[:, 0]==0])\n",
    "biased_ate = np.mean(moment_fn(X_test, est.predict))\n",
    "ips_ate = np.mean(invp_test * y_test)\n",
    "reisz_ate = np.mean(a_test * y_test)\n",
    "dr_ate = biased_ate + np.mean(invp_test * (y_test - est.predict(X_test)))\n",
    "dr_reisz_ate, dr_reisz_low, dr_reisz_up = mean_ci(moment_fn(X_test, est.predict) + a_test * (y_test - est.predict(X_test)))"
   ]
  },
  {
   "cell_type": "code",
   "execution_count": 34,
   "metadata": {
    "colab": {
     "base_uri": "https://localhost:8080/"
    },
    "executionInfo": {
     "elapsed": 201,
     "status": "ok",
     "timestamp": 1630451722378,
     "user": {
      "displayName": "Vasilis Syrganis",
      "photoUrl": "https://lh3.googleusercontent.com/a-/AOh14GjxUYeW9b7fysN1nK65PWILriYGqqfmpUsWgLP7ZA=s64",
      "userId": "00968929417250286436"
     },
     "user_tz": 240
    },
    "id": "qkY0bb1ixeOj",
    "outputId": "d3041ad4-f85b-480f-95ba-e2838be87b21"
   },
   "outputs": [
    {
     "name": "stdout",
     "output_type": "stream",
     "text": [
      "True ATE: 1.000\n",
      "Mean of Treated - Mean of Untreated: 1.296\n",
      "Lasso Regression based Estimate: 0.633\n",
      "IPS estimate with explicit propensity based reisz estimate (i.e. mean(a(X) Y)): 1.040\n",
      "IPS estimate with adversarial reisz: 1.074\n",
      "DR estimate with explict propensity based reisz estimate: 1.023\n",
      "DR estimate with adversarial reisz: 1.029 (0.984, 1.073)\n"
     ]
    }
   ],
   "source": [
    "print(\"True ATE: {:.3f}\".format(true_ate))\n",
    "print(\"Mean of Treated - Mean of Untreated: {:.3f}\".format(naive_ate))\n",
    "print(\"Lasso Regression based Estimate: {:.3f}\".format(biased_ate))\n",
    "print(\"IPS estimate with explicit propensity based reisz estimate (i.e. mean(a(X) Y)): {:.3f}\".format(ips_ate))\n",
    "print(\"IPS estimate with adversarial reisz: {:.3f}\".format(reisz_ate))\n",
    "print(\"DR estimate with explict propensity based reisz estimate: {:.3f}\".format(dr_ate))\n",
    "print(\"DR estimate with adversarial reisz: {:.3f} ({:.3f}, {:.3f})\".format(dr_reisz_ate, dr_reisz_low, dr_reisz_up))"
   ]
  },
  {
   "cell_type": "code",
   "execution_count": 35,
   "metadata": {
    "executionInfo": {
     "elapsed": 7985,
     "status": "ok",
     "timestamp": 1630451731423,
     "user": {
      "displayName": "Vasilis Syrganis",
      "photoUrl": "https://lh3.googleusercontent.com/a-/AOh14GjxUYeW9b7fysN1nK65PWILriYGqqfmpUsWgLP7ZA=s64",
      "userId": "00968929417250286436"
     },
     "user_tz": 240
    },
    "id": "FIe_otjUUjJS"
   },
   "outputs": [],
   "source": [
    "dr_reisz_ate = []\n",
    "reisz_ate = []\n",
    "biased_ate = []\n",
    "dr_reisz_cov = []\n",
    "reisz_cov = []\n",
    "for exp in range(1000):\n",
    "    Xboot, yboot = gen_data(n, p)\n",
    "    aboot = agmm.predict(Xboot, model='earlystop')\n",
    "    drm, drl, dru = mean_ci(moment_fn(Xboot, est.predict) + aboot * (yboot - est.predict(Xboot)))\n",
    "    rm, rl, ru = mean_ci(aboot * yboot)\n",
    "    dr_reisz_ate.append(drm)\n",
    "    reisz_ate.append(rm)\n",
    "    dr_reisz_cov.append((true_ate <= dru) & (true_ate >= drl))\n",
    "    reisz_cov.append((true_ate <= ru) & (true_ate >= rl))"
   ]
  },
  {
   "cell_type": "code",
   "execution_count": 36,
   "metadata": {
    "colab": {
     "base_uri": "https://localhost:8080/",
     "height": 281
    },
    "executionInfo": {
     "elapsed": 276,
     "status": "ok",
     "timestamp": 1630451731697,
     "user": {
      "displayName": "Vasilis Syrganis",
      "photoUrl": "https://lh3.googleusercontent.com/a-/AOh14GjxUYeW9b7fysN1nK65PWILriYGqqfmpUsWgLP7ZA=s64",
      "userId": "00968929417250286436"
     },
     "user_tz": 240
    },
    "id": "HS_y-N97iEGc",
    "outputId": "53eaa2b4-162c-4144-9e05-6c399d0053fc"
   },
   "outputs": [
    {
     "data": {
      "image/png": "[encoded data removed]",
      "text/plain": [
       "<Figure size 432x288 with 1 Axes>"
      ]
     },
     "metadata": {
      "needs_background": "light"
     },
     "output_type": "display_data"
    }
   ],
   "source": [
    "plt.title(\"Mean advDR: {:.3f}, Coverage advDR: {:.3f}, \"\n",
    "          \"Mean advIPS: {:.3f}, Coverage advIPS: {:.3f}\".format(np.mean(dr_reisz_ate),\n",
    "                                                               np.mean(dr_reisz_cov),\n",
    "                                                               np.mean(reisz_ate),\n",
    "                                                               np.mean(reisz_cov)))\n",
    "plt.hist(np.array(dr_reisz_ate), alpha=.5, label='advDR')\n",
    "plt.hist(np.array(reisz_ate), alpha=.5, label='advIPS')\n",
    "plt.legend()\n",
    "plt.show()"
   ]
  },
  {
   "cell_type": "code",
   "execution_count": 71,
   "metadata": {
    "executionInfo": {
     "elapsed": 650,
     "status": "ok",
     "timestamp": 1630493954861,
     "user": {
      "displayName": "Vasilis Syrganis",
      "photoUrl": "https://lh3.googleusercontent.com/a-/AOh14GjxUYeW9b7fysN1nK65PWILriYGqqfmpUsWgLP7ZA=s64",
      "userId": "00968929417250286436"
     },
     "user_tz": 240
    },
    "id": "o_J3f89FAlWw"
   },
   "outputs": [],
   "source": [
    "import pandas as pd\n",
    "\n",
    "df = pd.read_csv('rahul/sim_2.csv', index_col=0)\n",
    "y = df['Y'].values\n",
    "X = df[['D'] + [f'X{i}' for i in np.arange(1, 11)]].values"
   ]
  },
  {
   "cell_type": "code",
   "execution_count": 72,
   "metadata": {},
   "outputs": [],
   "source": [
    "n_samples = 500\n",
    "X, y = X[:n_samples], y[:n_samples]"
   ]
  },
  {
   "cell_type": "code",
   "execution_count": 73,
   "metadata": {
    "executionInfo": {
     "elapsed": 163,
     "status": "ok",
     "timestamp": 1630494449874,
     "user": {
      "displayName": "Vasilis Syrganis",
      "photoUrl": "https://lh3.googleusercontent.com/a-/AOh14GjxUYeW9b7fysN1nK65PWILriYGqqfmpUsWgLP7ZA=s64",
      "userId": "00968929417250286436"
     },
     "user_tz": 240
    },
    "id": "gwpch2h7BCYH"
   },
   "outputs": [],
   "source": [
    "from sklearn.model_selection import train_test_split\n",
    "\n",
    "Xtrain, Xtest, ytrain, ytest = train_test_split(X, y, test_size=.2, random_state=123)"
   ]
  },
  {
   "cell_type": "code",
   "execution_count": 74,
   "metadata": {
    "executionInfo": {
     "elapsed": 166,
     "status": "ok",
     "timestamp": 1630494479517,
     "user": {
      "displayName": "Vasilis Syrganis",
      "photoUrl": "https://lh3.googleusercontent.com/a-/AOh14GjxUYeW9b7fysN1nK65PWILriYGqqfmpUsWgLP7ZA=s64",
      "userId": "00968929417250286436"
     },
     "user_tz": 240
    },
    "id": "PvIY_qW1A6sa"
   },
   "outputs": [],
   "source": [
    "torch.cuda.empty_cache()\n",
    "Xt = torch.Tensor(Xtrain).to(device)\n",
    "Xt_test = torch.Tensor(Xtest).to(device)\n",
    "At_test = torch.Tensor(true_reisz(Xtest).reshape(-1, 1)).to(device)"
   ]
  },
  {
   "cell_type": "code",
   "execution_count": 75,
   "metadata": {
    "colab": {
     "base_uri": "https://localhost:8080/"
    },
    "executionInfo": {
     "elapsed": 34178,
     "status": "ok",
     "timestamp": 1630495265178,
     "user": {
      "displayName": "Vasilis Syrganis",
      "photoUrl": "https://lh3.googleusercontent.com/a-/AOh14GjxUYeW9b7fysN1nK65PWILriYGqqfmpUsWgLP7ZA=s64",
      "userId": "00968929417250286436"
     },
     "user_tz": 240
    },
    "id": "NjYK24bkibel",
    "outputId": "8c91dbb6-5701-4b5b-843c-f313525f39a8",
    "scrolled": true
   },
   "outputs": [
    {
     "data": {
      "text/plain": [
       "<advreisz.deepreisz.deepreisz.AdvReisz at 0x1b98e94abb0>"
      ]
     },
     "execution_count": 75,
     "metadata": {},
     "output_type": "execute_result"
    }
   ],
   "source": [
    "learner = _get_learner(Xt.shape[1], n_hidden, drop_prob)\n",
    "adversary = _get_adversary(Xt.shape[1], n_hidden, drop_prob)\n",
    "agmm = AdvReisz(learner, adversary, moment_fn)\n",
    "agmm.fit(Xt, Xval=Xt_test, preprocess_epochs=preprocess_epochs,\n",
    "         earlystop_rounds=earlystop_rounds,\n",
    "         store_test_every=store_test_every,\n",
    "         learner_lr=learner_lr, adversary_lr=adversary_lr,\n",
    "         learner_l2=learner_l2, adversary_l2=adversary_l2,\n",
    "         n_epochs=n_epochs, bs=bs,\n",
    "         logger=None, model_dir=str(Path.home()), device=device, verbose=0)"
   ]
  },
  {
   "cell_type": "code",
   "execution_count": 76,
   "metadata": {
    "executionInfo": {
     "elapsed": 372,
     "status": "ok",
     "timestamp": 1630495355513,
     "user": {
      "displayName": "Vasilis Syrganis",
      "photoUrl": "https://lh3.googleusercontent.com/a-/AOh14GjxUYeW9b7fysN1nK65PWILriYGqqfmpUsWgLP7ZA=s64",
      "userId": "00968929417250286436"
     },
     "user_tz": 240
    },
    "id": "pgoJLQFMA4TR"
   },
   "outputs": [],
   "source": [
    "from sklearn.linear_model import LassoCV, Lasso, LogisticRegressionCV\n",
    "from sklearn.pipeline import Pipeline\n",
    "from sklearn.preprocessing import PolynomialFeatures\n",
    "\n",
    "a_test = agmm.predict(X, model='avg')\n",
    "est = Pipeline([('p', PolynomialFeatures(degree=1)), ('l', Lasso(alpha=.1))]).fit(X, y)\n",
    "dr_reisz_ate, dr_reisz_low, dr_reisz_up = mean_ci(moment_fn(X, est.predict) + a_test * (y - est.predict(X)))"
   ]
  },
  {
   "cell_type": "code",
   "execution_count": 77,
   "metadata": {
    "colab": {
     "base_uri": "https://localhost:8080/"
    },
    "executionInfo": {
     "elapsed": 168,
     "status": "ok",
     "timestamp": 1630495356092,
     "user": {
      "displayName": "Vasilis Syrganis",
      "photoUrl": "https://lh3.googleusercontent.com/a-/AOh14GjxUYeW9b7fysN1nK65PWILriYGqqfmpUsWgLP7ZA=s64",
      "userId": "00968929417250286436"
     },
     "user_tz": 240
    },
    "id": "pgrMZ7kHDLa2",
    "outputId": "003f9534-06b3-4e47-912b-eb97fc6d1211"
   },
   "outputs": [
    {
     "data": {
      "text/plain": [
       "(2.1425451807510534, 1.9658299535538573, 2.3192604079482493)"
      ]
     },
     "execution_count": 77,
     "metadata": {},
     "output_type": "execute_result"
    }
   ],
   "source": [
    "dr_reisz_ate, dr_reisz_low, dr_reisz_up"
   ]
  },
  {
   "cell_type": "code",
   "execution_count": 78,
   "metadata": {
    "colab": {
     "base_uri": "https://localhost:8080/",
     "height": 267
    },
    "executionInfo": {
     "elapsed": 418,
     "status": "ok",
     "timestamp": 1630495359145,
     "user": {
      "displayName": "Vasilis Syrganis",
      "photoUrl": "https://lh3.googleusercontent.com/a-/AOh14GjxUYeW9b7fysN1nK65PWILriYGqqfmpUsWgLP7ZA=s64",
      "userId": "00968929417250286436"
     },
     "user_tz": 240
    },
    "id": "VdnmTCKkGBF6",
    "outputId": "de80ee2b-ef46-4be4-832a-8ebe10a3657a"
   },
   "outputs": [
    {
     "data": {
      "image/png": "[encoded data removed]",
      "text/plain": [
       "<Figure size 432x288 with 1 Axes>"
      ]
     },
     "metadata": {
      "needs_background": "light"
     },
     "output_type": "display_data"
    }
   ],
   "source": [
    "plt.scatter(df['rr'][:n_samples], a_test[:n_samples])\n",
    "plt.show()"
   ]
  },
  {
   "cell_type": "code",
   "execution_count": 70,
   "metadata": {
    "colab": {
     "base_uri": "https://localhost:8080/"
    },
    "executionInfo": {
     "elapsed": 130,
     "status": "ok",
     "timestamp": 1630522041932,
     "user": {
      "displayName": "Vasilis Syrganis",
      "photoUrl": "https://lh3.googleusercontent.com/a-/AOh14GjxUYeW9b7fysN1nK65PWILriYGqqfmpUsWgLP7ZA=s64",
      "userId": "00968929417250286436"
     },
     "user_tz": 240
    },
    "id": "3XCt1d8CFItz",
    "outputId": "4efa2586-3a20-489f-932f-67a37f775905"
   },
   "outputs": [
    {
     "name": "stdout",
     "output_type": "stream",
     "text": [
      "GPU: True\n"
     ]
    }
   ],
   "source": [
    "drop_prob = 0. # dropout prob of dropout layers throughout notebook\n",
    "n_hidden = 100  # width of hidden layers throughout notebook\n",
    "\n",
    "# Training params\n",
    "learner_lr = 1e-4\n",
    "adversary_lr = 1e-4\n",
    "learner_l2 = 6e-5\n",
    "adversary_l2 = 1e-5\n",
    "n_epochs = 1000\n",
    "preprocess_epochs = 200 # how many epochs to use to create an approximation to the max objective for earlystopping\n",
    "earlystop_rounds = 100 # how many epochs to wait for an out-of-sample improvement\n",
    "store_test_every = 20 # after how many training iterations to store a test function during preprocessing\n",
    "bs = 100\n",
    "device = torch.cuda.current_device() if torch.cuda.is_available() else None\n",
    "\n",
    "# Returns a deep model for the reisz representer\n",
    "def _get_learner(n_t, n_hidden, p):\n",
    "    return nn.Sequential(nn.Dropout(p=p), nn.Linear(n_t, n_hidden), nn.LeakyReLU(),\n",
    "                         nn.Dropout(p=p), nn.Linear(n_hidden, n_hidden), nn.LeakyReLU(),\n",
    "                         nn.Dropout(p=p), nn.Linear(n_hidden, 1))\n",
    "\n",
    "# Returns a deep model for the test functions\n",
    "def _get_adversary(n_z, n_hidden, p):\n",
    "    return nn.Sequential(nn.Dropout(p=p), nn.Linear(n_z, n_hidden), nn.ReLU(),\n",
    "                         nn.Dropout(p=p), nn.Linear(n_hidden, n_hidden), nn.ReLU(),\n",
    "                         nn.Dropout(p=p), nn.Linear(n_hidden, 1))\n",
    "\n",
    "print(\"GPU:\", torch.cuda.is_available())"
   ]
  },
  {
   "cell_type": "code",
   "execution_count": 31,
   "metadata": {
    "colab": {
     "base_uri": "https://localhost:8080/"
    },
    "executionInfo": {
     "elapsed": 4574487,
     "status": "ok",
     "timestamp": 1630548423536,
     "user": {
      "displayName": "Vasilis Syrganis",
      "photoUrl": "https://lh3.googleusercontent.com/a-/AOh14GjxUYeW9b7fysN1nK65PWILriYGqqfmpUsWgLP7ZA=s64",
      "userId": "00968929417250286436"
     },
     "user_tz": 240
    },
    "id": "AsDnPVDmDMHX",
    "outputId": "a535ab3d-b209-4fb1-fda9-8a2d7530df79"
   },
   "outputs": [
    {
     "name": "stdout",
     "output_type": "stream",
     "text": [
      "1\n",
      "2\n",
      "3\n",
      "4\n",
      "5\n",
      "6\n",
      "7\n",
      "8\n",
      "9\n",
      "10\n",
      "11\n",
      "12\n",
      "13\n",
      "14\n",
      "15\n",
      "16\n",
      "17\n",
      "18\n",
      "19\n",
      "20\n",
      "21\n",
      "22\n",
      "23\n",
      "24\n",
      "25\n",
      "26\n",
      "27\n",
      "28\n",
      "29\n",
      "30\n",
      "31\n",
      "32\n",
      "33\n",
      "34\n",
      "35\n",
      "36\n",
      "37\n",
      "38\n",
      "39\n",
      "40\n",
      "41\n",
      "42\n",
      "43\n",
      "44\n",
      "45\n",
      "46\n",
      "47\n",
      "48\n",
      "49\n",
      "50\n",
      "51\n",
      "52\n",
      "53\n",
      "54\n",
      "55\n",
      "56\n",
      "57\n",
      "58\n",
      "59\n",
      "60\n",
      "61\n",
      "62\n",
      "63\n",
      "64\n",
      "65\n",
      "66\n",
      "67\n",
      "68\n",
      "69\n",
      "70\n",
      "71\n",
      "72\n",
      "73\n",
      "74\n",
      "75\n",
      "76\n",
      "77\n",
      "78\n",
      "79\n",
      "80\n",
      "81\n",
      "82\n",
      "83\n",
      "84\n",
      "85\n",
      "86\n",
      "87\n",
      "88\n",
      "89\n",
      "90\n",
      "91\n",
      "92\n",
      "93\n",
      "94\n",
      "95\n",
      "96\n",
      "97\n",
      "98\n",
      "99\n",
      "100\n"
     ]
    }
   ],
   "source": [
    "import pandas as pd\n",
    "from joblib import Parallel, delayed\n",
    "from sklearn.model_selection import train_test_split\n",
    "from sklearn.linear_model import LassoCV, Lasso, LogisticRegressionCV\n",
    "from sklearn.pipeline import Pipeline\n",
    "from sklearn.preprocessing import PolynomialFeatures\n",
    "\n",
    "def exp(it):\n",
    "    print(it)\n",
    "    df = pd.read_csv(f'rahul/sim_{it}.csv', index_col=0)\n",
    "    y = df['Y'].values\n",
    "    X = df[['D'] + [f'X{i}' for i in np.arange(1, 11)]].values\n",
    "    Xtrain, Xtest, ytrain, ytest = train_test_split(X, y, test_size=.2, random_state=123)\n",
    "\n",
    "    torch.cuda.empty_cache()\n",
    "    Xt = torch.Tensor(Xtrain).to(device)\n",
    "    Xt_test = torch.Tensor(Xtest).to(device)\n",
    "    At_test = torch.Tensor(true_reisz(Xtest).reshape(-1, 1)).to(device)\n",
    "\n",
    "    learner = _get_learner(Xt.shape[1], n_hidden, drop_prob)\n",
    "    adversary = _get_adversary(Xt.shape[1], n_hidden, drop_prob)\n",
    "    agmm = AdvReisz(learner, adversary, moment_fn)\n",
    "    agmm.fit(Xt, Xval=Xt_test, preprocess_epochs=preprocess_epochs,\n",
    "            earlystop_rounds=earlystop_rounds,\n",
    "            store_test_every=store_test_every,\n",
    "            learner_lr=learner_lr, adversary_lr=adversary_lr,\n",
    "            learner_l2=learner_l2, adversary_l2=adversary_l2,\n",
    "            n_epochs=n_epochs, bs=bs,\n",
    "            logger=None, model_dir=str(Path.home()), device=device, verbose=0)\n",
    "\n",
    "    a_test = agmm.predict(X, model='avg')\n",
    "    est = Pipeline([('p', PolynomialFeatures(degree=1)), ('l', Lasso(alpha=.1))]).fit(X, y)\n",
    "    return mean_ci(moment_fn(X, est.predict) + a_test * (y - est.predict(X)))\n",
    "\n",
    "true = 2.2\n",
    "\n",
    "results = np.array([exp(it) for it in np.arange(1, 101).astype(int)])"
   ]
  },
  {
   "cell_type": "code",
   "execution_count": 32,
   "metadata": {
    "colab": {
     "base_uri": "https://localhost:8080/"
    },
    "executionInfo": {
     "elapsed": 35,
     "status": "ok",
     "timestamp": 1630548423540,
     "user": {
      "displayName": "Vasilis Syrganis",
      "photoUrl": "https://lh3.googleusercontent.com/a-/AOh14GjxUYeW9b7fysN1nK65PWILriYGqqfmpUsWgLP7ZA=s64",
      "userId": "00968929417250286436"
     },
     "user_tz": 240
    },
    "id": "lKZRFJ6xEENm",
    "outputId": "0e57a944-1cef-4bd7-d564-27d7304c6167"
   },
   "outputs": [
    {
     "data": {
      "text/plain": [
       "array([[2.2112861 , 2.08456151, 2.3380107 ],\n",
       "       [2.10492278, 1.98526115, 2.2245844 ],\n",
       "       [2.2056063 , 2.08966337, 2.32154923],\n",
       "       [2.15541669, 2.04100704, 2.26982635],\n",
       "       [2.18377384, 2.06993421, 2.29761347],\n",
       "       [2.21075637, 2.09768533, 2.3238274 ],\n",
       "       [2.22321502, 2.10882667, 2.33760336],\n",
       "       [2.29054907, 2.1753981 , 2.40570003],\n",
       "       [2.20706645, 2.09485616, 2.31927674],\n",
       "       [2.18352585, 2.07039053, 2.29666116],\n",
       "       [2.15231371, 2.03732952, 2.2672979 ],\n",
       "       [2.29318324, 2.18713584, 2.39923064],\n",
       "       [2.05410652, 1.94285308, 2.16535996],\n",
       "       [2.24170333, 2.13066139, 2.35274528],\n",
       "       [2.08701071, 1.97285271, 2.20116871],\n",
       "       [2.24675335, 2.13944777, 2.35405893],\n",
       "       [2.17295972, 2.05352679, 2.29239265],\n",
       "       [2.20053473, 2.08435545, 2.31671401],\n",
       "       [2.19883259, 2.0835526 , 2.31411257],\n",
       "       [2.21981683, 2.10833594, 2.33129771],\n",
       "       [2.21870365, 2.1099547 , 2.32745259],\n",
       "       [2.2332057 , 2.11642959, 2.34998181],\n",
       "       [2.25915359, 2.14232619, 2.375981  ],\n",
       "       [2.18722617, 2.06981068, 2.30464165],\n",
       "       [2.20128364, 2.08237973, 2.32018754],\n",
       "       [2.22337514, 2.10771747, 2.33903281],\n",
       "       [2.2153497 , 2.09892235, 2.33177704],\n",
       "       [2.26518579, 2.15421717, 2.37615442],\n",
       "       [2.29495817, 2.18249393, 2.4074224 ],\n",
       "       [2.20932906, 2.09345242, 2.32520569],\n",
       "       [2.17079644, 2.0558787 , 2.28571419],\n",
       "       [2.15686146, 2.04615022, 2.26757271],\n",
       "       [2.18052074, 2.06033874, 2.30070275],\n",
       "       [2.20114246, 2.08877367, 2.31351124],\n",
       "       [2.13628765, 2.02658388, 2.24599142],\n",
       "       [2.22583676, 2.11634077, 2.33533275],\n",
       "       [2.20867662, 2.09413822, 2.32321503],\n",
       "       [2.23341615, 2.12230234, 2.34452997],\n",
       "       [2.33193413, 2.21398788, 2.44988038],\n",
       "       [2.19680088, 2.08207034, 2.31153142],\n",
       "       [2.24205727, 2.11659957, 2.36751497],\n",
       "       [2.17226715, 2.05447099, 2.29006332],\n",
       "       [2.12719228, 2.00240419, 2.25198038],\n",
       "       [2.2702277 , 2.15378823, 2.38666716],\n",
       "       [2.19869731, 2.07686209, 2.32053253],\n",
       "       [2.26674354, 2.15335448, 2.38013259],\n",
       "       [2.22237518, 2.11165816, 2.3330922 ],\n",
       "       [2.18752447, 2.06962818, 2.30542075],\n",
       "       [2.17352307, 2.05251305, 2.29453309],\n",
       "       [2.24062536, 2.12639859, 2.35485214],\n",
       "       [2.13577284, 2.01873062, 2.25281506],\n",
       "       [2.1685067 , 2.05585174, 2.28116167],\n",
       "       [2.20497752, 2.0959315 , 2.31402355],\n",
       "       [2.15707236, 2.04451906, 2.26962566],\n",
       "       [2.31206635, 2.19871092, 2.42542179],\n",
       "       [2.15384953, 2.03970201, 2.26799704],\n",
       "       [2.21739437, 2.10800094, 2.3267878 ],\n",
       "       [2.18070284, 2.06611741, 2.29528827],\n",
       "       [2.20887039, 2.09205212, 2.32568866],\n",
       "       [2.15523052, 2.0373979 , 2.27306315],\n",
       "       [2.2260723 , 2.11128463, 2.34085998],\n",
       "       [2.21888557, 2.10456523, 2.33320591],\n",
       "       [2.24133699, 2.12898086, 2.35369313],\n",
       "       [2.19704621, 2.08412304, 2.30996937],\n",
       "       [2.24335465, 2.12596478, 2.36074453],\n",
       "       [2.19750445, 2.08684052, 2.30816838],\n",
       "       [2.11071031, 2.00173945, 2.21968118],\n",
       "       [2.23121986, 2.12365504, 2.33878468],\n",
       "       [2.1448389 , 2.03355757, 2.25612023],\n",
       "       [2.12069416, 2.00558913, 2.23579918],\n",
       "       [2.07716851, 1.96905079, 2.18528622],\n",
       "       [2.1740872 , 2.06556148, 2.28261292],\n",
       "       [2.17623524, 2.06756567, 2.2849048 ],\n",
       "       [2.2639253 , 2.14729081, 2.38055979],\n",
       "       [2.17109574, 2.05697434, 2.28521715],\n",
       "       [2.21847247, 2.10040459, 2.33654035],\n",
       "       [2.30534498, 2.17781789, 2.43287207],\n",
       "       [2.20061543, 2.08464594, 2.31658491],\n",
       "       [2.16418603, 2.04904344, 2.27932862],\n",
       "       [2.21299086, 2.09641019, 2.32957153],\n",
       "       [2.14342824, 2.02925538, 2.25760109],\n",
       "       [2.2841984 , 2.17119125, 2.39720554],\n",
       "       [2.15014452, 2.04034577, 2.25994327],\n",
       "       [2.24237072, 2.12936326, 2.35537819],\n",
       "       [2.30168606, 2.18584134, 2.41753078],\n",
       "       [2.26402409, 2.14802225, 2.38002592],\n",
       "       [2.24979626, 2.13141513, 2.36817739],\n",
       "       [2.0812537 , 1.96553505, 2.19697236],\n",
       "       [2.20122454, 2.08416975, 2.31827933],\n",
       "       [2.22866924, 2.11500473, 2.34233375],\n",
       "       [2.25421315, 2.13997347, 2.36845283],\n",
       "       [2.23455027, 2.11854265, 2.3505579 ],\n",
       "       [2.22834004, 2.12074128, 2.3359388 ],\n",
       "       [2.19041667, 2.07037095, 2.31046238],\n",
       "       [2.19923908, 2.09514655, 2.30333162],\n",
       "       [2.23872587, 2.12686701, 2.35058473],\n",
       "       [2.25846181, 2.14378653, 2.37313709],\n",
       "       [2.26135061, 2.15331515, 2.36938607],\n",
       "       [2.21646995, 2.10684077, 2.32609912],\n",
       "       [2.14796193, 2.02381337, 2.2721105 ]])"
      ]
     },
     "execution_count": 32,
     "metadata": {},
     "output_type": "execute_result"
    }
   ],
   "source": [
    "results"
   ]
  },
  {
   "cell_type": "code",
   "execution_count": 33,
   "metadata": {
    "colab": {
     "base_uri": "https://localhost:8080/"
    },
    "executionInfo": {
     "elapsed": 21,
     "status": "ok",
     "timestamp": 1630548423540,
     "user": {
      "displayName": "Vasilis Syrganis",
      "photoUrl": "https://lh3.googleusercontent.com/a-/AOh14GjxUYeW9b7fysN1nK65PWILriYGqqfmpUsWgLP7ZA=s64",
      "userId": "00968929417250286436"
     },
     "user_tz": 240
    },
    "id": "Eora3FOFE7Ep",
    "outputId": "926eba6d-1ecc-4a80-c2ab-0dcecdad55f2"
   },
   "outputs": [
    {
     "data": {
      "text/plain": [
       "0.96"
      ]
     },
     "execution_count": 33,
     "metadata": {},
     "output_type": "execute_result"
    }
   ],
   "source": [
    "np.mean((results[:, 1] <= true) & (results[:, 2] >= true))"
   ]
  },
  {
   "cell_type": "code",
   "execution_count": 34,
   "metadata": {
    "colab": {
     "base_uri": "https://localhost:8080/"
    },
    "executionInfo": {
     "elapsed": 13,
     "status": "ok",
     "timestamp": 1630548423541,
     "user": {
      "displayName": "Vasilis Syrganis",
      "photoUrl": "https://lh3.googleusercontent.com/a-/AOh14GjxUYeW9b7fysN1nK65PWILriYGqqfmpUsWgLP7ZA=s64",
      "userId": "00968929417250286436"
     },
     "user_tz": 240
    },
    "id": "6xIS5xyCGcR4",
    "outputId": "2e3ca58d-1f87-4540-8f2d-e5f83fd950e7"
   },
   "outputs": [
    {
     "data": {
      "text/plain": [
       "0.052826229926748625"
      ]
     },
     "execution_count": 34,
     "metadata": {},
     "output_type": "execute_result"
    }
   ],
   "source": [
    "np.std(results[:, 0])"
   ]
  },
  {
   "cell_type": "code",
   "execution_count": 35,
   "metadata": {
    "colab": {
     "base_uri": "https://localhost:8080/",
     "height": 265
    },
    "executionInfo": {
     "elapsed": 19,
     "status": "ok",
     "timestamp": 1630548423705,
     "user": {
      "displayName": "Vasilis Syrganis",
      "photoUrl": "https://lh3.googleusercontent.com/a-/AOh14GjxUYeW9b7fysN1nK65PWILriYGqqfmpUsWgLP7ZA=s64",
      "userId": "00968929417250286436"
     },
     "user_tz": 240
    },
    "id": "u8a-PmC2Gg-4",
    "outputId": "396b8bdd-ed1a-412e-adb3-4b31ae94c2c7"
   },
   "outputs": [
    {
     "data": {
      "image/png": "[encoded data removed]",
      "text/plain": [
       "<Figure size 432x288 with 1 Axes>"
      ]
     },
     "metadata": {
      "needs_background": "light"
     },
     "output_type": "display_data"
    }
   ],
   "source": [
    "plt.hist(results[:, 0])\n",
    "plt.show()"
   ]
  },
  {
   "cell_type": "code",
   "execution_count": 36,
   "metadata": {
    "colab": {
     "base_uri": "https://localhost:8080/"
    },
    "executionInfo": {
     "elapsed": 17,
     "status": "ok",
     "timestamp": 1630548423706,
     "user": {
      "displayName": "Vasilis Syrganis",
      "photoUrl": "https://lh3.googleusercontent.com/a-/AOh14GjxUYeW9b7fysN1nK65PWILriYGqqfmpUsWgLP7ZA=s64",
      "userId": "00968929417250286436"
     },
     "user_tz": 240
    },
    "id": "Dbhzp6qd_O49",
    "outputId": "8e61f467-db8b-4a56-eb42-e51056d1f049"
   },
   "outputs": [
    {
     "data": {
      "text/plain": [
       "['nnet_nocfit_avg.jbl']"
      ]
     },
     "execution_count": 36,
     "metadata": {},
     "output_type": "execute_result"
    }
   ],
   "source": [
    "import joblib\n",
    "joblib.dump(results, 'nnet_nocfit_avg.jbl')"
   ]
  },
  {
   "cell_type": "code",
   "execution_count": null,
   "metadata": {
    "id": "85Hev1-HaQ3j"
   },
   "outputs": [],
   "source": [
    "import pandas as pd\n",
    "from joblib import Parallel, delayed\n",
    "from sklearn.model_selection import train_test_split, KFold\n",
    "from sklearn.linear_model import LassoCV, Lasso, LogisticRegressionCV\n",
    "from sklearn.pipeline import Pipeline\n",
    "from sklearn.preprocessing import PolynomialFeatures\n",
    "\n",
    "def exp(it):\n",
    "    print(it)\n",
    "    df = pd.read_csv(f'rahul/sim_{it}.csv', index_col=0)\n",
    "    y = df['Y'].values\n",
    "    X = df[['D'] + [f'X{i}' for i in np.arange(1, 11)]].values\n",
    "    a_pred = np.zeros(X.shape[0])\n",
    "    reg_pred = np.zeros(X.shape[0])\n",
    "    moment_pred = np.zeros(X.shape[0])\n",
    "    for train, test in KFold(n_splits=5).split(X):\n",
    "        Xtrain, Xtest, ytrain, ytest = train_test_split(X[train], y[train], test_size=.2, random_state=123)\n",
    "\n",
    "        torch.cuda.empty_cache()\n",
    "        Xt = torch.Tensor(Xtrain).to(device)\n",
    "        Xt_test = torch.Tensor(Xtest).to(device)\n",
    "        At_test = torch.Tensor(true_reisz(Xtest).reshape(-1, 1)).to(device)\n",
    "\n",
    "        learner = _get_learner(Xt.shape[1], n_hidden, drop_prob)\n",
    "        adversary = _get_adversary(Xt.shape[1], n_hidden, drop_prob)\n",
    "        agmm = AdvReisz(learner, adversary, moment_fn)\n",
    "        agmm.fit(Xt, Xval=Xt_test, preprocess_epochs=preprocess_epochs,\n",
    "                earlystop_rounds=earlystop_rounds,\n",
    "                store_test_every=store_test_every,\n",
    "                learner_lr=learner_lr, adversary_lr=adversary_lr,\n",
    "                learner_l2=learner_l2, adversary_l2=adversary_l2,\n",
    "                n_epochs=n_epochs, bs=bs,\n",
    "                logger=None, model_dir=str(Path.home()), device=device, verbose=0)\n",
    "        \n",
    "        a_pred[test] = agmm.predict(X[test], model='avg')\n",
    "        est = Pipeline([('p', PolynomialFeatures(degree=1)), ('l', Lasso(alpha=.1))]).fit(X[train], y[train])\n",
    "        reg_pred[test] = est.predict(X[test])\n",
    "        moment_pred[test] = moment_fn(X[test], est.predict)\n",
    "\n",
    "    return mean_ci(moment_pred + a_pred * (y - reg_pred))\n",
    "\n",
    "true = 2.2\n",
    "\n",
    "results = np.array([exp(it) for it in np.arange(1, 101).astype(int)])"
   ]
  },
  {
   "cell_type": "code",
   "execution_count": null,
   "metadata": {
    "id": "RcviMz_dtSeW"
   },
   "outputs": [],
   "source": [
    "results"
   ]
  },
  {
   "cell_type": "code",
   "execution_count": 21,
   "metadata": {
    "colab": {
     "base_uri": "https://localhost:8080/"
    },
    "executionInfo": {
     "elapsed": 186,
     "status": "ok",
     "timestamp": 1630542719914,
     "user": {
      "displayName": "Vasilis Syrganis",
      "photoUrl": "https://lh3.googleusercontent.com/a-/AOh14GjxUYeW9b7fysN1nK65PWILriYGqqfmpUsWgLP7ZA=s64",
      "userId": "00968929417250286436"
     },
     "user_tz": 240
    },
    "id": "YdEFlCQn6znt",
    "outputId": "8d656145-73c6-45f0-9e64-c897d400923e"
   },
   "outputs": [
    {
     "data": {
      "text/plain": [
       "0.95"
      ]
     },
     "execution_count": 21,
     "metadata": {},
     "output_type": "execute_result"
    }
   ],
   "source": [
    "np.mean((results[:, 1] <= true) & (results[:, 2] >= true))"
   ]
  },
  {
   "cell_type": "code",
   "execution_count": 22,
   "metadata": {
    "colab": {
     "base_uri": "https://localhost:8080/"
    },
    "executionInfo": {
     "elapsed": 190,
     "status": "ok",
     "timestamp": 1630542725819,
     "user": {
      "displayName": "Vasilis Syrganis",
      "photoUrl": "https://lh3.googleusercontent.com/a-/AOh14GjxUYeW9b7fysN1nK65PWILriYGqqfmpUsWgLP7ZA=s64",
      "userId": "00968929417250286436"
     },
     "user_tz": 240
    },
    "id": "BXtysZ1C62oc",
    "outputId": "acbf4097-5908-4c72-cfc5-be6d415718d2"
   },
   "outputs": [
    {
     "data": {
      "text/plain": [
       "0.05583177833641204"
      ]
     },
     "execution_count": 22,
     "metadata": {},
     "output_type": "execute_result"
    }
   ],
   "source": [
    "np.std(results[:, 0])"
   ]
  },
  {
   "cell_type": "code",
   "execution_count": 23,
   "metadata": {
    "colab": {
     "base_uri": "https://localhost:8080/",
     "height": 265
    },
    "executionInfo": {
     "elapsed": 343,
     "status": "ok",
     "timestamp": 1630542732353,
     "user": {
      "displayName": "Vasilis Syrganis",
      "photoUrl": "https://lh3.googleusercontent.com/a-/AOh14GjxUYeW9b7fysN1nK65PWILriYGqqfmpUsWgLP7ZA=s64",
      "userId": "00968929417250286436"
     },
     "user_tz": 240
    },
    "id": "IJqBTaVQ64EU",
    "outputId": "8a6bdad9-b77f-4a1d-def0-0bbe8c4e05e7"
   },
   "outputs": [
    {
     "data": {
      "image/png": "[encoded data removed]",
      "text/plain": [
       "<Figure size 432x288 with 1 Axes>"
      ]
     },
     "metadata": {
      "needs_background": "light"
     },
     "output_type": "display_data"
    }
   ],
   "source": [
    "plt.hist(results[:, 0])\n",
    "plt.show()"
   ]
  },
  {
   "cell_type": "code",
   "execution_count": 25,
   "metadata": {
    "colab": {
     "base_uri": "https://localhost:8080/"
    },
    "executionInfo": {
     "elapsed": 137,
     "status": "ok",
     "timestamp": 1630542854539,
     "user": {
      "displayName": "Vasilis Syrganis",
      "photoUrl": "https://lh3.googleusercontent.com/a-/AOh14GjxUYeW9b7fysN1nK65PWILriYGqqfmpUsWgLP7ZA=s64",
      "userId": "00968929417250286436"
     },
     "user_tz": 240
    },
    "id": "e22aQOB_65oc",
    "outputId": "79bf0db0-a78d-424f-eae4-70b5bc562504"
   },
   "outputs": [
    {
     "data": {
      "text/plain": [
       "['nnet_5fold_avg.jbl']"
      ]
     },
     "execution_count": 25,
     "metadata": {},
     "output_type": "execute_result"
    }
   ],
   "source": [
    "import joblib\n",
    "joblib.dump(results, 'nnet_5fold_avg.jbl')"
   ]
  },
  {
   "cell_type": "code",
   "execution_count": 3,
   "metadata": {},
   "outputs": [
    {
     "data": {
      "text/html": [
       "<div>\n",
       "<style scoped>\n",
       "    .dataframe tbody tr th:only-of-type {\n",
       "        vertical-align: middle;\n",
       "    }\n",
       "\n",
       "    .dataframe tbody tr th {\n",
       "        vertical-align: top;\n",
       "    }\n",
       "\n",
       "    .dataframe thead th {\n",
       "        text-align: right;\n",
       "    }\n",
       "</style>\n",
       "<table border=\"1\" class=\"dataframe\">\n",
       "  <thead>\n",
       "    <tr style=\"text-align: right;\">\n",
       "      <th></th>\n",
       "      <th></th>\n",
       "      <th>adv_nnet</th>\n",
       "      <th>adv_nnet_cfit</th>\n",
       "    </tr>\n",
       "  </thead>\n",
       "  <tbody>\n",
       "    <tr>\n",
       "      <th rowspan=\"4\" valign=\"top\">n=100</th>\n",
       "      <th>cov</th>\n",
       "      <td>0.190000</td>\n",
       "      <td>0.230000</td>\n",
       "    </tr>\n",
       "    <tr>\n",
       "      <th>bias</th>\n",
       "      <td>-0.309090</td>\n",
       "      <td>-0.321099</td>\n",
       "    </tr>\n",
       "    <tr>\n",
       "      <th>rmse</th>\n",
       "      <td>0.407674</td>\n",
       "      <td>0.416951</td>\n",
       "    </tr>\n",
       "    <tr>\n",
       "      <th>ci_length</th>\n",
       "      <td>0.303624</td>\n",
       "      <td>0.339079</td>\n",
       "    </tr>\n",
       "    <tr>\n",
       "      <th rowspan=\"4\" valign=\"top\">n=200</th>\n",
       "      <th>cov</th>\n",
       "      <td>0.410000</td>\n",
       "      <td>0.350000</td>\n",
       "    </tr>\n",
       "    <tr>\n",
       "      <th>bias</th>\n",
       "      <td>-0.228898</td>\n",
       "      <td>-0.247989</td>\n",
       "    </tr>\n",
       "    <tr>\n",
       "      <th>rmse</th>\n",
       "      <td>0.289952</td>\n",
       "      <td>0.306862</td>\n",
       "    </tr>\n",
       "    <tr>\n",
       "      <th>ci_length</th>\n",
       "      <td>0.343176</td>\n",
       "      <td>0.334302</td>\n",
       "    </tr>\n",
       "    <tr>\n",
       "      <th rowspan=\"4\" valign=\"top\">n=300</th>\n",
       "      <th>cov</th>\n",
       "      <td>0.610000</td>\n",
       "      <td>0.390000</td>\n",
       "    </tr>\n",
       "    <tr>\n",
       "      <th>bias</th>\n",
       "      <td>-0.154567</td>\n",
       "      <td>-0.187084</td>\n",
       "    </tr>\n",
       "    <tr>\n",
       "      <th>rmse</th>\n",
       "      <td>0.205615</td>\n",
       "      <td>0.232386</td>\n",
       "    </tr>\n",
       "    <tr>\n",
       "      <th>ci_length</th>\n",
       "      <td>0.367800</td>\n",
       "      <td>0.303613</td>\n",
       "    </tr>\n",
       "    <tr>\n",
       "      <th rowspan=\"4\" valign=\"top\">n=500</th>\n",
       "      <th>cov</th>\n",
       "      <td>0.670000</td>\n",
       "      <td>0.640000</td>\n",
       "    </tr>\n",
       "    <tr>\n",
       "      <th>bias</th>\n",
       "      <td>-0.113447</td>\n",
       "      <td>-0.124543</td>\n",
       "    </tr>\n",
       "    <tr>\n",
       "      <th>rmse</th>\n",
       "      <td>0.155965</td>\n",
       "      <td>0.168342</td>\n",
       "    </tr>\n",
       "    <tr>\n",
       "      <th>ci_length</th>\n",
       "      <td>0.348523</td>\n",
       "      <td>0.333898</td>\n",
       "    </tr>\n",
       "    <tr>\n",
       "      <th rowspan=\"4\" valign=\"top\">n=700</th>\n",
       "      <th>cov</th>\n",
       "      <td>0.890000</td>\n",
       "      <td>0.820000</td>\n",
       "    </tr>\n",
       "    <tr>\n",
       "      <th>bias</th>\n",
       "      <td>-0.066946</td>\n",
       "      <td>-0.083352</td>\n",
       "    </tr>\n",
       "    <tr>\n",
       "      <th>rmse</th>\n",
       "      <td>0.117675</td>\n",
       "      <td>0.127226</td>\n",
       "    </tr>\n",
       "    <tr>\n",
       "      <th>ci_length</th>\n",
       "      <td>0.355709</td>\n",
       "      <td>0.335406</td>\n",
       "    </tr>\n",
       "    <tr>\n",
       "      <th rowspan=\"4\" valign=\"top\">n=1000</th>\n",
       "      <th>cov</th>\n",
       "      <td>0.870000</td>\n",
       "      <td>0.940000</td>\n",
       "    </tr>\n",
       "    <tr>\n",
       "      <th>bias</th>\n",
       "      <td>-0.034593</td>\n",
       "      <td>-0.043808</td>\n",
       "    </tr>\n",
       "    <tr>\n",
       "      <th>rmse</th>\n",
       "      <td>0.097872</td>\n",
       "      <td>0.092321</td>\n",
       "    </tr>\n",
       "    <tr>\n",
       "      <th>ci_length</th>\n",
       "      <td>0.316622</td>\n",
       "      <td>0.318971</td>\n",
       "    </tr>\n",
       "    <tr>\n",
       "      <th rowspan=\"4\" valign=\"top\">n=2000</th>\n",
       "      <th>cov</th>\n",
       "      <td>0.940000</td>\n",
       "      <td>0.950000</td>\n",
       "    </tr>\n",
       "    <tr>\n",
       "      <th>bias</th>\n",
       "      <td>-0.000152</td>\n",
       "      <td>-0.000196</td>\n",
       "    </tr>\n",
       "    <tr>\n",
       "      <th>rmse</th>\n",
       "      <td>0.056568</td>\n",
       "      <td>0.055668</td>\n",
       "    </tr>\n",
       "    <tr>\n",
       "      <th>ci_length</th>\n",
       "      <td>0.228123</td>\n",
       "      <td>0.232797</td>\n",
       "    </tr>\n",
       "  </tbody>\n",
       "</table>\n",
       "</div>"
      ],
      "text/plain": [
       "                  adv_nnet  adv_nnet_cfit\n",
       "n=100  cov        0.190000       0.230000\n",
       "       bias      -0.309090      -0.321099\n",
       "       rmse       0.407674       0.416951\n",
       "       ci_length  0.303624       0.339079\n",
       "n=200  cov        0.410000       0.350000\n",
       "       bias      -0.228898      -0.247989\n",
       "       rmse       0.289952       0.306862\n",
       "       ci_length  0.343176       0.334302\n",
       "n=300  cov        0.610000       0.390000\n",
       "       bias      -0.154567      -0.187084\n",
       "       rmse       0.205615       0.232386\n",
       "       ci_length  0.367800       0.303613\n",
       "n=500  cov        0.670000       0.640000\n",
       "       bias      -0.113447      -0.124543\n",
       "       rmse       0.155965       0.168342\n",
       "       ci_length  0.348523       0.333898\n",
       "n=700  cov        0.890000       0.820000\n",
       "       bias      -0.066946      -0.083352\n",
       "       rmse       0.117675       0.127226\n",
       "       ci_length  0.355709       0.335406\n",
       "n=1000 cov        0.870000       0.940000\n",
       "       bias      -0.034593      -0.043808\n",
       "       rmse       0.097872       0.092321\n",
       "       ci_length  0.316622       0.318971\n",
       "n=2000 cov        0.940000       0.950000\n",
       "       bias      -0.000152      -0.000196\n",
       "       rmse       0.056568       0.055668\n",
       "       ci_length  0.228123       0.232797"
      ]
     },
     "execution_count": 3,
     "metadata": {},
     "output_type": "execute_result"
    }
   ],
   "source": [
    "import numpy as np\n",
    "import pandas as pd\n",
    "import joblib\n",
    "import os\n",
    "true = 2.2\n",
    "res = {}\n",
    "plot = False\n",
    "n_samples_list = [100, 200, 300, 500, 700, 1000, 2000]\n",
    "start_sample_list = [1, 21, 41, 61, 81]\n",
    "sample_its = 20\n",
    "folder = os.path.join('amlt', 'intent-lynx')\n",
    "for n_samples in n_samples_list:\n",
    "    res[f'n={n_samples}'] = {}\n",
    "    for name, var in [('adv_nnet', f'nnet_nocfit_n_{n_samples}'),\n",
    "                      ('adv_nnet_cfit', f'nnet_5fold_cfit_n_{n_samples}')]:\n",
    "        results = []\n",
    "        for start_sample in start_sample_list:\n",
    "            results += joblib.load(os.path.join(folder, f'nnet_{n_samples}_{start_sample}_{sample_its}',\n",
    "                                                f'{var}_{start_sample}_{sample_its}.jbl'))\n",
    "        results = np.array(results)\n",
    "        if plot:\n",
    "            plt.hist(results[:, 0])\n",
    "            plt.title(f'{var}, n={n_samples}')\n",
    "            plt.show()\n",
    "        res[f'n={n_samples}'][name] = {\n",
    "                                 'cov': np.mean((results[:, 1] <= true) & (results[:, 2] >= true)),\n",
    "                                 'bias': np.mean(results[:, 0] - true),\n",
    "                                 'rmse': np.sqrt(np.mean((results[:, 0] - true)**2)),\n",
    "                                 'ci_length': np.mean(results[:, 2] - results[:, 1])}\n",
    "    res[f'n={n_samples}'] = pd.DataFrame(res[f'n={n_samples}'])\n",
    "\n",
    "pd.concat(res, axis=0)"
   ]
  },
  {
   "cell_type": "code",
   "execution_count": 80,
   "metadata": {},
   "outputs": [
    {
     "name": "stdout",
     "output_type": "stream",
     "text": [
      "\\begin{tabular}{llrr}\n",
      "\\toprule\n",
      "       &           &  adv\\_nnet &  adv\\_nnet\\_cfit \\\\\n",
      "\\midrule\n",
      "\\multirow{4}{*}{\\textbf{n=100}} & \\textbf{cov} &      0.23 &           0.23 \\\\\n",
      "       & \\textbf{bias} &     -0.31 &          -0.32 \\\\\n",
      "       & \\textbf{rmse} &      0.41 &           0.41 \\\\\n",
      "       & \\textbf{ci\\_length} &      0.29 &           0.35 \\\\\n",
      "\\cline{1-4}\n",
      "\\multirow{4}{*}{\\textbf{n=500}} & \\textbf{cov} &      0.72 &           0.63 \\\\\n",
      "       & \\textbf{bias} &     -0.11 &          -0.13 \\\\\n",
      "       & \\textbf{rmse} &      0.15 &           0.17 \\\\\n",
      "       & \\textbf{ci\\_length} &      0.35 &           0.34 \\\\\n",
      "\\cline{1-4}\n",
      "\\multirow{4}{*}{\\textbf{n=1000}} & \\textbf{cov} &      0.89 &           0.96 \\\\\n",
      "       & \\textbf{bias} &     -0.03 &          -0.04 \\\\\n",
      "       & \\textbf{rmse} &      0.10 &           0.09 \\\\\n",
      "       & \\textbf{ci\\_length} &      0.32 &           0.32 \\\\\n",
      "\\cline{1-4}\n",
      "\\multirow{4}{*}{\\textbf{n=2000}} & \\textbf{cov} &      0.96 &           0.96 \\\\\n",
      "       & \\textbf{bias} &      0.00 &           0.00 \\\\\n",
      "       & \\textbf{rmse} &      0.06 &           0.05 \\\\\n",
      "       & \\textbf{ci\\_length} &      0.23 &           0.23 \\\\\n",
      "\\bottomrule\n",
      "\\end{tabular}\n",
      "\n"
     ]
    }
   ],
   "source": [
    "import pandas as pd\n",
    "with pd.option_context('display.float_format', '{:0.2f}'.format):\n",
    "    print(pd.concat(res, axis=0).loc[['n=100', 'n=500', 'n=1000', 'n=2000']].to_latex(bold_rows=True, multirow=True))"
   ]
  },
  {
   "cell_type": "code",
   "execution_count": null,
   "metadata": {},
   "outputs": [],
   "source": []
  }
 ],
 "metadata": {
  "accelerator": "GPU",
  "colab": {
   "collapsed_sections": [],
   "name": "AdversarialReisz.ipynb",
   "provenance": []
  },
  "kernelspec": {
   "display_name": "Python 3",
   "language": "python",
   "name": "python3"
  },
  "language_info": {
   "codemirror_mode": {
    "name": "ipython",
    "version": 3
   },
   "file_extension": ".py",
   "mimetype": "text/x-python",
   "name": "python",
   "nbconvert_exporter": "python",
   "pygments_lexer": "ipython3",
   "version": "3.8.5"
  }
 },
 "nbformat": 4,
 "nbformat_minor": 1
}
